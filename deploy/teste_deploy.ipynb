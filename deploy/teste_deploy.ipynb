{
 "cells": [
  {
   "cell_type": "markdown",
   "id": "ec4142c9",
   "metadata": {
    "toc": true
   },
   "source": [
    "<h1>Table of Contents<span class=\"tocSkip\"></span></h1>\n",
    "<div class=\"toc\"><ul class=\"toc-item\"></ul></div>"
   ]
  },
  {
   "cell_type": "code",
   "execution_count": null,
   "id": "7a9ee9e3",
   "metadata": {
    "ExecuteTime": {
     "end_time": "2025-06-24T13:24:09.143038Z",
     "start_time": "2025-06-24T12:07:27.743236Z"
    },
    "scrolled": true
   },
   "outputs": [],
   "source": [
    "from deployer.deploy import deploy_from_config\n",
    "\n",
    "# SÓ ISSO! Pega tudo do JSON automaticamente\n",
    "# Usa um arquivo específico\n",
    "deploy_from_config(\"combined_strategy_teste.json\", strategies_file=\"entries.py\", wait_mode=True)"
   ]
  },
  {
   "cell_type": "code",
   "execution_count": null,
   "id": "a07a8dd5",
   "metadata": {
    "ExecuteTime": {
     "end_time": "2025-06-24T14:29:33.148363Z",
     "start_time": "2025-06-24T14:29:30.122944Z"
    }
   },
   "outputs": [],
   "source": [
    "from deployer.deploy import deploy_from_config\n",
    "\n",
    "# SÓ ISSO! Pega tudo do JSON automaticamente\n",
    "# Usa um arquivo específico\n",
    "deploy_from_config(\"../selected/combined_strategy_1.json\", strategies_file=\"entries.py\", wait_mode=True)"
   ]
  },
  {
   "cell_type": "code",
   "execution_count": null,
   "id": "81ed1d7b",
   "metadata": {
    "ExecuteTime": {
     "start_time": "2025-06-24T14:34:35.002Z"
    }
   },
   "outputs": [
    {
     "name": "stdout",
     "output_type": "stream",
     "text": [
      "Executando: ../selected\\combined_strategy_1.json\n"
     ]
    }
   ],
   "source": [
    "import os\n",
    "import glob\n",
    "\n",
    "json_files = glob.glob(\"../selected/*.json\")\n",
    "\n",
    "for json_file in json_files:\n",
    "    print(f\"Executando: {json_file}\")\n",
    "    os.system(f'python -c \"from deployer.deploy import deploy_from_config; deploy_from_config(\\'{json_file}\\', strategies_file=\\'entries.py\\', wait_mode=True)\"')"
   ]
  },
  {
   "cell_type": "code",
   "execution_count": null,
   "id": "75d50e01",
   "metadata": {
    "ExecuteTime": {
     "end_time": "2025-06-18T21:42:42.437382Z",
     "start_time": "2025-06-18T21:42:42.425411Z"
    }
   },
   "outputs": [],
   "source": [
    "# Roda indefinidamente\n",
    "#deploy_from_config(\"combined_strategy_teste.json\", mode=\"continuous\")"
   ]
  },
  {
   "cell_type": "code",
   "execution_count": null,
   "id": "95bb6ab5",
   "metadata": {},
   "outputs": [],
   "source": []
  },
  {
   "cell_type": "code",
   "execution_count": null,
   "id": "59078372",
   "metadata": {},
   "outputs": [],
   "source": []
  }
 ],
 "metadata": {
  "kernelspec": {
   "display_name": "Python 3 (ipykernel)",
   "language": "python",
   "name": "python3"
  },
  "language_info": {
   "codemirror_mode": {
    "name": "ipython",
    "version": 3
   },
   "file_extension": ".py",
   "mimetype": "text/x-python",
   "name": "python",
   "nbconvert_exporter": "python",
   "pygments_lexer": "ipython3",
   "version": "3.9.13"
  },
  "toc": {
   "base_numbering": 1,
   "nav_menu": {},
   "number_sections": true,
   "sideBar": true,
   "skip_h1_title": false,
   "title_cell": "Table of Contents",
   "title_sidebar": "Contents",
   "toc_cell": true,
   "toc_position": {},
   "toc_section_display": true,
   "toc_window_display": false
  }
 },
 "nbformat": 4,
 "nbformat_minor": 5
}

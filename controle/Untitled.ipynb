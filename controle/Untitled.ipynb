{
 "cells": [
  {
   "cell_type": "markdown",
   "id": "12960d3f",
   "metadata": {
    "toc": true
   },
   "source": [
    "<h1>Table of Contents<span class=\"tocSkip\"></span></h1>\n",
    "<div class=\"toc\"><ul class=\"toc-item\"></ul></div>"
   ]
  },
  {
   "cell_type": "code",
   "execution_count": 4,
   "id": "d4f2236b",
   "metadata": {
    "ExecuteTime": {
     "end_time": "2025-06-27T23:40:22.401375Z",
     "start_time": "2025-06-27T23:40:22.391371Z"
    }
   },
   "outputs": [],
   "source": [
    "import os\n",
    "import sys\n",
    "import glob\n",
    "import json\n",
    "import datetime as dt\n",
    "from pathlib import Path\n",
    "import pandas as pd\n",
    "import numpy as np\n",
    "import MetaTrader5 as mt5\n",
    "from dotenv import load_dotenv"
   ]
  },
  {
   "cell_type": "code",
   "execution_count": 11,
   "id": "bd87781a",
   "metadata": {
    "ExecuteTime": {
     "end_time": "2025-06-27T23:42:02.328026Z",
     "start_time": "2025-06-27T23:42:02.319002Z"
    }
   },
   "outputs": [
    {
     "data": {
      "text/plain": [
       "True"
      ]
     },
     "execution_count": 11,
     "metadata": {},
     "output_type": "execute_result"
    }
   ],
   "source": [
    "# Carregar variáveis do arquivo .env\n",
    "load_dotenv()\n"
   ]
  },
  {
   "cell_type": "code",
   "execution_count": 12,
   "id": "65a8191f",
   "metadata": {
    "ExecuteTime": {
     "end_time": "2025-06-27T23:42:02.715810Z",
     "start_time": "2025-06-27T23:42:02.694845Z"
    }
   },
   "outputs": [],
   "source": [
    "def get_mt5_credentials():\n",
    "    \"\"\"Carrega credenciais do MT5 do arquivo .env\"\"\"\n",
    "    return {\n",
    "        'login': int(os.getenv('MT5_LOGIN', 0)),\n",
    "        'password': os.getenv('MT5_PASSWORD', ''),\n",
    "        'server': os.getenv('MT5_SERVER', ''),\n",
    "        'path': os.getenv('MT5_PATH', r\"C:\\Program Files\\MetaTrader 5\\terminal64.exe\")\n",
    "    }\n",
    "\n",
    "\n",
    "def load_config(config_file):\n",
    "    \"\"\"Carrega todas as configurações do arquivo JSON\"\"\"\n",
    "    try:\n",
    "        with open(config_file, 'r', encoding='utf-8') as f:\n",
    "            config = json.load(f)\n",
    "        return config\n",
    "    except FileNotFoundError:\n",
    "        print(f\"Arquivo {config_file} não encontrado!\")\n",
    "        return None\n",
    "    except json.JSONDecodeError:\n",
    "        print(f\"Erro ao decodificar JSON do arquivo {config_file}\")\n",
    "        return None\n",
    "    except Exception as e:\n",
    "        print(f\"Erro ao carregar {config_file}: {e}\")\n",
    "        return None\n",
    "\n",
    "\n",
    "def connect_mt5(config=None):\n",
    "    \"\"\"Estabelece conexão com MT5\"\"\"\n",
    "    if config is None:\n",
    "        config = get_mt5_credentials()\n",
    "    \n",
    "    # Validar credenciais\n",
    "    if not config['login'] or not config['password'] or not config['server']:\n",
    "        print(\"Erro: Credenciais do MT5 não encontradas no arquivo .env\")\n",
    "        print(\"Certifique-se de que MT5_LOGIN, MT5_PASSWORD e MT5_SERVER estão definidos\")\n",
    "        return False\n",
    "    \n",
    "    if not mt5.initialize(\n",
    "        login=config['login'], \n",
    "        server=config['server'], \n",
    "        password=config['password'], \n",
    "        path=config['path']\n",
    "    ):\n",
    "        print(\"initialize() failed, error code =\", mt5.last_error())\n",
    "        return False\n",
    "    \n",
    "    print('Ligado ao MT5 com sucesso!')\n",
    "    print(f'Conta: {config[\"login\"]} | Servidor: {config[\"server\"]}')\n",
    "    print('-' * 20)\n",
    "    return True"
   ]
  },
  {
   "cell_type": "code",
   "execution_count": 13,
   "id": "bbedb9f9",
   "metadata": {
    "ExecuteTime": {
     "end_time": "2025-06-27T23:42:05.208832Z",
     "start_time": "2025-06-27T23:42:03.088075Z"
    }
   },
   "outputs": [
    {
     "name": "stdout",
     "output_type": "stream",
     "text": [
      "Ligado ao MT5 com sucesso!\n",
      "Conta: 3008705129 | Servidor: Rico-DEMO\n",
      "--------------------\n"
     ]
    },
    {
     "data": {
      "text/plain": [
       "True"
      ]
     },
     "execution_count": 13,
     "metadata": {},
     "output_type": "execute_result"
    }
   ],
   "source": [
    "connect_mt5()"
   ]
  },
  {
   "cell_type": "code",
   "execution_count": 17,
   "id": "4c07a72e",
   "metadata": {
    "ExecuteTime": {
     "end_time": "2025-06-27T23:45:25.956792Z",
     "start_time": "2025-06-27T23:45:25.948732Z"
    }
   },
   "outputs": [],
   "source": [
    "def get_timeframe_offset(timeframe):\n",
    "    \"\"\"Retorna o offset em minutos baseado no timeframe\"\"\"\n",
    "    timeframe_map = {\n",
    "        't1': 1, 't2': 2, 't5': 5, 't10': 10, 't15': 15, 't30': 30,\n",
    "        'h1': 60, 'h4': 240, 'd1': 1440,\n",
    "    }\n",
    "    return timeframe_map.get(timeframe.lower(), 5)\n",
    "\n",
    "\n",
    "def trade_report(symbol, data_ini, data_fim, cost_per_lot=0.25):\n",
    "    \"\"\"Extrai relatório de trades do MT5\"\"\"\n",
    "    deals = mt5.history_deals_get(data_ini, data_fim, group=symbol)\n",
    "    \n",
    "    if deals is None or len(deals) == 0:\n",
    "        print(f\"Nenhum deal encontrado para {symbol} no período especificado\")\n",
    "        return pd.DataFrame()\n",
    "    \n",
    "    print(f\"Encontrados {len(deals)} deals para {symbol}\")\n",
    "    \n",
    "    df = pd.DataFrame(list(deals), columns=deals[0]._asdict().keys())\n",
    "    df['time'] = pd.to_datetime(df['time'], unit='s')\n",
    "    df['custo'] = df['volume'] * cost_per_lot\n",
    "    df['lucro'] = df['profit'] - df['custo']\n",
    "    \n",
    "    return df\n",
    "\n",
    "\n"
   ]
  },
  {
   "cell_type": "code",
   "execution_count": 21,
   "id": "9bf89e45",
   "metadata": {
    "ExecuteTime": {
     "end_time": "2025-06-27T23:47:16.486962Z",
     "start_time": "2025-06-27T23:47:16.468202Z"
    }
   },
   "outputs": [
    {
     "name": "stdout",
     "output_type": "stream",
     "text": [
      "Encontrados 496 deals para *WIN*\n"
     ]
    }
   ],
   "source": [
    "data_ini = '2025-06-01'\n",
    "data_fim = '2025-06-27'\n",
    "symbol = '*WIN*'\n",
    "cost_per_lot = 0.5\n",
    "\n",
    "# Extrair dados do MT5\n",
    "dfmt5 = trade_report(\n",
    "    symbol, \n",
    "    pd.Timestamp(data_ini), \n",
    "    pd.Timestamp(data_fim ) + dt.timedelta(days=1),\n",
    "    cost_per_lot\n",
    ")"
   ]
  },
  {
   "cell_type": "code",
   "execution_count": 26,
   "id": "2d736fce",
   "metadata": {
    "ExecuteTime": {
     "end_time": "2025-06-27T23:49:55.460177Z",
     "start_time": "2025-06-27T23:49:55.444650Z"
    }
   },
   "outputs": [
    {
     "data": {
      "text/html": [
       "<div>\n",
       "<style scoped>\n",
       "    .dataframe tbody tr th:only-of-type {\n",
       "        vertical-align: middle;\n",
       "    }\n",
       "\n",
       "    .dataframe tbody tr th {\n",
       "        vertical-align: top;\n",
       "    }\n",
       "\n",
       "    .dataframe thead th {\n",
       "        text-align: right;\n",
       "    }\n",
       "</style>\n",
       "<table border=\"1\" class=\"dataframe\">\n",
       "  <thead>\n",
       "    <tr style=\"text-align: right;\">\n",
       "      <th></th>\n",
       "      <th>ticket</th>\n",
       "      <th>order</th>\n",
       "      <th>time</th>\n",
       "      <th>time_msc</th>\n",
       "      <th>type</th>\n",
       "      <th>entry</th>\n",
       "      <th>magic</th>\n",
       "      <th>position_id</th>\n",
       "      <th>reason</th>\n",
       "      <th>volume</th>\n",
       "      <th>price</th>\n",
       "      <th>commission</th>\n",
       "      <th>swap</th>\n",
       "      <th>profit</th>\n",
       "      <th>fee</th>\n",
       "      <th>symbol</th>\n",
       "      <th>comment</th>\n",
       "      <th>external_id</th>\n",
       "      <th>custo</th>\n",
       "      <th>lucro</th>\n",
       "    </tr>\n",
       "  </thead>\n",
       "  <tbody>\n",
       "    <tr>\n",
       "      <th>485</th>\n",
       "      <td>1575014545</td>\n",
       "      <td>2134095577</td>\n",
       "      <td>2025-06-27 12:50:00</td>\n",
       "      <td>1751028600286</td>\n",
       "      <td>0</td>\n",
       "      <td>0</td>\n",
       "      <td>9783</td>\n",
       "      <td>2134095577</td>\n",
       "      <td>3</td>\n",
       "      <td>1.0</td>\n",
       "      <td>139350.0</td>\n",
       "      <td>0.0</td>\n",
       "      <td>0.0</td>\n",
       "      <td>0.0</td>\n",
       "      <td>0.0</td>\n",
       "      <td>WINQ25</td>\n",
       "      <td>bb_trend</td>\n",
       "      <td></td>\n",
       "      <td>0.5</td>\n",
       "      <td>-0.5</td>\n",
       "    </tr>\n",
       "    <tr>\n",
       "      <th>493</th>\n",
       "      <td>1575527543</td>\n",
       "      <td>2134808398</td>\n",
       "      <td>2025-06-27 17:54:00</td>\n",
       "      <td>1751046840028</td>\n",
       "      <td>1</td>\n",
       "      <td>1</td>\n",
       "      <td>0</td>\n",
       "      <td>2134095577</td>\n",
       "      <td>3</td>\n",
       "      <td>1.0</td>\n",
       "      <td>139140.0</td>\n",
       "      <td>0.0</td>\n",
       "      <td>0.0</td>\n",
       "      <td>-42.0</td>\n",
       "      <td>0.0</td>\n",
       "      <td>WINQ25</td>\n",
       "      <td></td>\n",
       "      <td></td>\n",
       "      <td>0.5</td>\n",
       "      <td>-42.5</td>\n",
       "    </tr>\n",
       "  </tbody>\n",
       "</table>\n",
       "</div>"
      ],
      "text/plain": [
       "         ticket       order                time       time_msc  type  entry  \\\n",
       "485  1575014545  2134095577 2025-06-27 12:50:00  1751028600286     0      0   \n",
       "493  1575527543  2134808398 2025-06-27 17:54:00  1751046840028     1      1   \n",
       "\n",
       "     magic  position_id  reason  volume     price  commission  swap  profit  \\\n",
       "485   9783   2134095577       3     1.0  139350.0         0.0   0.0     0.0   \n",
       "493      0   2134095577       3     1.0  139140.0         0.0   0.0   -42.0   \n",
       "\n",
       "     fee  symbol   comment external_id  custo  lucro  \n",
       "485  0.0  WINQ25  bb_trend                0.5   -0.5  \n",
       "493  0.0  WINQ25                          0.5  -42.5  "
      ]
     },
     "execution_count": 26,
     "metadata": {},
     "output_type": "execute_result"
    }
   ],
   "source": [
    "dfmt5[dfmt5['position_id']==2134095577]"
   ]
  },
  {
   "cell_type": "code",
   "execution_count": 27,
   "id": "08e6fad3",
   "metadata": {
    "ExecuteTime": {
     "end_time": "2025-06-27T23:50:42.912969Z",
     "start_time": "2025-06-27T23:50:42.899247Z"
    }
   },
   "outputs": [
    {
     "data": {
      "text/plain": [
       "comment\n",
       "pattern_rsi_tren    205\n",
       "                    158\n",
       "bb_trend             29\n",
       "gold_rsi_trend       13\n",
       "[sl 138905]           2\n",
       "                   ... \n",
       "[sl 141815]           1\n",
       "[sl 141795]           1\n",
       "[sl 141780]           1\n",
       "[sl 141765]           1\n",
       "[sl 139185]           1\n",
       "Name: count, Length: 89, dtype: int64"
      ]
     },
     "execution_count": 27,
     "metadata": {},
     "output_type": "execute_result"
    }
   ],
   "source": [
    "dfmt5['comment'].value_counts()"
   ]
  },
  {
   "cell_type": "code",
   "execution_count": 24,
   "id": "a9c85701",
   "metadata": {
    "ExecuteTime": {
     "end_time": "2025-06-27T23:48:16.916218Z",
     "start_time": "2025-06-27T23:48:16.900348Z"
    }
   },
   "outputs": [
    {
     "data": {
      "text/plain": [
       "magic\n",
       "52455    241\n",
       "0        158\n",
       "1111      32\n",
       "9783      29\n",
       "3598      19\n",
       "2         17\n",
       "Name: count, dtype: int64"
      ]
     },
     "execution_count": 24,
     "metadata": {},
     "output_type": "execute_result"
    }
   ],
   "source": [
    "dfmt5['magic'].value_counts()"
   ]
  },
  {
   "cell_type": "code",
   "execution_count": 29,
   "id": "fe8c9c95",
   "metadata": {
    "ExecuteTime": {
     "end_time": "2025-06-27T23:53:32.527122Z",
     "start_time": "2025-06-27T23:53:32.506941Z"
    }
   },
   "outputs": [
    {
     "data": {
      "text/html": [
       "<div>\n",
       "<style scoped>\n",
       "    .dataframe tbody tr th:only-of-type {\n",
       "        vertical-align: middle;\n",
       "    }\n",
       "\n",
       "    .dataframe tbody tr th {\n",
       "        vertical-align: top;\n",
       "    }\n",
       "\n",
       "    .dataframe thead th {\n",
       "        text-align: right;\n",
       "    }\n",
       "</style>\n",
       "<table border=\"1\" class=\"dataframe\">\n",
       "  <thead>\n",
       "    <tr style=\"text-align: right;\">\n",
       "      <th></th>\n",
       "      <th>ticket</th>\n",
       "      <th>order</th>\n",
       "      <th>time</th>\n",
       "      <th>time_msc</th>\n",
       "      <th>type</th>\n",
       "      <th>entry</th>\n",
       "      <th>magic</th>\n",
       "      <th>position_id</th>\n",
       "      <th>reason</th>\n",
       "      <th>volume</th>\n",
       "      <th>price</th>\n",
       "      <th>commission</th>\n",
       "      <th>swap</th>\n",
       "      <th>profit</th>\n",
       "      <th>fee</th>\n",
       "      <th>symbol</th>\n",
       "      <th>comment</th>\n",
       "      <th>external_id</th>\n",
       "      <th>custo</th>\n",
       "      <th>lucro</th>\n",
       "    </tr>\n",
       "  </thead>\n",
       "  <tbody>\n",
       "  </tbody>\n",
       "</table>\n",
       "</div>"
      ],
      "text/plain": [
       "Empty DataFrame\n",
       "Columns: [ticket, order, time, time_msc, type, entry, magic, position_id, reason, volume, price, commission, swap, profit, fee, symbol, comment, external_id, custo, lucro]\n",
       "Index: []"
      ]
     },
     "execution_count": 29,
     "metadata": {},
     "output_type": "execute_result"
    }
   ],
   "source": [
    "dfmt5[dfmt5.magic.isnull()]"
   ]
  }
 ],
 "metadata": {
  "kernelspec": {
   "display_name": "Python 3 (ipykernel)",
   "language": "python",
   "name": "python3"
  },
  "language_info": {
   "codemirror_mode": {
    "name": "ipython",
    "version": 3
   },
   "file_extension": ".py",
   "mimetype": "text/x-python",
   "name": "python",
   "nbconvert_exporter": "python",
   "pygments_lexer": "ipython3",
   "version": "3.9.13"
  },
  "toc": {
   "base_numbering": 1,
   "nav_menu": {},
   "number_sections": true,
   "sideBar": true,
   "skip_h1_title": false,
   "title_cell": "Table of Contents",
   "title_sidebar": "Contents",
   "toc_cell": true,
   "toc_position": {},
   "toc_section_display": true,
   "toc_window_display": false
  }
 },
 "nbformat": 4,
 "nbformat_minor": 5
}

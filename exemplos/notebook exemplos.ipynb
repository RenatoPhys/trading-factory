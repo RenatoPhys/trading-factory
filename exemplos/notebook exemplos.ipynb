{
 "cells": [
  {
   "cell_type": "markdown",
   "id": "dbe691e1",
   "metadata": {
    "toc": true
   },
   "source": [
    "<h1>Table of Contents<span class=\"tocSkip\"></span></h1>\n",
    "<div class=\"toc\"><ul class=\"toc-item\"></ul></div>"
   ]
  },
  {
   "cell_type": "code",
   "execution_count": 1,
   "id": "3dbe7240",
   "metadata": {
    "ExecuteTime": {
     "end_time": "2025-06-10T17:27:00.698646Z",
     "start_time": "2025-06-10T17:26:58.896965Z"
    }
   },
   "outputs": [
    {
     "name": "stderr",
     "output_type": "stream",
     "text": [
      "C:\\Users\\User\\anaconda3\\lib\\site-packages\\pandas\\core\\computation\\expressions.py:21: UserWarning: Pandas requires version '2.8.4' or newer of 'numexpr' (version '2.8.3' currently installed).\n",
      "  from pandas.core.computation.check import NUMEXPR_INSTALLED\n",
      "C:\\Users\\User\\anaconda3\\lib\\site-packages\\pandas\\core\\arrays\\masked.py:60: UserWarning: Pandas requires version '1.3.6' or newer of 'bottleneck' (version '1.3.5' currently installed).\n",
      "  from pandas.core import (\n"
     ]
    }
   ],
   "source": [
    "# Importando as bibliotecas\n",
    "import numpy as np # pacote para funções matemáticas\n",
    "import pandas as pd # pacote para a manipulação dos dados em tabela\n",
    "import warnings\n",
    "import itertools\n",
    "from IPython.display import display # Allows the use of display() for DataFrames\n",
    "import matplotlib.pyplot as plt # pacote para fazer gráficos\n",
    "import matplotlib.patches as mpatches\n",
    "import seaborn as sns\n",
    "import datetime as dt\n",
    "from sklearn.preprocessing import MinMaxScaler\n",
    "import plotly.express as px\n",
    "import plotly.graph_objects as go\n",
    "import scikitplot as skplt\n",
    "import sqlite3 as sql\n",
    "\n",
    "import pandas_ta as ta\n",
    "import talib\n",
    "\n",
    "import mplfinance as mpf\n",
    "\n",
    "import optuna\n",
    "from optuna.visualization import plot_contour\n",
    "from optuna.visualization import plot_edf\n",
    "from optuna.visualization import plot_intermediate_values\n",
    "from optuna.visualization import plot_optimization_history\n",
    "from optuna.visualization import plot_parallel_coordinate\n",
    "from optuna.visualization import plot_param_importances\n",
    "from optuna.visualization import plot_slice\n",
    "\n",
    "pd.set_option(\"display.max_columns\", 40)\n",
    "pd.set_option('display.max_rows', 500)"
   ]
  },
  {
   "cell_type": "code",
   "execution_count": 2,
   "id": "dcfeabbb",
   "metadata": {
    "ExecuteTime": {
     "end_time": "2025-06-10T17:27:00.890399Z",
     "start_time": "2025-06-10T17:27:00.699768Z"
    }
   },
   "outputs": [],
   "source": [
    "from forex_backtester import Backtester\n",
    "from forex_backtester.strategy_generator import StrategyOptimizer\n",
    "#from forex_backtester.strategies.indicators import bollinger_bands"
   ]
  },
  {
   "cell_type": "code",
   "execution_count": 3,
   "id": "51f9c2f2",
   "metadata": {
    "ExecuteTime": {
     "end_time": "2025-06-10T17:27:00.905743Z",
     "start_time": "2025-06-10T17:27:00.891464Z"
    },
    "code_folding": [
     6,
     63,
     121
    ]
   },
   "outputs": [],
   "source": [
    "\n",
    "\n",
    "\n",
    "path_b3 = 'C:/Users/User/OneDrive/Documentos/rnt/Finance/Trading Projects/00.database/candlestick data/futuros/'\n",
    "path_tickmill = 'C:/Users/User/OneDrive/Documentos/rnt/Finance/Trading Projects/00.database/tickmill/forex/'\n",
    "\n",
    "dict_custos = {'WIN@N':0.2*5, 'WDO@N':2.40/2,\n",
    "                                     'AUDUSD': 3,\n",
    "                                     'EURUSD': 3,\n",
    "                                     'GBPUSD': 3,\n",
    "                                     'NZDUSD': 3,\n",
    "                                     'USDCHF': 3,\n",
    "                                     'USDJPY': 3,\n",
    "                                     'AUDCAD': 3,\n",
    "                                     'AUDCHF': 3,\n",
    "                                     'AUDJPY': 3,\n",
    "                                     'AUDNZD': 3,\n",
    "                                     'CADCHF': 3,\n",
    "                                     'CADJPY': 3,\n",
    "                                     'CHFJPY': 3,\n",
    "                                     'EURAUD': 3,\n",
    "                                     'EURCAD': 3,\n",
    "                                     'EURCHF': 3,\n",
    "                                     'EURGBP': 3,\n",
    "                                     'EURHKD': 3,\n",
    "                                     'EURJPY': 3,\n",
    "                                     'EURMXN': 3,\n",
    "                                     'EURNZD': 3,\n",
    "                                     'EURTRY': 3,\n",
    "                                     'GBPCAD': 3,\n",
    "                                     'GBPCHF': 3,\n",
    "                                     'GBPJPY': 3,\n",
    "                                     'USDCNH': 3,\n",
    "                                     'USDCZK': 3,\n",
    "                                     'USDMXN': 3,\n",
    "                                     'USDTRY': 3,\n",
    "                                     'XAGUSD': 3,\n",
    "                                     'XAUUSD': 3,\n",
    "                                     'STOXX50': 3,\n",
    "                                     'UK100': 3,\n",
    "                                     'FRANCE40': 3,\n",
    "                                     'VIX': 3,\n",
    "                                     'ALUMINIUM': 3,\n",
    "                                     'PLATINUM': 3,\n",
    "                                     'LEAD': 3,\n",
    "                                     'NICKEL': 3,\n",
    "                                     'PALLADIUM': 3,\n",
    "                                     'ZINC': 3,\n",
    "                                     'COPPER': 3,\n",
    "                                     'DXY': 3,\n",
    "                                     'COCOA': 3,\n",
    "                                     'SUGAR': 3,\n",
    "                                     'WHEAT': 3,\n",
    "                                     'US500': 3,\n",
    "                                     'NAT.GAS': 3,\n",
    "                                     'BRENT': 3,\n",
    "                                     'EEM': 3,\n",
    "                                     'EWZ': 3,\n",
    "                                     'IWM': 3,\n",
    "                                     'TLT': 3,\n",
    "                                     'SPY': 3,\n",
    "                                     'DIA': 3}\n",
    "\n",
    "dict_valor_lot = {'WIN@N':0.2, 'WDO@N':10.0,\n",
    "                                'USDCAD': 100000,\n",
    "                                 'AUDUSD': 100000,\n",
    "                                 'EURUSD': 100000,\n",
    "                                 'GBPUSD': 100000,\n",
    "                                 'NZDUSD': 100000,\n",
    "                                 'USDCHF': 100000,\n",
    "                                 'USDJPY': 100000,\n",
    "                                 'AUDCAD': 100000,\n",
    "                                 'AUDCHF': 100000,\n",
    "                                 'AUDJPY': 100000,\n",
    "                                 'AUDNZD': 100000,\n",
    "                                 'CADCHF': 100000,\n",
    "                                 'CADJPY': 100000,\n",
    "                                 'CHFJPY': 100000,\n",
    "                                 'EURAUD': 100000,\n",
    "                                 'EURCAD': 100000,\n",
    "                                 'EURCHF': 100000,\n",
    "                                 'EURGBP': 100000,\n",
    "                                 'EURHKD': 100000,\n",
    "                                 'EURJPY': 100000,\n",
    "                                 'EURMXN': 100000,\n",
    "                                 'EURNZD': 100000,\n",
    "                                 'EURTRY': 100000,\n",
    "                                 'GBPCAD': 100000,\n",
    "                                 'GBPCHF': 100000,\n",
    "                                 'GBPJPY': 100000,\n",
    "                                 'USDCNH': 100000,\n",
    "                                 'USDCZK': 100000,\n",
    "                                 'USDMXN': 100000,\n",
    "                                 'USDTRY': 100000,\n",
    "                                 'XAGUSD': 100000,\n",
    "                                 'XAUUSD': 100000,\n",
    "                                 'STOXX50': 100000,\n",
    "                                 'UK100': 100000,\n",
    "                                 'FRANCE40': 100000,\n",
    "                                 'VIX': 100000,\n",
    "                                 'ALUMINIUM': 100000,\n",
    "                                 'PLATINUM': 100000,\n",
    "                                 'LEAD': 100000,\n",
    "                                 'NICKEL': 100000,\n",
    "                                 'PALLADIUM': 100000,\n",
    "                                 'ZINC': 100000,\n",
    "                                 'COPPER': 100000,\n",
    "                                 'DXY': 100000,\n",
    "                                 'COCOA': 100000,\n",
    "                                 'SUGAR': 100000,\n",
    "                                 'WHEAT': 100000,\n",
    "                                 'US500': 100000,\n",
    "                                 'NAT.GAS': 100000,\n",
    "                                 'BRENT': 100000,\n",
    "                                 'EEM': 100000,\n",
    "                                 'EWZ': 100000,\n",
    "                                 'IWM': 100000,\n",
    "                                 'TLT': 100000,\n",
    "                                 'SPY': 100000,\n",
    "                                 'DIA': 100000}\n",
    "\n",
    "dict_path = {'WIN@N':path_b3, 'WDO@N':path_b3, \n",
    "                              'USDCAD': path_tickmill,\n",
    "                             'AUDUSD': path_tickmill,\n",
    "                             'EURUSD': path_tickmill,\n",
    "                             'GBPUSD': path_tickmill,\n",
    "                             'NZDUSD': path_tickmill,\n",
    "                             'USDCHF': path_tickmill,\n",
    "                             'USDJPY': path_tickmill,\n",
    "                             'AUDCAD': path_tickmill,\n",
    "                             'AUDCHF': path_tickmill,\n",
    "                             'AUDJPY': path_tickmill,\n",
    "                             'AUDNZD': path_tickmill,\n",
    "                             'CADCHF': path_tickmill,\n",
    "                             'CADJPY': path_tickmill,\n",
    "                             'CHFJPY': path_tickmill,\n",
    "                             'EURAUD': path_tickmill,\n",
    "                             'EURCAD': path_tickmill,\n",
    "                             'EURCHF': path_tickmill,\n",
    "                             'EURGBP': path_tickmill,\n",
    "                             'EURHKD': path_tickmill,\n",
    "                             'EURJPY': path_tickmill,\n",
    "                             'EURMXN': path_tickmill,\n",
    "                             'EURNZD': path_tickmill,\n",
    "                             'EURTRY': path_tickmill,\n",
    "                             'GBPCAD': path_tickmill,\n",
    "                             'GBPCHF': path_tickmill,\n",
    "                             'GBPJPY': path_tickmill,\n",
    "                             'USDCNH': path_tickmill,\n",
    "                             'USDCZK': path_tickmill,\n",
    "                             'USDMXN': path_tickmill,\n",
    "                             'USDTRY': path_tickmill,\n",
    "                             'XAGUSD': path_tickmill,\n",
    "                             'XAUUSD': path_tickmill,\n",
    "                             'STOXX50': path_tickmill,\n",
    "                             'UK100': path_tickmill,\n",
    "                             'FRANCE40': path_tickmill,\n",
    "                             'VIX': path_tickmill,\n",
    "                             'ALUMINIUM': path_tickmill,\n",
    "                             'PLATINUM': path_tickmill,\n",
    "                             'LEAD': path_tickmill,\n",
    "                             'NICKEL': path_tickmill,\n",
    "                             'PALLADIUM': path_tickmill,\n",
    "                             'ZINC': path_tickmill,\n",
    "                             'COPPER': path_tickmill,\n",
    "                             'DXY': path_tickmill,\n",
    "                             'COCOA': path_tickmill,\n",
    "                             'SUGAR': path_tickmill,\n",
    "                             'WHEAT': path_tickmill,\n",
    "                             'US500': path_tickmill,\n",
    "                             'NAT.GAS': path_tickmill,\n",
    "                             'BRENT': path_tickmill,\n",
    "                             'EEM': path_tickmill,\n",
    "                             'EWZ': path_tickmill,\n",
    "                             'IWM': path_tickmill,\n",
    "                             'TLT': path_tickmill,\n",
    "                             'SPY': path_tickmill,\n",
    "                             'DIA': path_tickmill}"
   ]
  },
  {
   "cell_type": "code",
   "execution_count": 4,
   "id": "f0d45811",
   "metadata": {
    "ExecuteTime": {
     "end_time": "2025-06-10T17:27:01.229487Z",
     "start_time": "2025-06-10T17:27:01.220973Z"
    }
   },
   "outputs": [],
   "source": [
    "def entrada(df, bb_length, std, allowed_hours=None, position_type=\"both\"):\n",
    "    \"\"\"\n",
    "    Estratégia baseada em Bandas de Bollinger.\n",
    "    \n",
    "    Args:\n",
    "        df (pandas.DataFrame): DataFrame com dados OHLC.\n",
    "        bb_length (int): Período para cálculo da média e desvio padrão.\n",
    "        std (float): Número de desvios padrão para as bandas.\n",
    "        allowed_hours (list): Horas que vamos executar a estratégia.\n",
    "        position_type (str): Tipo de posições permitidas:\n",
    "                            - \"long\": Apenas posições de compra (+1)\n",
    "                            - \"short\": Apenas posições de venda (-1)\n",
    "                            - \"both\": Ambas as posições (padrão)\n",
    "        \n",
    "    Returns:\n",
    "        pandas.Series: Posições (-1=short, 0=neutro, 1=long)\n",
    "    \"\"\"\n",
    "    df = df.copy()  # Para evitar SettingWithCopyWarning\n",
    "    \n",
    "    aux = df.ta.bbands(length=bb_length, std=std)\n",
    "    df[f\"BBL_{bb_length}_{std}\"] = aux[f\"BBL_{bb_length}_{std}\"]\n",
    "    df[f\"BBU_{bb_length}_{std}\"] = aux[f\"BBU_{bb_length}_{std}\"]\n",
    "    df[f\"BBM_{bb_length}_{std}\"] = aux[f\"BBM_{bb_length}_{std}\"]    \n",
    "    \n",
    "    # Inicializar a coluna de posição com zeros\n",
    "    df['position'] = 0\n",
    "    \n",
    "    # Calculando entradas (buy/sell)\n",
    "    cond1 = (df.close < df[f\"BBL_{bb_length}_{std}\"]) & (df.close.shift(+1) >= df[f\"BBL_{bb_length}_{std}\"].shift(+1))\n",
    "    cond2 = (df.close > df[f\"BBU_{bb_length}_{std}\"]) & (df.close.shift(+1) <= df[f\"BBU_{bb_length}_{std}\"].shift(+1))\n",
    "    \n",
    "    # Aplicar as posições de acordo com o parâmetro position_type\n",
    "    if position_type.lower() == \"both\":\n",
    "        df.loc[cond1, \"position\"] = +1\n",
    "        df.loc[cond2, \"position\"] = -1\n",
    "    elif position_type.lower() == \"long\":\n",
    "        df.loc[cond2, \"position\"] = -1\n",
    "    elif position_type.lower() == \"short\":\n",
    "        df.loc[cond1, \"position\"] = +1\n",
    "    else:\n",
    "        raise ValueError(\"position_type deve ser 'long', 'short' ou 'both'\")\n",
    "    \n",
    "    # Restrição de horários\n",
    "    if allowed_hours is not None:\n",
    "        # Zera posição fora dos horários permitidos\n",
    "        current_hours = df.index.to_series().dt.hour\n",
    "        df.loc[~current_hours.isin(allowed_hours), 'position'] = 0\n",
    "    \n",
    "    return df['position']\n"
   ]
  },
  {
   "cell_type": "code",
   "execution_count": 5,
   "id": "b0c84548",
   "metadata": {
    "ExecuteTime": {
     "end_time": "2025-06-10T17:27:01.719897Z",
     "start_time": "2025-06-10T17:27:01.708754Z"
    }
   },
   "outputs": [],
   "source": [
    "def entrada(df, allowed_hours=None, position_type=\"both\", length_rsi=14, rsi_low=30, rsi_high=70):\n",
    "    \"\"\"\n",
    "    Estratégia de entrada baseada na variação percentual de preços e RSI inverso.\n",
    "    \n",
    "    Args:\n",
    "        df (pandas.DataFrame): DataFrame com dados OHLC.\n",
    "        allowed_hours (list): Lista de horas permitidas para operar.\n",
    "        position_type (str): Tipo de posição permitida: \"long\", \"short\" ou \"both\".\n",
    "        length_rsi (int): Período para cálculo do RSI.\n",
    "        rsi_low (int): Nível de sobrevenda do RSI (para entrar vendido).\n",
    "        rsi_high (int): Nível de sobrecompra do RSI (para entrar comprado).\n",
    "        \n",
    "    Returns:\n",
    "        pandas.Series: Posições (-1=short, 0=neutro, 1=long)\n",
    "    \"\"\"\n",
    "    \n",
    "    df = df.copy()  # Para evitar SettingWithCopyWarning\n",
    "    \n",
    "    # Calcular a variação percentual\n",
    "    df['pct_change'] = df['close'].pct_change().fillna(0)\n",
    "    \n",
    "    # Calcula o RSI\n",
    "    df['rsi'] = df.ta.rsi(length= length_rsi).fillna(0)\n",
    "    \n",
    "    # Determinar posições com base no position_type e RSI (lógica inversa)\n",
    "    if position_type == \"long\":\n",
    "        # Apenas posições de compra (long) quando RSI > rsi_high\n",
    "        df['position'] = np.where((df['pct_change'] > 0) & (df['rsi'] > rsi_high), 1, 0)\n",
    "    elif position_type == \"short\":\n",
    "        # Apenas posições de venda (short) quando RSI < rsi_low\n",
    "        df['position'] = np.where((df['pct_change'] < 0) & (df['rsi'] < rsi_low), -1, 0)\n",
    "    else:  # \"both\" ou qualquer outro valor padrão\n",
    "        # Compra quando RSI > rsi_high e preço subindo\n",
    "        long_condition = (df['pct_change'] > 0) & (df['rsi'] > rsi_high)\n",
    "        # Venda quando RSI < rsi_low e preço caindo\n",
    "        short_condition = (df['pct_change'] < 0) & (df['rsi'] < rsi_low)\n",
    "        \n",
    "        df['position'] = np.where(long_condition, 1, np.where(short_condition, -1, 0))\n",
    "    \n",
    "    # Restrição de horários\n",
    "    if allowed_hours is not None:\n",
    "        # Zera posição fora dos horários permitidos\n",
    "        current_hours = df.index.to_series().dt.hour\n",
    "        df.loc[~current_hours.isin(allowed_hours), 'position'] = 0\n",
    "    \n",
    "    return df['position']"
   ]
  },
  {
   "cell_type": "code",
   "execution_count": 6,
   "id": "011fc6af",
   "metadata": {
    "ExecuteTime": {
     "end_time": "2025-06-10T17:27:02.433779Z",
     "start_time": "2025-06-10T17:27:02.428760Z"
    }
   },
   "outputs": [],
   "source": [
    "#params = {'sl': 0.10000, 'tp': 0.20000, 'BB_LENGTH': 8, 'STD': 1.7}"
   ]
  },
  {
   "cell_type": "code",
   "execution_count": 22,
   "id": "f8f4a6b4",
   "metadata": {
    "ExecuteTime": {
     "end_time": "2025-06-10T17:57:02.334407Z",
     "start_time": "2025-06-10T17:57:02.329586Z"
    },
    "code_folding": []
   },
   "outputs": [],
   "source": [
    "# Símbolo a ser otimizado\n",
    "sym = 'USDJPY'\n",
    "sym = 'WDO@N'\n",
    "#sym = 'WIN@N'\n",
    "\n",
    "# Criar o otimizador com as configurações base\n",
    "optimizer = StrategyOptimizer(\n",
    "    symbol=sym,\n",
    "    timeframe='t5',\n",
    "    data_ini='2019-01-01',\n",
    "    data_fim='2025-12-31',\n",
    "    initial_cash=30000,\n",
    "    lote=1,\n",
    "    slippage=0,\n",
    "    daytrade=True,\n",
    "    path_base= dict_path[sym],\n",
    "    num_trials=55,\n",
    "    max_workers=1,\n",
    "    export_dir='./resultados',\n",
    "    tc=dict_custos[sym],\n",
    "    valor_lote=dict_valor_lot[sym],\n",
    "    optimize_metric='sortino_ratio',\n",
    "    direction='maximize'\n",
    ")\n",
    "\n",
    "# Definir os ranges de parâmetros para otimização\n",
    "param_ranges = {\n",
    "    #'tp': (0.03000, 0.40000),           \n",
    "    #'sl': (0.03000, 0.40000),\n",
    "    'tp': (2.0, 32.0, 0.1),\n",
    "    'sl': (2.0, 32.0, 0.1),\n",
    "    #'tp': (80, 1900, 0.1),           \n",
    "    #'sl': (80, 1900, 0.1),\n",
    "    \"length_rsi\": (6, 10, 1),\n",
    "    \"rsi_low\": (25, 45, 1),\n",
    "    \"rsi_high\": (55, 85, 1),\n",
    "    #'sl': (2.0, 32.0, 0.1), \n",
    "    #'bb_length': (6, 9),      \n",
    "    #'std': (0.8, 1.9, 0.1) ,\n",
    "    'position_type': ['long', 'short', 'both'] \n",
    "}\n",
    "\n",
    "# Parâmetros fixos (opcionais)\n",
    "fixed_params = {\n",
    "    # Pode adicionar parâmetros fixos aqui se necessário\n",
    "}\n",
    "\n",
    "# Executar o pipeline completo em uma única chamada\n",
    "#optimizer.run(\n",
    "#    signal_function=bollinger_bands,\n",
    "#    param_ranges=param_ranges,\n",
    "#    fixed_params=fixed_params,\n",
    "#    hours_to_optimize=[2, 3, 4, 5, 6, 7, 8, 9, 10, 11, 12, 13, 14, 15, 16, 17, 18, 19, 20, 21, 22],\n",
    "#    min_threshold=0.7\n",
    "#)\n",
    "\n"
   ]
  },
  {
   "cell_type": "code",
   "execution_count": 23,
   "id": "d5e48974",
   "metadata": {
    "ExecuteTime": {
     "end_time": "2025-06-10T17:57:03.298480Z",
     "start_time": "2025-06-10T17:57:03.288255Z"
    }
   },
   "outputs": [
    {
     "data": {
      "text/plain": [
       "<forex_backtester.strategy_generator.StrategyOptimizer at 0x1bcd3f86d00>"
      ]
     },
     "execution_count": 23,
     "metadata": {},
     "output_type": "execute_result"
    }
   ],
   "source": [
    "# Alternativamente, você pode executar cada passo separadamente:\n",
    "\n",
    "# 1. Configurar a função de estratégia e os ranges de parâmetros\n",
    "optimizer.strategy_function = entrada\n",
    "optimizer.set_param_ranges(param_ranges)\n",
    "optimizer.set_fixed_params(fixed_params)"
   ]
  },
  {
   "cell_type": "code",
   "execution_count": 24,
   "id": "5fb74ee2",
   "metadata": {
    "ExecuteTime": {
     "end_time": "2025-06-10T17:57:03.636038Z",
     "start_time": "2025-06-10T17:57:03.629155Z"
    }
   },
   "outputs": [
    {
     "data": {
      "text/plain": [
       "{'tp': (2.0, 32.0, 0.1),\n",
       " 'sl': (2.0, 32.0, 0.1),\n",
       " 'length_rsi': (6, 10, 1),\n",
       " 'rsi_low': (25, 45, 1),\n",
       " 'rsi_high': (55, 85, 1),\n",
       " 'position_type': ['long', 'short', 'both']}"
      ]
     },
     "execution_count": 24,
     "metadata": {},
     "output_type": "execute_result"
    }
   ],
   "source": [
    "optimizer.param_ranges"
   ]
  },
  {
   "cell_type": "code",
   "execution_count": 25,
   "id": "1e50e408",
   "metadata": {
    "ExecuteTime": {
     "end_time": "2025-06-10T17:57:07.828519Z",
     "start_time": "2025-06-10T17:57:07.823653Z"
    }
   },
   "outputs": [
    {
     "data": {
      "text/plain": [
       "'./resultados\\\\run_WDO@N_t5_20250610_145707'"
      ]
     },
     "execution_count": 25,
     "metadata": {},
     "output_type": "execute_result"
    }
   ],
   "source": [
    "# 2. Configurar diretórios\n",
    "optimizer.setup_dirs()"
   ]
  },
  {
   "cell_type": "code",
   "execution_count": 26,
   "id": "0a400178",
   "metadata": {
    "ExecuteTime": {
     "end_time": "2025-06-10T18:02:54.941229Z",
     "start_time": "2025-06-10T17:57:11.323276Z"
    },
    "scrolled": true
   },
   "outputs": [
    {
     "name": "stderr",
     "output_type": "stream",
     "text": [
      "\u001b[32m[I 2025-06-10 14:57:11,324]\u001b[0m A new study created in memory with name: hora_10\u001b[0m\n"
     ]
    },
    {
     "name": "stdout",
     "output_type": "stream",
     "text": [
      "Iniciando otimização serial para 8 horas...\n",
      "\n",
      "==================================================\n",
      "Otimizando estratégia para hora: 10:00\n",
      "Métrica: calmar_ratio - Direção: maximize\n",
      "==================================================\n",
      "Iniciando otimização com 55 trials para hora 10...\n",
      "Trial 0 para hora 10: Testando estratégia com parâmetros {'length_rsi': 10.0, 'rsi_low': 39.0, 'rsi_high': 63.0, 'position_type': 'long'}\n",
      "Trial 0 para hora 10: Usando backtester com TP=14.10000, SL=12.90000\n",
      "Executando backtest para trial 0, hora 10...\n"
     ]
    },
    {
     "name": "stderr",
     "output_type": "stream",
     "text": [
      "\u001b[32m[I 2025-06-10 14:57:12,107]\u001b[0m Trial 0 finished with value: -0.0026194292562303507 and parameters: {'tp': 14.100000000000001, 'sl': 12.9, 'length_rsi': 10.0, 'rsi_low': 39.0, 'rsi_high': 63.0, 'position_type': 'long'}. Best is trial 0 with value: -0.0026194292562303507.\u001b[0m\n"
     ]
    },
    {
     "name": "stdout",
     "output_type": "stream",
     "text": [
      "Trial 0 concluído: calmar_ratio = -0.0026\n",
      "Trial 1 para hora 10: Testando estratégia com parâmetros {'length_rsi': 6.0, 'rsi_low': 45.0, 'rsi_high': 67.0, 'position_type': 'short'}\n",
      "Trial 1 para hora 10: Usando backtester com TP=27.60000, SL=30.90000\n",
      "Executando backtest para trial 1, hora 10...\n"
     ]
    },
    {
     "name": "stderr",
     "output_type": "stream",
     "text": [
      "\u001b[32m[I 2025-06-10 14:57:12,884]\u001b[0m Trial 1 finished with value: 0.18898075334306735 and parameters: {'tp': 27.6, 'sl': 30.900000000000002, 'length_rsi': 6.0, 'rsi_low': 45.0, 'rsi_high': 67.0, 'position_type': 'short'}. Best is trial 1 with value: 0.18898075334306735.\u001b[0m\n"
     ]
    },
    {
     "name": "stdout",
     "output_type": "stream",
     "text": [
      "Trial 1 concluído: calmar_ratio = 0.1890\n",
      "Trial 2 para hora 10: Testando estratégia com parâmetros {'length_rsi': 8.0, 'rsi_low': 43.0, 'rsi_high': 71.0, 'position_type': 'long'}\n",
      "Trial 2 para hora 10: Usando backtester com TP=15.10000, SL=20.60000\n",
      "Executando backtest para trial 2, hora 10...\n"
     ]
    },
    {
     "name": "stderr",
     "output_type": "stream",
     "text": [
      "\u001b[32m[I 2025-06-10 14:57:13,642]\u001b[0m Trial 2 finished with value: 0.3832556977634805 and parameters: {'tp': 15.100000000000001, 'sl': 20.6, 'length_rsi': 8.0, 'rsi_low': 43.0, 'rsi_high': 71.0, 'position_type': 'long'}. Best is trial 2 with value: 0.3832556977634805.\u001b[0m\n"
     ]
    },
    {
     "name": "stdout",
     "output_type": "stream",
     "text": [
      "Trial 2 concluído: calmar_ratio = 0.3833\n",
      "Trial 3 para hora 10: Testando estratégia com parâmetros {'length_rsi': 7.0, 'rsi_low': 31.0, 'rsi_high': 64.0, 'position_type': 'long'}\n",
      "Trial 3 para hora 10: Usando backtester com TP=18.50000, SL=5.50000\n",
      "Executando backtest para trial 3, hora 10...\n"
     ]
    },
    {
     "name": "stderr",
     "output_type": "stream",
     "text": [
      "\u001b[32m[I 2025-06-10 14:57:14,404]\u001b[0m Trial 3 finished with value: 0.010988315793423862 and parameters: {'tp': 18.5, 'sl': 5.5, 'length_rsi': 7.0, 'rsi_low': 31.0, 'rsi_high': 64.0, 'position_type': 'long'}. Best is trial 2 with value: 0.3832556977634805.\u001b[0m\n"
     ]
    },
    {
     "name": "stdout",
     "output_type": "stream",
     "text": [
      "Trial 3 concluído: calmar_ratio = 0.0110\n",
      "Trial 4 para hora 10: Testando estratégia com parâmetros {'length_rsi': 7.0, 'rsi_low': 43.0, 'rsi_high': 67.0, 'position_type': 'both'}\n",
      "Trial 4 para hora 10: Usando backtester com TP=15.90000, SL=19.20000\n",
      "Executando backtest para trial 4, hora 10...\n"
     ]
    },
    {
     "name": "stderr",
     "output_type": "stream",
     "text": [
      "\u001b[32m[I 2025-06-10 14:57:15,174]\u001b[0m Trial 4 finished with value: 0.406428287323978 and parameters: {'tp': 15.9, 'sl': 19.2, 'length_rsi': 7.0, 'rsi_low': 43.0, 'rsi_high': 67.0, 'position_type': 'both'}. Best is trial 4 with value: 0.406428287323978.\u001b[0m\n"
     ]
    },
    {
     "name": "stdout",
     "output_type": "stream",
     "text": [
      "Trial 4 concluído: calmar_ratio = 0.4064\n",
      "Trial 5 para hora 10: Testando estratégia com parâmetros {'length_rsi': 6.0, 'rsi_low': 29.0, 'rsi_high': 65.0, 'position_type': 'short'}\n",
      "Trial 5 para hora 10: Usando backtester com TP=25.80000, SL=8.40000\n",
      "Executando backtest para trial 5, hora 10...\n"
     ]
    },
    {
     "name": "stderr",
     "output_type": "stream",
     "text": [
      "\u001b[32m[I 2025-06-10 14:57:15,929]\u001b[0m Trial 5 finished with value: 0.3609944272003706 and parameters: {'tp': 25.8, 'sl': 8.4, 'length_rsi': 6.0, 'rsi_low': 29.0, 'rsi_high': 65.0, 'position_type': 'short'}. Best is trial 4 with value: 0.406428287323978.\u001b[0m\n"
     ]
    },
    {
     "name": "stdout",
     "output_type": "stream",
     "text": [
      "Trial 5 concluído: calmar_ratio = 0.3610\n",
      "Trial 6 para hora 10: Testando estratégia com parâmetros {'length_rsi': 10.0, 'rsi_low': 28.0, 'rsi_high': 56.0, 'position_type': 'short'}\n",
      "Trial 6 para hora 10: Usando backtester com TP=12.00000, SL=9.50000\n",
      "Executando backtest para trial 6, hora 10...\n"
     ]
    },
    {
     "name": "stderr",
     "output_type": "stream",
     "text": [
      "\u001b[32m[I 2025-06-10 14:57:16,682]\u001b[0m Trial 6 finished with value: 1.3277378827149016 and parameters: {'tp': 12.0, 'sl': 9.5, 'length_rsi': 10.0, 'rsi_low': 28.0, 'rsi_high': 56.0, 'position_type': 'short'}. Best is trial 6 with value: 1.3277378827149016.\u001b[0m\n"
     ]
    },
    {
     "name": "stdout",
     "output_type": "stream",
     "text": [
      "Trial 6 concluído: calmar_ratio = 1.3277\n",
      "Trial 7 para hora 10: Testando estratégia com parâmetros {'length_rsi': 9.0, 'rsi_low': 37.0, 'rsi_high': 58.0, 'position_type': 'both'}\n",
      "Trial 7 para hora 10: Usando backtester com TP=21.30000, SL=3.40000\n",
      "Executando backtest para trial 7, hora 10...\n"
     ]
    },
    {
     "name": "stderr",
     "output_type": "stream",
     "text": [
      "\u001b[32m[I 2025-06-10 14:57:17,444]\u001b[0m Trial 7 finished with value: -0.18116508483567897 and parameters: {'tp': 21.3, 'sl': 3.4000000000000004, 'length_rsi': 9.0, 'rsi_low': 37.0, 'rsi_high': 58.0, 'position_type': 'both'}. Best is trial 6 with value: 1.3277378827149016.\u001b[0m\n"
     ]
    },
    {
     "name": "stdout",
     "output_type": "stream",
     "text": [
      "Trial 7 concluído: calmar_ratio = -0.1812\n",
      "Trial 8 para hora 10: Testando estratégia com parâmetros {'length_rsi': 8.0, 'rsi_low': 30.0, 'rsi_high': 71.0, 'position_type': 'both'}\n",
      "Trial 8 para hora 10: Usando backtester com TP=17.90000, SL=26.90000\n",
      "Executando backtest para trial 8, hora 10...\n"
     ]
    },
    {
     "name": "stderr",
     "output_type": "stream",
     "text": [
      "\u001b[32m[I 2025-06-10 14:57:18,207]\u001b[0m Trial 8 finished with value: 0.33536194619096776 and parameters: {'tp': 17.9, 'sl': 26.900000000000002, 'length_rsi': 8.0, 'rsi_low': 30.0, 'rsi_high': 71.0, 'position_type': 'both'}. Best is trial 6 with value: 1.3277378827149016.\u001b[0m\n"
     ]
    },
    {
     "name": "stdout",
     "output_type": "stream",
     "text": [
      "Trial 8 concluído: calmar_ratio = 0.3354\n",
      "Trial 9 para hora 10: Testando estratégia com parâmetros {'length_rsi': 8.0, 'rsi_low': 37.0, 'rsi_high': 80.0, 'position_type': 'both'}\n",
      "Trial 9 para hora 10: Usando backtester com TP=13.10000, SL=4.90000\n",
      "Executando backtest para trial 9, hora 10...\n"
     ]
    },
    {
     "name": "stderr",
     "output_type": "stream",
     "text": [
      "\u001b[32m[I 2025-06-10 14:57:18,968]\u001b[0m Trial 9 finished with value: -0.22288696107631348 and parameters: {'tp': 13.100000000000001, 'sl': 4.9, 'length_rsi': 8.0, 'rsi_low': 37.0, 'rsi_high': 80.0, 'position_type': 'both'}. Best is trial 6 with value: 1.3277378827149016.\u001b[0m\n"
     ]
    },
    {
     "name": "stdout",
     "output_type": "stream",
     "text": [
      "Trial 9 concluído: calmar_ratio = -0.2229\n",
      "Trial 10 para hora 10: Testando estratégia com parâmetros {'length_rsi': 10.0, 'rsi_low': 25.0, 'rsi_high': 55.0, 'position_type': 'short'}\n",
      "Trial 10 para hora 10: Usando backtester com TP=4.10000, SL=13.00000\n",
      "Executando backtest para trial 10, hora 10...\n"
     ]
    },
    {
     "name": "stderr",
     "output_type": "stream",
     "text": [
      "\u001b[32m[I 2025-06-10 14:57:19,740]\u001b[0m Trial 10 finished with value: 1.524768849312074 and parameters: {'tp': 4.1, 'sl': 13.0, 'length_rsi': 10.0, 'rsi_low': 25.0, 'rsi_high': 55.0, 'position_type': 'short'}. Best is trial 10 with value: 1.524768849312074.\u001b[0m\n"
     ]
    },
    {
     "name": "stdout",
     "output_type": "stream",
     "text": [
      "Trial 10 concluído: calmar_ratio = 1.5248\n",
      "Trial 11 para hora 10: Testando estratégia com parâmetros {'length_rsi': 10.0, 'rsi_low': 25.0, 'rsi_high': 55.0, 'position_type': 'short'}\n",
      "Trial 11 para hora 10: Usando backtester com TP=3.90000, SL=12.30000\n",
      "Executando backtest para trial 11, hora 10...\n"
     ]
    },
    {
     "name": "stderr",
     "output_type": "stream",
     "text": [
      "\u001b[32m[I 2025-06-10 14:57:20,504]\u001b[0m Trial 11 finished with value: 1.3043209567386946 and parameters: {'tp': 3.9000000000000004, 'sl': 12.3, 'length_rsi': 10.0, 'rsi_low': 25.0, 'rsi_high': 55.0, 'position_type': 'short'}. Best is trial 10 with value: 1.524768849312074.\u001b[0m\n"
     ]
    },
    {
     "name": "stdout",
     "output_type": "stream",
     "text": [
      "Trial 11 concluído: calmar_ratio = 1.3043\n",
      "Trial 12 para hora 10: Testando estratégia com parâmetros {'length_rsi': 10.0, 'rsi_low': 25.0, 'rsi_high': 59.0, 'position_type': 'short'}\n",
      "Trial 12 para hora 10: Usando backtester com TP=5.50000, SL=13.50000\n",
      "Executando backtest para trial 12, hora 10...\n"
     ]
    },
    {
     "name": "stderr",
     "output_type": "stream",
     "text": [
      "\u001b[32m[I 2025-06-10 14:57:21,279]\u001b[0m Trial 12 finished with value: 4.292325420945635 and parameters: {'tp': 5.5, 'sl': 13.5, 'length_rsi': 10.0, 'rsi_low': 25.0, 'rsi_high': 59.0, 'position_type': 'short'}. Best is trial 12 with value: 4.292325420945635.\u001b[0m\n"
     ]
    },
    {
     "name": "stdout",
     "output_type": "stream",
     "text": [
      "Trial 12 concluído: calmar_ratio = 4.2923\n",
      "Trial 13 para hora 10: Testando estratégia com parâmetros {'length_rsi': 9.0, 'rsi_low': 25.0, 'rsi_high': 60.0, 'position_type': 'short'}\n",
      "Trial 13 para hora 10: Usando backtester com TP=2.30000, SL=15.70000\n",
      "Executando backtest para trial 13, hora 10...\n"
     ]
    },
    {
     "name": "stderr",
     "output_type": "stream",
     "text": [
      "\u001b[32m[I 2025-06-10 14:57:22,058]\u001b[0m Trial 13 finished with value: 0.511763308322388 and parameters: {'tp': 2.3, 'sl': 15.700000000000001, 'length_rsi': 9.0, 'rsi_low': 25.0, 'rsi_high': 60.0, 'position_type': 'short'}. Best is trial 12 with value: 4.292325420945635.\u001b[0m\n"
     ]
    },
    {
     "name": "stdout",
     "output_type": "stream",
     "text": [
      "Trial 13 concluído: calmar_ratio = 0.5118\n",
      "Trial 14 para hora 10: Testando estratégia com parâmetros {'length_rsi': 9.0, 'rsi_low': 33.0, 'rsi_high': 77.0, 'position_type': 'short'}\n",
      "Trial 14 para hora 10: Usando backtester com TP=7.90000, SL=22.80000\n",
      "Executando backtest para trial 14, hora 10...\n"
     ]
    },
    {
     "name": "stderr",
     "output_type": "stream",
     "text": [
      "\u001b[32m[I 2025-06-10 14:57:23,037]\u001b[0m Trial 14 finished with value: 0.9960421727946264 and parameters: {'tp': 7.9, 'sl': 22.8, 'length_rsi': 9.0, 'rsi_low': 33.0, 'rsi_high': 77.0, 'position_type': 'short'}. Best is trial 12 with value: 4.292325420945635.\u001b[0m\n"
     ]
    },
    {
     "name": "stdout",
     "output_type": "stream",
     "text": [
      "Trial 14 concluído: calmar_ratio = 0.9960\n",
      "Trial 15 para hora 10: Testando estratégia com parâmetros {'length_rsi': 10.0, 'rsi_low': 27.0, 'rsi_high': 59.0, 'position_type': 'short'}\n",
      "Trial 15 para hora 10: Usando backtester com TP=7.50000, SL=15.90000\n",
      "Executando backtest para trial 15, hora 10...\n"
     ]
    },
    {
     "name": "stderr",
     "output_type": "stream",
     "text": [
      "\u001b[32m[I 2025-06-10 14:57:23,878]\u001b[0m Trial 15 finished with value: 1.6432764918264866 and parameters: {'tp': 7.5, 'sl': 15.9, 'length_rsi': 10.0, 'rsi_low': 27.0, 'rsi_high': 59.0, 'position_type': 'short'}. Best is trial 12 with value: 4.292325420945635.\u001b[0m\n"
     ]
    },
    {
     "name": "stdout",
     "output_type": "stream",
     "text": [
      "Trial 15 concluído: calmar_ratio = 1.6433\n",
      "Trial 16 para hora 10: Testando estratégia com parâmetros {'length_rsi': 9.0, 'rsi_low': 27.0, 'rsi_high': 85.0, 'position_type': 'short'}\n",
      "Trial 16 para hora 10: Usando backtester com TP=8.80000, SL=17.10000\n",
      "Executando backtest para trial 16, hora 10...\n"
     ]
    },
    {
     "name": "stderr",
     "output_type": "stream",
     "text": [
      "\u001b[32m[I 2025-06-10 14:57:24,709]\u001b[0m Trial 16 finished with value: 4.232337199424127 and parameters: {'tp': 8.8, 'sl': 17.1, 'length_rsi': 9.0, 'rsi_low': 27.0, 'rsi_high': 85.0, 'position_type': 'short'}. Best is trial 12 with value: 4.292325420945635.\u001b[0m\n"
     ]
    },
    {
     "name": "stdout",
     "output_type": "stream",
     "text": [
      "Trial 16 concluído: calmar_ratio = 4.2323\n",
      "Trial 17 para hora 10: Testando estratégia com parâmetros {'length_rsi': 9.0, 'rsi_low': 33.0, 'rsi_high': 84.0, 'position_type': 'short'}\n",
      "Trial 17 para hora 10: Usando backtester com TP=8.60000, SL=24.10000\n",
      "Executando backtest para trial 17, hora 10...\n"
     ]
    },
    {
     "name": "stderr",
     "output_type": "stream",
     "text": [
      "\u001b[32m[I 2025-06-10 14:57:25,518]\u001b[0m Trial 17 finished with value: 0.7591870204106452 and parameters: {'tp': 8.600000000000001, 'sl': 24.1, 'length_rsi': 9.0, 'rsi_low': 33.0, 'rsi_high': 84.0, 'position_type': 'short'}. Best is trial 12 with value: 4.292325420945635.\u001b[0m\n"
     ]
    },
    {
     "name": "stdout",
     "output_type": "stream",
     "text": [
      "Trial 17 concluído: calmar_ratio = 0.7592\n",
      "Trial 18 para hora 10: Testando estratégia com parâmetros {'length_rsi': 9.0, 'rsi_low': 32.0, 'rsi_high': 75.0, 'position_type': 'short'}\n",
      "Trial 18 para hora 10: Usando backtester com TP=31.80000, SL=18.30000\n",
      "Executando backtest para trial 18, hora 10...\n"
     ]
    },
    {
     "name": "stderr",
     "output_type": "stream",
     "text": [
      "\u001b[32m[I 2025-06-10 14:57:26,301]\u001b[0m Trial 18 finished with value: 1.6855761815061834 and parameters: {'tp': 31.8, 'sl': 18.3, 'length_rsi': 9.0, 'rsi_low': 32.0, 'rsi_high': 75.0, 'position_type': 'short'}. Best is trial 12 with value: 4.292325420945635.\u001b[0m\n"
     ]
    },
    {
     "name": "stdout",
     "output_type": "stream",
     "text": [
      "Trial 18 concluído: calmar_ratio = 1.6856\n",
      "Trial 19 para hora 10: Testando estratégia com parâmetros {'length_rsi': 8.0, 'rsi_low': 27.0, 'rsi_high': 84.0, 'position_type': 'long'}\n",
      "Trial 19 para hora 10: Usando backtester com TP=11.30000, SL=10.90000\n",
      "Executando backtest para trial 19, hora 10...\n"
     ]
    },
    {
     "name": "stderr",
     "output_type": "stream",
     "text": [
      "\u001b[32m[I 2025-06-10 14:57:27,073]\u001b[0m Trial 19 finished with value: 8.675620277680542 and parameters: {'tp': 11.3, 'sl': 10.9, 'length_rsi': 8.0, 'rsi_low': 27.0, 'rsi_high': 84.0, 'position_type': 'long'}. Best is trial 19 with value: 8.675620277680542.\u001b[0m\n"
     ]
    },
    {
     "name": "stdout",
     "output_type": "stream",
     "text": [
      "Trial 19 concluído: calmar_ratio = 8.6756\n",
      "Trial 20 para hora 10: Testando estratégia com parâmetros {'length_rsi': 7.0, 'rsi_low': 35.0, 'rsi_high': 75.0, 'position_type': 'long'}\n",
      "Trial 20 para hora 10: Usando backtester com TP=10.40000, SL=11.00000\n",
      "Executando backtest para trial 20, hora 10...\n"
     ]
    },
    {
     "name": "stderr",
     "output_type": "stream",
     "text": [
      "\u001b[32m[I 2025-06-10 14:57:27,849]\u001b[0m Trial 20 finished with value: 1.2325008513476001 and parameters: {'tp': 10.4, 'sl': 11.0, 'length_rsi': 7.0, 'rsi_low': 35.0, 'rsi_high': 75.0, 'position_type': 'long'}. Best is trial 19 with value: 8.675620277680542.\u001b[0m\n"
     ]
    },
    {
     "name": "stdout",
     "output_type": "stream",
     "text": [
      "Trial 20 concluído: calmar_ratio = 1.2325\n",
      "Trial 21 para hora 10: Testando estratégia com parâmetros {'length_rsi': 8.0, 'rsi_low': 27.0, 'rsi_high': 84.0, 'position_type': 'long'}\n",
      "Trial 21 para hora 10: Usando backtester com TP=6.00000, SL=8.00000\n",
      "Executando backtest para trial 21, hora 10...\n"
     ]
    },
    {
     "name": "stderr",
     "output_type": "stream",
     "text": [
      "\u001b[32m[I 2025-06-10 14:57:28,636]\u001b[0m Trial 21 finished with value: 7.516842878867637 and parameters: {'tp': 6.0, 'sl': 8.0, 'length_rsi': 8.0, 'rsi_low': 27.0, 'rsi_high': 84.0, 'position_type': 'long'}. Best is trial 19 with value: 8.675620277680542.\u001b[0m\n"
     ]
    },
    {
     "name": "stdout",
     "output_type": "stream",
     "text": [
      "Trial 21 concluído: calmar_ratio = 7.5168\n",
      "Trial 22 para hora 10: Testando estratégia com parâmetros {'length_rsi': 8.0, 'rsi_low': 27.0, 'rsi_high': 81.0, 'position_type': 'long'}\n",
      "Trial 22 para hora 10: Usando backtester com TP=5.80000, SL=7.40000\n",
      "Executando backtest para trial 22, hora 10...\n"
     ]
    },
    {
     "name": "stderr",
     "output_type": "stream",
     "text": [
      "\u001b[32m[I 2025-06-10 14:57:29,413]\u001b[0m Trial 22 finished with value: 0.82462991715246 and parameters: {'tp': 5.800000000000001, 'sl': 7.4, 'length_rsi': 8.0, 'rsi_low': 27.0, 'rsi_high': 81.0, 'position_type': 'long'}. Best is trial 19 with value: 8.675620277680542.\u001b[0m\n"
     ]
    },
    {
     "name": "stdout",
     "output_type": "stream",
     "text": [
      "Trial 22 concluído: calmar_ratio = 0.8246\n",
      "Trial 23 para hora 10: Testando estratégia com parâmetros {'length_rsi': 7.0, 'rsi_low': 29.0, 'rsi_high': 81.0, 'position_type': 'long'}\n",
      "Trial 23 para hora 10: Usando backtester com TP=6.00000, SL=14.10000\n",
      "Executando backtest para trial 23, hora 10...\n"
     ]
    },
    {
     "name": "stderr",
     "output_type": "stream",
     "text": [
      "\u001b[32m[I 2025-06-10 14:57:30,215]\u001b[0m Trial 23 finished with value: 2.9136904600140534 and parameters: {'tp': 6.0, 'sl': 14.100000000000001, 'length_rsi': 7.0, 'rsi_low': 29.0, 'rsi_high': 81.0, 'position_type': 'long'}. Best is trial 19 with value: 8.675620277680542.\u001b[0m\n"
     ]
    },
    {
     "name": "stdout",
     "output_type": "stream",
     "text": [
      "Trial 23 concluído: calmar_ratio = 2.9137\n",
      "Trial 24 para hora 10: Testando estratégia com parâmetros {'length_rsi': 8.0, 'rsi_low': 26.0, 'rsi_high': 78.0, 'position_type': 'long'}\n",
      "Trial 24 para hora 10: Usando backtester com TP=11.60000, SL=2.40000\n",
      "Executando backtest para trial 24, hora 10...\n"
     ]
    },
    {
     "name": "stderr",
     "output_type": "stream",
     "text": [
      "\u001b[32m[I 2025-06-10 14:57:30,996]\u001b[0m Trial 24 finished with value: -0.38756272399249353 and parameters: {'tp': 11.600000000000001, 'sl': 2.4, 'length_rsi': 8.0, 'rsi_low': 26.0, 'rsi_high': 78.0, 'position_type': 'long'}. Best is trial 19 with value: 8.675620277680542.\u001b[0m\n"
     ]
    },
    {
     "name": "stdout",
     "output_type": "stream",
     "text": [
      "Trial 24 concluído: calmar_ratio = -0.3876\n",
      "Trial 25 para hora 10: Testando estratégia com parâmetros {'length_rsi': 7.0, 'rsi_low': 30.0, 'rsi_high': 84.0, 'position_type': 'long'}\n",
      "Trial 25 para hora 10: Usando backtester com TP=3.00000, SL=10.00000\n",
      "Executando backtest para trial 25, hora 10...\n"
     ]
    },
    {
     "name": "stderr",
     "output_type": "stream",
     "text": [
      "\u001b[32m[I 2025-06-10 14:57:31,773]\u001b[0m Trial 25 finished with value: 2.1589911515484785 and parameters: {'tp': 3.0, 'sl': 10.0, 'length_rsi': 7.0, 'rsi_low': 30.0, 'rsi_high': 84.0, 'position_type': 'long'}. Best is trial 19 with value: 8.675620277680542.\u001b[0m\n"
     ]
    },
    {
     "name": "stdout",
     "output_type": "stream",
     "text": [
      "Trial 25 concluído: calmar_ratio = 2.1590\n",
      "Trial 26 para hora 10: Testando estratégia com parâmetros {'length_rsi': 8.0, 'rsi_low': 28.0, 'rsi_high': 82.0, 'position_type': 'long'}\n",
      "Trial 26 para hora 10: Usando backtester com TP=9.90000, SL=7.10000\n",
      "Executando backtest para trial 26, hora 10...\n"
     ]
    },
    {
     "name": "stderr",
     "output_type": "stream",
     "text": [
      "\u001b[32m[I 2025-06-10 14:57:32,554]\u001b[0m Trial 26 finished with value: 6.1729947068221405 and parameters: {'tp': 9.9, 'sl': 7.1000000000000005, 'length_rsi': 8.0, 'rsi_low': 28.0, 'rsi_high': 82.0, 'position_type': 'long'}. Best is trial 19 with value: 8.675620277680542.\u001b[0m\n"
     ]
    },
    {
     "name": "stdout",
     "output_type": "stream",
     "text": [
      "Trial 26 concluído: calmar_ratio = 6.1730\n",
      "Trial 27 para hora 10: Testando estratégia com parâmetros {'length_rsi': 8.0, 'rsi_low': 28.0, 'rsi_high': 82.0, 'position_type': 'long'}\n",
      "Trial 27 para hora 10: Usando backtester com TP=10.20000, SL=6.80000\n",
      "Executando backtest para trial 27, hora 10...\n"
     ]
    },
    {
     "name": "stderr",
     "output_type": "stream",
     "text": [
      "\u001b[32m[I 2025-06-10 14:57:33,337]\u001b[0m Trial 27 finished with value: 4.316100637413592 and parameters: {'tp': 10.200000000000001, 'sl': 6.800000000000001, 'length_rsi': 8.0, 'rsi_low': 28.0, 'rsi_high': 82.0, 'position_type': 'long'}. Best is trial 19 with value: 8.675620277680542.\u001b[0m\n"
     ]
    },
    {
     "name": "stdout",
     "output_type": "stream",
     "text": [
      "Trial 27 concluído: calmar_ratio = 4.3161\n",
      "Trial 28 para hora 10: Testando estratégia com parâmetros {'length_rsi': 8.0, 'rsi_low': 34.0, 'rsi_high': 78.0, 'position_type': 'long'}\n",
      "Trial 28 para hora 10: Usando backtester com TP=20.30000, SL=4.80000\n",
      "Executando backtest para trial 28, hora 10...\n"
     ]
    },
    {
     "name": "stderr",
     "output_type": "stream",
     "text": [
      "\u001b[32m[I 2025-06-10 14:57:34,111]\u001b[0m Trial 28 finished with value: 2.324818829334376 and parameters: {'tp': 20.3, 'sl': 4.800000000000001, 'length_rsi': 8.0, 'rsi_low': 34.0, 'rsi_high': 78.0, 'position_type': 'long'}. Best is trial 19 with value: 8.675620277680542.\u001b[0m\n"
     ]
    },
    {
     "name": "stdout",
     "output_type": "stream",
     "text": [
      "Trial 28 concluído: calmar_ratio = 2.3248\n",
      "Trial 29 para hora 10: Testando estratégia com parâmetros {'length_rsi': 7.0, 'rsi_low': 31.0, 'rsi_high': 83.0, 'position_type': 'long'}\n",
      "Trial 29 para hora 10: Usando backtester com TP=14.20000, SL=7.90000\n",
      "Executando backtest para trial 29, hora 10...\n"
     ]
    },
    {
     "name": "stderr",
     "output_type": "stream",
     "text": [
      "\u001b[32m[I 2025-06-10 14:57:34,888]\u001b[0m Trial 29 finished with value: 4.550545084589289 and parameters: {'tp': 14.200000000000001, 'sl': 7.9, 'length_rsi': 7.0, 'rsi_low': 31.0, 'rsi_high': 83.0, 'position_type': 'long'}. Best is trial 19 with value: 8.675620277680542.\u001b[0m\n"
     ]
    },
    {
     "name": "stdout",
     "output_type": "stream",
     "text": [
      "Trial 29 concluído: calmar_ratio = 4.5505\n",
      "Trial 30 para hora 10: Testando estratégia com parâmetros {'length_rsi': 8.0, 'rsi_low': 28.0, 'rsi_high': 73.0, 'position_type': 'long'}\n",
      "Trial 30 para hora 10: Usando backtester com TP=10.40000, SL=10.70000\n",
      "Executando backtest para trial 30, hora 10...\n"
     ]
    },
    {
     "name": "stderr",
     "output_type": "stream",
     "text": [
      "\u001b[32m[I 2025-06-10 14:57:35,697]\u001b[0m Trial 30 finished with value: 1.1789901522054504 and parameters: {'tp': 10.4, 'sl': 10.700000000000001, 'length_rsi': 8.0, 'rsi_low': 28.0, 'rsi_high': 73.0, 'position_type': 'long'}. Best is trial 19 with value: 8.675620277680542.\u001b[0m\n"
     ]
    },
    {
     "name": "stdout",
     "output_type": "stream",
     "text": [
      "Trial 30 concluído: calmar_ratio = 1.1790\n",
      "Trial 31 para hora 10: Testando estratégia com parâmetros {'length_rsi': 7.0, 'rsi_low': 31.0, 'rsi_high': 83.0, 'position_type': 'long'}\n",
      "Trial 31 para hora 10: Usando backtester com TP=14.00000, SL=7.70000\n",
      "Executando backtest para trial 31, hora 10...\n"
     ]
    },
    {
     "name": "stderr",
     "output_type": "stream",
     "text": [
      "\u001b[32m[I 2025-06-10 14:57:36,473]\u001b[0m Trial 31 finished with value: 5.313580460946654 and parameters: {'tp': 14.0, 'sl': 7.7, 'length_rsi': 7.0, 'rsi_low': 31.0, 'rsi_high': 83.0, 'position_type': 'long'}. Best is trial 19 with value: 8.675620277680542.\u001b[0m\n"
     ]
    },
    {
     "name": "stdout",
     "output_type": "stream",
     "text": [
      "Trial 31 concluído: calmar_ratio = 5.3136\n",
      "Trial 32 para hora 10: Testando estratégia com parâmetros {'length_rsi': 6.0, 'rsi_low': 30.0, 'rsi_high': 85.0, 'position_type': 'long'}\n",
      "Trial 32 para hora 10: Usando backtester com TP=13.00000, SL=6.60000\n",
      "Executando backtest para trial 32, hora 10...\n"
     ]
    },
    {
     "name": "stderr",
     "output_type": "stream",
     "text": [
      "\u001b[32m[I 2025-06-10 14:57:37,279]\u001b[0m Trial 32 finished with value: 2.748177222465658 and parameters: {'tp': 13.0, 'sl': 6.6000000000000005, 'length_rsi': 6.0, 'rsi_low': 30.0, 'rsi_high': 85.0, 'position_type': 'long'}. Best is trial 19 with value: 8.675620277680542.\u001b[0m\n"
     ]
    },
    {
     "name": "stdout",
     "output_type": "stream",
     "text": [
      "Trial 32 concluído: calmar_ratio = 2.7482\n",
      "Trial 33 para hora 10: Testando estratégia com parâmetros {'length_rsi': 8.0, 'rsi_low': 29.0, 'rsi_high': 80.0, 'position_type': 'long'}\n",
      "Trial 33 para hora 10: Usando backtester com TP=16.20000, SL=4.00000\n",
      "Executando backtest para trial 33, hora 10...\n"
     ]
    },
    {
     "name": "stderr",
     "output_type": "stream",
     "text": [
      "\u001b[32m[I 2025-06-10 14:57:38,059]\u001b[0m Trial 33 finished with value: 4.130088473796302 and parameters: {'tp': 16.200000000000003, 'sl': 4.0, 'length_rsi': 8.0, 'rsi_low': 29.0, 'rsi_high': 80.0, 'position_type': 'long'}. Best is trial 19 with value: 8.675620277680542.\u001b[0m\n"
     ]
    },
    {
     "name": "stdout",
     "output_type": "stream",
     "text": [
      "Trial 33 concluído: calmar_ratio = 4.1301\n",
      "Trial 34 para hora 10: Testando estratégia com parâmetros {'length_rsi': 7.0, 'rsi_low': 27.0, 'rsi_high': 83.0, 'position_type': 'long'}\n",
      "Trial 34 para hora 10: Usando backtester com TP=14.40000, SL=9.30000\n",
      "Executando backtest para trial 34, hora 10...\n"
     ]
    },
    {
     "name": "stderr",
     "output_type": "stream",
     "text": [
      "\u001b[32m[I 2025-06-10 14:57:38,844]\u001b[0m Trial 34 finished with value: 7.719218617099167 and parameters: {'tp': 14.4, 'sl': 9.3, 'length_rsi': 7.0, 'rsi_low': 27.0, 'rsi_high': 83.0, 'position_type': 'long'}. Best is trial 19 with value: 8.675620277680542.\u001b[0m\n"
     ]
    },
    {
     "name": "stdout",
     "output_type": "stream",
     "text": [
      "Trial 34 concluído: calmar_ratio = 7.7192\n",
      "Trial 35 para hora 10: Testando estratégia com parâmetros {'length_rsi': 7.0, 'rsi_low': 26.0, 'rsi_high': 80.0, 'position_type': 'long'}\n",
      "Trial 35 para hora 10: Usando backtester com TP=7.10000, SL=11.60000\n",
      "Executando backtest para trial 35, hora 10...\n"
     ]
    },
    {
     "name": "stderr",
     "output_type": "stream",
     "text": [
      "\u001b[32m[I 2025-06-10 14:57:39,631]\u001b[0m Trial 35 finished with value: 0.817010268836373 and parameters: {'tp': 7.1000000000000005, 'sl': 11.600000000000001, 'length_rsi': 7.0, 'rsi_low': 26.0, 'rsi_high': 80.0, 'position_type': 'long'}. Best is trial 19 with value: 8.675620277680542.\u001b[0m\n"
     ]
    },
    {
     "name": "stdout",
     "output_type": "stream",
     "text": [
      "Trial 35 concluído: calmar_ratio = 0.8170\n",
      "Trial 36 para hora 10: Testando estratégia com parâmetros {'length_rsi': 6.0, 'rsi_low': 45.0, 'rsi_high': 68.0, 'position_type': 'long'}\n",
      "Trial 36 para hora 10: Usando backtester com TP=20.70000, SL=9.70000\n",
      "Executando backtest para trial 36, hora 10...\n"
     ]
    },
    {
     "name": "stderr",
     "output_type": "stream",
     "text": [
      "\u001b[32m[I 2025-06-10 14:57:40,401]\u001b[0m Trial 36 finished with value: -0.025614826215391216 and parameters: {'tp': 20.7, 'sl': 9.7, 'length_rsi': 6.0, 'rsi_low': 45.0, 'rsi_high': 68.0, 'position_type': 'long'}. Best is trial 19 with value: 8.675620277680542.\u001b[0m\n"
     ]
    },
    {
     "name": "stdout",
     "output_type": "stream",
     "text": [
      "Trial 36 concluído: calmar_ratio = -0.0256\n",
      "Trial 37 para hora 10: Testando estratégia com parâmetros {'length_rsi': 8.0, 'rsi_low': 27.0, 'rsi_high': 77.0, 'position_type': 'long'}\n",
      "Trial 37 para hora 10: Usando backtester com TP=24.10000, SL=5.70000\n",
      "Executando backtest para trial 37, hora 10...\n"
     ]
    },
    {
     "name": "stderr",
     "output_type": "stream",
     "text": [
      "\u001b[32m[I 2025-06-10 14:57:41,180]\u001b[0m Trial 37 finished with value: 1.8897820497202795 and parameters: {'tp': 24.1, 'sl': 5.7, 'length_rsi': 8.0, 'rsi_low': 27.0, 'rsi_high': 77.0, 'position_type': 'long'}. Best is trial 19 with value: 8.675620277680542.\u001b[0m\n"
     ]
    },
    {
     "name": "stdout",
     "output_type": "stream",
     "text": [
      "Trial 37 concluído: calmar_ratio = 1.8898\n",
      "Trial 38 para hora 10: Testando estratégia com parâmetros {'length_rsi': 6.0, 'rsi_low': 42.0, 'rsi_high': 85.0, 'position_type': 'long'}\n",
      "Trial 38 para hora 10: Usando backtester com TP=15.10000, SL=14.50000\n",
      "Executando backtest para trial 38, hora 10...\n"
     ]
    },
    {
     "name": "stderr",
     "output_type": "stream",
     "text": [
      "\u001b[32m[I 2025-06-10 14:57:41,981]\u001b[0m Trial 38 finished with value: 4.589609808514062 and parameters: {'tp': 15.100000000000001, 'sl': 14.5, 'length_rsi': 6.0, 'rsi_low': 42.0, 'rsi_high': 85.0, 'position_type': 'long'}. Best is trial 19 with value: 8.675620277680542.\u001b[0m\n"
     ]
    },
    {
     "name": "stdout",
     "output_type": "stream",
     "text": [
      "Trial 38 concluído: calmar_ratio = 4.5896\n",
      "Trial 39 para hora 10: Testando estratégia com parâmetros {'length_rsi': 7.0, 'rsi_low': 29.0, 'rsi_high': 82.0, 'position_type': 'both'}\n",
      "Trial 39 para hora 10: Usando backtester com TP=17.90000, SL=31.70000\n",
      "Executando backtest para trial 39, hora 10...\n"
     ]
    },
    {
     "name": "stderr",
     "output_type": "stream",
     "text": [
      "\u001b[32m[I 2025-06-10 14:57:42,773]\u001b[0m Trial 39 finished with value: 0.8428225611857088 and parameters: {'tp': 17.9, 'sl': 31.700000000000003, 'length_rsi': 7.0, 'rsi_low': 29.0, 'rsi_high': 82.0, 'position_type': 'both'}. Best is trial 19 with value: 8.675620277680542.\u001b[0m\n"
     ]
    },
    {
     "name": "stdout",
     "output_type": "stream",
     "text": [
      "Trial 39 concluído: calmar_ratio = 0.8428\n",
      "Trial 40 para hora 10: Testando estratégia com parâmetros {'length_rsi': 9.0, 'rsi_low': 26.0, 'rsi_high': 79.0, 'position_type': 'long'}\n",
      "Trial 40 para hora 10: Usando backtester com TP=12.00000, SL=9.10000\n",
      "Executando backtest para trial 40, hora 10...\n"
     ]
    },
    {
     "name": "stderr",
     "output_type": "stream",
     "text": [
      "\u001b[32m[I 2025-06-10 14:57:43,562]\u001b[0m Trial 40 finished with value: 5.756431110382138 and parameters: {'tp': 12.0, 'sl': 9.100000000000001, 'length_rsi': 9.0, 'rsi_low': 26.0, 'rsi_high': 79.0, 'position_type': 'long'}. Best is trial 19 with value: 8.675620277680542.\u001b[0m\n"
     ]
    },
    {
     "name": "stdout",
     "output_type": "stream",
     "text": [
      "Trial 40 concluído: calmar_ratio = 5.7564\n",
      "Trial 41 para hora 10: Testando estratégia com parâmetros {'length_rsi': 9.0, 'rsi_low': 26.0, 'rsi_high': 79.0, 'position_type': 'long'}\n",
      "Trial 41 para hora 10: Usando backtester com TP=11.90000, SL=9.10000\n",
      "Executando backtest para trial 41, hora 10...\n"
     ]
    },
    {
     "name": "stderr",
     "output_type": "stream",
     "text": [
      "\u001b[32m[I 2025-06-10 14:57:44,355]\u001b[0m Trial 41 finished with value: 5.53173641678321 and parameters: {'tp': 11.9, 'sl': 9.100000000000001, 'length_rsi': 9.0, 'rsi_low': 26.0, 'rsi_high': 79.0, 'position_type': 'long'}. Best is trial 19 with value: 8.675620277680542.\u001b[0m\n"
     ]
    },
    {
     "name": "stdout",
     "output_type": "stream",
     "text": [
      "Trial 41 concluído: calmar_ratio = 5.5317\n",
      "Trial 42 para hora 10: Testando estratégia com parâmetros {'length_rsi': 8.0, 'rsi_low': 28.0, 'rsi_high': 82.0, 'position_type': 'long'}\n",
      "Trial 42 para hora 10: Usando backtester com TP=10.00000, SL=2.00000\n",
      "Executando backtest para trial 42, hora 10...\n"
     ]
    },
    {
     "name": "stderr",
     "output_type": "stream",
     "text": [
      "\u001b[32m[I 2025-06-10 14:57:45,137]\u001b[0m Trial 42 finished with value: 1.3483898823403113 and parameters: {'tp': 10.0, 'sl': 2.0, 'length_rsi': 8.0, 'rsi_low': 28.0, 'rsi_high': 82.0, 'position_type': 'long'}. Best is trial 19 with value: 8.675620277680542.\u001b[0m\n"
     ]
    },
    {
     "name": "stdout",
     "output_type": "stream",
     "text": [
      "Trial 42 concluído: calmar_ratio = 1.3484\n",
      "Trial 43 para hora 10: Testando estratégia com parâmetros {'length_rsi': 8.0, 'rsi_low': 26.0, 'rsi_high': 83.0, 'position_type': 'long'}\n",
      "Trial 43 para hora 10: Usando backtester com TP=12.70000, SL=6.10000\n",
      "Executando backtest para trial 43, hora 10...\n"
     ]
    },
    {
     "name": "stderr",
     "output_type": "stream",
     "text": [
      "\u001b[32m[I 2025-06-10 14:57:45,916]\u001b[0m Trial 43 finished with value: 5.762958005622834 and parameters: {'tp': 12.700000000000001, 'sl': 6.1000000000000005, 'length_rsi': 8.0, 'rsi_low': 26.0, 'rsi_high': 83.0, 'position_type': 'long'}. Best is trial 19 with value: 8.675620277680542.\u001b[0m\n"
     ]
    },
    {
     "name": "stdout",
     "output_type": "stream",
     "text": [
      "Trial 43 concluído: calmar_ratio = 5.7630\n",
      "Trial 44 para hora 10: Testando estratégia com parâmetros {'length_rsi': 8.0, 'rsi_low': 27.0, 'rsi_high': 83.0, 'position_type': 'long'}\n",
      "Trial 44 para hora 10: Usando backtester com TP=15.70000, SL=5.70000\n",
      "Executando backtest para trial 44, hora 10...\n"
     ]
    },
    {
     "name": "stderr",
     "output_type": "stream",
     "text": [
      "\u001b[32m[I 2025-06-10 14:57:46,700]\u001b[0m Trial 44 finished with value: 6.292473336603704 and parameters: {'tp': 15.700000000000001, 'sl': 5.7, 'length_rsi': 8.0, 'rsi_low': 27.0, 'rsi_high': 83.0, 'position_type': 'long'}. Best is trial 19 with value: 8.675620277680542.\u001b[0m\n"
     ]
    },
    {
     "name": "stdout",
     "output_type": "stream",
     "text": [
      "Trial 44 concluído: calmar_ratio = 6.2925\n",
      "Trial 45 para hora 10: Testando estratégia com parâmetros {'length_rsi': 8.0, 'rsi_low': 28.0, 'rsi_high': 85.0, 'position_type': 'both'}\n",
      "Trial 45 para hora 10: Usando backtester com TP=19.30000, SL=4.20000\n",
      "Executando backtest para trial 45, hora 10...\n"
     ]
    },
    {
     "name": "stderr",
     "output_type": "stream",
     "text": [
      "\u001b[32m[I 2025-06-10 14:57:47,481]\u001b[0m Trial 45 finished with value: 0.24650735970969473 and parameters: {'tp': 19.3, 'sl': 4.2, 'length_rsi': 8.0, 'rsi_low': 28.0, 'rsi_high': 85.0, 'position_type': 'both'}. Best is trial 19 with value: 8.675620277680542.\u001b[0m\n"
     ]
    },
    {
     "name": "stdout",
     "output_type": "stream",
     "text": [
      "Trial 45 concluído: calmar_ratio = 0.2465\n",
      "Trial 46 para hora 10: Testando estratégia com parâmetros {'length_rsi': 8.0, 'rsi_low': 29.0, 'rsi_high': 81.0, 'position_type': 'long'}\n",
      "Trial 46 para hora 10: Usando backtester com TP=16.10000, SL=12.30000\n",
      "Executando backtest para trial 46, hora 10...\n"
     ]
    },
    {
     "name": "stderr",
     "output_type": "stream",
     "text": [
      "\u001b[32m[I 2025-06-10 14:57:48,269]\u001b[0m Trial 46 finished with value: 4.411602500194046 and parameters: {'tp': 16.1, 'sl': 12.3, 'length_rsi': 8.0, 'rsi_low': 29.0, 'rsi_high': 81.0, 'position_type': 'long'}. Best is trial 19 with value: 8.675620277680542.\u001b[0m\n"
     ]
    },
    {
     "name": "stdout",
     "output_type": "stream",
     "text": [
      "Trial 46 concluído: calmar_ratio = 4.4116\n",
      "Trial 47 para hora 10: Testando estratégia com parâmetros {'length_rsi': 7.0, 'rsi_low': 39.0, 'rsi_high': 62.0, 'position_type': 'long'}\n",
      "Trial 47 para hora 10: Usando backtester com TP=22.90000, SL=8.50000\n",
      "Executando backtest para trial 47, hora 10...\n"
     ]
    },
    {
     "name": "stderr",
     "output_type": "stream",
     "text": [
      "\u001b[32m[I 2025-06-10 14:57:49,081]\u001b[0m Trial 47 finished with value: 0.10180343398315386 and parameters: {'tp': 22.900000000000002, 'sl': 8.5, 'length_rsi': 7.0, 'rsi_low': 39.0, 'rsi_high': 62.0, 'position_type': 'long'}. Best is trial 19 with value: 8.675620277680542.\u001b[0m\n"
     ]
    },
    {
     "name": "stdout",
     "output_type": "stream",
     "text": [
      "Trial 47 concluído: calmar_ratio = 0.1018\n",
      "Trial 48 para hora 10: Testando estratégia com parâmetros {'length_rsi': 8.0, 'rsi_low': 25.0, 'rsi_high': 75.0, 'position_type': 'both'}\n",
      "Trial 48 para hora 10: Usando backtester com TP=17.50000, SL=3.30000\n",
      "Executando backtest para trial 48, hora 10...\n"
     ]
    },
    {
     "name": "stderr",
     "output_type": "stream",
     "text": [
      "\u001b[32m[I 2025-06-10 14:57:49,868]\u001b[0m Trial 48 finished with value: 0.31781284642905366 and parameters: {'tp': 17.5, 'sl': 3.3, 'length_rsi': 8.0, 'rsi_low': 25.0, 'rsi_high': 75.0, 'position_type': 'both'}. Best is trial 19 with value: 8.675620277680542.\u001b[0m\n"
     ]
    },
    {
     "name": "stdout",
     "output_type": "stream",
     "text": [
      "Trial 48 concluído: calmar_ratio = 0.3178\n",
      "Trial 49 para hora 10: Testando estratégia com parâmetros {'length_rsi': 9.0, 'rsi_low': 27.0, 'rsi_high': 83.0, 'position_type': 'long'}\n",
      "Trial 49 para hora 10: Usando backtester com TP=14.20000, SL=5.40000\n",
      "Executando backtest para trial 49, hora 10...\n"
     ]
    },
    {
     "name": "stderr",
     "output_type": "stream",
     "text": [
      "\u001b[32m[I 2025-06-10 14:57:50,658]\u001b[0m Trial 49 finished with value: 4.805813727687341 and parameters: {'tp': 14.200000000000001, 'sl': 5.4, 'length_rsi': 9.0, 'rsi_low': 27.0, 'rsi_high': 83.0, 'position_type': 'long'}. Best is trial 19 with value: 8.675620277680542.\u001b[0m\n"
     ]
    },
    {
     "name": "stdout",
     "output_type": "stream",
     "text": [
      "Trial 49 concluído: calmar_ratio = 4.8058\n",
      "Trial 50 para hora 10: Testando estratégia com parâmetros {'length_rsi': 7.0, 'rsi_low': 30.0, 'rsi_high': 84.0, 'position_type': 'long'}\n",
      "Trial 50 para hora 10: Usando backtester com TP=15.00000, SL=10.90000\n",
      "Executando backtest para trial 50, hora 10...\n"
     ]
    },
    {
     "name": "stderr",
     "output_type": "stream",
     "text": [
      "\u001b[32m[I 2025-06-10 14:57:51,440]\u001b[0m Trial 50 finished with value: 10.573889388885279 and parameters: {'tp': 15.0, 'sl': 10.9, 'length_rsi': 7.0, 'rsi_low': 30.0, 'rsi_high': 84.0, 'position_type': 'long'}. Best is trial 50 with value: 10.573889388885279.\u001b[0m\n"
     ]
    },
    {
     "name": "stdout",
     "output_type": "stream",
     "text": [
      "Trial 50 concluído: calmar_ratio = 10.5739\n",
      "Trial 51 para hora 10: Testando estratégia com parâmetros {'length_rsi': 7.0, 'rsi_low': 30.0, 'rsi_high': 84.0, 'position_type': 'long'}\n",
      "Trial 51 para hora 10: Usando backtester com TP=15.50000, SL=10.40000\n",
      "Executando backtest para trial 51, hora 10...\n"
     ]
    },
    {
     "name": "stderr",
     "output_type": "stream",
     "text": [
      "\u001b[32m[I 2025-06-10 14:57:52,233]\u001b[0m Trial 51 finished with value: 12.62499304278024 and parameters: {'tp': 15.5, 'sl': 10.4, 'length_rsi': 7.0, 'rsi_low': 30.0, 'rsi_high': 84.0, 'position_type': 'long'}. Best is trial 51 with value: 12.62499304278024.\u001b[0m\n"
     ]
    },
    {
     "name": "stdout",
     "output_type": "stream",
     "text": [
      "Trial 51 concluído: calmar_ratio = 12.6250\n",
      "Trial 52 para hora 10: Testando estratégia com parâmetros {'length_rsi': 7.0, 'rsi_low': 31.0, 'rsi_high': 84.0, 'position_type': 'long'}\n",
      "Trial 52 para hora 10: Usando backtester com TP=19.00000, SL=10.80000\n",
      "Executando backtest para trial 52, hora 10...\n"
     ]
    },
    {
     "name": "stderr",
     "output_type": "stream",
     "text": [
      "\u001b[32m[I 2025-06-10 14:57:53,032]\u001b[0m Trial 52 finished with value: 8.607521773146022 and parameters: {'tp': 19.0, 'sl': 10.8, 'length_rsi': 7.0, 'rsi_low': 31.0, 'rsi_high': 84.0, 'position_type': 'long'}. Best is trial 51 with value: 12.62499304278024.\u001b[0m\n"
     ]
    },
    {
     "name": "stdout",
     "output_type": "stream",
     "text": [
      "Trial 52 concluído: calmar_ratio = 8.6075\n",
      "Trial 53 para hora 10: Testando estratégia com parâmetros {'length_rsi': 6.0, 'rsi_low': 31.0, 'rsi_high': 84.0, 'position_type': 'long'}\n",
      "Trial 53 para hora 10: Usando backtester com TP=18.90000, SL=11.40000\n",
      "Executando backtest para trial 53, hora 10...\n"
     ]
    },
    {
     "name": "stderr",
     "output_type": "stream",
     "text": [
      "\u001b[32m[I 2025-06-10 14:57:53,847]\u001b[0m Trial 53 finished with value: 4.00051155907628 and parameters: {'tp': 18.900000000000002, 'sl': 11.4, 'length_rsi': 6.0, 'rsi_low': 31.0, 'rsi_high': 84.0, 'position_type': 'long'}. Best is trial 51 with value: 12.62499304278024.\u001b[0m\n"
     ]
    },
    {
     "name": "stdout",
     "output_type": "stream",
     "text": [
      "Trial 53 concluído: calmar_ratio = 4.0005\n",
      "Trial 54 para hora 10: Testando estratégia com parâmetros {'length_rsi': 7.0, 'rsi_low': 30.0, 'rsi_high': 85.0, 'position_type': 'long'}\n",
      "Trial 54 para hora 10: Usando backtester com TP=16.90000, SL=12.40000\n",
      "Executando backtest para trial 54, hora 10...\n"
     ]
    },
    {
     "name": "stderr",
     "output_type": "stream",
     "text": [
      "\u001b[32m[I 2025-06-10 14:57:54,669]\u001b[0m Trial 54 finished with value: 12.520674057920205 and parameters: {'tp': 16.9, 'sl': 12.4, 'length_rsi': 7.0, 'rsi_low': 30.0, 'rsi_high': 85.0, 'position_type': 'long'}. Best is trial 51 with value: 12.62499304278024.\u001b[0m\n",
      "\u001b[32m[I 2025-06-10 14:57:54,672]\u001b[0m A new study created in memory with name: hora_11\u001b[0m\n"
     ]
    },
    {
     "name": "stdout",
     "output_type": "stream",
     "text": [
      "Trial 54 concluído: calmar_ratio = 12.5207\n",
      "Otimização concluída para hora 10.\n",
      "\n",
      "Melhores parâmetros para hora 10:\n",
      "calmar_ratio: 12.6250\n",
      "Parâmetros: {'length_rsi': 7.0, 'rsi_low': 30.0, 'rsi_high': 84.0, 'position_type': 'long', 'allowed_hours': [10], 'tp': 15.5, 'sl': 10.4}\n",
      "Profit Factor: 1.5304\n",
      "Win Rate: 53.48%\n",
      "Max Drawdown: 4.85%\n",
      "Total Return: $9267.20\n",
      "Total Trades: 187\n",
      "\n",
      "==================================================\n",
      "Otimizando estratégia para hora: 11:00\n",
      "Métrica: calmar_ratio - Direção: maximize\n",
      "==================================================\n",
      "Iniciando otimização com 55 trials para hora 11...\n",
      "Trial 0 para hora 11: Testando estratégia com parâmetros {'length_rsi': 6.0, 'rsi_low': 39.0, 'rsi_high': 72.0, 'position_type': 'both'}\n",
      "Trial 0 para hora 11: Usando backtester com TP=8.80000, SL=31.70000\n",
      "Executando backtest para trial 0, hora 11...\n"
     ]
    },
    {
     "name": "stderr",
     "output_type": "stream",
     "text": [
      "\u001b[32m[I 2025-06-10 14:57:55,469]\u001b[0m Trial 0 finished with value: 0.22154661541273563 and parameters: {'tp': 8.8, 'sl': 31.700000000000003, 'length_rsi': 6.0, 'rsi_low': 39.0, 'rsi_high': 72.0, 'position_type': 'both'}. Best is trial 0 with value: 0.22154661541273563.\u001b[0m\n"
     ]
    },
    {
     "name": "stdout",
     "output_type": "stream",
     "text": [
      "Trial 0 concluído: calmar_ratio = 0.2215\n",
      "Trial 1 para hora 11: Testando estratégia com parâmetros {'length_rsi': 7.0, 'rsi_low': 38.0, 'rsi_high': 66.0, 'position_type': 'long'}\n",
      "Trial 1 para hora 11: Usando backtester com TP=9.70000, SL=13.40000\n",
      "Executando backtest para trial 1, hora 11...\n"
     ]
    },
    {
     "name": "stderr",
     "output_type": "stream",
     "text": [
      "\u001b[32m[I 2025-06-10 14:57:56,253]\u001b[0m Trial 1 finished with value: -0.020917512954486742 and parameters: {'tp': 9.7, 'sl': 13.4, 'length_rsi': 7.0, 'rsi_low': 38.0, 'rsi_high': 66.0, 'position_type': 'long'}. Best is trial 0 with value: 0.22154661541273563.\u001b[0m\n"
     ]
    },
    {
     "name": "stdout",
     "output_type": "stream",
     "text": [
      "Trial 1 concluído: calmar_ratio = -0.0209\n",
      "Trial 2 para hora 11: Testando estratégia com parâmetros {'length_rsi': 8.0, 'rsi_low': 31.0, 'rsi_high': 76.0, 'position_type': 'short'}\n",
      "Trial 2 para hora 11: Usando backtester com TP=20.30000, SL=3.70000\n",
      "Executando backtest para trial 2, hora 11...\n"
     ]
    },
    {
     "name": "stderr",
     "output_type": "stream",
     "text": [
      "\u001b[32m[I 2025-06-10 14:57:57,012]\u001b[0m Trial 2 finished with value: 1.2109157828960142 and parameters: {'tp': 20.3, 'sl': 3.7, 'length_rsi': 8.0, 'rsi_low': 31.0, 'rsi_high': 76.0, 'position_type': 'short'}. Best is trial 2 with value: 1.2109157828960142.\u001b[0m\n"
     ]
    },
    {
     "name": "stdout",
     "output_type": "stream",
     "text": [
      "Trial 2 concluído: calmar_ratio = 1.2109\n",
      "Trial 3 para hora 11: Testando estratégia com parâmetros {'length_rsi': 9.0, 'rsi_low': 41.0, 'rsi_high': 55.0, 'position_type': 'short'}\n",
      "Trial 3 para hora 11: Usando backtester com TP=23.20000, SL=27.10000\n",
      "Executando backtest para trial 3, hora 11...\n"
     ]
    },
    {
     "name": "stderr",
     "output_type": "stream",
     "text": [
      "\u001b[32m[I 2025-06-10 14:57:57,782]\u001b[0m Trial 3 finished with value: 0.30071678141043384 and parameters: {'tp': 23.200000000000003, 'sl': 27.1, 'length_rsi': 9.0, 'rsi_low': 41.0, 'rsi_high': 55.0, 'position_type': 'short'}. Best is trial 2 with value: 1.2109157828960142.\u001b[0m\n"
     ]
    },
    {
     "name": "stdout",
     "output_type": "stream",
     "text": [
      "Trial 3 concluído: calmar_ratio = 0.3007\n",
      "Trial 4 para hora 11: Testando estratégia com parâmetros {'length_rsi': 10.0, 'rsi_low': 30.0, 'rsi_high': 71.0, 'position_type': 'long'}\n",
      "Trial 4 para hora 11: Usando backtester com TP=10.20000, SL=15.40000\n",
      "Executando backtest para trial 4, hora 11...\n"
     ]
    },
    {
     "name": "stderr",
     "output_type": "stream",
     "text": [
      "\u001b[32m[I 2025-06-10 14:57:58,548]\u001b[0m Trial 4 finished with value: 0.5073675661979655 and parameters: {'tp': 10.200000000000001, 'sl': 15.4, 'length_rsi': 10.0, 'rsi_low': 30.0, 'rsi_high': 71.0, 'position_type': 'long'}. Best is trial 2 with value: 1.2109157828960142.\u001b[0m\n"
     ]
    },
    {
     "name": "stdout",
     "output_type": "stream",
     "text": [
      "Trial 4 concluído: calmar_ratio = 0.5074\n",
      "Trial 5 para hora 11: Testando estratégia com parâmetros {'length_rsi': 8.0, 'rsi_low': 28.0, 'rsi_high': 68.0, 'position_type': 'long'}\n",
      "Trial 5 para hora 11: Usando backtester com TP=19.60000, SL=24.70000\n",
      "Executando backtest para trial 5, hora 11...\n"
     ]
    },
    {
     "name": "stderr",
     "output_type": "stream",
     "text": [
      "\u001b[32m[I 2025-06-10 14:57:59,329]\u001b[0m Trial 5 finished with value: 0.7104302082619167 and parameters: {'tp': 19.6, 'sl': 24.700000000000003, 'length_rsi': 8.0, 'rsi_low': 28.0, 'rsi_high': 68.0, 'position_type': 'long'}. Best is trial 2 with value: 1.2109157828960142.\u001b[0m\n"
     ]
    },
    {
     "name": "stdout",
     "output_type": "stream",
     "text": [
      "Trial 5 concluído: calmar_ratio = 0.7104\n",
      "Trial 6 para hora 11: Testando estratégia com parâmetros {'length_rsi': 8.0, 'rsi_low': 32.0, 'rsi_high': 78.0, 'position_type': 'long'}\n",
      "Trial 6 para hora 11: Usando backtester com TP=4.10000, SL=26.60000\n",
      "Executando backtest para trial 6, hora 11...\n"
     ]
    },
    {
     "name": "stderr",
     "output_type": "stream",
     "text": [
      "\u001b[32m[I 2025-06-10 14:58:00,115]\u001b[0m Trial 6 finished with value: -0.5275643299478907 and parameters: {'tp': 4.1, 'sl': 26.6, 'length_rsi': 8.0, 'rsi_low': 32.0, 'rsi_high': 78.0, 'position_type': 'long'}. Best is trial 2 with value: 1.2109157828960142.\u001b[0m\n"
     ]
    },
    {
     "name": "stdout",
     "output_type": "stream",
     "text": [
      "Trial 6 concluído: calmar_ratio = -0.5276\n",
      "Trial 7 para hora 11: Testando estratégia com parâmetros {'length_rsi': 7.0, 'rsi_low': 40.0, 'rsi_high': 85.0, 'position_type': 'both'}\n",
      "Trial 7 para hora 11: Usando backtester com TP=30.60000, SL=23.20000\n",
      "Executando backtest para trial 7, hora 11...\n"
     ]
    },
    {
     "name": "stderr",
     "output_type": "stream",
     "text": [
      "\u001b[32m[I 2025-06-10 14:58:00,878]\u001b[0m Trial 7 finished with value: 0.281731305591174 and parameters: {'tp': 30.6, 'sl': 23.200000000000003, 'length_rsi': 7.0, 'rsi_low': 40.0, 'rsi_high': 85.0, 'position_type': 'both'}. Best is trial 2 with value: 1.2109157828960142.\u001b[0m\n"
     ]
    },
    {
     "name": "stdout",
     "output_type": "stream",
     "text": [
      "Trial 7 concluído: calmar_ratio = 0.2817\n",
      "Trial 8 para hora 11: Testando estratégia com parâmetros {'length_rsi': 7.0, 'rsi_low': 27.0, 'rsi_high': 69.0, 'position_type': 'both'}\n",
      "Trial 8 para hora 11: Usando backtester com TP=13.00000, SL=4.60000\n",
      "Executando backtest para trial 8, hora 11...\n"
     ]
    },
    {
     "name": "stderr",
     "output_type": "stream",
     "text": [
      "\u001b[32m[I 2025-06-10 14:58:01,647]\u001b[0m Trial 8 finished with value: 0.34436859005018694 and parameters: {'tp': 13.0, 'sl': 4.6, 'length_rsi': 7.0, 'rsi_low': 27.0, 'rsi_high': 69.0, 'position_type': 'both'}. Best is trial 2 with value: 1.2109157828960142.\u001b[0m\n"
     ]
    },
    {
     "name": "stdout",
     "output_type": "stream",
     "text": [
      "Trial 8 concluído: calmar_ratio = 0.3444\n",
      "Trial 9 para hora 11: Testando estratégia com parâmetros {'length_rsi': 8.0, 'rsi_low': 38.0, 'rsi_high': 84.0, 'position_type': 'long'}\n",
      "Trial 9 para hora 11: Usando backtester com TP=26.70000, SL=27.10000\n",
      "Executando backtest para trial 9, hora 11...\n"
     ]
    },
    {
     "name": "stderr",
     "output_type": "stream",
     "text": [
      "\u001b[32m[I 2025-06-10 14:58:02,431]\u001b[0m Trial 9 finished with value: 7.803210202436516 and parameters: {'tp': 26.700000000000003, 'sl': 27.1, 'length_rsi': 8.0, 'rsi_low': 38.0, 'rsi_high': 84.0, 'position_type': 'long'}. Best is trial 9 with value: 7.803210202436516.\u001b[0m\n"
     ]
    },
    {
     "name": "stdout",
     "output_type": "stream",
     "text": [
      "Trial 9 concluído: calmar_ratio = 7.8032\n",
      "Trial 10 para hora 11: Testando estratégia com parâmetros {'length_rsi': 10.0, 'rsi_low': 44.0, 'rsi_high': 85.0, 'position_type': 'long'}\n",
      "Trial 10 para hora 11: Usando backtester com TP=30.70000, SL=19.40000\n",
      "Executando backtest para trial 10, hora 11...\n"
     ]
    },
    {
     "name": "stderr",
     "output_type": "stream",
     "text": [
      "\u001b[32m[I 2025-06-10 14:58:03,221]\u001b[0m Trial 10 finished with value: 20.28378424182568 and parameters: {'tp': 30.700000000000003, 'sl': 19.400000000000002, 'length_rsi': 10.0, 'rsi_low': 44.0, 'rsi_high': 85.0, 'position_type': 'long'}. Best is trial 10 with value: 20.28378424182568.\u001b[0m\n"
     ]
    },
    {
     "name": "stdout",
     "output_type": "stream",
     "text": [
      "Trial 10 concluído: calmar_ratio = 20.2838\n",
      "Trial 11 para hora 11: Testando estratégia com parâmetros {'length_rsi': 10.0, 'rsi_low': 45.0, 'rsi_high': 85.0, 'position_type': 'long'}\n",
      "Trial 11 para hora 11: Usando backtester com TP=31.20000, SL=19.20000\n",
      "Executando backtest para trial 11, hora 11...\n"
     ]
    },
    {
     "name": "stderr",
     "output_type": "stream",
     "text": [
      "\u001b[32m[I 2025-06-10 14:58:03,995]\u001b[0m Trial 11 finished with value: 22.365342150166306 and parameters: {'tp': 31.200000000000003, 'sl': 19.2, 'length_rsi': 10.0, 'rsi_low': 45.0, 'rsi_high': 85.0, 'position_type': 'long'}. Best is trial 11 with value: 22.365342150166306.\u001b[0m\n"
     ]
    },
    {
     "name": "stdout",
     "output_type": "stream",
     "text": [
      "Trial 11 concluído: calmar_ratio = 22.3653\n",
      "Trial 12 para hora 11: Testando estratégia com parâmetros {'length_rsi': 10.0, 'rsi_low': 45.0, 'rsi_high': 80.0, 'position_type': 'long'}\n",
      "Trial 12 para hora 11: Usando backtester com TP=31.40000, SL=18.90000\n",
      "Executando backtest para trial 12, hora 11...\n"
     ]
    },
    {
     "name": "stderr",
     "output_type": "stream",
     "text": [
      "\u001b[32m[I 2025-06-10 14:58:04,768]\u001b[0m Trial 12 finished with value: 7.506958453071018 and parameters: {'tp': 31.400000000000002, 'sl': 18.900000000000002, 'length_rsi': 10.0, 'rsi_low': 45.0, 'rsi_high': 80.0, 'position_type': 'long'}. Best is trial 11 with value: 22.365342150166306.\u001b[0m\n"
     ]
    },
    {
     "name": "stdout",
     "output_type": "stream",
     "text": [
      "Trial 12 concluído: calmar_ratio = 7.5070\n",
      "Trial 13 para hora 11: Testando estratégia com parâmetros {'length_rsi': 10.0, 'rsi_low': 45.0, 'rsi_high': 82.0, 'position_type': 'long'}\n",
      "Trial 13 para hora 11: Usando backtester com TP=26.00000, SL=11.60000\n",
      "Executando backtest para trial 13, hora 11...\n"
     ]
    },
    {
     "name": "stderr",
     "output_type": "stream",
     "text": [
      "\u001b[32m[I 2025-06-10 14:58:05,550]\u001b[0m Trial 13 finished with value: 13.80852177994918 and parameters: {'tp': 26.0, 'sl': 11.600000000000001, 'length_rsi': 10.0, 'rsi_low': 45.0, 'rsi_high': 82.0, 'position_type': 'long'}. Best is trial 11 with value: 22.365342150166306.\u001b[0m\n"
     ]
    },
    {
     "name": "stdout",
     "output_type": "stream",
     "text": [
      "Trial 13 concluído: calmar_ratio = 13.8085\n",
      "Trial 14 para hora 11: Testando estratégia com parâmetros {'length_rsi': 9.0, 'rsi_low': 43.0, 'rsi_high': 55.0, 'position_type': 'long'}\n",
      "Trial 14 para hora 11: Usando backtester com TP=32.00000, SL=19.60000\n",
      "Executando backtest para trial 14, hora 11...\n"
     ]
    },
    {
     "name": "stderr",
     "output_type": "stream",
     "text": [
      "\u001b[32m[I 2025-06-10 14:58:06,327]\u001b[0m Trial 14 finished with value: 0.8903411217901915 and parameters: {'tp': 32.0, 'sl': 19.6, 'length_rsi': 9.0, 'rsi_low': 43.0, 'rsi_high': 55.0, 'position_type': 'long'}. Best is trial 11 with value: 22.365342150166306.\u001b[0m\n"
     ]
    },
    {
     "name": "stdout",
     "output_type": "stream",
     "text": [
      "Trial 14 concluído: calmar_ratio = 0.8903\n",
      "Trial 15 para hora 11: Testando estratégia com parâmetros {'length_rsi': 9.0, 'rsi_low': 35.0, 'rsi_high': 75.0, 'position_type': 'short'}\n",
      "Trial 15 para hora 11: Usando backtester com TP=27.10000, SL=9.40000\n",
      "Executando backtest para trial 15, hora 11...\n"
     ]
    },
    {
     "name": "stderr",
     "output_type": "stream",
     "text": [
      "\u001b[32m[I 2025-06-10 14:58:07,104]\u001b[0m Trial 15 finished with value: 0.13988344714013237 and parameters: {'tp': 27.1, 'sl': 9.4, 'length_rsi': 9.0, 'rsi_low': 35.0, 'rsi_high': 75.0, 'position_type': 'short'}. Best is trial 11 with value: 22.365342150166306.\u001b[0m\n"
     ]
    },
    {
     "name": "stdout",
     "output_type": "stream",
     "text": [
      "Trial 15 concluído: calmar_ratio = 0.1399\n",
      "Trial 16 para hora 11: Testando estratégia com parâmetros {'length_rsi': 10.0, 'rsi_low': 42.0, 'rsi_high': 63.0, 'position_type': 'long'}\n",
      "Trial 16 para hora 11: Usando backtester com TP=16.00000, SL=21.20000\n",
      "Executando backtest para trial 16, hora 11...\n"
     ]
    },
    {
     "name": "stderr",
     "output_type": "stream",
     "text": [
      "\u001b[32m[I 2025-06-10 14:58:07,863]\u001b[0m Trial 16 finished with value: 0.40710597428523765 and parameters: {'tp': 16.0, 'sl': 21.200000000000003, 'length_rsi': 10.0, 'rsi_low': 42.0, 'rsi_high': 63.0, 'position_type': 'long'}. Best is trial 11 with value: 22.365342150166306.\u001b[0m\n"
     ]
    },
    {
     "name": "stdout",
     "output_type": "stream",
     "text": [
      "Trial 16 concluído: calmar_ratio = 0.4071\n",
      "Trial 17 para hora 11: Testando estratégia com parâmetros {'length_rsi': 9.0, 'rsi_low': 35.0, 'rsi_high': 81.0, 'position_type': 'long'}\n",
      "Trial 17 para hora 11: Usando backtester com TP=23.60000, SL=17.40000\n",
      "Executando backtest para trial 17, hora 11...\n"
     ]
    },
    {
     "name": "stderr",
     "output_type": "stream",
     "text": [
      "\u001b[32m[I 2025-06-10 14:58:08,641]\u001b[0m Trial 17 finished with value: 3.478797364293305 and parameters: {'tp': 23.6, 'sl': 17.4, 'length_rsi': 9.0, 'rsi_low': 35.0, 'rsi_high': 81.0, 'position_type': 'long'}. Best is trial 11 with value: 22.365342150166306.\u001b[0m\n"
     ]
    },
    {
     "name": "stdout",
     "output_type": "stream",
     "text": [
      "Trial 17 concluído: calmar_ratio = 3.4788\n",
      "Trial 18 para hora 11: Testando estratégia com parâmetros {'length_rsi': 10.0, 'rsi_low': 43.0, 'rsi_high': 85.0, 'position_type': 'short'}\n",
      "Trial 18 para hora 11: Usando backtester com TP=28.00000, SL=9.10000\n",
      "Executando backtest para trial 18, hora 11...\n"
     ]
    },
    {
     "name": "stderr",
     "output_type": "stream",
     "text": [
      "\u001b[32m[I 2025-06-10 14:58:09,413]\u001b[0m Trial 18 finished with value: 0.6265753306438625 and parameters: {'tp': 28.0, 'sl': 9.100000000000001, 'length_rsi': 10.0, 'rsi_low': 43.0, 'rsi_high': 85.0, 'position_type': 'short'}. Best is trial 11 with value: 22.365342150166306.\u001b[0m\n"
     ]
    },
    {
     "name": "stdout",
     "output_type": "stream",
     "text": [
      "Trial 18 concluído: calmar_ratio = 0.6266\n",
      "Trial 19 para hora 11: Testando estratégia com parâmetros {'length_rsi': 9.0, 'rsi_low': 25.0, 'rsi_high': 60.0, 'position_type': 'both'}\n",
      "Trial 19 para hora 11: Usando backtester com TP=22.20000, SL=31.40000\n",
      "Executando backtest para trial 19, hora 11...\n"
     ]
    },
    {
     "name": "stderr",
     "output_type": "stream",
     "text": [
      "\u001b[32m[I 2025-06-10 14:58:10,200]\u001b[0m Trial 19 finished with value: 0.2965907695756879 and parameters: {'tp': 22.200000000000003, 'sl': 31.400000000000002, 'length_rsi': 9.0, 'rsi_low': 25.0, 'rsi_high': 60.0, 'position_type': 'both'}. Best is trial 11 with value: 22.365342150166306.\u001b[0m\n"
     ]
    },
    {
     "name": "stdout",
     "output_type": "stream",
     "text": [
      "Trial 19 concluído: calmar_ratio = 0.2966\n",
      "Trial 20 para hora 11: Testando estratégia com parâmetros {'length_rsi': 10.0, 'rsi_low': 45.0, 'rsi_high': 74.0, 'position_type': 'long'}\n",
      "Trial 20 para hora 11: Usando backtester com TP=29.00000, SL=15.60000\n",
      "Executando backtest para trial 20, hora 11...\n"
     ]
    },
    {
     "name": "stderr",
     "output_type": "stream",
     "text": [
      "\u001b[32m[I 2025-06-10 14:58:10,975]\u001b[0m Trial 20 finished with value: 4.113404140731822 and parameters: {'tp': 29.0, 'sl': 15.600000000000001, 'length_rsi': 10.0, 'rsi_low': 45.0, 'rsi_high': 74.0, 'position_type': 'long'}. Best is trial 11 with value: 22.365342150166306.\u001b[0m\n"
     ]
    },
    {
     "name": "stdout",
     "output_type": "stream",
     "text": [
      "Trial 20 concluído: calmar_ratio = 4.1134\n",
      "Trial 21 para hora 11: Testando estratégia com parâmetros {'length_rsi': 10.0, 'rsi_low': 45.0, 'rsi_high': 82.0, 'position_type': 'long'}\n",
      "Trial 21 para hora 11: Usando backtester com TP=25.50000, SL=12.00000\n",
      "Executando backtest para trial 21, hora 11...\n"
     ]
    },
    {
     "name": "stderr",
     "output_type": "stream",
     "text": [
      "\u001b[32m[I 2025-06-10 14:58:11,748]\u001b[0m Trial 21 finished with value: 15.496321898635488 and parameters: {'tp': 25.5, 'sl': 12.0, 'length_rsi': 10.0, 'rsi_low': 45.0, 'rsi_high': 82.0, 'position_type': 'long'}. Best is trial 11 with value: 22.365342150166306.\u001b[0m\n"
     ]
    },
    {
     "name": "stdout",
     "output_type": "stream",
     "text": [
      "Trial 21 concluído: calmar_ratio = 15.4963\n",
      "Trial 22 para hora 11: Testando estratégia com parâmetros {'length_rsi': 10.0, 'rsi_low': 43.0, 'rsi_high': 79.0, 'position_type': 'long'}\n",
      "Trial 22 para hora 11: Usando backtester com TP=25.00000, SL=12.70000\n",
      "Executando backtest para trial 22, hora 11...\n"
     ]
    },
    {
     "name": "stderr",
     "output_type": "stream",
     "text": [
      "\u001b[32m[I 2025-06-10 14:58:12,515]\u001b[0m Trial 22 finished with value: 7.51467703982445 and parameters: {'tp': 25.0, 'sl': 12.700000000000001, 'length_rsi': 10.0, 'rsi_low': 43.0, 'rsi_high': 79.0, 'position_type': 'long'}. Best is trial 11 with value: 22.365342150166306.\u001b[0m\n"
     ]
    },
    {
     "name": "stdout",
     "output_type": "stream",
     "text": [
      "Trial 22 concluído: calmar_ratio = 7.5147\n",
      "Trial 23 para hora 11: Testando estratégia com parâmetros {'length_rsi': 9.0, 'rsi_low': 45.0, 'rsi_high': 82.0, 'position_type': 'long'}\n",
      "Trial 23 para hora 11: Usando backtester com TP=29.40000, SL=7.30000\n",
      "Executando backtest para trial 23, hora 11...\n"
     ]
    },
    {
     "name": "stderr",
     "output_type": "stream",
     "text": [
      "\u001b[32m[I 2025-06-10 14:58:13,290]\u001b[0m Trial 23 finished with value: 12.192459796663774 and parameters: {'tp': 29.400000000000002, 'sl': 7.300000000000001, 'length_rsi': 9.0, 'rsi_low': 45.0, 'rsi_high': 82.0, 'position_type': 'long'}. Best is trial 11 with value: 22.365342150166306.\u001b[0m\n"
     ]
    },
    {
     "name": "stdout",
     "output_type": "stream",
     "text": [
      "Trial 23 concluído: calmar_ratio = 12.1925\n",
      "Trial 24 para hora 11: Testando estratégia com parâmetros {'length_rsi': 10.0, 'rsi_low': 37.0, 'rsi_high': 83.0, 'position_type': 'long'}\n",
      "Trial 24 para hora 11: Usando backtester com TP=29.00000, SL=21.70000\n",
      "Executando backtest para trial 24, hora 11...\n"
     ]
    },
    {
     "name": "stderr",
     "output_type": "stream",
     "text": [
      "\u001b[32m[I 2025-06-10 14:58:14,062]\u001b[0m Trial 24 finished with value: 6.873314518918619 and parameters: {'tp': 29.0, 'sl': 21.700000000000003, 'length_rsi': 10.0, 'rsi_low': 37.0, 'rsi_high': 83.0, 'position_type': 'long'}. Best is trial 11 with value: 22.365342150166306.\u001b[0m\n"
     ]
    },
    {
     "name": "stdout",
     "output_type": "stream",
     "text": [
      "Trial 24 concluído: calmar_ratio = 6.8733\n",
      "Trial 25 para hora 11: Testando estratégia com parâmetros {'length_rsi': 9.0, 'rsi_low': 41.0, 'rsi_high': 77.0, 'position_type': 'long'}\n",
      "Trial 25 para hora 11: Usando backtester com TP=18.40000, SL=17.20000\n",
      "Executando backtest para trial 25, hora 11...\n"
     ]
    },
    {
     "name": "stderr",
     "output_type": "stream",
     "text": [
      "\u001b[32m[I 2025-06-10 14:58:14,827]\u001b[0m Trial 25 finished with value: 2.272670686745003 and parameters: {'tp': 18.400000000000002, 'sl': 17.200000000000003, 'length_rsi': 9.0, 'rsi_low': 41.0, 'rsi_high': 77.0, 'position_type': 'long'}. Best is trial 11 with value: 22.365342150166306.\u001b[0m\n"
     ]
    },
    {
     "name": "stdout",
     "output_type": "stream",
     "text": [
      "Trial 25 concluído: calmar_ratio = 2.2727\n",
      "Trial 26 para hora 11: Testando estratégia com parâmetros {'length_rsi': 10.0, 'rsi_low': 43.0, 'rsi_high': 80.0, 'position_type': 'long'}\n",
      "Trial 26 para hora 11: Usando backtester com TP=31.70000, SL=14.10000\n",
      "Executando backtest para trial 26, hora 11...\n"
     ]
    },
    {
     "name": "stderr",
     "output_type": "stream",
     "text": [
      "\u001b[32m[I 2025-06-10 14:58:15,610]\u001b[0m Trial 26 finished with value: 15.078453379408066 and parameters: {'tp': 31.700000000000003, 'sl': 14.100000000000001, 'length_rsi': 10.0, 'rsi_low': 43.0, 'rsi_high': 80.0, 'position_type': 'long'}. Best is trial 11 with value: 22.365342150166306.\u001b[0m\n"
     ]
    },
    {
     "name": "stdout",
     "output_type": "stream",
     "text": [
      "Trial 26 concluído: calmar_ratio = 15.0785\n",
      "Trial 27 para hora 11: Testando estratégia com parâmetros {'length_rsi': 10.0, 'rsi_low': 44.0, 'rsi_high': 85.0, 'position_type': 'long'}\n",
      "Trial 27 para hora 11: Usando backtester com TP=25.50000, SL=10.20000\n",
      "Executando backtest para trial 27, hora 11...\n"
     ]
    },
    {
     "name": "stderr",
     "output_type": "stream",
     "text": [
      "\u001b[32m[I 2025-06-10 14:58:16,388]\u001b[0m Trial 27 finished with value: 25.497183681707277 and parameters: {'tp': 25.5, 'sl': 10.200000000000001, 'length_rsi': 10.0, 'rsi_low': 44.0, 'rsi_high': 85.0, 'position_type': 'long'}. Best is trial 27 with value: 25.497183681707277.\u001b[0m\n"
     ]
    },
    {
     "name": "stdout",
     "output_type": "stream",
     "text": [
      "Trial 27 concluído: calmar_ratio = 25.4972\n",
      "Trial 28 para hora 11: Testando estratégia com parâmetros {'length_rsi': 9.0, 'rsi_low': 41.0, 'rsi_high': 85.0, 'position_type': 'both'}\n",
      "Trial 28 para hora 11: Usando backtester com TP=15.60000, SL=19.40000\n",
      "Executando backtest para trial 28, hora 11...\n"
     ]
    },
    {
     "name": "stderr",
     "output_type": "stream",
     "text": [
      "\u001b[32m[I 2025-06-10 14:58:17,170]\u001b[0m Trial 28 finished with value: 0.27684198420354045 and parameters: {'tp': 15.600000000000001, 'sl': 19.400000000000002, 'length_rsi': 9.0, 'rsi_low': 41.0, 'rsi_high': 85.0, 'position_type': 'both'}. Best is trial 27 with value: 25.497183681707277.\u001b[0m\n"
     ]
    },
    {
     "name": "stdout",
     "output_type": "stream",
     "text": [
      "Trial 28 concluído: calmar_ratio = 0.2768\n",
      "Trial 29 para hora 11: Testando estratégia com parâmetros {'length_rsi': 6.0, 'rsi_low': 39.0, 'rsi_high': 74.0, 'position_type': 'short'}\n",
      "Trial 29 para hora 11: Usando backtester com TP=21.70000, SL=6.40000\n",
      "Executando backtest para trial 29, hora 11...\n"
     ]
    },
    {
     "name": "stderr",
     "output_type": "stream",
     "text": [
      "\u001b[32m[I 2025-06-10 14:58:17,949]\u001b[0m Trial 29 finished with value: 0.110765982893907 and parameters: {'tp': 21.700000000000003, 'sl': 6.4, 'length_rsi': 6.0, 'rsi_low': 39.0, 'rsi_high': 74.0, 'position_type': 'short'}. Best is trial 27 with value: 25.497183681707277.\u001b[0m\n"
     ]
    },
    {
     "name": "stdout",
     "output_type": "stream",
     "text": [
      "Trial 29 concluído: calmar_ratio = 0.1108\n",
      "Trial 30 para hora 11: Testando estratégia com parâmetros {'length_rsi': 6.0, 'rsi_low': 36.0, 'rsi_high': 78.0, 'position_type': 'both'}\n",
      "Trial 30 para hora 11: Usando backtester com TP=29.90000, SL=24.40000\n",
      "Executando backtest para trial 30, hora 11...\n"
     ]
    },
    {
     "name": "stderr",
     "output_type": "stream",
     "text": [
      "\u001b[32m[I 2025-06-10 14:58:18,736]\u001b[0m Trial 30 finished with value: 0.23531875809890315 and parameters: {'tp': 29.900000000000002, 'sl': 24.400000000000002, 'length_rsi': 6.0, 'rsi_low': 36.0, 'rsi_high': 78.0, 'position_type': 'both'}. Best is trial 27 with value: 25.497183681707277.\u001b[0m\n"
     ]
    },
    {
     "name": "stdout",
     "output_type": "stream",
     "text": [
      "Trial 30 concluído: calmar_ratio = 0.2353\n",
      "Trial 31 para hora 11: Testando estratégia com parâmetros {'length_rsi': 10.0, 'rsi_low': 44.0, 'rsi_high': 83.0, 'position_type': 'long'}\n",
      "Trial 31 para hora 11: Usando backtester com TP=25.10000, SL=11.10000\n",
      "Executando backtest para trial 31, hora 11...\n"
     ]
    },
    {
     "name": "stderr",
     "output_type": "stream",
     "text": [
      "\u001b[32m[I 2025-06-10 14:58:19,505]\u001b[0m Trial 31 finished with value: 10.142764808250522 and parameters: {'tp': 25.1, 'sl': 11.1, 'length_rsi': 10.0, 'rsi_low': 44.0, 'rsi_high': 83.0, 'position_type': 'long'}. Best is trial 27 with value: 25.497183681707277.\u001b[0m\n"
     ]
    },
    {
     "name": "stdout",
     "output_type": "stream",
     "text": [
      "Trial 31 concluído: calmar_ratio = 10.1428\n",
      "Trial 32 para hora 11: Testando estratégia com parâmetros {'length_rsi': 10.0, 'rsi_low': 44.0, 'rsi_high': 82.0, 'position_type': 'long'}\n",
      "Trial 32 para hora 11: Usando backtester com TP=28.10000, SL=15.00000\n",
      "Executando backtest para trial 32, hora 11...\n"
     ]
    },
    {
     "name": "stderr",
     "output_type": "stream",
     "text": [
      "\u001b[32m[I 2025-06-10 14:58:20,272]\u001b[0m Trial 32 finished with value: 11.357360955524586 and parameters: {'tp': 28.1, 'sl': 15.0, 'length_rsi': 10.0, 'rsi_low': 44.0, 'rsi_high': 82.0, 'position_type': 'long'}. Best is trial 27 with value: 25.497183681707277.\u001b[0m\n"
     ]
    },
    {
     "name": "stdout",
     "output_type": "stream",
     "text": [
      "Trial 32 concluído: calmar_ratio = 11.3574\n",
      "Trial 33 para hora 11: Testando estratégia com parâmetros {'length_rsi': 10.0, 'rsi_low': 42.0, 'rsi_high': 85.0, 'position_type': 'long'}\n",
      "Trial 33 para hora 11: Usando backtester com TP=23.80000, SL=2.10000\n",
      "Executando backtest para trial 33, hora 11...\n"
     ]
    },
    {
     "name": "stderr",
     "output_type": "stream",
     "text": [
      "\u001b[32m[I 2025-06-10 14:58:21,046]\u001b[0m Trial 33 finished with value: 9.111727418368789 and parameters: {'tp': 23.8, 'sl': 2.1, 'length_rsi': 10.0, 'rsi_low': 42.0, 'rsi_high': 85.0, 'position_type': 'long'}. Best is trial 27 with value: 25.497183681707277.\u001b[0m\n"
     ]
    },
    {
     "name": "stdout",
     "output_type": "stream",
     "text": [
      "Trial 33 concluído: calmar_ratio = 9.1117\n",
      "Trial 34 para hora 11: Testando estratégia com parâmetros {'length_rsi': 10.0, 'rsi_low': 44.0, 'rsi_high': 80.0, 'position_type': 'long'}\n",
      "Trial 34 para hora 11: Usando backtester com TP=26.10000, SL=9.00000\n",
      "Executando backtest para trial 34, hora 11...\n"
     ]
    },
    {
     "name": "stderr",
     "output_type": "stream",
     "text": [
      "\u001b[32m[I 2025-06-10 14:58:21,830]\u001b[0m Trial 34 finished with value: 14.128767191084123 and parameters: {'tp': 26.1, 'sl': 9.0, 'length_rsi': 10.0, 'rsi_low': 44.0, 'rsi_high': 80.0, 'position_type': 'long'}. Best is trial 27 with value: 25.497183681707277.\u001b[0m\n"
     ]
    },
    {
     "name": "stdout",
     "output_type": "stream",
     "text": [
      "Trial 34 concluído: calmar_ratio = 14.1288\n",
      "Trial 35 para hora 11: Testando estratégia com parâmetros {'length_rsi': 9.0, 'rsi_low': 40.0, 'rsi_high': 83.0, 'position_type': 'long'}\n",
      "Trial 35 para hora 11: Usando backtester com TP=30.00000, SL=12.20000\n",
      "Executando backtest para trial 35, hora 11...\n"
     ]
    },
    {
     "name": "stderr",
     "output_type": "stream",
     "text": [
      "\u001b[32m[I 2025-06-10 14:58:22,616]\u001b[0m Trial 35 finished with value: 21.823218013449875 and parameters: {'tp': 30.0, 'sl': 12.200000000000001, 'length_rsi': 9.0, 'rsi_low': 40.0, 'rsi_high': 83.0, 'position_type': 'long'}. Best is trial 27 with value: 25.497183681707277.\u001b[0m\n"
     ]
    },
    {
     "name": "stdout",
     "output_type": "stream",
     "text": [
      "Trial 35 concluído: calmar_ratio = 21.8232\n",
      "Trial 36 para hora 11: Testando estratégia com parâmetros {'length_rsi': 9.0, 'rsi_low': 33.0, 'rsi_high': 83.0, 'position_type': 'short'}\n",
      "Trial 36 para hora 11: Usando backtester com TP=29.90000, SL=16.60000\n",
      "Executando backtest para trial 36, hora 11...\n"
     ]
    },
    {
     "name": "stderr",
     "output_type": "stream",
     "text": [
      "\u001b[32m[I 2025-06-10 14:58:23,417]\u001b[0m Trial 36 finished with value: 0.2700502946796226 and parameters: {'tp': 29.900000000000002, 'sl': 16.6, 'length_rsi': 9.0, 'rsi_low': 33.0, 'rsi_high': 83.0, 'position_type': 'short'}. Best is trial 27 with value: 25.497183681707277.\u001b[0m\n"
     ]
    },
    {
     "name": "stdout",
     "output_type": "stream",
     "text": [
      "Trial 36 concluído: calmar_ratio = 0.2701\n",
      "Trial 37 para hora 11: Testando estratégia com parâmetros {'length_rsi': 8.0, 'rsi_low': 40.0, 'rsi_high': 72.0, 'position_type': 'long'}\n",
      "Trial 37 para hora 11: Usando backtester com TP=7.50000, SL=10.40000\n",
      "Executando backtest para trial 37, hora 11...\n"
     ]
    },
    {
     "name": "stderr",
     "output_type": "stream",
     "text": [
      "\u001b[32m[I 2025-06-10 14:58:24,290]\u001b[0m Trial 37 finished with value: 0.2855534462682872 and parameters: {'tp': 7.5, 'sl': 10.4, 'length_rsi': 8.0, 'rsi_low': 40.0, 'rsi_high': 72.0, 'position_type': 'long'}. Best is trial 27 with value: 25.497183681707277.\u001b[0m\n"
     ]
    },
    {
     "name": "stdout",
     "output_type": "stream",
     "text": [
      "Trial 37 concluído: calmar_ratio = 0.2856\n",
      "Trial 38 para hora 11: Testando estratégia com parâmetros {'length_rsi': 9.0, 'rsi_low': 39.0, 'rsi_high': 84.0, 'position_type': 'long'}\n",
      "Trial 38 para hora 11: Usando backtester com TP=27.80000, SL=13.40000\n",
      "Executando backtest para trial 38, hora 11...\n"
     ]
    },
    {
     "name": "stderr",
     "output_type": "stream",
     "text": [
      "\u001b[32m[I 2025-06-10 14:58:25,091]\u001b[0m Trial 38 finished with value: 24.80998045937623 and parameters: {'tp': 27.8, 'sl': 13.4, 'length_rsi': 9.0, 'rsi_low': 39.0, 'rsi_high': 84.0, 'position_type': 'long'}. Best is trial 27 with value: 25.497183681707277.\u001b[0m\n"
     ]
    },
    {
     "name": "stdout",
     "output_type": "stream",
     "text": [
      "Trial 38 concluído: calmar_ratio = 24.8100\n",
      "Trial 39 para hora 11: Testando estratégia com parâmetros {'length_rsi': 8.0, 'rsi_low': 40.0, 'rsi_high': 77.0, 'position_type': 'long'}\n",
      "Trial 39 para hora 11: Usando backtester com TP=27.70000, SL=7.10000\n",
      "Executando backtest para trial 39, hora 11...\n"
     ]
    },
    {
     "name": "stderr",
     "output_type": "stream",
     "text": [
      "\u001b[32m[I 2025-06-10 14:58:25,877]\u001b[0m Trial 39 finished with value: 2.1070443667194585 and parameters: {'tp': 27.700000000000003, 'sl': 7.1000000000000005, 'length_rsi': 8.0, 'rsi_low': 40.0, 'rsi_high': 77.0, 'position_type': 'long'}. Best is trial 27 with value: 25.497183681707277.\u001b[0m\n"
     ]
    },
    {
     "name": "stdout",
     "output_type": "stream",
     "text": [
      "Trial 39 concluído: calmar_ratio = 2.1070\n",
      "Trial 40 para hora 11: Testando estratégia com parâmetros {'length_rsi': 9.0, 'rsi_low': 39.0, 'rsi_high': 79.0, 'position_type': 'long'}\n",
      "Trial 40 para hora 11: Usando backtester com TP=20.90000, SL=14.10000\n",
      "Executando backtest para trial 40, hora 11...\n"
     ]
    },
    {
     "name": "stderr",
     "output_type": "stream",
     "text": [
      "\u001b[32m[I 2025-06-10 14:58:26,695]\u001b[0m Trial 40 finished with value: 3.3050583525289547 and parameters: {'tp': 20.900000000000002, 'sl': 14.100000000000001, 'length_rsi': 9.0, 'rsi_low': 39.0, 'rsi_high': 79.0, 'position_type': 'long'}. Best is trial 27 with value: 25.497183681707277.\u001b[0m\n"
     ]
    },
    {
     "name": "stdout",
     "output_type": "stream",
     "text": [
      "Trial 40 concluído: calmar_ratio = 3.3051\n",
      "Trial 41 para hora 11: Testando estratégia com parâmetros {'length_rsi': 9.0, 'rsi_low': 42.0, 'rsi_high': 84.0, 'position_type': 'long'}\n",
      "Trial 41 para hora 11: Usando backtester com TP=30.60000, SL=12.70000\n",
      "Executando backtest para trial 41, hora 11...\n"
     ]
    },
    {
     "name": "stderr",
     "output_type": "stream",
     "text": [
      "\u001b[32m[I 2025-06-10 14:58:27,479]\u001b[0m Trial 41 finished with value: 25.369289377948302 and parameters: {'tp': 30.6, 'sl': 12.700000000000001, 'length_rsi': 9.0, 'rsi_low': 42.0, 'rsi_high': 84.0, 'position_type': 'long'}. Best is trial 27 with value: 25.497183681707277.\u001b[0m\n"
     ]
    },
    {
     "name": "stdout",
     "output_type": "stream",
     "text": [
      "Trial 41 concluído: calmar_ratio = 25.3693\n",
      "Trial 42 para hora 11: Testando estratégia com parâmetros {'length_rsi': 8.0, 'rsi_low': 42.0, 'rsi_high': 84.0, 'position_type': 'long'}\n",
      "Trial 42 para hora 11: Usando backtester com TP=28.70000, SL=14.10000\n",
      "Executando backtest para trial 42, hora 11...\n"
     ]
    },
    {
     "name": "stderr",
     "output_type": "stream",
     "text": [
      "\u001b[32m[I 2025-06-10 14:58:28,253]\u001b[0m Trial 42 finished with value: 14.382083884803752 and parameters: {'tp': 28.700000000000003, 'sl': 14.100000000000001, 'length_rsi': 8.0, 'rsi_low': 42.0, 'rsi_high': 84.0, 'position_type': 'long'}. Best is trial 27 with value: 25.497183681707277.\u001b[0m\n"
     ]
    },
    {
     "name": "stdout",
     "output_type": "stream",
     "text": [
      "Trial 42 concluído: calmar_ratio = 14.3821\n",
      "Trial 43 para hora 11: Testando estratégia com parâmetros {'length_rsi': 9.0, 'rsi_low': 38.0, 'rsi_high': 81.0, 'position_type': 'long'}\n",
      "Trial 43 para hora 11: Usando backtester com TP=30.70000, SL=12.80000\n",
      "Executando backtest para trial 43, hora 11...\n"
     ]
    },
    {
     "name": "stderr",
     "output_type": "stream",
     "text": [
      "\u001b[32m[I 2025-06-10 14:58:29,022]\u001b[0m Trial 43 finished with value: 9.268573308304756 and parameters: {'tp': 30.700000000000003, 'sl': 12.8, 'length_rsi': 9.0, 'rsi_low': 38.0, 'rsi_high': 81.0, 'position_type': 'long'}. Best is trial 27 with value: 25.497183681707277.\u001b[0m\n"
     ]
    },
    {
     "name": "stdout",
     "output_type": "stream",
     "text": [
      "Trial 43 concluído: calmar_ratio = 9.2686\n",
      "Trial 44 para hora 11: Testando estratégia com parâmetros {'length_rsi': 9.0, 'rsi_low': 41.0, 'rsi_high': 67.0, 'position_type': 'long'}\n",
      "Trial 44 para hora 11: Usando backtester com TP=2.10000, SL=10.10000\n",
      "Executando backtest para trial 44, hora 11...\n"
     ]
    },
    {
     "name": "stderr",
     "output_type": "stream",
     "text": [
      "\u001b[32m[I 2025-06-10 14:58:29,789]\u001b[0m Trial 44 finished with value: -0.4111922513261695 and parameters: {'tp': 2.1, 'sl': 10.1, 'length_rsi': 9.0, 'rsi_low': 41.0, 'rsi_high': 67.0, 'position_type': 'long'}. Best is trial 27 with value: 25.497183681707277.\u001b[0m\n"
     ]
    },
    {
     "name": "stdout",
     "output_type": "stream",
     "text": [
      "Trial 44 concluído: calmar_ratio = -0.4112\n",
      "Trial 45 para hora 11: Testando estratégia com parâmetros {'length_rsi': 8.0, 'rsi_low': 42.0, 'rsi_high': 84.0, 'position_type': 'both'}\n",
      "Trial 45 para hora 11: Usando backtester com TP=32.00000, SL=5.10000\n",
      "Executando backtest para trial 45, hora 11...\n"
     ]
    },
    {
     "name": "stderr",
     "output_type": "stream",
     "text": [
      "\u001b[32m[I 2025-06-10 14:58:30,567]\u001b[0m Trial 45 finished with value: 0.46282200099929255 and parameters: {'tp': 32.0, 'sl': 5.1, 'length_rsi': 8.0, 'rsi_low': 42.0, 'rsi_high': 84.0, 'position_type': 'both'}. Best is trial 27 with value: 25.497183681707277.\u001b[0m\n"
     ]
    },
    {
     "name": "stdout",
     "output_type": "stream",
     "text": [
      "Trial 45 concluído: calmar_ratio = 0.4628\n",
      "Trial 46 para hora 11: Testando estratégia com parâmetros {'length_rsi': 9.0, 'rsi_low': 37.0, 'rsi_high': 83.0, 'position_type': 'long'}\n",
      "Trial 46 para hora 11: Usando backtester com TP=30.20000, SL=15.50000\n",
      "Executando backtest para trial 46, hora 11...\n"
     ]
    },
    {
     "name": "stderr",
     "output_type": "stream",
     "text": [
      "\u001b[32m[I 2025-06-10 14:58:31,332]\u001b[0m Trial 46 finished with value: 16.655145436542693 and parameters: {'tp': 30.200000000000003, 'sl': 15.5, 'length_rsi': 9.0, 'rsi_low': 37.0, 'rsi_high': 83.0, 'position_type': 'long'}. Best is trial 27 with value: 25.497183681707277.\u001b[0m\n"
     ]
    },
    {
     "name": "stdout",
     "output_type": "stream",
     "text": [
      "Trial 46 concluído: calmar_ratio = 16.6551\n",
      "Trial 47 para hora 11: Testando estratégia com parâmetros {'length_rsi': 7.0, 'rsi_low': 40.0, 'rsi_high': 85.0, 'position_type': 'short'}\n",
      "Trial 47 para hora 11: Usando backtester com TP=26.90000, SL=8.00000\n",
      "Executando backtest para trial 47, hora 11...\n"
     ]
    },
    {
     "name": "stderr",
     "output_type": "stream",
     "text": [
      "\u001b[32m[I 2025-06-10 14:58:32,108]\u001b[0m Trial 47 finished with value: 0.7369168481886134 and parameters: {'tp': 26.900000000000002, 'sl': 8.0, 'length_rsi': 7.0, 'rsi_low': 40.0, 'rsi_high': 85.0, 'position_type': 'short'}. Best is trial 27 with value: 25.497183681707277.\u001b[0m\n"
     ]
    },
    {
     "name": "stdout",
     "output_type": "stream",
     "text": [
      "Trial 47 concluído: calmar_ratio = 0.7369\n",
      "Trial 48 para hora 11: Testando estratégia com parâmetros {'length_rsi': 9.0, 'rsi_low': 43.0, 'rsi_high': 64.0, 'position_type': 'long'}\n",
      "Trial 48 para hora 11: Usando backtester com TP=12.00000, SL=18.00000\n",
      "Executando backtest para trial 48, hora 11...\n"
     ]
    },
    {
     "name": "stderr",
     "output_type": "stream",
     "text": [
      "\u001b[32m[I 2025-06-10 14:58:32,886]\u001b[0m Trial 48 finished with value: 0.2883308266323818 and parameters: {'tp': 12.0, 'sl': 18.0, 'length_rsi': 9.0, 'rsi_low': 43.0, 'rsi_high': 64.0, 'position_type': 'long'}. Best is trial 27 with value: 25.497183681707277.\u001b[0m\n"
     ]
    },
    {
     "name": "stdout",
     "output_type": "stream",
     "text": [
      "Trial 48 concluído: calmar_ratio = 0.2883\n",
      "Trial 49 para hora 11: Testando estratégia com parâmetros {'length_rsi': 8.0, 'rsi_low': 34.0, 'rsi_high': 81.0, 'position_type': 'long'}\n",
      "Trial 49 para hora 11: Usando backtester com TP=23.80000, SL=21.30000\n",
      "Executando backtest para trial 49, hora 11...\n"
     ]
    },
    {
     "name": "stderr",
     "output_type": "stream",
     "text": [
      "\u001b[32m[I 2025-06-10 14:58:33,669]\u001b[0m Trial 49 finished with value: 2.661015942562233 and parameters: {'tp': 23.8, 'sl': 21.3, 'length_rsi': 8.0, 'rsi_low': 34.0, 'rsi_high': 81.0, 'position_type': 'long'}. Best is trial 27 with value: 25.497183681707277.\u001b[0m\n"
     ]
    },
    {
     "name": "stdout",
     "output_type": "stream",
     "text": [
      "Trial 49 concluído: calmar_ratio = 2.6610\n",
      "Trial 50 para hora 11: Testando estratégia com parâmetros {'length_rsi': 9.0, 'rsi_low': 38.0, 'rsi_high': 84.0, 'position_type': 'long'}\n",
      "Trial 50 para hora 11: Usando backtester com TP=18.60000, SL=11.40000\n",
      "Executando backtest para trial 50, hora 11...\n"
     ]
    },
    {
     "name": "stderr",
     "output_type": "stream",
     "text": [
      "\u001b[32m[I 2025-06-10 14:58:34,445]\u001b[0m Trial 50 finished with value: 8.431576210896548 and parameters: {'tp': 18.6, 'sl': 11.4, 'length_rsi': 9.0, 'rsi_low': 38.0, 'rsi_high': 84.0, 'position_type': 'long'}. Best is trial 27 with value: 25.497183681707277.\u001b[0m\n"
     ]
    },
    {
     "name": "stdout",
     "output_type": "stream",
     "text": [
      "Trial 50 concluído: calmar_ratio = 8.4316\n",
      "Trial 51 para hora 11: Testando estratégia com parâmetros {'length_rsi': 10.0, 'rsi_low': 44.0, 'rsi_high': 85.0, 'position_type': 'long'}\n",
      "Trial 51 para hora 11: Usando backtester com TP=30.60000, SL=16.50000\n",
      "Executando backtest para trial 51, hora 11...\n"
     ]
    },
    {
     "name": "stderr",
     "output_type": "stream",
     "text": [
      "\u001b[32m[I 2025-06-10 14:58:35,225]\u001b[0m Trial 51 finished with value: 24.943988452273768 and parameters: {'tp': 30.6, 'sl': 16.5, 'length_rsi': 10.0, 'rsi_low': 44.0, 'rsi_high': 85.0, 'position_type': 'long'}. Best is trial 27 with value: 25.497183681707277.\u001b[0m\n"
     ]
    },
    {
     "name": "stdout",
     "output_type": "stream",
     "text": [
      "Trial 51 concluído: calmar_ratio = 24.9440\n",
      "Trial 52 para hora 11: Testando estratégia com parâmetros {'length_rsi': 10.0, 'rsi_low': 44.0, 'rsi_high': 84.0, 'position_type': 'long'}\n",
      "Trial 52 para hora 11: Usando backtester com TP=30.70000, SL=16.30000\n",
      "Executando backtest para trial 52, hora 11...\n"
     ]
    },
    {
     "name": "stderr",
     "output_type": "stream",
     "text": [
      "\u001b[32m[I 2025-06-10 14:58:35,995]\u001b[0m Trial 52 finished with value: 10.567735194718942 and parameters: {'tp': 30.700000000000003, 'sl': 16.3, 'length_rsi': 10.0, 'rsi_low': 44.0, 'rsi_high': 84.0, 'position_type': 'long'}. Best is trial 27 with value: 25.497183681707277.\u001b[0m\n"
     ]
    },
    {
     "name": "stdout",
     "output_type": "stream",
     "text": [
      "Trial 52 concluído: calmar_ratio = 10.5677\n",
      "Trial 53 para hora 11: Testando estratégia com parâmetros {'length_rsi': 10.0, 'rsi_low': 30.0, 'rsi_high': 83.0, 'position_type': 'long'}\n",
      "Trial 53 para hora 11: Usando backtester com TP=27.00000, SL=13.10000\n",
      "Executando backtest para trial 53, hora 11...\n"
     ]
    },
    {
     "name": "stderr",
     "output_type": "stream",
     "text": [
      "\u001b[32m[I 2025-06-10 14:58:36,781]\u001b[0m Trial 53 finished with value: 13.599051902024609 and parameters: {'tp': 27.0, 'sl': 13.100000000000001, 'length_rsi': 10.0, 'rsi_low': 30.0, 'rsi_high': 83.0, 'position_type': 'long'}. Best is trial 27 with value: 25.497183681707277.\u001b[0m\n"
     ]
    },
    {
     "name": "stdout",
     "output_type": "stream",
     "text": [
      "Trial 53 concluído: calmar_ratio = 13.5991\n",
      "Trial 54 para hora 11: Testando estratégia com parâmetros {'length_rsi': 10.0, 'rsi_low': 42.0, 'rsi_high': 81.0, 'position_type': 'long'}\n",
      "Trial 54 para hora 11: Usando backtester com TP=28.80000, SL=18.30000\n",
      "Executando backtest para trial 54, hora 11...\n"
     ]
    },
    {
     "name": "stderr",
     "output_type": "stream",
     "text": [
      "\u001b[32m[I 2025-06-10 14:58:37,549]\u001b[0m Trial 54 finished with value: 7.355507634291903 and parameters: {'tp': 28.8, 'sl': 18.3, 'length_rsi': 10.0, 'rsi_low': 42.0, 'rsi_high': 81.0, 'position_type': 'long'}. Best is trial 27 with value: 25.497183681707277.\u001b[0m\n",
      "\u001b[32m[I 2025-06-10 14:58:37,558]\u001b[0m A new study created in memory with name: hora_12\u001b[0m\n"
     ]
    },
    {
     "name": "stdout",
     "output_type": "stream",
     "text": [
      "Trial 54 concluído: calmar_ratio = 7.3555\n",
      "Otimização concluída para hora 11.\n",
      "\n",
      "Melhores parâmetros para hora 11:\n",
      "calmar_ratio: 25.4972\n",
      "Parâmetros: {'length_rsi': 10.0, 'rsi_low': 44.0, 'rsi_high': 85.0, 'position_type': 'long', 'allowed_hours': [11], 'tp': 25.5, 'sl': 10.200000000000001}\n",
      "Profit Factor: 1.9060\n",
      "Win Rate: 40.00%\n",
      "Max Drawdown: 4.87%\n",
      "Total Return: $3026.80\n",
      "Total Trades: 35\n",
      "\n",
      "==================================================\n",
      "Otimizando estratégia para hora: 12:00\n",
      "Métrica: calmar_ratio - Direção: maximize\n",
      "==================================================\n",
      "Iniciando otimização com 55 trials para hora 12...\n",
      "Trial 0 para hora 12: Testando estratégia com parâmetros {'length_rsi': 7.0, 'rsi_low': 26.0, 'rsi_high': 76.0, 'position_type': 'long'}\n",
      "Trial 0 para hora 12: Usando backtester com TP=20.10000, SL=25.90000\n",
      "Executando backtest para trial 0, hora 12...\n"
     ]
    },
    {
     "name": "stderr",
     "output_type": "stream",
     "text": [
      "\u001b[32m[I 2025-06-10 14:58:38,320]\u001b[0m Trial 0 finished with value: 2.4956275511094383 and parameters: {'tp': 20.1, 'sl': 25.900000000000002, 'length_rsi': 7.0, 'rsi_low': 26.0, 'rsi_high': 76.0, 'position_type': 'long'}. Best is trial 0 with value: 2.4956275511094383.\u001b[0m\n"
     ]
    },
    {
     "name": "stdout",
     "output_type": "stream",
     "text": [
      "Trial 0 concluído: calmar_ratio = 2.4956\n",
      "Trial 1 para hora 12: Testando estratégia com parâmetros {'length_rsi': 7.0, 'rsi_low': 29.0, 'rsi_high': 67.0, 'position_type': 'both'}\n",
      "Trial 1 para hora 12: Usando backtester com TP=7.60000, SL=21.40000\n",
      "Executando backtest para trial 1, hora 12...\n"
     ]
    },
    {
     "name": "stderr",
     "output_type": "stream",
     "text": [
      "\u001b[32m[I 2025-06-10 14:58:39,082]\u001b[0m Trial 1 finished with value: 0.09975934967732863 and parameters: {'tp': 7.6000000000000005, 'sl': 21.400000000000002, 'length_rsi': 7.0, 'rsi_low': 29.0, 'rsi_high': 67.0, 'position_type': 'both'}. Best is trial 0 with value: 2.4956275511094383.\u001b[0m\n"
     ]
    },
    {
     "name": "stdout",
     "output_type": "stream",
     "text": [
      "Trial 1 concluído: calmar_ratio = 0.0998\n",
      "Trial 2 para hora 12: Testando estratégia com parâmetros {'length_rsi': 10.0, 'rsi_low': 34.0, 'rsi_high': 70.0, 'position_type': 'long'}\n",
      "Trial 2 para hora 12: Usando backtester com TP=5.70000, SL=18.10000\n",
      "Executando backtest para trial 2, hora 12...\n"
     ]
    },
    {
     "name": "stderr",
     "output_type": "stream",
     "text": [
      "\u001b[32m[I 2025-06-10 14:58:39,844]\u001b[0m Trial 2 finished with value: 2.4525971542122864 and parameters: {'tp': 5.7, 'sl': 18.1, 'length_rsi': 10.0, 'rsi_low': 34.0, 'rsi_high': 70.0, 'position_type': 'long'}. Best is trial 0 with value: 2.4956275511094383.\u001b[0m\n"
     ]
    },
    {
     "name": "stdout",
     "output_type": "stream",
     "text": [
      "Trial 2 concluído: calmar_ratio = 2.4526\n",
      "Trial 3 para hora 12: Testando estratégia com parâmetros {'length_rsi': 9.0, 'rsi_low': 45.0, 'rsi_high': 82.0, 'position_type': 'long'}\n",
      "Trial 3 para hora 12: Usando backtester com TP=29.20000, SL=28.40000\n",
      "Executando backtest para trial 3, hora 12...\n"
     ]
    },
    {
     "name": "stderr",
     "output_type": "stream",
     "text": [
      "\u001b[32m[I 2025-06-10 14:58:40,612]\u001b[0m Trial 3 finished with value: 27.861722186317692 and parameters: {'tp': 29.200000000000003, 'sl': 28.400000000000002, 'length_rsi': 9.0, 'rsi_low': 45.0, 'rsi_high': 82.0, 'position_type': 'long'}. Best is trial 3 with value: 27.861722186317692.\u001b[0m\n"
     ]
    },
    {
     "name": "stdout",
     "output_type": "stream",
     "text": [
      "Trial 3 concluído: calmar_ratio = 27.8617\n",
      "Trial 4 para hora 12: Testando estratégia com parâmetros {'length_rsi': 8.0, 'rsi_low': 44.0, 'rsi_high': 72.0, 'position_type': 'short'}\n",
      "Trial 4 para hora 12: Usando backtester com TP=26.70000, SL=20.70000\n",
      "Executando backtest para trial 4, hora 12...\n"
     ]
    },
    {
     "name": "stderr",
     "output_type": "stream",
     "text": [
      "\u001b[32m[I 2025-06-10 14:58:41,374]\u001b[0m Trial 4 finished with value: 0.008722467196454793 and parameters: {'tp': 26.700000000000003, 'sl': 20.7, 'length_rsi': 8.0, 'rsi_low': 44.0, 'rsi_high': 72.0, 'position_type': 'short'}. Best is trial 3 with value: 27.861722186317692.\u001b[0m\n"
     ]
    },
    {
     "name": "stdout",
     "output_type": "stream",
     "text": [
      "Trial 4 concluído: calmar_ratio = 0.0087\n",
      "Trial 5 para hora 12: Testando estratégia com parâmetros {'length_rsi': 8.0, 'rsi_low': 31.0, 'rsi_high': 70.0, 'position_type': 'short'}\n",
      "Trial 5 para hora 12: Usando backtester com TP=31.30000, SL=12.10000\n",
      "Executando backtest para trial 5, hora 12...\n"
     ]
    },
    {
     "name": "stderr",
     "output_type": "stream",
     "text": [
      "\u001b[32m[I 2025-06-10 14:58:42,127]\u001b[0m Trial 5 finished with value: -0.18446020531060817 and parameters: {'tp': 31.3, 'sl': 12.100000000000001, 'length_rsi': 8.0, 'rsi_low': 31.0, 'rsi_high': 70.0, 'position_type': 'short'}. Best is trial 3 with value: 27.861722186317692.\u001b[0m\n"
     ]
    },
    {
     "name": "stdout",
     "output_type": "stream",
     "text": [
      "Trial 5 concluído: calmar_ratio = -0.1845\n",
      "Trial 6 para hora 12: Testando estratégia com parâmetros {'length_rsi': 8.0, 'rsi_low': 33.0, 'rsi_high': 83.0, 'position_type': 'short'}\n",
      "Trial 6 para hora 12: Usando backtester com TP=15.60000, SL=28.90000\n",
      "Executando backtest para trial 6, hora 12...\n"
     ]
    },
    {
     "name": "stderr",
     "output_type": "stream",
     "text": [
      "\u001b[32m[I 2025-06-10 14:58:42,890]\u001b[0m Trial 6 finished with value: 0.014943522534960821 and parameters: {'tp': 15.600000000000001, 'sl': 28.900000000000002, 'length_rsi': 8.0, 'rsi_low': 33.0, 'rsi_high': 83.0, 'position_type': 'short'}. Best is trial 3 with value: 27.861722186317692.\u001b[0m\n"
     ]
    },
    {
     "name": "stdout",
     "output_type": "stream",
     "text": [
      "Trial 6 concluído: calmar_ratio = 0.0149\n",
      "Trial 7 para hora 12: Testando estratégia com parâmetros {'length_rsi': 6.0, 'rsi_low': 30.0, 'rsi_high': 68.0, 'position_type': 'short'}\n",
      "Trial 7 para hora 12: Usando backtester com TP=5.90000, SL=2.60000\n",
      "Executando backtest para trial 7, hora 12...\n"
     ]
    },
    {
     "name": "stderr",
     "output_type": "stream",
     "text": [
      "\u001b[32m[I 2025-06-10 14:58:43,662]\u001b[0m Trial 7 finished with value: -0.38548545983074267 and parameters: {'tp': 5.9, 'sl': 2.6, 'length_rsi': 6.0, 'rsi_low': 30.0, 'rsi_high': 68.0, 'position_type': 'short'}. Best is trial 3 with value: 27.861722186317692.\u001b[0m\n"
     ]
    },
    {
     "name": "stdout",
     "output_type": "stream",
     "text": [
      "Trial 7 concluído: calmar_ratio = -0.3855\n",
      "Trial 8 para hora 12: Testando estratégia com parâmetros {'length_rsi': 9.0, 'rsi_low': 39.0, 'rsi_high': 82.0, 'position_type': 'long'}\n",
      "Trial 8 para hora 12: Usando backtester com TP=24.30000, SL=28.40000\n",
      "Executando backtest para trial 8, hora 12...\n"
     ]
    },
    {
     "name": "stderr",
     "output_type": "stream",
     "text": [
      "\u001b[32m[I 2025-06-10 14:58:44,416]\u001b[0m Trial 8 finished with value: 18.25337334652503 and parameters: {'tp': 24.3, 'sl': 28.400000000000002, 'length_rsi': 9.0, 'rsi_low': 39.0, 'rsi_high': 82.0, 'position_type': 'long'}. Best is trial 3 with value: 27.861722186317692.\u001b[0m\n"
     ]
    },
    {
     "name": "stdout",
     "output_type": "stream",
     "text": [
      "Trial 8 concluído: calmar_ratio = 18.2534\n",
      "Trial 9 para hora 12: Testando estratégia com parâmetros {'length_rsi': 7.0, 'rsi_low': 29.0, 'rsi_high': 56.0, 'position_type': 'both'}\n",
      "Trial 9 para hora 12: Usando backtester com TP=5.40000, SL=9.80000\n",
      "Executando backtest para trial 9, hora 12...\n"
     ]
    },
    {
     "name": "stderr",
     "output_type": "stream",
     "text": [
      "\u001b[32m[I 2025-06-10 14:58:45,193]\u001b[0m Trial 9 finished with value: -0.16509944641880664 and parameters: {'tp': 5.4, 'sl': 9.8, 'length_rsi': 7.0, 'rsi_low': 29.0, 'rsi_high': 56.0, 'position_type': 'both'}. Best is trial 3 with value: 27.861722186317692.\u001b[0m\n"
     ]
    },
    {
     "name": "stdout",
     "output_type": "stream",
     "text": [
      "Trial 9 concluído: calmar_ratio = -0.1651\n",
      "Trial 10 para hora 12: Testando estratégia com parâmetros {'length_rsi': 10.0, 'rsi_low': 45.0, 'rsi_high': 61.0, 'position_type': 'long'}\n",
      "Trial 10 para hora 12: Usando backtester com TP=14.50000, SL=31.00000\n",
      "Executando backtest para trial 10, hora 12...\n"
     ]
    },
    {
     "name": "stderr",
     "output_type": "stream",
     "text": [
      "\u001b[32m[I 2025-06-10 14:58:45,971]\u001b[0m Trial 10 finished with value: 0.8580330047797472 and parameters: {'tp': 14.5, 'sl': 31.0, 'length_rsi': 10.0, 'rsi_low': 45.0, 'rsi_high': 61.0, 'position_type': 'long'}. Best is trial 3 with value: 27.861722186317692.\u001b[0m\n"
     ]
    },
    {
     "name": "stdout",
     "output_type": "stream",
     "text": [
      "Trial 10 concluído: calmar_ratio = 0.8580\n",
      "Trial 11 para hora 12: Testando estratégia com parâmetros {'length_rsi': 9.0, 'rsi_low': 41.0, 'rsi_high': 85.0, 'position_type': 'long'}\n",
      "Trial 11 para hora 12: Usando backtester com TP=24.30000, SL=25.20000\n",
      "Executando backtest para trial 11, hora 12...\n"
     ]
    },
    {
     "name": "stderr",
     "output_type": "stream",
     "text": [
      "\u001b[32m[I 2025-06-10 14:58:46,748]\u001b[0m Trial 11 finished with value: 70.46752707107375 and parameters: {'tp': 24.3, 'sl': 25.200000000000003, 'length_rsi': 9.0, 'rsi_low': 41.0, 'rsi_high': 85.0, 'position_type': 'long'}. Best is trial 11 with value: 70.46752707107375.\u001b[0m\n"
     ]
    },
    {
     "name": "stdout",
     "output_type": "stream",
     "text": [
      "Trial 11 concluído: calmar_ratio = 70.4675\n",
      "Trial 12 para hora 12: Testando estratégia com parâmetros {'length_rsi': 9.0, 'rsi_low': 40.0, 'rsi_high': 85.0, 'position_type': 'long'}\n",
      "Trial 12 para hora 12: Usando backtester com TP=31.30000, SL=23.90000\n",
      "Executando backtest para trial 12, hora 12...\n"
     ]
    },
    {
     "name": "stderr",
     "output_type": "stream",
     "text": [
      "\u001b[32m[I 2025-06-10 14:58:47,524]\u001b[0m Trial 12 finished with value: 83.71596194690807 and parameters: {'tp': 31.3, 'sl': 23.900000000000002, 'length_rsi': 9.0, 'rsi_low': 40.0, 'rsi_high': 85.0, 'position_type': 'long'}. Best is trial 12 with value: 83.71596194690807.\u001b[0m\n"
     ]
    },
    {
     "name": "stdout",
     "output_type": "stream",
     "text": [
      "Trial 12 concluído: calmar_ratio = 83.7160\n",
      "Trial 13 para hora 12: Testando estratégia com parâmetros {'length_rsi': 9.0, 'rsi_low': 39.0, 'rsi_high': 85.0, 'position_type': 'long'}\n",
      "Trial 13 para hora 12: Usando backtester com TP=22.00000, SL=23.40000\n",
      "Executando backtest para trial 13, hora 12...\n"
     ]
    },
    {
     "name": "stderr",
     "output_type": "stream",
     "text": [
      "\u001b[32m[I 2025-06-10 14:58:48,311]\u001b[0m Trial 13 finished with value: 48.49080255411013 and parameters: {'tp': 22.0, 'sl': 23.400000000000002, 'length_rsi': 9.0, 'rsi_low': 39.0, 'rsi_high': 85.0, 'position_type': 'long'}. Best is trial 12 with value: 83.71596194690807.\u001b[0m\n"
     ]
    },
    {
     "name": "stdout",
     "output_type": "stream",
     "text": [
      "Trial 13 concluído: calmar_ratio = 48.4908\n",
      "Trial 14 para hora 12: Testando estratégia com parâmetros {'length_rsi': 9.0, 'rsi_low': 39.0, 'rsi_high': 79.0, 'position_type': 'long'}\n",
      "Trial 14 para hora 12: Usando backtester com TP=27.60000, SL=14.20000\n",
      "Executando backtest para trial 14, hora 12...\n"
     ]
    },
    {
     "name": "stderr",
     "output_type": "stream",
     "text": [
      "\u001b[32m[I 2025-06-10 14:58:49,104]\u001b[0m Trial 14 finished with value: 9.736486817685053 and parameters: {'tp': 27.6, 'sl': 14.200000000000001, 'length_rsi': 9.0, 'rsi_low': 39.0, 'rsi_high': 79.0, 'position_type': 'long'}. Best is trial 12 with value: 83.71596194690807.\u001b[0m\n"
     ]
    },
    {
     "name": "stdout",
     "output_type": "stream",
     "text": [
      "Trial 14 concluído: calmar_ratio = 9.7365\n",
      "Trial 15 para hora 12: Testando estratégia com parâmetros {'length_rsi': 10.0, 'rsi_low': 41.0, 'rsi_high': 75.0, 'position_type': 'long'}\n",
      "Trial 15 para hora 12: Usando backtester com TP=32.00000, SL=24.20000\n",
      "Executando backtest para trial 15, hora 12...\n"
     ]
    },
    {
     "name": "stderr",
     "output_type": "stream",
     "text": [
      "\u001b[32m[I 2025-06-10 14:58:49,872]\u001b[0m Trial 15 finished with value: 11.085081763341682 and parameters: {'tp': 32.0, 'sl': 24.200000000000003, 'length_rsi': 10.0, 'rsi_low': 41.0, 'rsi_high': 75.0, 'position_type': 'long'}. Best is trial 12 with value: 83.71596194690807.\u001b[0m\n"
     ]
    },
    {
     "name": "stdout",
     "output_type": "stream",
     "text": [
      "Trial 15 concluído: calmar_ratio = 11.0851\n",
      "Trial 16 para hora 12: Testando estratégia com parâmetros {'length_rsi': 9.0, 'rsi_low': 36.0, 'rsi_high': 78.0, 'position_type': 'both'}\n",
      "Trial 16 para hora 12: Usando backtester com TP=19.40000, SL=17.50000\n",
      "Executando backtest para trial 16, hora 12...\n"
     ]
    },
    {
     "name": "stderr",
     "output_type": "stream",
     "text": [
      "\u001b[32m[I 2025-06-10 14:58:50,651]\u001b[0m Trial 16 finished with value: 0.23584441910183587 and parameters: {'tp': 19.400000000000002, 'sl': 17.5, 'length_rsi': 9.0, 'rsi_low': 36.0, 'rsi_high': 78.0, 'position_type': 'both'}. Best is trial 12 with value: 83.71596194690807.\u001b[0m\n"
     ]
    },
    {
     "name": "stdout",
     "output_type": "stream",
     "text": [
      "Trial 16 concluído: calmar_ratio = 0.2358\n",
      "Trial 17 para hora 12: Testando estratégia com parâmetros {'length_rsi': 10.0, 'rsi_low': 42.0, 'rsi_high': 85.0, 'position_type': 'long'}\n",
      "Trial 17 para hora 12: Usando backtester com TP=25.00000, SL=20.80000\n",
      "Executando backtest para trial 17, hora 12...\n"
     ]
    },
    {
     "name": "stderr",
     "output_type": "stream",
     "text": [
      "\u001b[32m[I 2025-06-10 14:58:51,410]\u001b[0m Trial 17 finished with value: 61.546646048354404 and parameters: {'tp': 25.0, 'sl': 20.8, 'length_rsi': 10.0, 'rsi_low': 42.0, 'rsi_high': 85.0, 'position_type': 'long'}. Best is trial 12 with value: 83.71596194690807.\u001b[0m\n"
     ]
    },
    {
     "name": "stdout",
     "output_type": "stream",
     "text": [
      "Trial 17 concluído: calmar_ratio = 61.5466\n",
      "Trial 18 para hora 12: Testando estratégia com parâmetros {'length_rsi': 8.0, 'rsi_low': 37.0, 'rsi_high': 64.0, 'position_type': 'long'}\n",
      "Trial 18 para hora 12: Usando backtester com TP=12.30000, SL=31.70000\n",
      "Executando backtest para trial 18, hora 12...\n"
     ]
    },
    {
     "name": "stderr",
     "output_type": "stream",
     "text": [
      "\u001b[32m[I 2025-06-10 14:58:52,180]\u001b[0m Trial 18 finished with value: 0.4779442070253903 and parameters: {'tp': 12.3, 'sl': 31.700000000000003, 'length_rsi': 8.0, 'rsi_low': 37.0, 'rsi_high': 64.0, 'position_type': 'long'}. Best is trial 12 with value: 83.71596194690807.\u001b[0m\n"
     ]
    },
    {
     "name": "stdout",
     "output_type": "stream",
     "text": [
      "Trial 18 concluído: calmar_ratio = 0.4779\n",
      "Trial 19 para hora 12: Testando estratégia com parâmetros {'length_rsi': 9.0, 'rsi_low': 42.0, 'rsi_high': 80.0, 'position_type': 'both'}\n",
      "Trial 19 para hora 12: Usando backtester com TP=23.20000, SL=25.70000\n",
      "Executando backtest para trial 19, hora 12...\n"
     ]
    },
    {
     "name": "stderr",
     "output_type": "stream",
     "text": [
      "\u001b[32m[I 2025-06-10 14:58:52,952]\u001b[0m Trial 19 finished with value: 0.1147415845433503 and parameters: {'tp': 23.200000000000003, 'sl': 25.700000000000003, 'length_rsi': 9.0, 'rsi_low': 42.0, 'rsi_high': 80.0, 'position_type': 'both'}. Best is trial 12 with value: 83.71596194690807.\u001b[0m\n"
     ]
    },
    {
     "name": "stdout",
     "output_type": "stream",
     "text": [
      "Trial 19 concluído: calmar_ratio = 0.1147\n",
      "Trial 20 para hora 12: Testando estratégia com parâmetros {'length_rsi': 6.0, 'rsi_low': 38.0, 'rsi_high': 74.0, 'position_type': 'long'}\n",
      "Trial 20 para hora 12: Usando backtester com TP=29.10000, SL=6.60000\n",
      "Executando backtest para trial 20, hora 12...\n"
     ]
    },
    {
     "name": "stderr",
     "output_type": "stream",
     "text": [
      "\u001b[32m[I 2025-06-10 14:58:53,754]\u001b[0m Trial 20 finished with value: 1.469855743849063 and parameters: {'tp': 29.1, 'sl': 6.6000000000000005, 'length_rsi': 6.0, 'rsi_low': 38.0, 'rsi_high': 74.0, 'position_type': 'long'}. Best is trial 12 with value: 83.71596194690807.\u001b[0m\n"
     ]
    },
    {
     "name": "stdout",
     "output_type": "stream",
     "text": [
      "Trial 20 concluído: calmar_ratio = 1.4699\n",
      "Trial 21 para hora 12: Testando estratégia com parâmetros {'length_rsi': 10.0, 'rsi_low': 42.0, 'rsi_high': 85.0, 'position_type': 'long'}\n",
      "Trial 21 para hora 12: Usando backtester com TP=25.30000, SL=20.70000\n",
      "Executando backtest para trial 21, hora 12...\n"
     ]
    },
    {
     "name": "stderr",
     "output_type": "stream",
     "text": [
      "\u001b[32m[I 2025-06-10 14:58:54,574]\u001b[0m Trial 21 finished with value: 64.50797789666099 and parameters: {'tp': 25.3, 'sl': 20.7, 'length_rsi': 10.0, 'rsi_low': 42.0, 'rsi_high': 85.0, 'position_type': 'long'}. Best is trial 12 with value: 83.71596194690807.\u001b[0m\n"
     ]
    },
    {
     "name": "stdout",
     "output_type": "stream",
     "text": [
      "Trial 21 concluído: calmar_ratio = 64.5080\n",
      "Trial 22 para hora 12: Testando estratégia com parâmetros {'length_rsi': 10.0, 'rsi_low': 41.0, 'rsi_high': 85.0, 'position_type': 'long'}\n",
      "Trial 22 para hora 12: Usando backtester com TP=26.30000, SL=19.00000\n",
      "Executando backtest para trial 22, hora 12...\n"
     ]
    },
    {
     "name": "stderr",
     "output_type": "stream",
     "text": [
      "\u001b[32m[I 2025-06-10 14:58:55,367]\u001b[0m Trial 22 finished with value: 60.0970603424013 and parameters: {'tp': 26.3, 'sl': 19.0, 'length_rsi': 10.0, 'rsi_low': 41.0, 'rsi_high': 85.0, 'position_type': 'long'}. Best is trial 12 with value: 83.71596194690807.\u001b[0m\n"
     ]
    },
    {
     "name": "stdout",
     "output_type": "stream",
     "text": [
      "Trial 22 concluído: calmar_ratio = 60.0971\n",
      "Trial 23 para hora 12: Testando estratégia com parâmetros {'length_rsi': 10.0, 'rsi_low': 43.0, 'rsi_high': 81.0, 'position_type': 'long'}\n",
      "Trial 23 para hora 12: Usando backtester com TP=18.80000, SL=15.80000\n",
      "Executando backtest para trial 23, hora 12...\n"
     ]
    },
    {
     "name": "stderr",
     "output_type": "stream",
     "text": [
      "\u001b[32m[I 2025-06-10 14:58:56,144]\u001b[0m Trial 23 finished with value: 6.7358721543728315 and parameters: {'tp': 18.8, 'sl': 15.8, 'length_rsi': 10.0, 'rsi_low': 43.0, 'rsi_high': 81.0, 'position_type': 'long'}. Best is trial 12 with value: 83.71596194690807.\u001b[0m\n"
     ]
    },
    {
     "name": "stdout",
     "output_type": "stream",
     "text": [
      "Trial 23 concluído: calmar_ratio = 6.7359\n",
      "Trial 24 para hora 12: Testando estratégia com parâmetros {'length_rsi': 9.0, 'rsi_low': 40.0, 'rsi_high': 78.0, 'position_type': 'long'}\n",
      "Trial 24 para hora 12: Usando backtester com TP=29.70000, SL=23.50000\n",
      "Executando backtest para trial 24, hora 12...\n"
     ]
    },
    {
     "name": "stderr",
     "output_type": "stream",
     "text": [
      "\u001b[32m[I 2025-06-10 14:58:56,926]\u001b[0m Trial 24 finished with value: 14.138419880306554 and parameters: {'tp': 29.700000000000003, 'sl': 23.5, 'length_rsi': 9.0, 'rsi_low': 40.0, 'rsi_high': 78.0, 'position_type': 'long'}. Best is trial 12 with value: 83.71596194690807.\u001b[0m\n"
     ]
    },
    {
     "name": "stdout",
     "output_type": "stream",
     "text": [
      "Trial 24 concluído: calmar_ratio = 14.1384\n",
      "Trial 25 para hora 12: Testando estratégia com parâmetros {'length_rsi': 10.0, 'rsi_low': 36.0, 'rsi_high': 83.0, 'position_type': 'long'}\n",
      "Trial 25 para hora 12: Usando backtester com TP=21.90000, SL=26.10000\n",
      "Executando backtest para trial 25, hora 12...\n"
     ]
    },
    {
     "name": "stderr",
     "output_type": "stream",
     "text": [
      "\u001b[32m[I 2025-06-10 14:58:57,706]\u001b[0m Trial 25 finished with value: 41.748177210758506 and parameters: {'tp': 21.900000000000002, 'sl': 26.1, 'length_rsi': 10.0, 'rsi_low': 36.0, 'rsi_high': 83.0, 'position_type': 'long'}. Best is trial 12 with value: 83.71596194690807.\u001b[0m\n"
     ]
    },
    {
     "name": "stdout",
     "output_type": "stream",
     "text": [
      "Trial 25 concluído: calmar_ratio = 41.7482\n",
      "Trial 26 para hora 12: Testando estratégia com parâmetros {'length_rsi': 9.0, 'rsi_low': 43.0, 'rsi_high': 77.0, 'position_type': 'long'}\n",
      "Trial 26 para hora 12: Usando backtester com TP=27.50000, SL=22.10000\n",
      "Executando backtest para trial 26, hora 12...\n"
     ]
    },
    {
     "name": "stderr",
     "output_type": "stream",
     "text": [
      "\u001b[32m[I 2025-06-10 14:58:58,471]\u001b[0m Trial 26 finished with value: 8.63775797537132 and parameters: {'tp': 27.5, 'sl': 22.1, 'length_rsi': 9.0, 'rsi_low': 43.0, 'rsi_high': 77.0, 'position_type': 'long'}. Best is trial 12 with value: 83.71596194690807.\u001b[0m\n"
     ]
    },
    {
     "name": "stdout",
     "output_type": "stream",
     "text": [
      "Trial 26 concluído: calmar_ratio = 8.6378\n",
      "Trial 27 para hora 12: Testando estratégia com parâmetros {'length_rsi': 8.0, 'rsi_low': 40.0, 'rsi_high': 85.0, 'position_type': 'long'}\n",
      "Trial 27 para hora 12: Usando backtester com TP=24.30000, SL=14.70000\n",
      "Executando backtest para trial 27, hora 12...\n"
     ]
    },
    {
     "name": "stderr",
     "output_type": "stream",
     "text": [
      "\u001b[32m[I 2025-06-10 14:58:59,247]\u001b[0m Trial 27 finished with value: 16.669461108755797 and parameters: {'tp': 24.3, 'sl': 14.700000000000001, 'length_rsi': 8.0, 'rsi_low': 40.0, 'rsi_high': 85.0, 'position_type': 'long'}. Best is trial 12 with value: 83.71596194690807.\u001b[0m\n"
     ]
    },
    {
     "name": "stdout",
     "output_type": "stream",
     "text": [
      "Trial 27 concluído: calmar_ratio = 16.6695\n",
      "Trial 28 para hora 12: Testando estratégia com parâmetros {'length_rsi': 9.0, 'rsi_low': 37.0, 'rsi_high': 81.0, 'position_type': 'short'}\n",
      "Trial 28 para hora 12: Usando backtester com TP=2.20000, SL=18.70000\n",
      "Executando backtest para trial 28, hora 12...\n"
     ]
    },
    {
     "name": "stderr",
     "output_type": "stream",
     "text": [
      "\u001b[32m[I 2025-06-10 14:59:00,021]\u001b[0m Trial 28 finished with value: -0.3528106471166836 and parameters: {'tp': 2.2, 'sl': 18.7, 'length_rsi': 9.0, 'rsi_low': 37.0, 'rsi_high': 81.0, 'position_type': 'short'}. Best is trial 12 with value: 83.71596194690807.\u001b[0m\n"
     ]
    },
    {
     "name": "stdout",
     "output_type": "stream",
     "text": [
      "Trial 28 concluído: calmar_ratio = -0.3528\n",
      "Trial 29 para hora 12: Testando estratégia com parâmetros {'length_rsi': 10.0, 'rsi_low': 25.0, 'rsi_high': 76.0, 'position_type': 'both'}\n",
      "Trial 29 para hora 12: Usando backtester com TP=21.40000, SL=26.20000\n",
      "Executando backtest para trial 29, hora 12...\n"
     ]
    },
    {
     "name": "stderr",
     "output_type": "stream",
     "text": [
      "\u001b[32m[I 2025-06-10 14:59:00,789]\u001b[0m Trial 29 finished with value: 1.0136013729962956 and parameters: {'tp': 21.400000000000002, 'sl': 26.200000000000003, 'length_rsi': 10.0, 'rsi_low': 25.0, 'rsi_high': 76.0, 'position_type': 'both'}. Best is trial 12 with value: 83.71596194690807.\u001b[0m\n"
     ]
    },
    {
     "name": "stdout",
     "output_type": "stream",
     "text": [
      "Trial 29 concluído: calmar_ratio = 1.0136\n",
      "Trial 30 para hora 12: Testando estratégia com parâmetros {'length_rsi': 8.0, 'rsi_low': 43.0, 'rsi_high': 73.0, 'position_type': 'long'}\n",
      "Trial 30 para hora 12: Usando backtester com TP=17.90000, SL=25.00000\n",
      "Executando backtest para trial 30, hora 12...\n"
     ]
    },
    {
     "name": "stderr",
     "output_type": "stream",
     "text": [
      "\u001b[32m[I 2025-06-10 14:59:01,575]\u001b[0m Trial 30 finished with value: 3.628729382684532 and parameters: {'tp': 17.9, 'sl': 25.0, 'length_rsi': 8.0, 'rsi_low': 43.0, 'rsi_high': 73.0, 'position_type': 'long'}. Best is trial 12 with value: 83.71596194690807.\u001b[0m\n"
     ]
    },
    {
     "name": "stdout",
     "output_type": "stream",
     "text": [
      "Trial 30 concluído: calmar_ratio = 3.6287\n",
      "Trial 31 para hora 12: Testando estratégia com parâmetros {'length_rsi': 10.0, 'rsi_low': 41.0, 'rsi_high': 85.0, 'position_type': 'long'}\n",
      "Trial 31 para hora 12: Usando backtester com TP=25.20000, SL=20.20000\n",
      "Executando backtest para trial 31, hora 12...\n"
     ]
    },
    {
     "name": "stderr",
     "output_type": "stream",
     "text": [
      "\u001b[32m[I 2025-06-10 14:59:02,344]\u001b[0m Trial 31 finished with value: 47.67675257736877 and parameters: {'tp': 25.200000000000003, 'sl': 20.2, 'length_rsi': 10.0, 'rsi_low': 41.0, 'rsi_high': 85.0, 'position_type': 'long'}. Best is trial 12 with value: 83.71596194690807.\u001b[0m\n"
     ]
    },
    {
     "name": "stdout",
     "output_type": "stream",
     "text": [
      "Trial 31 concluído: calmar_ratio = 47.6768\n",
      "Trial 32 para hora 12: Testando estratégia com parâmetros {'length_rsi': 10.0, 'rsi_low': 42.0, 'rsi_high': 84.0, 'position_type': 'long'}\n",
      "Trial 32 para hora 12: Usando backtester com TP=30.10000, SL=22.50000\n",
      "Executando backtest para trial 32, hora 12...\n"
     ]
    },
    {
     "name": "stderr",
     "output_type": "stream",
     "text": [
      "\u001b[32m[I 2025-06-10 14:59:03,112]\u001b[0m Trial 32 finished with value: 57.06738830664474 and parameters: {'tp': 30.1, 'sl': 22.5, 'length_rsi': 10.0, 'rsi_low': 42.0, 'rsi_high': 84.0, 'position_type': 'long'}. Best is trial 12 with value: 83.71596194690807.\u001b[0m\n"
     ]
    },
    {
     "name": "stdout",
     "output_type": "stream",
     "text": [
      "Trial 32 concluído: calmar_ratio = 57.0674\n",
      "Trial 33 para hora 12: Testando estratégia com parâmetros {'length_rsi': 10.0, 'rsi_low': 44.0, 'rsi_high': 80.0, 'position_type': 'long'}\n",
      "Trial 33 para hora 12: Usando backtester com TP=20.90000, SL=20.20000\n",
      "Executando backtest para trial 33, hora 12...\n"
     ]
    },
    {
     "name": "stderr",
     "output_type": "stream",
     "text": [
      "\u001b[32m[I 2025-06-10 14:59:03,872]\u001b[0m Trial 33 finished with value: 9.326005345472653 and parameters: {'tp': 20.900000000000002, 'sl': 20.2, 'length_rsi': 10.0, 'rsi_low': 44.0, 'rsi_high': 80.0, 'position_type': 'long'}. Best is trial 12 with value: 83.71596194690807.\u001b[0m\n"
     ]
    },
    {
     "name": "stdout",
     "output_type": "stream",
     "text": [
      "Trial 33 concluído: calmar_ratio = 9.3260\n",
      "Trial 34 para hora 12: Testando estratégia com parâmetros {'length_rsi': 9.0, 'rsi_low': 42.0, 'rsi_high': 83.0, 'position_type': 'long'}\n",
      "Trial 34 para hora 12: Usando backtester com TP=28.20000, SL=26.90000\n",
      "Executando backtest para trial 34, hora 12...\n"
     ]
    },
    {
     "name": "stderr",
     "output_type": "stream",
     "text": [
      "\u001b[32m[I 2025-06-10 14:59:04,647]\u001b[0m Trial 34 finished with value: 33.631574460010015 and parameters: {'tp': 28.200000000000003, 'sl': 26.900000000000002, 'length_rsi': 9.0, 'rsi_low': 42.0, 'rsi_high': 83.0, 'position_type': 'long'}. Best is trial 12 with value: 83.71596194690807.\u001b[0m\n"
     ]
    },
    {
     "name": "stdout",
     "output_type": "stream",
     "text": [
      "Trial 34 concluído: calmar_ratio = 33.6316\n",
      "Trial 35 para hora 12: Testando estratégia com parâmetros {'length_rsi': 7.0, 'rsi_low': 40.0, 'rsi_high': 82.0, 'position_type': 'long'}\n",
      "Trial 35 para hora 12: Usando backtester com TP=25.50000, SL=21.00000\n",
      "Executando backtest para trial 35, hora 12...\n"
     ]
    },
    {
     "name": "stderr",
     "output_type": "stream",
     "text": [
      "\u001b[32m[I 2025-06-10 14:59:05,414]\u001b[0m Trial 35 finished with value: 12.764369136294853 and parameters: {'tp': 25.5, 'sl': 21.0, 'length_rsi': 7.0, 'rsi_low': 40.0, 'rsi_high': 82.0, 'position_type': 'long'}. Best is trial 12 with value: 83.71596194690807.\u001b[0m\n"
     ]
    },
    {
     "name": "stdout",
     "output_type": "stream",
     "text": [
      "Trial 35 concluído: calmar_ratio = 12.7644\n",
      "Trial 36 para hora 12: Testando estratégia com parâmetros {'length_rsi': 10.0, 'rsi_low': 34.0, 'rsi_high': 80.0, 'position_type': 'long'}\n",
      "Trial 36 para hora 12: Usando backtester com TP=23.20000, SL=28.00000\n",
      "Executando backtest para trial 36, hora 12...\n"
     ]
    },
    {
     "name": "stderr",
     "output_type": "stream",
     "text": [
      "\u001b[32m[I 2025-06-10 14:59:06,178]\u001b[0m Trial 36 finished with value: 9.227720251205147 and parameters: {'tp': 23.200000000000003, 'sl': 28.0, 'length_rsi': 10.0, 'rsi_low': 34.0, 'rsi_high': 80.0, 'position_type': 'long'}. Best is trial 12 with value: 83.71596194690807.\u001b[0m\n"
     ]
    },
    {
     "name": "stdout",
     "output_type": "stream",
     "text": [
      "Trial 36 concluído: calmar_ratio = 9.2277\n",
      "Trial 37 para hora 12: Testando estratégia com parâmetros {'length_rsi': 9.0, 'rsi_low': 44.0, 'rsi_high': 83.0, 'position_type': 'both'}\n",
      "Trial 37 para hora 12: Usando backtester com TP=30.80000, SL=16.20000\n",
      "Executando backtest para trial 37, hora 12...\n"
     ]
    },
    {
     "name": "stderr",
     "output_type": "stream",
     "text": [
      "\u001b[32m[I 2025-06-10 14:59:06,953]\u001b[0m Trial 37 finished with value: 0.0959992910714977 and parameters: {'tp': 30.8, 'sl': 16.200000000000003, 'length_rsi': 9.0, 'rsi_low': 44.0, 'rsi_high': 83.0, 'position_type': 'both'}. Best is trial 12 with value: 83.71596194690807.\u001b[0m\n"
     ]
    },
    {
     "name": "stdout",
     "output_type": "stream",
     "text": [
      "Trial 37 concluído: calmar_ratio = 0.0960\n",
      "Trial 38 para hora 12: Testando estratégia com parâmetros {'length_rsi': 10.0, 'rsi_low': 45.0, 'rsi_high': 85.0, 'position_type': 'short'}\n",
      "Trial 38 para hora 12: Usando backtester com TP=11.40000, SL=30.00000\n",
      "Executando backtest para trial 38, hora 12...\n"
     ]
    },
    {
     "name": "stderr",
     "output_type": "stream",
     "text": [
      "\u001b[32m[I 2025-06-10 14:59:07,726]\u001b[0m Trial 38 finished with value: 0.44596722290096863 and parameters: {'tp': 11.4, 'sl': 30.0, 'length_rsi': 10.0, 'rsi_low': 45.0, 'rsi_high': 85.0, 'position_type': 'short'}. Best is trial 12 with value: 83.71596194690807.\u001b[0m\n"
     ]
    },
    {
     "name": "stdout",
     "output_type": "stream",
     "text": [
      "Trial 38 concluído: calmar_ratio = 0.4460\n",
      "Trial 39 para hora 12: Testando estratégia com parâmetros {'length_rsi': 9.0, 'rsi_low': 42.0, 'rsi_high': 82.0, 'position_type': 'long'}\n",
      "Trial 39 para hora 12: Usando backtester com TP=28.60000, SL=22.00000\n",
      "Executando backtest para trial 39, hora 12...\n"
     ]
    },
    {
     "name": "stderr",
     "output_type": "stream",
     "text": [
      "\u001b[32m[I 2025-06-10 14:59:08,498]\u001b[0m Trial 39 finished with value: 21.10637935808275 and parameters: {'tp': 28.6, 'sl': 22.0, 'length_rsi': 9.0, 'rsi_low': 42.0, 'rsi_high': 82.0, 'position_type': 'long'}. Best is trial 12 with value: 83.71596194690807.\u001b[0m\n"
     ]
    },
    {
     "name": "stdout",
     "output_type": "stream",
     "text": [
      "Trial 39 concluído: calmar_ratio = 21.1064\n",
      "Trial 40 para hora 12: Testando estratégia com parâmetros {'length_rsi': 8.0, 'rsi_low': 32.0, 'rsi_high': 56.0, 'position_type': 'short'}\n",
      "Trial 40 para hora 12: Usando backtester com TP=15.70000, SL=23.90000\n",
      "Executando backtest para trial 40, hora 12...\n"
     ]
    },
    {
     "name": "stderr",
     "output_type": "stream",
     "text": [
      "\u001b[32m[I 2025-06-10 14:59:09,269]\u001b[0m Trial 40 finished with value: -0.0821166855374049 and parameters: {'tp': 15.700000000000001, 'sl': 23.900000000000002, 'length_rsi': 8.0, 'rsi_low': 32.0, 'rsi_high': 56.0, 'position_type': 'short'}. Best is trial 12 with value: 83.71596194690807.\u001b[0m\n"
     ]
    },
    {
     "name": "stdout",
     "output_type": "stream",
     "text": [
      "Trial 40 concluído: calmar_ratio = -0.0821\n",
      "Trial 41 para hora 12: Testando estratégia com parâmetros {'length_rsi': 10.0, 'rsi_low': 41.0, 'rsi_high': 84.0, 'position_type': 'long'}\n",
      "Trial 41 para hora 12: Usando backtester com TP=25.90000, SL=19.20000\n",
      "Executando backtest para trial 41, hora 12...\n"
     ]
    },
    {
     "name": "stderr",
     "output_type": "stream",
     "text": [
      "\u001b[32m[I 2025-06-10 14:59:10,040]\u001b[0m Trial 41 finished with value: 53.986536131484115 and parameters: {'tp': 25.900000000000002, 'sl': 19.2, 'length_rsi': 10.0, 'rsi_low': 41.0, 'rsi_high': 84.0, 'position_type': 'long'}. Best is trial 12 with value: 83.71596194690807.\u001b[0m\n"
     ]
    },
    {
     "name": "stdout",
     "output_type": "stream",
     "text": [
      "Trial 41 concluído: calmar_ratio = 53.9865\n",
      "Trial 42 para hora 12: Testando estratégia com parâmetros {'length_rsi': 10.0, 'rsi_low': 38.0, 'rsi_high': 85.0, 'position_type': 'long'}\n",
      "Trial 42 para hora 12: Usando backtester com TP=26.70000, SL=18.80000\n",
      "Executando backtest para trial 42, hora 12...\n"
     ]
    },
    {
     "name": "stderr",
     "output_type": "stream",
     "text": [
      "\u001b[32m[I 2025-06-10 14:59:10,809]\u001b[0m Trial 42 finished with value: 64.35428344034929 and parameters: {'tp': 26.700000000000003, 'sl': 18.8, 'length_rsi': 10.0, 'rsi_low': 38.0, 'rsi_high': 85.0, 'position_type': 'long'}. Best is trial 12 with value: 83.71596194690807.\u001b[0m\n"
     ]
    },
    {
     "name": "stdout",
     "output_type": "stream",
     "text": [
      "Trial 42 concluído: calmar_ratio = 64.3543\n",
      "Trial 43 para hora 12: Testando estratégia com parâmetros {'length_rsi': 10.0, 'rsi_low': 38.0, 'rsi_high': 83.0, 'position_type': 'long'}\n",
      "Trial 43 para hora 12: Usando backtester com TP=23.40000, SL=17.70000\n",
      "Executando backtest para trial 43, hora 12...\n"
     ]
    },
    {
     "name": "stderr",
     "output_type": "stream",
     "text": [
      "\u001b[32m[I 2025-06-10 14:59:11,587]\u001b[0m Trial 43 finished with value: 49.7486350262386 and parameters: {'tp': 23.400000000000002, 'sl': 17.700000000000003, 'length_rsi': 10.0, 'rsi_low': 38.0, 'rsi_high': 83.0, 'position_type': 'long'}. Best is trial 12 with value: 83.71596194690807.\u001b[0m\n"
     ]
    },
    {
     "name": "stdout",
     "output_type": "stream",
     "text": [
      "Trial 43 concluído: calmar_ratio = 49.7486\n",
      "Trial 44 para hora 12: Testando estratégia com parâmetros {'length_rsi': 10.0, 'rsi_low': 38.0, 'rsi_high': 84.0, 'position_type': 'long'}\n",
      "Trial 44 para hora 12: Usando backtester com TP=26.70000, SL=12.80000\n",
      "Executando backtest para trial 44, hora 12...\n"
     ]
    },
    {
     "name": "stderr",
     "output_type": "stream",
     "text": [
      "\u001b[32m[I 2025-06-10 14:59:12,371]\u001b[0m Trial 44 finished with value: 48.762141296334505 and parameters: {'tp': 26.700000000000003, 'sl': 12.8, 'length_rsi': 10.0, 'rsi_low': 38.0, 'rsi_high': 84.0, 'position_type': 'long'}. Best is trial 12 with value: 83.71596194690807.\u001b[0m\n"
     ]
    },
    {
     "name": "stdout",
     "output_type": "stream",
     "text": [
      "Trial 44 concluído: calmar_ratio = 48.7621\n",
      "Trial 45 para hora 12: Testando estratégia com parâmetros {'length_rsi': 10.0, 'rsi_low': 39.0, 'rsi_high': 81.0, 'position_type': 'long'}\n",
      "Trial 45 para hora 12: Usando backtester com TP=31.10000, SL=20.50000\n",
      "Executando backtest para trial 45, hora 12...\n"
     ]
    },
    {
     "name": "stderr",
     "output_type": "stream",
     "text": [
      "\u001b[32m[I 2025-06-10 14:59:13,152]\u001b[0m Trial 45 finished with value: 30.307165775774862 and parameters: {'tp': 31.1, 'sl': 20.5, 'length_rsi': 10.0, 'rsi_low': 39.0, 'rsi_high': 81.0, 'position_type': 'long'}. Best is trial 12 with value: 83.71596194690807.\u001b[0m\n"
     ]
    },
    {
     "name": "stdout",
     "output_type": "stream",
     "text": [
      "Trial 45 concluído: calmar_ratio = 30.3072\n",
      "Trial 46 para hora 12: Testando estratégia com parâmetros {'length_rsi': 9.0, 'rsi_low': 35.0, 'rsi_high': 65.0, 'position_type': 'long'}\n",
      "Trial 46 para hora 12: Usando backtester com TP=26.80000, SL=27.50000\n",
      "Executando backtest para trial 46, hora 12...\n"
     ]
    },
    {
     "name": "stderr",
     "output_type": "stream",
     "text": [
      "\u001b[32m[I 2025-06-10 14:59:13,934]\u001b[0m Trial 46 finished with value: 2.7727140255377916 and parameters: {'tp': 26.8, 'sl': 27.5, 'length_rsi': 9.0, 'rsi_low': 35.0, 'rsi_high': 65.0, 'position_type': 'long'}. Best is trial 12 with value: 83.71596194690807.\u001b[0m\n"
     ]
    },
    {
     "name": "stdout",
     "output_type": "stream",
     "text": [
      "Trial 46 concluído: calmar_ratio = 2.7727\n",
      "Trial 47 para hora 12: Testando estratégia com parâmetros {'length_rsi': 9.0, 'rsi_low': 40.0, 'rsi_high': 71.0, 'position_type': 'long'}\n",
      "Trial 47 para hora 12: Usando backtester com TP=24.60000, SL=22.60000\n",
      "Executando backtest para trial 47, hora 12...\n"
     ]
    },
    {
     "name": "stderr",
     "output_type": "stream",
     "text": [
      "\u001b[32m[I 2025-06-10 14:59:14,724]\u001b[0m Trial 47 finished with value: 4.987742671888864 and parameters: {'tp': 24.6, 'sl': 22.6, 'length_rsi': 9.0, 'rsi_low': 40.0, 'rsi_high': 71.0, 'position_type': 'long'}. Best is trial 12 with value: 83.71596194690807.\u001b[0m\n"
     ]
    },
    {
     "name": "stdout",
     "output_type": "stream",
     "text": [
      "Trial 47 concluído: calmar_ratio = 4.9877\n",
      "Trial 48 para hora 12: Testando estratégia com parâmetros {'length_rsi': 10.0, 'rsi_low': 27.0, 'rsi_high': 59.0, 'position_type': 'short'}\n",
      "Trial 48 para hora 12: Usando backtester com TP=20.10000, SL=24.90000\n",
      "Executando backtest para trial 48, hora 12...\n"
     ]
    },
    {
     "name": "stderr",
     "output_type": "stream",
     "text": [
      "\u001b[32m[I 2025-06-10 14:59:15,507]\u001b[0m Trial 48 finished with value: -0.06582491741719544 and parameters: {'tp': 20.1, 'sl': 24.900000000000002, 'length_rsi': 10.0, 'rsi_low': 27.0, 'rsi_high': 59.0, 'position_type': 'short'}. Best is trial 12 with value: 83.71596194690807.\u001b[0m\n"
     ]
    },
    {
     "name": "stdout",
     "output_type": "stream",
     "text": [
      "Trial 48 concluído: calmar_ratio = -0.0658\n",
      "Trial 49 para hora 12: Testando estratégia com parâmetros {'length_rsi': 8.0, 'rsi_low': 37.0, 'rsi_high': 68.0, 'position_type': 'both'}\n",
      "Trial 49 para hora 12: Usando backtester com TP=31.80000, SL=29.80000\n",
      "Executando backtest para trial 49, hora 12...\n"
     ]
    },
    {
     "name": "stderr",
     "output_type": "stream",
     "text": [
      "\u001b[32m[I 2025-06-10 14:59:16,289]\u001b[0m Trial 49 finished with value: 0.4832383640290551 and parameters: {'tp': 31.8, 'sl': 29.8, 'length_rsi': 8.0, 'rsi_low': 37.0, 'rsi_high': 68.0, 'position_type': 'both'}. Best is trial 12 with value: 83.71596194690807.\u001b[0m\n"
     ]
    },
    {
     "name": "stdout",
     "output_type": "stream",
     "text": [
      "Trial 49 concluído: calmar_ratio = 0.4832\n",
      "Trial 50 para hora 12: Testando estratégia com parâmetros {'length_rsi': 9.0, 'rsi_low': 43.0, 'rsi_high': 79.0, 'position_type': 'long'}\n",
      "Trial 50 para hora 12: Usando backtester com TP=28.10000, SL=16.50000\n",
      "Executando backtest para trial 50, hora 12...\n"
     ]
    },
    {
     "name": "stderr",
     "output_type": "stream",
     "text": [
      "\u001b[32m[I 2025-06-10 14:59:17,084]\u001b[0m Trial 50 finished with value: 8.778784976533233 and parameters: {'tp': 28.1, 'sl': 16.5, 'length_rsi': 9.0, 'rsi_low': 43.0, 'rsi_high': 79.0, 'position_type': 'long'}. Best is trial 12 with value: 83.71596194690807.\u001b[0m\n"
     ]
    },
    {
     "name": "stdout",
     "output_type": "stream",
     "text": [
      "Trial 50 concluído: calmar_ratio = 8.7788\n",
      "Trial 51 para hora 12: Testando estratégia com parâmetros {'length_rsi': 10.0, 'rsi_low': 41.0, 'rsi_high': 85.0, 'position_type': 'long'}\n",
      "Trial 51 para hora 12: Usando backtester com TP=25.90000, SL=18.90000\n",
      "Executando backtest para trial 51, hora 12...\n"
     ]
    },
    {
     "name": "stderr",
     "output_type": "stream",
     "text": [
      "\u001b[32m[I 2025-06-10 14:59:17,865]\u001b[0m Trial 51 finished with value: 58.636356110163334 and parameters: {'tp': 25.900000000000002, 'sl': 18.900000000000002, 'length_rsi': 10.0, 'rsi_low': 41.0, 'rsi_high': 85.0, 'position_type': 'long'}. Best is trial 12 with value: 83.71596194690807.\u001b[0m\n"
     ]
    },
    {
     "name": "stdout",
     "output_type": "stream",
     "text": [
      "Trial 51 concluído: calmar_ratio = 58.6364\n",
      "Trial 52 para hora 12: Testando estratégia com parâmetros {'length_rsi': 10.0, 'rsi_low': 41.0, 'rsi_high': 84.0, 'position_type': 'long'}\n",
      "Trial 52 para hora 12: Usando backtester com TP=29.50000, SL=19.60000\n",
      "Executando backtest para trial 52, hora 12...\n"
     ]
    },
    {
     "name": "stderr",
     "output_type": "stream",
     "text": [
      "\u001b[32m[I 2025-06-10 14:59:18,668]\u001b[0m Trial 52 finished with value: 63.755617477005785 and parameters: {'tp': 29.5, 'sl': 19.6, 'length_rsi': 10.0, 'rsi_low': 41.0, 'rsi_high': 84.0, 'position_type': 'long'}. Best is trial 12 with value: 83.71596194690807.\u001b[0m\n"
     ]
    },
    {
     "name": "stdout",
     "output_type": "stream",
     "text": [
      "Trial 52 concluído: calmar_ratio = 63.7556\n",
      "Trial 53 para hora 12: Testando estratégia com parâmetros {'length_rsi': 10.0, 'rsi_low': 39.0, 'rsi_high': 84.0, 'position_type': 'long'}\n",
      "Trial 53 para hora 12: Usando backtester com TP=29.80000, SL=21.30000\n",
      "Executando backtest para trial 53, hora 12...\n"
     ]
    },
    {
     "name": "stderr",
     "output_type": "stream",
     "text": [
      "\u001b[32m[I 2025-06-10 14:59:19,447]\u001b[0m Trial 53 finished with value: 64.22067490733023 and parameters: {'tp': 29.8, 'sl': 21.3, 'length_rsi': 10.0, 'rsi_low': 39.0, 'rsi_high': 84.0, 'position_type': 'long'}. Best is trial 12 with value: 83.71596194690807.\u001b[0m\n"
     ]
    },
    {
     "name": "stdout",
     "output_type": "stream",
     "text": [
      "Trial 53 concluído: calmar_ratio = 64.2207\n",
      "Trial 54 para hora 12: Testando estratégia com parâmetros {'length_rsi': 10.0, 'rsi_low': 39.0, 'rsi_high': 82.0, 'position_type': 'long'}\n",
      "Trial 54 para hora 12: Usando backtester com TP=29.80000, SL=23.50000\n",
      "Executando backtest para trial 54, hora 12...\n"
     ]
    },
    {
     "name": "stderr",
     "output_type": "stream",
     "text": [
      "\u001b[32m[I 2025-06-10 14:59:20,220]\u001b[0m Trial 54 finished with value: 33.26277567245212 and parameters: {'tp': 29.8, 'sl': 23.5, 'length_rsi': 10.0, 'rsi_low': 39.0, 'rsi_high': 82.0, 'position_type': 'long'}. Best is trial 12 with value: 83.71596194690807.\u001b[0m\n",
      "\u001b[32m[I 2025-06-10 14:59:20,223]\u001b[0m A new study created in memory with name: hora_13\u001b[0m\n"
     ]
    },
    {
     "name": "stdout",
     "output_type": "stream",
     "text": [
      "Trial 54 concluído: calmar_ratio = 33.2628\n",
      "Otimização concluída para hora 12.\n",
      "\n",
      "Melhores parâmetros para hora 12:\n",
      "calmar_ratio: 83.7160\n",
      "Parâmetros: {'length_rsi': 9.0, 'rsi_low': 40.0, 'rsi_high': 85.0, 'position_type': 'long', 'allowed_hours': [12], 'tp': 31.3, 'sl': 23.900000000000002}\n",
      "Profit Factor: 2.1779\n",
      "Win Rate: 59.57%\n",
      "Max Drawdown: 4.21%\n",
      "Total Return: $7441.20\n",
      "Total Trades: 47\n",
      "\n",
      "==================================================\n",
      "Otimizando estratégia para hora: 13:00\n",
      "Métrica: calmar_ratio - Direção: maximize\n",
      "==================================================\n",
      "Iniciando otimização com 55 trials para hora 13...\n",
      "Trial 0 para hora 13: Testando estratégia com parâmetros {'length_rsi': 8.0, 'rsi_low': 37.0, 'rsi_high': 84.0, 'position_type': 'both'}\n",
      "Trial 0 para hora 13: Usando backtester com TP=23.10000, SL=28.10000\n",
      "Executando backtest para trial 0, hora 13...\n"
     ]
    },
    {
     "name": "stderr",
     "output_type": "stream",
     "text": [
      "\u001b[32m[I 2025-06-10 14:59:20,997]\u001b[0m Trial 0 finished with value: 0.32435206347598616 and parameters: {'tp': 23.1, 'sl': 28.1, 'length_rsi': 8.0, 'rsi_low': 37.0, 'rsi_high': 84.0, 'position_type': 'both'}. Best is trial 0 with value: 0.32435206347598616.\u001b[0m\n"
     ]
    },
    {
     "name": "stdout",
     "output_type": "stream",
     "text": [
      "Trial 0 concluído: calmar_ratio = 0.3244\n",
      "Trial 1 para hora 13: Testando estratégia com parâmetros {'length_rsi': 9.0, 'rsi_low': 25.0, 'rsi_high': 74.0, 'position_type': 'both'}\n",
      "Trial 1 para hora 13: Usando backtester com TP=4.30000, SL=24.20000\n",
      "Executando backtest para trial 1, hora 13...\n"
     ]
    },
    {
     "name": "stderr",
     "output_type": "stream",
     "text": [
      "\u001b[32m[I 2025-06-10 14:59:21,768]\u001b[0m Trial 1 finished with value: 0.46648933836186074 and parameters: {'tp': 4.300000000000001, 'sl': 24.200000000000003, 'length_rsi': 9.0, 'rsi_low': 25.0, 'rsi_high': 74.0, 'position_type': 'both'}. Best is trial 1 with value: 0.46648933836186074.\u001b[0m\n"
     ]
    },
    {
     "name": "stdout",
     "output_type": "stream",
     "text": [
      "Trial 1 concluído: calmar_ratio = 0.4665\n",
      "Trial 2 para hora 13: Testando estratégia com parâmetros {'length_rsi': 8.0, 'rsi_low': 43.0, 'rsi_high': 65.0, 'position_type': 'short'}\n",
      "Trial 2 para hora 13: Usando backtester com TP=8.90000, SL=22.20000\n",
      "Executando backtest para trial 2, hora 13...\n"
     ]
    },
    {
     "name": "stderr",
     "output_type": "stream",
     "text": [
      "\u001b[32m[I 2025-06-10 14:59:22,526]\u001b[0m Trial 2 finished with value: -0.22409777323072144 and parameters: {'tp': 8.9, 'sl': 22.200000000000003, 'length_rsi': 8.0, 'rsi_low': 43.0, 'rsi_high': 65.0, 'position_type': 'short'}. Best is trial 1 with value: 0.46648933836186074.\u001b[0m\n"
     ]
    },
    {
     "name": "stdout",
     "output_type": "stream",
     "text": [
      "Trial 2 concluído: calmar_ratio = -0.2241\n",
      "Trial 3 para hora 13: Testando estratégia com parâmetros {'length_rsi': 10.0, 'rsi_low': 32.0, 'rsi_high': 68.0, 'position_type': 'both'}\n",
      "Trial 3 para hora 13: Usando backtester com TP=9.70000, SL=6.20000\n",
      "Executando backtest para trial 3, hora 13...\n"
     ]
    },
    {
     "name": "stderr",
     "output_type": "stream",
     "text": [
      "\u001b[32m[I 2025-06-10 14:59:23,300]\u001b[0m Trial 3 finished with value: -0.163465855725166 and parameters: {'tp': 9.7, 'sl': 6.2, 'length_rsi': 10.0, 'rsi_low': 32.0, 'rsi_high': 68.0, 'position_type': 'both'}. Best is trial 1 with value: 0.46648933836186074.\u001b[0m\n"
     ]
    },
    {
     "name": "stdout",
     "output_type": "stream",
     "text": [
      "Trial 3 concluído: calmar_ratio = -0.1635\n",
      "Trial 4 para hora 13: Testando estratégia com parâmetros {'length_rsi': 8.0, 'rsi_low': 45.0, 'rsi_high': 71.0, 'position_type': 'both'}\n",
      "Trial 4 para hora 13: Usando backtester com TP=28.10000, SL=13.60000\n",
      "Executando backtest para trial 4, hora 13...\n"
     ]
    },
    {
     "name": "stderr",
     "output_type": "stream",
     "text": [
      "\u001b[32m[I 2025-06-10 14:59:24,107]\u001b[0m Trial 4 finished with value: -0.13372325476761904 and parameters: {'tp': 28.1, 'sl': 13.600000000000001, 'length_rsi': 8.0, 'rsi_low': 45.0, 'rsi_high': 71.0, 'position_type': 'both'}. Best is trial 1 with value: 0.46648933836186074.\u001b[0m\n"
     ]
    },
    {
     "name": "stdout",
     "output_type": "stream",
     "text": [
      "Trial 4 concluído: calmar_ratio = -0.1337\n",
      "Trial 5 para hora 13: Testando estratégia com parâmetros {'length_rsi': 6.0, 'rsi_low': 40.0, 'rsi_high': 77.0, 'position_type': 'long'}\n",
      "Trial 5 para hora 13: Usando backtester com TP=26.00000, SL=18.70000\n",
      "Executando backtest para trial 5, hora 13...\n"
     ]
    },
    {
     "name": "stderr",
     "output_type": "stream",
     "text": [
      "\u001b[32m[I 2025-06-10 14:59:24,900]\u001b[0m Trial 5 finished with value: 2.382910773219697 and parameters: {'tp': 26.0, 'sl': 18.7, 'length_rsi': 6.0, 'rsi_low': 40.0, 'rsi_high': 77.0, 'position_type': 'long'}. Best is trial 5 with value: 2.382910773219697.\u001b[0m\n"
     ]
    },
    {
     "name": "stdout",
     "output_type": "stream",
     "text": [
      "Trial 5 concluído: calmar_ratio = 2.3829\n",
      "Trial 6 para hora 13: Testando estratégia com parâmetros {'length_rsi': 8.0, 'rsi_low': 34.0, 'rsi_high': 60.0, 'position_type': 'both'}\n",
      "Trial 6 para hora 13: Usando backtester com TP=14.90000, SL=2.30000\n",
      "Executando backtest para trial 6, hora 13...\n"
     ]
    },
    {
     "name": "stderr",
     "output_type": "stream",
     "text": [
      "\u001b[32m[I 2025-06-10 14:59:25,697]\u001b[0m Trial 6 finished with value: -0.22872999832453064 and parameters: {'tp': 14.9, 'sl': 2.3, 'length_rsi': 8.0, 'rsi_low': 34.0, 'rsi_high': 60.0, 'position_type': 'both'}. Best is trial 5 with value: 2.382910773219697.\u001b[0m\n"
     ]
    },
    {
     "name": "stdout",
     "output_type": "stream",
     "text": [
      "Trial 6 concluído: calmar_ratio = -0.2287\n",
      "Trial 7 para hora 13: Testando estratégia com parâmetros {'length_rsi': 7.0, 'rsi_low': 34.0, 'rsi_high': 60.0, 'position_type': 'short'}\n",
      "Trial 7 para hora 13: Usando backtester com TP=7.00000, SL=13.90000\n",
      "Executando backtest para trial 7, hora 13...\n"
     ]
    },
    {
     "name": "stderr",
     "output_type": "stream",
     "text": [
      "\u001b[32m[I 2025-06-10 14:59:26,466]\u001b[0m Trial 7 finished with value: -0.3126560087870578 and parameters: {'tp': 7.0, 'sl': 13.9, 'length_rsi': 7.0, 'rsi_low': 34.0, 'rsi_high': 60.0, 'position_type': 'short'}. Best is trial 5 with value: 2.382910773219697.\u001b[0m\n"
     ]
    },
    {
     "name": "stdout",
     "output_type": "stream",
     "text": [
      "Trial 7 concluído: calmar_ratio = -0.3127\n",
      "Trial 8 para hora 13: Testando estratégia com parâmetros {'length_rsi': 6.0, 'rsi_low': 43.0, 'rsi_high': 69.0, 'position_type': 'long'}\n",
      "Trial 8 para hora 13: Usando backtester com TP=23.20000, SL=8.40000\n",
      "Executando backtest para trial 8, hora 13...\n"
     ]
    },
    {
     "name": "stderr",
     "output_type": "stream",
     "text": [
      "\u001b[32m[I 2025-06-10 14:59:27,238]\u001b[0m Trial 8 finished with value: -0.1182623192317392 and parameters: {'tp': 23.200000000000003, 'sl': 8.4, 'length_rsi': 6.0, 'rsi_low': 43.0, 'rsi_high': 69.0, 'position_type': 'long'}. Best is trial 5 with value: 2.382910773219697.\u001b[0m\n"
     ]
    },
    {
     "name": "stdout",
     "output_type": "stream",
     "text": [
      "Trial 8 concluído: calmar_ratio = -0.1183\n",
      "Trial 9 para hora 13: Testando estratégia com parâmetros {'length_rsi': 7.0, 'rsi_low': 28.0, 'rsi_high': 79.0, 'position_type': 'both'}\n",
      "Trial 9 para hora 13: Usando backtester com TP=23.40000, SL=18.30000\n",
      "Executando backtest para trial 9, hora 13...\n"
     ]
    },
    {
     "name": "stderr",
     "output_type": "stream",
     "text": [
      "\u001b[32m[I 2025-06-10 14:59:28,007]\u001b[0m Trial 9 finished with value: 0.42968127717107807 and parameters: {'tp': 23.400000000000002, 'sl': 18.3, 'length_rsi': 7.0, 'rsi_low': 28.0, 'rsi_high': 79.0, 'position_type': 'both'}. Best is trial 5 with value: 2.382910773219697.\u001b[0m\n"
     ]
    },
    {
     "name": "stdout",
     "output_type": "stream",
     "text": [
      "Trial 9 concluído: calmar_ratio = 0.4297\n",
      "Trial 10 para hora 13: Testando estratégia com parâmetros {'length_rsi': 6.0, 'rsi_low': 39.0, 'rsi_high': 85.0, 'position_type': 'long'}\n",
      "Trial 10 para hora 13: Usando backtester com TP=32.00000, SL=31.10000\n",
      "Executando backtest para trial 10, hora 13...\n"
     ]
    },
    {
     "name": "stderr",
     "output_type": "stream",
     "text": [
      "\u001b[32m[I 2025-06-10 14:59:28,795]\u001b[0m Trial 10 finished with value: 17.80598129273302 and parameters: {'tp': 32.0, 'sl': 31.1, 'length_rsi': 6.0, 'rsi_low': 39.0, 'rsi_high': 85.0, 'position_type': 'long'}. Best is trial 10 with value: 17.80598129273302.\u001b[0m\n"
     ]
    },
    {
     "name": "stdout",
     "output_type": "stream",
     "text": [
      "Trial 10 concluído: calmar_ratio = 17.8060\n",
      "Trial 11 para hora 13: Testando estratégia com parâmetros {'length_rsi': 6.0, 'rsi_low': 39.0, 'rsi_high': 83.0, 'position_type': 'long'}\n",
      "Trial 11 para hora 13: Usando backtester com TP=32.00000, SL=31.00000\n",
      "Executando backtest para trial 11, hora 13...\n"
     ]
    },
    {
     "name": "stderr",
     "output_type": "stream",
     "text": [
      "\u001b[32m[I 2025-06-10 14:59:29,567]\u001b[0m Trial 11 finished with value: 9.547699559740803 and parameters: {'tp': 32.0, 'sl': 31.0, 'length_rsi': 6.0, 'rsi_low': 39.0, 'rsi_high': 83.0, 'position_type': 'long'}. Best is trial 10 with value: 17.80598129273302.\u001b[0m\n"
     ]
    },
    {
     "name": "stdout",
     "output_type": "stream",
     "text": [
      "Trial 11 concluído: calmar_ratio = 9.5477\n",
      "Trial 12 para hora 13: Testando estratégia com parâmetros {'length_rsi': 6.0, 'rsi_low': 40.0, 'rsi_high': 85.0, 'position_type': 'long'}\n",
      "Trial 12 para hora 13: Usando backtester com TP=32.00000, SL=32.00000\n",
      "Executando backtest para trial 12, hora 13...\n"
     ]
    },
    {
     "name": "stderr",
     "output_type": "stream",
     "text": [
      "\u001b[32m[I 2025-06-10 14:59:30,345]\u001b[0m Trial 12 finished with value: 17.551383125897143 and parameters: {'tp': 32.0, 'sl': 32.0, 'length_rsi': 6.0, 'rsi_low': 40.0, 'rsi_high': 85.0, 'position_type': 'long'}. Best is trial 10 with value: 17.80598129273302.\u001b[0m\n"
     ]
    },
    {
     "name": "stdout",
     "output_type": "stream",
     "text": [
      "Trial 12 concluído: calmar_ratio = 17.5514\n",
      "Trial 13 para hora 13: Testando estratégia com parâmetros {'length_rsi': 7.0, 'rsi_low': 40.0, 'rsi_high': 85.0, 'position_type': 'long'}\n",
      "Trial 13 para hora 13: Usando backtester com TP=31.90000, SL=31.70000\n",
      "Executando backtest para trial 13, hora 13...\n"
     ]
    },
    {
     "name": "stderr",
     "output_type": "stream",
     "text": [
      "\u001b[32m[I 2025-06-10 14:59:31,112]\u001b[0m Trial 13 finished with value: 25.633699166824417 and parameters: {'tp': 31.900000000000002, 'sl': 31.700000000000003, 'length_rsi': 7.0, 'rsi_low': 40.0, 'rsi_high': 85.0, 'position_type': 'long'}. Best is trial 13 with value: 25.633699166824417.\u001b[0m\n"
     ]
    },
    {
     "name": "stdout",
     "output_type": "stream",
     "text": [
      "Trial 13 concluído: calmar_ratio = 25.6337\n",
      "Trial 14 para hora 13: Testando estratégia com parâmetros {'length_rsi': 7.0, 'rsi_low': 37.0, 'rsi_high': 80.0, 'position_type': 'long'}\n",
      "Trial 14 para hora 13: Usando backtester com TP=17.30000, SL=25.90000\n",
      "Executando backtest para trial 14, hora 13...\n"
     ]
    },
    {
     "name": "stderr",
     "output_type": "stream",
     "text": [
      "\u001b[32m[I 2025-06-10 14:59:31,887]\u001b[0m Trial 14 finished with value: 4.302631601057793 and parameters: {'tp': 17.3, 'sl': 25.900000000000002, 'length_rsi': 7.0, 'rsi_low': 37.0, 'rsi_high': 80.0, 'position_type': 'long'}. Best is trial 13 with value: 25.633699166824417.\u001b[0m\n"
     ]
    },
    {
     "name": "stdout",
     "output_type": "stream",
     "text": [
      "Trial 14 concluído: calmar_ratio = 4.3026\n",
      "Trial 15 para hora 13: Testando estratégia com parâmetros {'length_rsi': 7.0, 'rsi_low': 42.0, 'rsi_high': 55.0, 'position_type': 'long'}\n",
      "Trial 15 para hora 13: Usando backtester com TP=18.10000, SL=28.30000\n",
      "Executando backtest para trial 15, hora 13...\n"
     ]
    },
    {
     "name": "stderr",
     "output_type": "stream",
     "text": [
      "\u001b[32m[I 2025-06-10 14:59:32,681]\u001b[0m Trial 15 finished with value: 0.3256570303723091 and parameters: {'tp': 18.1, 'sl': 28.3, 'length_rsi': 7.0, 'rsi_low': 42.0, 'rsi_high': 55.0, 'position_type': 'long'}. Best is trial 13 with value: 25.633699166824417.\u001b[0m\n"
     ]
    },
    {
     "name": "stdout",
     "output_type": "stream",
     "text": [
      "Trial 15 concluído: calmar_ratio = 0.3257\n",
      "Trial 16 para hora 13: Testando estratégia com parâmetros {'length_rsi': 7.0, 'rsi_low': 38.0, 'rsi_high': 75.0, 'position_type': 'long'}\n",
      "Trial 16 para hora 13: Usando backtester com TP=29.10000, SL=21.80000\n",
      "Executando backtest para trial 16, hora 13...\n"
     ]
    },
    {
     "name": "stderr",
     "output_type": "stream",
     "text": [
      "\u001b[32m[I 2025-06-10 14:59:33,451]\u001b[0m Trial 16 finished with value: 4.128484955023316 and parameters: {'tp': 29.1, 'sl': 21.8, 'length_rsi': 7.0, 'rsi_low': 38.0, 'rsi_high': 75.0, 'position_type': 'long'}. Best is trial 13 with value: 25.633699166824417.\u001b[0m\n"
     ]
    },
    {
     "name": "stdout",
     "output_type": "stream",
     "text": [
      "Trial 16 concluído: calmar_ratio = 4.1285\n",
      "Trial 17 para hora 13: Testando estratégia com parâmetros {'length_rsi': 9.0, 'rsi_low': 32.0, 'rsi_high': 81.0, 'position_type': 'short'}\n",
      "Trial 17 para hora 13: Usando backtester com TP=27.30000, SL=28.40000\n",
      "Executando backtest para trial 17, hora 13...\n"
     ]
    },
    {
     "name": "stderr",
     "output_type": "stream",
     "text": [
      "\u001b[32m[I 2025-06-10 14:59:34,223]\u001b[0m Trial 17 finished with value: 0.17417237847951642 and parameters: {'tp': 27.3, 'sl': 28.400000000000002, 'length_rsi': 9.0, 'rsi_low': 32.0, 'rsi_high': 81.0, 'position_type': 'short'}. Best is trial 13 with value: 25.633699166824417.\u001b[0m\n"
     ]
    },
    {
     "name": "stdout",
     "output_type": "stream",
     "text": [
      "Trial 17 concluído: calmar_ratio = 0.1742\n",
      "Trial 18 para hora 13: Testando estratégia com parâmetros {'length_rsi': 6.0, 'rsi_low': 45.0, 'rsi_high': 85.0, 'position_type': 'long'}\n",
      "Trial 18 para hora 13: Usando backtester com TP=21.20000, SL=31.90000\n",
      "Executando backtest para trial 18, hora 13...\n"
     ]
    },
    {
     "name": "stderr",
     "output_type": "stream",
     "text": [
      "\u001b[32m[I 2025-06-10 14:59:34,992]\u001b[0m Trial 18 finished with value: 7.481765560951237 and parameters: {'tp': 21.200000000000003, 'sl': 31.900000000000002, 'length_rsi': 6.0, 'rsi_low': 45.0, 'rsi_high': 85.0, 'position_type': 'long'}. Best is trial 13 with value: 25.633699166824417.\u001b[0m\n"
     ]
    },
    {
     "name": "stdout",
     "output_type": "stream",
     "text": [
      "Trial 18 concluído: calmar_ratio = 7.4818\n",
      "Trial 19 para hora 13: Testando estratégia com parâmetros {'length_rsi': 7.0, 'rsi_low': 36.0, 'rsi_high': 77.0, 'position_type': 'long'}\n",
      "Trial 19 para hora 13: Usando backtester com TP=14.20000, SL=25.30000\n",
      "Executando backtest para trial 19, hora 13...\n"
     ]
    },
    {
     "name": "stderr",
     "output_type": "stream",
     "text": [
      "\u001b[32m[I 2025-06-10 14:59:35,773]\u001b[0m Trial 19 finished with value: 1.7333096045391472 and parameters: {'tp': 14.200000000000001, 'sl': 25.3, 'length_rsi': 7.0, 'rsi_low': 36.0, 'rsi_high': 77.0, 'position_type': 'long'}. Best is trial 13 with value: 25.633699166824417.\u001b[0m\n"
     ]
    },
    {
     "name": "stdout",
     "output_type": "stream",
     "text": [
      "Trial 19 concluído: calmar_ratio = 1.7333\n",
      "Trial 20 para hora 13: Testando estratégia com parâmetros {'length_rsi': 9.0, 'rsi_low': 42.0, 'rsi_high': 81.0, 'position_type': 'long'}\n",
      "Trial 20 para hora 13: Usando backtester com TP=29.60000, SL=21.40000\n",
      "Executando backtest para trial 20, hora 13...\n"
     ]
    },
    {
     "name": "stderr",
     "output_type": "stream",
     "text": [
      "\u001b[32m[I 2025-06-10 14:59:36,545]\u001b[0m Trial 20 finished with value: 18.521767857340393 and parameters: {'tp': 29.6, 'sl': 21.400000000000002, 'length_rsi': 9.0, 'rsi_low': 42.0, 'rsi_high': 81.0, 'position_type': 'long'}. Best is trial 13 with value: 25.633699166824417.\u001b[0m\n"
     ]
    },
    {
     "name": "stdout",
     "output_type": "stream",
     "text": [
      "Trial 20 concluído: calmar_ratio = 18.5218\n",
      "Trial 21 para hora 13: Testando estratégia com parâmetros {'length_rsi': 9.0, 'rsi_low': 42.0, 'rsi_high': 82.0, 'position_type': 'long'}\n",
      "Trial 21 para hora 13: Usando backtester com TP=30.60000, SL=21.30000\n",
      "Executando backtest para trial 21, hora 13...\n"
     ]
    },
    {
     "name": "stderr",
     "output_type": "stream",
     "text": [
      "\u001b[32m[I 2025-06-10 14:59:37,318]\u001b[0m Trial 21 finished with value: 21.551944448685628 and parameters: {'tp': 30.6, 'sl': 21.3, 'length_rsi': 9.0, 'rsi_low': 42.0, 'rsi_high': 82.0, 'position_type': 'long'}. Best is trial 13 with value: 25.633699166824417.\u001b[0m\n"
     ]
    },
    {
     "name": "stdout",
     "output_type": "stream",
     "text": [
      "Trial 21 concluído: calmar_ratio = 21.5519\n",
      "Trial 22 para hora 13: Testando estratégia com parâmetros {'length_rsi': 9.0, 'rsi_low': 42.0, 'rsi_high': 81.0, 'position_type': 'long'}\n",
      "Trial 22 para hora 13: Usando backtester com TP=29.30000, SL=13.80000\n",
      "Executando backtest para trial 22, hora 13...\n"
     ]
    },
    {
     "name": "stderr",
     "output_type": "stream",
     "text": [
      "\u001b[32m[I 2025-06-10 14:59:38,088]\u001b[0m Trial 22 finished with value: 25.823246476677564 and parameters: {'tp': 29.3, 'sl': 13.8, 'length_rsi': 9.0, 'rsi_low': 42.0, 'rsi_high': 81.0, 'position_type': 'long'}. Best is trial 22 with value: 25.823246476677564.\u001b[0m\n"
     ]
    },
    {
     "name": "stdout",
     "output_type": "stream",
     "text": [
      "Trial 22 concluído: calmar_ratio = 25.8232\n",
      "Trial 23 para hora 13: Testando estratégia com parâmetros {'length_rsi': 10.0, 'rsi_low': 42.0, 'rsi_high': 82.0, 'position_type': 'long'}\n",
      "Trial 23 para hora 13: Usando backtester com TP=26.10000, SL=13.90000\n",
      "Executando backtest para trial 23, hora 13...\n"
     ]
    },
    {
     "name": "stderr",
     "output_type": "stream",
     "text": [
      "\u001b[32m[I 2025-06-10 14:59:38,859]\u001b[0m Trial 23 finished with value: 26.352103777906308 and parameters: {'tp': 26.1, 'sl': 13.9, 'length_rsi': 10.0, 'rsi_low': 42.0, 'rsi_high': 82.0, 'position_type': 'long'}. Best is trial 23 with value: 26.352103777906308.\u001b[0m\n"
     ]
    },
    {
     "name": "stdout",
     "output_type": "stream",
     "text": [
      "Trial 23 concluído: calmar_ratio = 26.3521\n",
      "Trial 24 para hora 13: Testando estratégia com parâmetros {'length_rsi': 10.0, 'rsi_low': 41.0, 'rsi_high': 78.0, 'position_type': 'long'}\n",
      "Trial 24 para hora 13: Usando backtester com TP=26.10000, SL=12.40000\n",
      "Executando backtest para trial 24, hora 13...\n"
     ]
    },
    {
     "name": "stderr",
     "output_type": "stream",
     "text": [
      "\u001b[32m[I 2025-06-10 14:59:39,652]\u001b[0m Trial 24 finished with value: 11.364689626058276 and parameters: {'tp': 26.1, 'sl': 12.4, 'length_rsi': 10.0, 'rsi_low': 41.0, 'rsi_high': 78.0, 'position_type': 'long'}. Best is trial 23 with value: 26.352103777906308.\u001b[0m\n"
     ]
    },
    {
     "name": "stdout",
     "output_type": "stream",
     "text": [
      "Trial 24 concluído: calmar_ratio = 11.3647\n",
      "Trial 25 para hora 13: Testando estratégia com parâmetros {'length_rsi': 10.0, 'rsi_low': 44.0, 'rsi_high': 75.0, 'position_type': 'short'}\n",
      "Trial 25 para hora 13: Usando backtester com TP=20.10000, SL=10.60000\n",
      "Executando backtest para trial 25, hora 13...\n"
     ]
    },
    {
     "name": "stderr",
     "output_type": "stream",
     "text": [
      "\u001b[32m[I 2025-06-10 14:59:40,425]\u001b[0m Trial 25 finished with value: -0.23301222020558565 and parameters: {'tp': 20.1, 'sl': 10.6, 'length_rsi': 10.0, 'rsi_low': 44.0, 'rsi_high': 75.0, 'position_type': 'short'}. Best is trial 23 with value: 26.352103777906308.\u001b[0m\n"
     ]
    },
    {
     "name": "stdout",
     "output_type": "stream",
     "text": [
      "Trial 25 concluído: calmar_ratio = -0.2330\n",
      "Trial 26 para hora 13: Testando estratégia com parâmetros {'length_rsi': 10.0, 'rsi_low': 40.0, 'rsi_high': 73.0, 'position_type': 'long'}\n",
      "Trial 26 para hora 13: Usando backtester com TP=25.20000, SL=14.60000\n",
      "Executando backtest para trial 26, hora 13...\n"
     ]
    },
    {
     "name": "stderr",
     "output_type": "stream",
     "text": [
      "\u001b[32m[I 2025-06-10 14:59:41,201]\u001b[0m Trial 26 finished with value: 3.265334577890607 and parameters: {'tp': 25.200000000000003, 'sl': 14.600000000000001, 'length_rsi': 10.0, 'rsi_low': 40.0, 'rsi_high': 73.0, 'position_type': 'long'}. Best is trial 23 with value: 26.352103777906308.\u001b[0m\n"
     ]
    },
    {
     "name": "stdout",
     "output_type": "stream",
     "text": [
      "Trial 26 concluído: calmar_ratio = 3.2653\n",
      "Trial 27 para hora 13: Testando estratégia com parâmetros {'length_rsi': 9.0, 'rsi_low': 44.0, 'rsi_high': 83.0, 'position_type': 'long'}\n",
      "Trial 27 para hora 13: Usando backtester com TP=29.00000, SL=16.20000\n",
      "Executando backtest para trial 27, hora 13...\n"
     ]
    },
    {
     "name": "stderr",
     "output_type": "stream",
     "text": [
      "\u001b[32m[I 2025-06-10 14:59:41,981]\u001b[0m Trial 27 finished with value: 31.18269694592834 and parameters: {'tp': 29.0, 'sl': 16.200000000000003, 'length_rsi': 9.0, 'rsi_low': 44.0, 'rsi_high': 83.0, 'position_type': 'long'}. Best is trial 27 with value: 31.18269694592834.\u001b[0m\n"
     ]
    },
    {
     "name": "stdout",
     "output_type": "stream",
     "text": [
      "Trial 27 concluído: calmar_ratio = 31.1827\n",
      "Trial 28 para hora 13: Testando estratégia com parâmetros {'length_rsi': 9.0, 'rsi_low': 45.0, 'rsi_high': 79.0, 'position_type': 'long'}\n",
      "Trial 28 para hora 13: Usando backtester com TP=28.00000, SL=16.30000\n",
      "Executando backtest para trial 28, hora 13...\n"
     ]
    },
    {
     "name": "stderr",
     "output_type": "stream",
     "text": [
      "\u001b[32m[I 2025-06-10 14:59:42,760]\u001b[0m Trial 28 finished with value: 13.039459021534153 and parameters: {'tp': 28.0, 'sl': 16.3, 'length_rsi': 9.0, 'rsi_low': 45.0, 'rsi_high': 79.0, 'position_type': 'long'}. Best is trial 27 with value: 31.18269694592834.\u001b[0m\n"
     ]
    },
    {
     "name": "stdout",
     "output_type": "stream",
     "text": [
      "Trial 28 concluído: calmar_ratio = 13.0395\n",
      "Trial 29 para hora 13: Testando estratégia com parâmetros {'length_rsi': 9.0, 'rsi_low': 43.0, 'rsi_high': 83.0, 'position_type': 'short'}\n",
      "Trial 29 para hora 13: Usando backtester com TP=24.10000, SL=10.30000\n",
      "Executando backtest para trial 29, hora 13...\n"
     ]
    },
    {
     "name": "stderr",
     "output_type": "stream",
     "text": [
      "\u001b[32m[I 2025-06-10 14:59:43,549]\u001b[0m Trial 29 finished with value: -0.25167418163202343 and parameters: {'tp': 24.1, 'sl': 10.3, 'length_rsi': 9.0, 'rsi_low': 43.0, 'rsi_high': 83.0, 'position_type': 'short'}. Best is trial 27 with value: 31.18269694592834.\u001b[0m\n"
     ]
    },
    {
     "name": "stdout",
     "output_type": "stream",
     "text": [
      "Trial 29 concluído: calmar_ratio = -0.2517\n",
      "Trial 30 para hora 13: Testando estratégia com parâmetros {'length_rsi': 10.0, 'rsi_low': 37.0, 'rsi_high': 82.0, 'position_type': 'long'}\n",
      "Trial 30 para hora 13: Usando backtester com TP=20.60000, SL=16.20000\n",
      "Executando backtest para trial 30, hora 13...\n"
     ]
    },
    {
     "name": "stderr",
     "output_type": "stream",
     "text": [
      "\u001b[32m[I 2025-06-10 14:59:44,340]\u001b[0m Trial 30 finished with value: 35.445950078054985 and parameters: {'tp': 20.6, 'sl': 16.200000000000003, 'length_rsi': 10.0, 'rsi_low': 37.0, 'rsi_high': 82.0, 'position_type': 'long'}. Best is trial 30 with value: 35.445950078054985.\u001b[0m\n"
     ]
    },
    {
     "name": "stdout",
     "output_type": "stream",
     "text": [
      "Trial 30 concluído: calmar_ratio = 35.4460\n",
      "Trial 31 para hora 13: Testando estratégia com parâmetros {'length_rsi': 10.0, 'rsi_low': 37.0, 'rsi_high': 82.0, 'position_type': 'long'}\n",
      "Trial 31 para hora 13: Usando backtester com TP=21.20000, SL=16.80000\n",
      "Executando backtest para trial 31, hora 13...\n"
     ]
    },
    {
     "name": "stderr",
     "output_type": "stream",
     "text": [
      "\u001b[32m[I 2025-06-10 14:59:45,135]\u001b[0m Trial 31 finished with value: 35.271995234404386 and parameters: {'tp': 21.200000000000003, 'sl': 16.8, 'length_rsi': 10.0, 'rsi_low': 37.0, 'rsi_high': 82.0, 'position_type': 'long'}. Best is trial 30 with value: 35.445950078054985.\u001b[0m\n"
     ]
    },
    {
     "name": "stdout",
     "output_type": "stream",
     "text": [
      "Trial 31 concluído: calmar_ratio = 35.2720\n",
      "Trial 32 para hora 13: Testando estratégia com parâmetros {'length_rsi': 10.0, 'rsi_low': 36.0, 'rsi_high': 77.0, 'position_type': 'long'}\n",
      "Trial 32 para hora 13: Usando backtester com TP=21.40000, SL=17.00000\n",
      "Executando backtest para trial 32, hora 13...\n"
     ]
    },
    {
     "name": "stderr",
     "output_type": "stream",
     "text": [
      "\u001b[32m[I 2025-06-10 14:59:45,915]\u001b[0m Trial 32 finished with value: 9.464546776791035 and parameters: {'tp': 21.400000000000002, 'sl': 17.0, 'length_rsi': 10.0, 'rsi_low': 36.0, 'rsi_high': 77.0, 'position_type': 'long'}. Best is trial 30 with value: 35.445950078054985.\u001b[0m\n"
     ]
    },
    {
     "name": "stdout",
     "output_type": "stream",
     "text": [
      "Trial 32 concluído: calmar_ratio = 9.4645\n",
      "Trial 33 para hora 13: Testando estratégia com parâmetros {'length_rsi': 10.0, 'rsi_low': 32.0, 'rsi_high': 83.0, 'position_type': 'long'}\n",
      "Trial 33 para hora 13: Usando backtester com TP=19.10000, SL=18.80000\n",
      "Executando backtest para trial 33, hora 13...\n"
     ]
    },
    {
     "name": "stderr",
     "output_type": "stream",
     "text": [
      "\u001b[32m[I 2025-06-10 14:59:46,717]\u001b[0m Trial 33 finished with value: 27.67880486767181 and parameters: {'tp': 19.1, 'sl': 18.8, 'length_rsi': 10.0, 'rsi_low': 32.0, 'rsi_high': 83.0, 'position_type': 'long'}. Best is trial 30 with value: 35.445950078054985.\u001b[0m\n"
     ]
    },
    {
     "name": "stdout",
     "output_type": "stream",
     "text": [
      "Trial 33 concluído: calmar_ratio = 27.6788\n",
      "Trial 34 para hora 13: Testando estratégia com parâmetros {'length_rsi': 10.0, 'rsi_low': 29.0, 'rsi_high': 83.0, 'position_type': 'long'}\n",
      "Trial 34 para hora 13: Usando backtester com TP=12.50000, SL=19.50000\n",
      "Executando backtest para trial 34, hora 13...\n"
     ]
    },
    {
     "name": "stderr",
     "output_type": "stream",
     "text": [
      "\u001b[32m[I 2025-06-10 14:59:47,515]\u001b[0m Trial 34 finished with value: 6.447834933957436 and parameters: {'tp': 12.5, 'sl': 19.5, 'length_rsi': 10.0, 'rsi_low': 29.0, 'rsi_high': 83.0, 'position_type': 'long'}. Best is trial 30 with value: 35.445950078054985.\u001b[0m\n"
     ]
    },
    {
     "name": "stdout",
     "output_type": "stream",
     "text": [
      "Trial 34 concluído: calmar_ratio = 6.4478\n",
      "Trial 35 para hora 13: Testando estratégia com parâmetros {'length_rsi': 10.0, 'rsi_low': 31.0, 'rsi_high': 65.0, 'position_type': 'both'}\n",
      "Trial 35 para hora 13: Usando backtester com TP=18.70000, SL=15.90000\n",
      "Executando backtest para trial 35, hora 13...\n"
     ]
    },
    {
     "name": "stderr",
     "output_type": "stream",
     "text": [
      "\u001b[32m[I 2025-06-10 14:59:48,303]\u001b[0m Trial 35 finished with value: 0.3241993028646301 and parameters: {'tp': 18.7, 'sl': 15.9, 'length_rsi': 10.0, 'rsi_low': 31.0, 'rsi_high': 65.0, 'position_type': 'both'}. Best is trial 30 with value: 35.445950078054985.\u001b[0m\n"
     ]
    },
    {
     "name": "stdout",
     "output_type": "stream",
     "text": [
      "Trial 35 concluído: calmar_ratio = 0.3242\n",
      "Trial 36 para hora 13: Testando estratégia com parâmetros {'length_rsi': 10.0, 'rsi_low': 25.0, 'rsi_high': 73.0, 'position_type': 'long'}\n",
      "Trial 36 para hora 13: Usando backtester com TP=15.80000, SL=20.00000\n",
      "Executando backtest para trial 36, hora 13...\n"
     ]
    },
    {
     "name": "stderr",
     "output_type": "stream",
     "text": [
      "\u001b[32m[I 2025-06-10 14:59:49,101]\u001b[0m Trial 36 finished with value: 2.2209330330877175 and parameters: {'tp': 15.8, 'sl': 20.0, 'length_rsi': 10.0, 'rsi_low': 25.0, 'rsi_high': 73.0, 'position_type': 'long'}. Best is trial 30 with value: 35.445950078054985.\u001b[0m\n"
     ]
    },
    {
     "name": "stdout",
     "output_type": "stream",
     "text": [
      "Trial 36 concluído: calmar_ratio = 2.2209\n",
      "Trial 37 para hora 13: Testando estratégia com parâmetros {'length_rsi': 10.0, 'rsi_low': 34.0, 'rsi_high': 79.0, 'position_type': 'both'}\n",
      "Trial 37 para hora 13: Usando backtester com TP=19.90000, SL=17.10000\n",
      "Executando backtest para trial 37, hora 13...\n"
     ]
    },
    {
     "name": "stderr",
     "output_type": "stream",
     "text": [
      "\u001b[32m[I 2025-06-10 14:59:49,871]\u001b[0m Trial 37 finished with value: 0.2629092837322579 and parameters: {'tp': 19.900000000000002, 'sl': 17.1, 'length_rsi': 10.0, 'rsi_low': 34.0, 'rsi_high': 79.0, 'position_type': 'both'}. Best is trial 30 with value: 35.445950078054985.\u001b[0m\n"
     ]
    },
    {
     "name": "stdout",
     "output_type": "stream",
     "text": [
      "Trial 37 concluído: calmar_ratio = 0.2629\n",
      "Trial 38 para hora 13: Testando estratégia com parâmetros {'length_rsi': 9.0, 'rsi_low': 30.0, 'rsi_high': 71.0, 'position_type': 'short'}\n",
      "Trial 38 para hora 13: Usando backtester com TP=12.20000, SL=23.70000\n",
      "Executando backtest para trial 38, hora 13...\n"
     ]
    },
    {
     "name": "stderr",
     "output_type": "stream",
     "text": [
      "\u001b[32m[I 2025-06-10 14:59:50,656]\u001b[0m Trial 38 finished with value: 0.2134379029804814 and parameters: {'tp': 12.200000000000001, 'sl': 23.700000000000003, 'length_rsi': 9.0, 'rsi_low': 30.0, 'rsi_high': 71.0, 'position_type': 'short'}. Best is trial 30 with value: 35.445950078054985.\u001b[0m\n"
     ]
    },
    {
     "name": "stdout",
     "output_type": "stream",
     "text": [
      "Trial 38 concluído: calmar_ratio = 0.2134\n",
      "Trial 39 para hora 13: Testando estratégia com parâmetros {'length_rsi': 8.0, 'rsi_low': 35.0, 'rsi_high': 83.0, 'position_type': 'long'}\n",
      "Trial 39 para hora 13: Usando backtester com TP=21.40000, SL=11.20000\n",
      "Executando backtest para trial 39, hora 13...\n"
     ]
    },
    {
     "name": "stderr",
     "output_type": "stream",
     "text": [
      "\u001b[32m[I 2025-06-10 14:59:51,446]\u001b[0m Trial 39 finished with value: 13.888439185498042 and parameters: {'tp': 21.400000000000002, 'sl': 11.200000000000001, 'length_rsi': 8.0, 'rsi_low': 35.0, 'rsi_high': 83.0, 'position_type': 'long'}. Best is trial 30 with value: 35.445950078054985.\u001b[0m\n"
     ]
    },
    {
     "name": "stdout",
     "output_type": "stream",
     "text": [
      "Trial 39 concluído: calmar_ratio = 13.8884\n",
      "Trial 40 para hora 13: Testando estratégia com parâmetros {'length_rsi': 10.0, 'rsi_low': 33.0, 'rsi_high': 76.0, 'position_type': 'long'}\n",
      "Trial 40 para hora 13: Usando backtester com TP=2.10000, SL=7.10000\n",
      "Executando backtest para trial 40, hora 13...\n"
     ]
    },
    {
     "name": "stderr",
     "output_type": "stream",
     "text": [
      "\u001b[32m[I 2025-06-10 14:59:52,237]\u001b[0m Trial 40 finished with value: -1.6486345113661527 and parameters: {'tp': 2.1, 'sl': 7.1000000000000005, 'length_rsi': 10.0, 'rsi_low': 33.0, 'rsi_high': 76.0, 'position_type': 'long'}. Best is trial 30 with value: 35.445950078054985.\u001b[0m\n"
     ]
    },
    {
     "name": "stdout",
     "output_type": "stream",
     "text": [
      "Trial 40 concluído: calmar_ratio = -1.6486\n",
      "Trial 41 para hora 13: Testando estratégia com parâmetros {'length_rsi': 10.0, 'rsi_low': 37.0, 'rsi_high': 81.0, 'position_type': 'long'}\n",
      "Trial 41 para hora 13: Usando backtester com TP=24.80000, SL=18.20000\n",
      "Executando backtest para trial 41, hora 13...\n"
     ]
    },
    {
     "name": "stderr",
     "output_type": "stream",
     "text": [
      "\u001b[32m[I 2025-06-10 14:59:53,024]\u001b[0m Trial 41 finished with value: 9.558637109786376 and parameters: {'tp': 24.8, 'sl': 18.2, 'length_rsi': 10.0, 'rsi_low': 37.0, 'rsi_high': 81.0, 'position_type': 'long'}. Best is trial 30 with value: 35.445950078054985.\u001b[0m\n"
     ]
    },
    {
     "name": "stdout",
     "output_type": "stream",
     "text": [
      "Trial 41 concluído: calmar_ratio = 9.5586\n",
      "Trial 42 para hora 13: Testando estratégia com parâmetros {'length_rsi': 10.0, 'rsi_low': 38.0, 'rsi_high': 83.0, 'position_type': 'long'}\n",
      "Trial 42 para hora 13: Usando backtester com TP=22.60000, SL=15.30000\n",
      "Executando backtest para trial 42, hora 13...\n"
     ]
    },
    {
     "name": "stderr",
     "output_type": "stream",
     "text": [
      "\u001b[32m[I 2025-06-10 14:59:53,863]\u001b[0m Trial 42 finished with value: 41.52549928188232 and parameters: {'tp': 22.6, 'sl': 15.3, 'length_rsi': 10.0, 'rsi_low': 38.0, 'rsi_high': 83.0, 'position_type': 'long'}. Best is trial 42 with value: 41.52549928188232.\u001b[0m\n"
     ]
    },
    {
     "name": "stdout",
     "output_type": "stream",
     "text": [
      "Trial 42 concluído: calmar_ratio = 41.5255\n",
      "Trial 43 para hora 13: Testando estratégia com parâmetros {'length_rsi': 9.0, 'rsi_low': 38.0, 'rsi_high': 84.0, 'position_type': 'long'}\n",
      "Trial 43 para hora 13: Usando backtester com TP=16.40000, SL=15.40000\n",
      "Executando backtest para trial 43, hora 13...\n"
     ]
    },
    {
     "name": "stderr",
     "output_type": "stream",
     "text": [
      "\u001b[32m[I 2025-06-10 14:59:54,738]\u001b[0m Trial 43 finished with value: 27.304694750815997 and parameters: {'tp': 16.4, 'sl': 15.4, 'length_rsi': 9.0, 'rsi_low': 38.0, 'rsi_high': 84.0, 'position_type': 'long'}. Best is trial 42 with value: 41.52549928188232.\u001b[0m\n"
     ]
    },
    {
     "name": "stdout",
     "output_type": "stream",
     "text": [
      "Trial 43 concluído: calmar_ratio = 27.3047\n",
      "Trial 44 para hora 13: Testando estratégia com parâmetros {'length_rsi': 10.0, 'rsi_low': 35.0, 'rsi_high': 65.0, 'position_type': 'long'}\n",
      "Trial 44 para hora 13: Usando backtester com TP=22.70000, SL=17.80000\n",
      "Executando backtest para trial 44, hora 13...\n"
     ]
    },
    {
     "name": "stderr",
     "output_type": "stream",
     "text": [
      "\u001b[32m[I 2025-06-10 14:59:55,600]\u001b[0m Trial 44 finished with value: 3.7044994395395303 and parameters: {'tp': 22.700000000000003, 'sl': 17.8, 'length_rsi': 10.0, 'rsi_low': 35.0, 'rsi_high': 65.0, 'position_type': 'long'}. Best is trial 42 with value: 41.52549928188232.\u001b[0m\n"
     ]
    },
    {
     "name": "stdout",
     "output_type": "stream",
     "text": [
      "Trial 44 concluído: calmar_ratio = 3.7045\n",
      "Trial 45 para hora 13: Testando estratégia com parâmetros {'length_rsi': 10.0, 'rsi_low': 33.0, 'rsi_high': 80.0, 'position_type': 'both'}\n",
      "Trial 45 para hora 13: Usando backtester com TP=18.90000, SL=12.50000\n",
      "Executando backtest para trial 45, hora 13...\n"
     ]
    },
    {
     "name": "stderr",
     "output_type": "stream",
     "text": [
      "\u001b[32m[I 2025-06-10 14:59:56,408]\u001b[0m Trial 45 finished with value: 0.39510143808053044 and parameters: {'tp': 18.900000000000002, 'sl': 12.5, 'length_rsi': 10.0, 'rsi_low': 33.0, 'rsi_high': 80.0, 'position_type': 'both'}. Best is trial 42 with value: 41.52549928188232.\u001b[0m\n"
     ]
    },
    {
     "name": "stdout",
     "output_type": "stream",
     "text": [
      "Trial 45 concluído: calmar_ratio = 0.3951\n",
      "Trial 46 para hora 13: Testando estratégia com parâmetros {'length_rsi': 9.0, 'rsi_low': 27.0, 'rsi_high': 84.0, 'position_type': 'long'}\n",
      "Trial 46 para hora 13: Usando backtester com TP=22.80000, SL=19.00000\n",
      "Executando backtest para trial 46, hora 13...\n"
     ]
    },
    {
     "name": "stderr",
     "output_type": "stream",
     "text": [
      "\u001b[32m[I 2025-06-10 14:59:57,211]\u001b[0m Trial 46 finished with value: 33.72432329413507 and parameters: {'tp': 22.8, 'sl': 19.0, 'length_rsi': 9.0, 'rsi_low': 27.0, 'rsi_high': 84.0, 'position_type': 'long'}. Best is trial 42 with value: 41.52549928188232.\u001b[0m\n"
     ]
    },
    {
     "name": "stdout",
     "output_type": "stream",
     "text": [
      "Trial 46 concluído: calmar_ratio = 33.7243\n",
      "Trial 47 para hora 13: Testando estratégia com parâmetros {'length_rsi': 8.0, 'rsi_low': 26.0, 'rsi_high': 84.0, 'position_type': 'long'}\n",
      "Trial 47 para hora 13: Usando backtester com TP=22.40000, SL=19.90000\n",
      "Executando backtest para trial 47, hora 13...\n"
     ]
    },
    {
     "name": "stderr",
     "output_type": "stream",
     "text": [
      "\u001b[32m[I 2025-06-10 14:59:58,025]\u001b[0m Trial 47 finished with value: 20.066736314971703 and parameters: {'tp': 22.400000000000002, 'sl': 19.900000000000002, 'length_rsi': 8.0, 'rsi_low': 26.0, 'rsi_high': 84.0, 'position_type': 'long'}. Best is trial 42 with value: 41.52549928188232.\u001b[0m\n"
     ]
    },
    {
     "name": "stdout",
     "output_type": "stream",
     "text": [
      "Trial 47 concluído: calmar_ratio = 20.0667\n",
      "Trial 48 para hora 13: Testando estratégia com parâmetros {'length_rsi': 9.0, 'rsi_low': 38.0, 'rsi_high': 79.0, 'position_type': 'long'}\n",
      "Trial 48 para hora 13: Usando backtester com TP=27.10000, SL=2.40000\n",
      "Executando backtest para trial 48, hora 13...\n"
     ]
    },
    {
     "name": "stderr",
     "output_type": "stream",
     "text": [
      "\u001b[32m[I 2025-06-10 14:59:58,821]\u001b[0m Trial 48 finished with value: 9.114245349114425 and parameters: {'tp': 27.1, 'sl': 2.4, 'length_rsi': 9.0, 'rsi_low': 38.0, 'rsi_high': 79.0, 'position_type': 'long'}. Best is trial 42 with value: 41.52549928188232.\u001b[0m\n"
     ]
    },
    {
     "name": "stdout",
     "output_type": "stream",
     "text": [
      "Trial 48 concluído: calmar_ratio = 9.1142\n",
      "Trial 49 para hora 13: Testando estratégia com parâmetros {'length_rsi': 9.0, 'rsi_low': 27.0, 'rsi_high': 67.0, 'position_type': 'both'}\n",
      "Trial 49 para hora 13: Usando backtester com TP=23.80000, SL=15.60000\n",
      "Executando backtest para trial 49, hora 13...\n"
     ]
    },
    {
     "name": "stderr",
     "output_type": "stream",
     "text": [
      "\u001b[32m[I 2025-06-10 14:59:59,633]\u001b[0m Trial 49 finished with value: 0.9032083059054403 and parameters: {'tp': 23.8, 'sl': 15.600000000000001, 'length_rsi': 9.0, 'rsi_low': 27.0, 'rsi_high': 67.0, 'position_type': 'both'}. Best is trial 42 with value: 41.52549928188232.\u001b[0m\n"
     ]
    },
    {
     "name": "stdout",
     "output_type": "stream",
     "text": [
      "Trial 49 concluído: calmar_ratio = 0.9032\n",
      "Trial 50 para hora 13: Testando estratégia com parâmetros {'length_rsi': 8.0, 'rsi_low': 39.0, 'rsi_high': 61.0, 'position_type': 'short'}\n",
      "Trial 50 para hora 13: Usando backtester com TP=22.10000, SL=12.40000\n",
      "Executando backtest para trial 50, hora 13...\n"
     ]
    },
    {
     "name": "stderr",
     "output_type": "stream",
     "text": [
      "\u001b[32m[I 2025-06-10 15:00:00,421]\u001b[0m Trial 50 finished with value: -0.17610171501037825 and parameters: {'tp': 22.1, 'sl': 12.4, 'length_rsi': 8.0, 'rsi_low': 39.0, 'rsi_high': 61.0, 'position_type': 'short'}. Best is trial 42 with value: 41.52549928188232.\u001b[0m\n"
     ]
    },
    {
     "name": "stdout",
     "output_type": "stream",
     "text": [
      "Trial 50 concluído: calmar_ratio = -0.1761\n",
      "Trial 51 para hora 13: Testando estratégia com parâmetros {'length_rsi': 10.0, 'rsi_low': 36.0, 'rsi_high': 82.0, 'position_type': 'long'}\n",
      "Trial 51 para hora 13: Usando backtester com TP=17.80000, SL=19.00000\n",
      "Executando backtest para trial 51, hora 13...\n"
     ]
    },
    {
     "name": "stderr",
     "output_type": "stream",
     "text": [
      "\u001b[32m[I 2025-06-10 15:00:01,197]\u001b[0m Trial 51 finished with value: 15.310364023216499 and parameters: {'tp': 17.8, 'sl': 19.0, 'length_rsi': 10.0, 'rsi_low': 36.0, 'rsi_high': 82.0, 'position_type': 'long'}. Best is trial 42 with value: 41.52549928188232.\u001b[0m\n"
     ]
    },
    {
     "name": "stdout",
     "output_type": "stream",
     "text": [
      "Trial 51 concluído: calmar_ratio = 15.3104\n",
      "Trial 52 para hora 13: Testando estratégia com parâmetros {'length_rsi': 10.0, 'rsi_low': 37.0, 'rsi_high': 85.0, 'position_type': 'long'}\n",
      "Trial 52 para hora 13: Usando backtester com TP=20.10000, SL=17.40000\n",
      "Executando backtest para trial 52, hora 13...\n"
     ]
    },
    {
     "name": "stderr",
     "output_type": "stream",
     "text": [
      "\u001b[32m[I 2025-06-10 15:00:01,992]\u001b[0m Trial 52 finished with value: 47.69864949657334 and parameters: {'tp': 20.1, 'sl': 17.4, 'length_rsi': 10.0, 'rsi_low': 37.0, 'rsi_high': 85.0, 'position_type': 'long'}. Best is trial 52 with value: 47.69864949657334.\u001b[0m\n"
     ]
    },
    {
     "name": "stdout",
     "output_type": "stream",
     "text": [
      "Trial 52 concluído: calmar_ratio = 47.6986\n",
      "Trial 53 para hora 13: Testando estratégia com parâmetros {'length_rsi': 9.0, 'rsi_low': 37.0, 'rsi_high': 84.0, 'position_type': 'long'}\n",
      "Trial 53 para hora 13: Usando backtester com TP=20.70000, SL=17.00000\n",
      "Executando backtest para trial 53, hora 13...\n"
     ]
    },
    {
     "name": "stderr",
     "output_type": "stream",
     "text": [
      "\u001b[32m[I 2025-06-10 15:00:02,782]\u001b[0m Trial 53 finished with value: 40.98480146255068 and parameters: {'tp': 20.7, 'sl': 17.0, 'length_rsi': 9.0, 'rsi_low': 37.0, 'rsi_high': 84.0, 'position_type': 'long'}. Best is trial 52 with value: 47.69864949657334.\u001b[0m\n"
     ]
    },
    {
     "name": "stdout",
     "output_type": "stream",
     "text": [
      "Trial 53 concluído: calmar_ratio = 40.9848\n",
      "Trial 54 para hora 13: Testando estratégia com parâmetros {'length_rsi': 10.0, 'rsi_low': 37.0, 'rsi_high': 85.0, 'position_type': 'long'}\n",
      "Trial 54 para hora 13: Usando backtester com TP=20.80000, SL=23.00000\n",
      "Executando backtest para trial 54, hora 13...\n"
     ]
    },
    {
     "name": "stderr",
     "output_type": "stream",
     "text": [
      "\u001b[32m[I 2025-06-10 15:00:03,574]\u001b[0m Trial 54 finished with value: 25.041850458337834 and parameters: {'tp': 20.8, 'sl': 23.0, 'length_rsi': 10.0, 'rsi_low': 37.0, 'rsi_high': 85.0, 'position_type': 'long'}. Best is trial 52 with value: 47.69864949657334.\u001b[0m\n",
      "\u001b[32m[I 2025-06-10 15:00:03,575]\u001b[0m A new study created in memory with name: hora_14\u001b[0m\n"
     ]
    },
    {
     "name": "stdout",
     "output_type": "stream",
     "text": [
      "Trial 54 concluído: calmar_ratio = 25.0419\n",
      "Otimização concluída para hora 13.\n",
      "\n",
      "Melhores parâmetros para hora 13:\n",
      "calmar_ratio: 47.6986\n",
      "Parâmetros: {'length_rsi': 10.0, 'rsi_low': 37.0, 'rsi_high': 85.0, 'position_type': 'long', 'allowed_hours': [13], 'tp': 20.1, 'sl': 17.4}\n",
      "Profit Factor: 1.6973\n",
      "Win Rate: 53.85%\n",
      "Max Drawdown: 2.04%\n",
      "Total Return: $1917.80\n",
      "Total Trades: 26\n",
      "\n",
      "==================================================\n",
      "Otimizando estratégia para hora: 14:00\n",
      "Métrica: calmar_ratio - Direção: maximize\n",
      "==================================================\n",
      "Iniciando otimização com 55 trials para hora 14...\n",
      "Trial 0 para hora 14: Testando estratégia com parâmetros {'length_rsi': 7.0, 'rsi_low': 25.0, 'rsi_high': 58.0, 'position_type': 'short'}\n",
      "Trial 0 para hora 14: Usando backtester com TP=18.70000, SL=26.20000\n",
      "Executando backtest para trial 0, hora 14...\n"
     ]
    },
    {
     "name": "stderr",
     "output_type": "stream",
     "text": [
      "\u001b[32m[I 2025-06-10 15:00:04,354]\u001b[0m Trial 0 finished with value: 0.004112067613240636 and parameters: {'tp': 18.7, 'sl': 26.200000000000003, 'length_rsi': 7.0, 'rsi_low': 25.0, 'rsi_high': 58.0, 'position_type': 'short'}. Best is trial 0 with value: 0.004112067613240636.\u001b[0m\n"
     ]
    },
    {
     "name": "stdout",
     "output_type": "stream",
     "text": [
      "Trial 0 concluído: calmar_ratio = 0.0041\n",
      "Trial 1 para hora 14: Testando estratégia com parâmetros {'length_rsi': 6.0, 'rsi_low': 40.0, 'rsi_high': 61.0, 'position_type': 'short'}\n",
      "Trial 1 para hora 14: Usando backtester com TP=24.50000, SL=12.90000\n",
      "Executando backtest para trial 1, hora 14...\n"
     ]
    },
    {
     "name": "stderr",
     "output_type": "stream",
     "text": [
      "\u001b[32m[I 2025-06-10 15:00:05,123]\u001b[0m Trial 1 finished with value: -0.05271363012478625 and parameters: {'tp': 24.5, 'sl': 12.9, 'length_rsi': 6.0, 'rsi_low': 40.0, 'rsi_high': 61.0, 'position_type': 'short'}. Best is trial 0 with value: 0.004112067613240636.\u001b[0m\n"
     ]
    },
    {
     "name": "stdout",
     "output_type": "stream",
     "text": [
      "Trial 1 concluído: calmar_ratio = -0.0527\n",
      "Trial 2 para hora 14: Testando estratégia com parâmetros {'length_rsi': 10.0, 'rsi_low': 30.0, 'rsi_high': 81.0, 'position_type': 'both'}\n",
      "Trial 2 para hora 14: Usando backtester com TP=19.00000, SL=29.40000\n",
      "Executando backtest para trial 2, hora 14...\n"
     ]
    },
    {
     "name": "stderr",
     "output_type": "stream",
     "text": [
      "\u001b[32m[I 2025-06-10 15:00:05,908]\u001b[0m Trial 2 finished with value: 0.46246571426426347 and parameters: {'tp': 19.0, 'sl': 29.400000000000002, 'length_rsi': 10.0, 'rsi_low': 30.0, 'rsi_high': 81.0, 'position_type': 'both'}. Best is trial 2 with value: 0.46246571426426347.\u001b[0m\n"
     ]
    },
    {
     "name": "stdout",
     "output_type": "stream",
     "text": [
      "Trial 2 concluído: calmar_ratio = 0.4625\n",
      "Trial 3 para hora 14: Testando estratégia com parâmetros {'length_rsi': 6.0, 'rsi_low': 35.0, 'rsi_high': 55.0, 'position_type': 'long'}\n",
      "Trial 3 para hora 14: Usando backtester com TP=17.90000, SL=19.10000\n",
      "Executando backtest para trial 3, hora 14...\n"
     ]
    },
    {
     "name": "stderr",
     "output_type": "stream",
     "text": [
      "\u001b[32m[I 2025-06-10 15:00:06,691]\u001b[0m Trial 3 finished with value: 0.7730033771841176 and parameters: {'tp': 17.9, 'sl': 19.1, 'length_rsi': 6.0, 'rsi_low': 35.0, 'rsi_high': 55.0, 'position_type': 'long'}. Best is trial 3 with value: 0.7730033771841176.\u001b[0m\n"
     ]
    },
    {
     "name": "stdout",
     "output_type": "stream",
     "text": [
      "Trial 3 concluído: calmar_ratio = 0.7730\n",
      "Trial 4 para hora 14: Testando estratégia com parâmetros {'length_rsi': 8.0, 'rsi_low': 30.0, 'rsi_high': 75.0, 'position_type': 'both'}\n",
      "Trial 4 para hora 14: Usando backtester com TP=3.10000, SL=31.20000\n",
      "Executando backtest para trial 4, hora 14...\n"
     ]
    },
    {
     "name": "stderr",
     "output_type": "stream",
     "text": [
      "\u001b[32m[I 2025-06-10 15:00:07,464]\u001b[0m Trial 4 finished with value: -0.14975683957574557 and parameters: {'tp': 3.1, 'sl': 31.200000000000003, 'length_rsi': 8.0, 'rsi_low': 30.0, 'rsi_high': 75.0, 'position_type': 'both'}. Best is trial 3 with value: 0.7730033771841176.\u001b[0m\n"
     ]
    },
    {
     "name": "stdout",
     "output_type": "stream",
     "text": [
      "Trial 4 concluído: calmar_ratio = -0.1498\n",
      "Trial 5 para hora 14: Testando estratégia com parâmetros {'length_rsi': 8.0, 'rsi_low': 25.0, 'rsi_high': 81.0, 'position_type': 'short'}\n",
      "Trial 5 para hora 14: Usando backtester com TP=3.10000, SL=10.90000\n",
      "Executando backtest para trial 5, hora 14...\n"
     ]
    },
    {
     "name": "stderr",
     "output_type": "stream",
     "text": [
      "\u001b[32m[I 2025-06-10 15:00:08,240]\u001b[0m Trial 5 finished with value: -0.17045804079751473 and parameters: {'tp': 3.1, 'sl': 10.9, 'length_rsi': 8.0, 'rsi_low': 25.0, 'rsi_high': 81.0, 'position_type': 'short'}. Best is trial 3 with value: 0.7730033771841176.\u001b[0m\n"
     ]
    },
    {
     "name": "stdout",
     "output_type": "stream",
     "text": [
      "Trial 5 concluído: calmar_ratio = -0.1705\n",
      "Trial 6 para hora 14: Testando estratégia com parâmetros {'length_rsi': 9.0, 'rsi_low': 43.0, 'rsi_high': 65.0, 'position_type': 'short'}\n",
      "Trial 6 para hora 14: Usando backtester com TP=15.90000, SL=31.40000\n",
      "Executando backtest para trial 6, hora 14...\n"
     ]
    },
    {
     "name": "stderr",
     "output_type": "stream",
     "text": [
      "\u001b[32m[I 2025-06-10 15:00:09,040]\u001b[0m Trial 6 finished with value: -0.07045297335397635 and parameters: {'tp': 15.9, 'sl': 31.400000000000002, 'length_rsi': 9.0, 'rsi_low': 43.0, 'rsi_high': 65.0, 'position_type': 'short'}. Best is trial 3 with value: 0.7730033771841176.\u001b[0m\n"
     ]
    },
    {
     "name": "stdout",
     "output_type": "stream",
     "text": [
      "Trial 6 concluído: calmar_ratio = -0.0705\n",
      "Trial 7 para hora 14: Testando estratégia com parâmetros {'length_rsi': 9.0, 'rsi_low': 30.0, 'rsi_high': 58.0, 'position_type': 'long'}\n",
      "Trial 7 para hora 14: Usando backtester com TP=21.60000, SL=6.20000\n",
      "Executando backtest para trial 7, hora 14...\n"
     ]
    },
    {
     "name": "stderr",
     "output_type": "stream",
     "text": [
      "\u001b[32m[I 2025-06-10 15:00:09,823]\u001b[0m Trial 7 finished with value: 0.3260872470443063 and parameters: {'tp': 21.6, 'sl': 6.2, 'length_rsi': 9.0, 'rsi_low': 30.0, 'rsi_high': 58.0, 'position_type': 'long'}. Best is trial 3 with value: 0.7730033771841176.\u001b[0m\n"
     ]
    },
    {
     "name": "stdout",
     "output_type": "stream",
     "text": [
      "Trial 7 concluído: calmar_ratio = 0.3261\n",
      "Trial 8 para hora 14: Testando estratégia com parâmetros {'length_rsi': 9.0, 'rsi_low': 30.0, 'rsi_high': 68.0, 'position_type': 'long'}\n",
      "Trial 8 para hora 14: Usando backtester com TP=12.10000, SL=5.90000\n",
      "Executando backtest para trial 8, hora 14...\n"
     ]
    },
    {
     "name": "stderr",
     "output_type": "stream",
     "text": [
      "\u001b[32m[I 2025-06-10 15:00:10,614]\u001b[0m Trial 8 finished with value: -0.21584528642668765 and parameters: {'tp': 12.100000000000001, 'sl': 5.9, 'length_rsi': 9.0, 'rsi_low': 30.0, 'rsi_high': 68.0, 'position_type': 'long'}. Best is trial 3 with value: 0.7730033771841176.\u001b[0m\n"
     ]
    },
    {
     "name": "stdout",
     "output_type": "stream",
     "text": [
      "Trial 8 concluído: calmar_ratio = -0.2158\n",
      "Trial 9 para hora 14: Testando estratégia com parâmetros {'length_rsi': 6.0, 'rsi_low': 35.0, 'rsi_high': 69.0, 'position_type': 'short'}\n",
      "Trial 9 para hora 14: Usando backtester com TP=18.80000, SL=21.00000\n",
      "Executando backtest para trial 9, hora 14...\n"
     ]
    },
    {
     "name": "stderr",
     "output_type": "stream",
     "text": [
      "\u001b[32m[I 2025-06-10 15:00:11,419]\u001b[0m Trial 9 finished with value: 0.052953406109759266 and parameters: {'tp': 18.8, 'sl': 21.0, 'length_rsi': 6.0, 'rsi_low': 35.0, 'rsi_high': 69.0, 'position_type': 'short'}. Best is trial 3 with value: 0.7730033771841176.\u001b[0m\n"
     ]
    },
    {
     "name": "stdout",
     "output_type": "stream",
     "text": [
      "Trial 9 concluído: calmar_ratio = 0.0530\n",
      "Trial 10 para hora 14: Testando estratégia com parâmetros {'length_rsi': 7.0, 'rsi_low': 39.0, 'rsi_high': 74.0, 'position_type': 'long'}\n",
      "Trial 10 para hora 14: Usando backtester com TP=31.80000, SL=20.70000\n",
      "Executando backtest para trial 10, hora 14...\n"
     ]
    },
    {
     "name": "stderr",
     "output_type": "stream",
     "text": [
      "\u001b[32m[I 2025-06-10 15:00:12,206]\u001b[0m Trial 10 finished with value: 1.2042603622371943 and parameters: {'tp': 31.8, 'sl': 20.7, 'length_rsi': 7.0, 'rsi_low': 39.0, 'rsi_high': 74.0, 'position_type': 'long'}. Best is trial 10 with value: 1.2042603622371943.\u001b[0m\n"
     ]
    },
    {
     "name": "stdout",
     "output_type": "stream",
     "text": [
      "Trial 10 concluído: calmar_ratio = 1.2043\n",
      "Trial 11 para hora 14: Testando estratégia com parâmetros {'length_rsi': 7.0, 'rsi_low': 38.0, 'rsi_high': 75.0, 'position_type': 'long'}\n",
      "Trial 11 para hora 14: Usando backtester com TP=32.00000, SL=19.40000\n",
      "Executando backtest para trial 11, hora 14...\n"
     ]
    },
    {
     "name": "stderr",
     "output_type": "stream",
     "text": [
      "\u001b[32m[I 2025-06-10 15:00:12,994]\u001b[0m Trial 11 finished with value: 1.3439778712867951 and parameters: {'tp': 32.0, 'sl': 19.400000000000002, 'length_rsi': 7.0, 'rsi_low': 38.0, 'rsi_high': 75.0, 'position_type': 'long'}. Best is trial 11 with value: 1.3439778712867951.\u001b[0m\n"
     ]
    },
    {
     "name": "stdout",
     "output_type": "stream",
     "text": [
      "Trial 11 concluído: calmar_ratio = 1.3440\n",
      "Trial 12 para hora 14: Testando estratégia com parâmetros {'length_rsi': 7.0, 'rsi_low': 39.0, 'rsi_high': 75.0, 'position_type': 'long'}\n",
      "Trial 12 para hora 14: Usando backtester com TP=31.60000, SL=23.30000\n",
      "Executando backtest para trial 12, hora 14...\n"
     ]
    },
    {
     "name": "stderr",
     "output_type": "stream",
     "text": [
      "\u001b[32m[I 2025-06-10 15:00:13,799]\u001b[0m Trial 12 finished with value: 1.3974866111605757 and parameters: {'tp': 31.6, 'sl': 23.3, 'length_rsi': 7.0, 'rsi_low': 39.0, 'rsi_high': 75.0, 'position_type': 'long'}. Best is trial 12 with value: 1.3974866111605757.\u001b[0m\n"
     ]
    },
    {
     "name": "stdout",
     "output_type": "stream",
     "text": [
      "Trial 12 concluído: calmar_ratio = 1.3975\n",
      "Trial 13 para hora 14: Testando estratégia com parâmetros {'length_rsi': 7.0, 'rsi_low': 45.0, 'rsi_high': 75.0, 'position_type': 'long'}\n",
      "Trial 13 para hora 14: Usando backtester com TP=31.50000, SL=24.20000\n",
      "Executando backtest para trial 13, hora 14...\n"
     ]
    },
    {
     "name": "stderr",
     "output_type": "stream",
     "text": [
      "\u001b[32m[I 2025-06-10 15:00:14,615]\u001b[0m Trial 13 finished with value: 1.6562649329618024 and parameters: {'tp': 31.5, 'sl': 24.200000000000003, 'length_rsi': 7.0, 'rsi_low': 45.0, 'rsi_high': 75.0, 'position_type': 'long'}. Best is trial 13 with value: 1.6562649329618024.\u001b[0m\n"
     ]
    },
    {
     "name": "stdout",
     "output_type": "stream",
     "text": [
      "Trial 13 concluído: calmar_ratio = 1.6563\n",
      "Trial 14 para hora 14: Testando estratégia com parâmetros {'length_rsi': 7.0, 'rsi_low': 44.0, 'rsi_high': 85.0, 'position_type': 'long'}\n",
      "Trial 14 para hora 14: Usando backtester com TP=26.70000, SL=24.60000\n",
      "Executando backtest para trial 14, hora 14...\n"
     ]
    },
    {
     "name": "stderr",
     "output_type": "stream",
     "text": [
      "\u001b[32m[I 2025-06-10 15:00:15,438]\u001b[0m Trial 14 finished with value: 3.3263941532460266 and parameters: {'tp': 26.700000000000003, 'sl': 24.6, 'length_rsi': 7.0, 'rsi_low': 44.0, 'rsi_high': 85.0, 'position_type': 'long'}. Best is trial 14 with value: 3.3263941532460266.\u001b[0m\n"
     ]
    },
    {
     "name": "stdout",
     "output_type": "stream",
     "text": [
      "Trial 14 concluído: calmar_ratio = 3.3264\n",
      "Trial 15 para hora 14: Testando estratégia com parâmetros {'length_rsi': 8.0, 'rsi_low': 44.0, 'rsi_high': 85.0, 'position_type': 'long'}\n",
      "Trial 15 para hora 14: Usando backtester com TP=26.60000, SL=25.60000\n",
      "Executando backtest para trial 15, hora 14...\n"
     ]
    },
    {
     "name": "stderr",
     "output_type": "stream",
     "text": [
      "\u001b[32m[I 2025-06-10 15:00:16,239]\u001b[0m Trial 15 finished with value: 6.166701395583718 and parameters: {'tp': 26.6, 'sl': 25.6, 'length_rsi': 8.0, 'rsi_low': 44.0, 'rsi_high': 85.0, 'position_type': 'long'}. Best is trial 15 with value: 6.166701395583718.\u001b[0m\n"
     ]
    },
    {
     "name": "stdout",
     "output_type": "stream",
     "text": [
      "Trial 15 concluído: calmar_ratio = 6.1667\n",
      "Trial 16 para hora 14: Testando estratégia com parâmetros {'length_rsi': 8.0, 'rsi_low': 43.0, 'rsi_high': 85.0, 'position_type': 'long'}\n",
      "Trial 16 para hora 14: Usando backtester com TP=26.60000, SL=14.90000\n",
      "Executando backtest para trial 16, hora 14...\n"
     ]
    },
    {
     "name": "stderr",
     "output_type": "stream",
     "text": [
      "\u001b[32m[I 2025-06-10 15:00:17,018]\u001b[0m Trial 16 finished with value: 0.42799679760465204 and parameters: {'tp': 26.6, 'sl': 14.9, 'length_rsi': 8.0, 'rsi_low': 43.0, 'rsi_high': 85.0, 'position_type': 'long'}. Best is trial 15 with value: 6.166701395583718.\u001b[0m\n"
     ]
    },
    {
     "name": "stdout",
     "output_type": "stream",
     "text": [
      "Trial 16 concluído: calmar_ratio = 0.4280\n",
      "Trial 17 para hora 14: Testando estratégia com parâmetros {'length_rsi': 10.0, 'rsi_low': 45.0, 'rsi_high': 84.0, 'position_type': 'both'}\n",
      "Trial 17 para hora 14: Usando backtester com TP=26.10000, SL=27.10000\n",
      "Executando backtest para trial 17, hora 14...\n"
     ]
    },
    {
     "name": "stderr",
     "output_type": "stream",
     "text": [
      "\u001b[32m[I 2025-06-10 15:00:17,806]\u001b[0m Trial 17 finished with value: -0.06564108127244583 and parameters: {'tp': 26.1, 'sl': 27.1, 'length_rsi': 10.0, 'rsi_low': 45.0, 'rsi_high': 84.0, 'position_type': 'both'}. Best is trial 15 with value: 6.166701395583718.\u001b[0m\n"
     ]
    },
    {
     "name": "stdout",
     "output_type": "stream",
     "text": [
      "Trial 17 concluído: calmar_ratio = -0.0656\n",
      "Trial 18 para hora 14: Testando estratégia com parâmetros {'length_rsi': 8.0, 'rsi_low': 42.0, 'rsi_high': 78.0, 'position_type': 'long'}\n",
      "Trial 18 para hora 14: Usando backtester com TP=12.60000, SL=27.00000\n",
      "Executando backtest para trial 18, hora 14...\n"
     ]
    },
    {
     "name": "stderr",
     "output_type": "stream",
     "text": [
      "\u001b[32m[I 2025-06-10 15:00:18,587]\u001b[0m Trial 18 finished with value: 0.9506719636241676 and parameters: {'tp': 12.600000000000001, 'sl': 27.0, 'length_rsi': 8.0, 'rsi_low': 42.0, 'rsi_high': 78.0, 'position_type': 'long'}. Best is trial 15 with value: 6.166701395583718.\u001b[0m\n"
     ]
    },
    {
     "name": "stdout",
     "output_type": "stream",
     "text": [
      "Trial 18 concluído: calmar_ratio = 0.9507\n",
      "Trial 19 para hora 14: Testando estratégia com parâmetros {'length_rsi': 8.0, 'rsi_low': 41.0, 'rsi_high': 82.0, 'position_type': 'long'}\n",
      "Trial 19 para hora 14: Usando backtester com TP=27.60000, SL=23.80000\n",
      "Executando backtest para trial 19, hora 14...\n"
     ]
    },
    {
     "name": "stderr",
     "output_type": "stream",
     "text": [
      "\u001b[32m[I 2025-06-10 15:00:19,364]\u001b[0m Trial 19 finished with value: 3.841202523399863 and parameters: {'tp': 27.6, 'sl': 23.8, 'length_rsi': 8.0, 'rsi_low': 41.0, 'rsi_high': 82.0, 'position_type': 'long'}. Best is trial 15 with value: 6.166701395583718.\u001b[0m\n"
     ]
    },
    {
     "name": "stdout",
     "output_type": "stream",
     "text": [
      "Trial 19 concluído: calmar_ratio = 3.8412\n",
      "Trial 20 para hora 14: Testando estratégia com parâmetros {'length_rsi': 9.0, 'rsi_low': 41.0, 'rsi_high': 81.0, 'position_type': 'both'}\n",
      "Trial 20 para hora 14: Usando backtester com TP=22.90000, SL=16.90000\n",
      "Executando backtest para trial 20, hora 14...\n"
     ]
    },
    {
     "name": "stderr",
     "output_type": "stream",
     "text": [
      "\u001b[32m[I 2025-06-10 15:00:20,146]\u001b[0m Trial 20 finished with value: 0.13011619633229954 and parameters: {'tp': 22.900000000000002, 'sl': 16.9, 'length_rsi': 9.0, 'rsi_low': 41.0, 'rsi_high': 81.0, 'position_type': 'both'}. Best is trial 15 with value: 6.166701395583718.\u001b[0m\n"
     ]
    },
    {
     "name": "stdout",
     "output_type": "stream",
     "text": [
      "Trial 20 concluído: calmar_ratio = 0.1301\n",
      "Trial 21 para hora 14: Testando estratégia com parâmetros {'length_rsi': 8.0, 'rsi_low': 45.0, 'rsi_high': 85.0, 'position_type': 'long'}\n",
      "Trial 21 para hora 14: Usando backtester com TP=28.00000, SL=23.90000\n",
      "Executando backtest para trial 21, hora 14...\n"
     ]
    },
    {
     "name": "stderr",
     "output_type": "stream",
     "text": [
      "\u001b[32m[I 2025-06-10 15:00:20,924]\u001b[0m Trial 21 finished with value: 4.272631422907663 and parameters: {'tp': 28.0, 'sl': 23.900000000000002, 'length_rsi': 8.0, 'rsi_low': 45.0, 'rsi_high': 85.0, 'position_type': 'long'}. Best is trial 15 with value: 6.166701395583718.\u001b[0m\n"
     ]
    },
    {
     "name": "stdout",
     "output_type": "stream",
     "text": [
      "Trial 21 concluído: calmar_ratio = 4.2726\n",
      "Trial 22 para hora 14: Testando estratégia com parâmetros {'length_rsi': 8.0, 'rsi_low': 42.0, 'rsi_high': 79.0, 'position_type': 'long'}\n",
      "Trial 22 para hora 14: Usando backtester com TP=28.90000, SL=22.50000\n",
      "Executando backtest para trial 22, hora 14...\n"
     ]
    },
    {
     "name": "stderr",
     "output_type": "stream",
     "text": [
      "\u001b[32m[I 2025-06-10 15:00:21,710]\u001b[0m Trial 22 finished with value: 1.5595464276215127 and parameters: {'tp': 28.900000000000002, 'sl': 22.5, 'length_rsi': 8.0, 'rsi_low': 42.0, 'rsi_high': 79.0, 'position_type': 'long'}. Best is trial 15 with value: 6.166701395583718.\u001b[0m\n"
     ]
    },
    {
     "name": "stdout",
     "output_type": "stream",
     "text": [
      "Trial 22 concluído: calmar_ratio = 1.5595\n",
      "Trial 23 para hora 14: Testando estratégia com parâmetros {'length_rsi': 9.0, 'rsi_low': 45.0, 'rsi_high': 83.0, 'position_type': 'long'}\n",
      "Trial 23 para hora 14: Usando backtester com TP=28.60000, SL=28.40000\n",
      "Executando backtest para trial 23, hora 14...\n"
     ]
    },
    {
     "name": "stderr",
     "output_type": "stream",
     "text": [
      "\u001b[32m[I 2025-06-10 15:00:22,484]\u001b[0m Trial 23 finished with value: 3.5580984603150605 and parameters: {'tp': 28.6, 'sl': 28.400000000000002, 'length_rsi': 9.0, 'rsi_low': 45.0, 'rsi_high': 83.0, 'position_type': 'long'}. Best is trial 15 with value: 6.166701395583718.\u001b[0m\n"
     ]
    },
    {
     "name": "stdout",
     "output_type": "stream",
     "text": [
      "Trial 23 concluído: calmar_ratio = 3.5581\n",
      "Trial 24 para hora 14: Testando estratégia com parâmetros {'length_rsi': 8.0, 'rsi_low': 37.0, 'rsi_high': 78.0, 'position_type': 'long'}\n",
      "Trial 24 para hora 14: Usando backtester com TP=22.10000, SL=17.50000\n",
      "Executando backtest para trial 24, hora 14...\n"
     ]
    },
    {
     "name": "stderr",
     "output_type": "stream",
     "text": [
      "\u001b[32m[I 2025-06-10 15:00:23,260]\u001b[0m Trial 24 finished with value: 2.473327072244296 and parameters: {'tp': 22.1, 'sl': 17.5, 'length_rsi': 8.0, 'rsi_low': 37.0, 'rsi_high': 78.0, 'position_type': 'long'}. Best is trial 15 with value: 6.166701395583718.\u001b[0m\n"
     ]
    },
    {
     "name": "stdout",
     "output_type": "stream",
     "text": [
      "Trial 24 concluído: calmar_ratio = 2.4733\n",
      "Trial 25 para hora 14: Testando estratégia com parâmetros {'length_rsi': 8.0, 'rsi_low': 41.0, 'rsi_high': 82.0, 'position_type': 'long'}\n",
      "Trial 25 para hora 14: Usando backtester com TP=29.00000, SL=25.10000\n",
      "Executando backtest para trial 25, hora 14...\n"
     ]
    },
    {
     "name": "stderr",
     "output_type": "stream",
     "text": [
      "\u001b[32m[I 2025-06-10 15:00:24,065]\u001b[0m Trial 25 finished with value: 5.583728088764876 and parameters: {'tp': 29.0, 'sl': 25.1, 'length_rsi': 8.0, 'rsi_low': 41.0, 'rsi_high': 82.0, 'position_type': 'long'}. Best is trial 15 with value: 6.166701395583718.\u001b[0m\n"
     ]
    },
    {
     "name": "stdout",
     "output_type": "stream",
     "text": [
      "Trial 25 concluído: calmar_ratio = 5.5837\n",
      "Trial 26 para hora 14: Testando estratégia com parâmetros {'length_rsi': 9.0, 'rsi_low': 36.0, 'rsi_high': 79.0, 'position_type': 'long'}\n",
      "Trial 26 para hora 14: Usando backtester com TP=23.90000, SL=2.50000\n",
      "Executando backtest para trial 26, hora 14...\n"
     ]
    },
    {
     "name": "stderr",
     "output_type": "stream",
     "text": [
      "\u001b[32m[I 2025-06-10 15:00:24,882]\u001b[0m Trial 26 finished with value: -1.0101746627163704 and parameters: {'tp': 23.900000000000002, 'sl': 2.5, 'length_rsi': 9.0, 'rsi_low': 36.0, 'rsi_high': 79.0, 'position_type': 'long'}. Best is trial 15 with value: 6.166701395583718.\u001b[0m\n"
     ]
    },
    {
     "name": "stdout",
     "output_type": "stream",
     "text": [
      "Trial 26 concluído: calmar_ratio = -1.0102\n",
      "Trial 27 para hora 14: Testando estratégia com parâmetros {'length_rsi': 8.0, 'rsi_low': 33.0, 'rsi_high': 72.0, 'position_type': 'long'}\n",
      "Trial 27 para hora 14: Usando backtester com TP=29.70000, SL=25.70000\n",
      "Executando backtest para trial 27, hora 14...\n"
     ]
    },
    {
     "name": "stderr",
     "output_type": "stream",
     "text": [
      "\u001b[32m[I 2025-06-10 15:00:25,684]\u001b[0m Trial 27 finished with value: 1.8044288071056875 and parameters: {'tp': 29.700000000000003, 'sl': 25.700000000000003, 'length_rsi': 8.0, 'rsi_low': 33.0, 'rsi_high': 72.0, 'position_type': 'long'}. Best is trial 15 with value: 6.166701395583718.\u001b[0m\n"
     ]
    },
    {
     "name": "stdout",
     "output_type": "stream",
     "text": [
      "Trial 27 concluído: calmar_ratio = 1.8044\n",
      "Trial 28 para hora 14: Testando estratégia com parâmetros {'length_rsi': 8.0, 'rsi_low': 44.0, 'rsi_high': 85.0, 'position_type': 'long'}\n",
      "Trial 28 para hora 14: Usando backtester com TP=7.00000, SL=29.10000\n",
      "Executando backtest para trial 28, hora 14...\n"
     ]
    },
    {
     "name": "stderr",
     "output_type": "stream",
     "text": [
      "\u001b[32m[I 2025-06-10 15:00:26,480]\u001b[0m Trial 28 finished with value: 12.36712054097857 and parameters: {'tp': 7.0, 'sl': 29.1, 'length_rsi': 8.0, 'rsi_low': 44.0, 'rsi_high': 85.0, 'position_type': 'long'}. Best is trial 28 with value: 12.36712054097857.\u001b[0m\n"
     ]
    },
    {
     "name": "stdout",
     "output_type": "stream",
     "text": [
      "Trial 28 concluído: calmar_ratio = 12.3671\n",
      "Trial 29 para hora 14: Testando estratégia com parâmetros {'length_rsi': 7.0, 'rsi_low': 43.0, 'rsi_high': 83.0, 'position_type': 'both'}\n",
      "Trial 29 para hora 14: Usando backtester com TP=6.80000, SL=30.40000\n",
      "Executando backtest para trial 29, hora 14...\n"
     ]
    },
    {
     "name": "stderr",
     "output_type": "stream",
     "text": [
      "\u001b[32m[I 2025-06-10 15:00:27,264]\u001b[0m Trial 29 finished with value: -0.07122856985394152 and parameters: {'tp': 6.800000000000001, 'sl': 30.400000000000002, 'length_rsi': 7.0, 'rsi_low': 43.0, 'rsi_high': 83.0, 'position_type': 'both'}. Best is trial 28 with value: 12.36712054097857.\u001b[0m\n"
     ]
    },
    {
     "name": "stdout",
     "output_type": "stream",
     "text": [
      "Trial 29 concluído: calmar_ratio = -0.0712\n",
      "Trial 30 para hora 14: Testando estratégia com parâmetros {'length_rsi': 9.0, 'rsi_low': 41.0, 'rsi_high': 66.0, 'position_type': 'short'}\n",
      "Trial 30 para hora 14: Usando backtester com TP=8.40000, SL=27.90000\n",
      "Executando backtest para trial 30, hora 14...\n"
     ]
    },
    {
     "name": "stderr",
     "output_type": "stream",
     "text": [
      "\u001b[32m[I 2025-06-10 15:00:28,051]\u001b[0m Trial 30 finished with value: -0.030546736109202794 and parameters: {'tp': 8.4, 'sl': 27.900000000000002, 'length_rsi': 9.0, 'rsi_low': 41.0, 'rsi_high': 66.0, 'position_type': 'short'}. Best is trial 28 with value: 12.36712054097857.\u001b[0m\n"
     ]
    },
    {
     "name": "stdout",
     "output_type": "stream",
     "text": [
      "Trial 30 concluído: calmar_ratio = -0.0305\n",
      "Trial 31 para hora 14: Testando estratégia com parâmetros {'length_rsi': 8.0, 'rsi_low': 44.0, 'rsi_high': 85.0, 'position_type': 'long'}\n",
      "Trial 31 para hora 14: Usando backtester com TP=14.70000, SL=26.50000\n",
      "Executando backtest para trial 31, hora 14...\n"
     ]
    },
    {
     "name": "stderr",
     "output_type": "stream",
     "text": [
      "\u001b[32m[I 2025-06-10 15:00:28,833]\u001b[0m Trial 31 finished with value: 10.68404606138183 and parameters: {'tp': 14.700000000000001, 'sl': 26.5, 'length_rsi': 8.0, 'rsi_low': 44.0, 'rsi_high': 85.0, 'position_type': 'long'}. Best is trial 28 with value: 12.36712054097857.\u001b[0m\n"
     ]
    },
    {
     "name": "stdout",
     "output_type": "stream",
     "text": [
      "Trial 31 concluído: calmar_ratio = 10.6840\n",
      "Trial 32 para hora 14: Testando estratégia com parâmetros {'length_rsi': 8.0, 'rsi_low': 43.0, 'rsi_high': 83.0, 'position_type': 'long'}\n",
      "Trial 32 para hora 14: Usando backtester com TP=15.20000, SL=26.30000\n",
      "Executando backtest para trial 32, hora 14...\n"
     ]
    },
    {
     "name": "stderr",
     "output_type": "stream",
     "text": [
      "\u001b[32m[I 2025-06-10 15:00:29,644]\u001b[0m Trial 32 finished with value: 10.902534742205697 and parameters: {'tp': 15.200000000000001, 'sl': 26.3, 'length_rsi': 8.0, 'rsi_low': 43.0, 'rsi_high': 83.0, 'position_type': 'long'}. Best is trial 28 with value: 12.36712054097857.\u001b[0m\n"
     ]
    },
    {
     "name": "stdout",
     "output_type": "stream",
     "text": [
      "Trial 32 concluído: calmar_ratio = 10.9025\n",
      "Trial 33 para hora 14: Testando estratégia com parâmetros {'length_rsi': 8.0, 'rsi_low': 43.0, 'rsi_high': 80.0, 'position_type': 'long'}\n",
      "Trial 33 para hora 14: Usando backtester com TP=15.00000, SL=28.50000\n",
      "Executando backtest para trial 33, hora 14...\n"
     ]
    },
    {
     "name": "stderr",
     "output_type": "stream",
     "text": [
      "\u001b[32m[I 2025-06-10 15:00:30,450]\u001b[0m Trial 33 finished with value: 6.001176263483247 and parameters: {'tp': 15.0, 'sl': 28.5, 'length_rsi': 8.0, 'rsi_low': 43.0, 'rsi_high': 80.0, 'position_type': 'long'}. Best is trial 28 with value: 12.36712054097857.\u001b[0m\n"
     ]
    },
    {
     "name": "stdout",
     "output_type": "stream",
     "text": [
      "Trial 33 concluído: calmar_ratio = 6.0012\n",
      "Trial 34 para hora 14: Testando estratégia com parâmetros {'length_rsi': 7.0, 'rsi_low': 44.0, 'rsi_high': 85.0, 'position_type': 'long'}\n",
      "Trial 34 para hora 14: Usando backtester com TP=9.90000, SL=26.30000\n",
      "Executando backtest para trial 34, hora 14...\n"
     ]
    },
    {
     "name": "stderr",
     "output_type": "stream",
     "text": [
      "\u001b[32m[I 2025-06-10 15:00:31,230]\u001b[0m Trial 34 finished with value: 8.296644747263132 and parameters: {'tp': 9.9, 'sl': 26.3, 'length_rsi': 7.0, 'rsi_low': 44.0, 'rsi_high': 85.0, 'position_type': 'long'}. Best is trial 28 with value: 12.36712054097857.\u001b[0m\n"
     ]
    },
    {
     "name": "stdout",
     "output_type": "stream",
     "text": [
      "Trial 34 concluído: calmar_ratio = 8.2966\n",
      "Trial 35 para hora 14: Testando estratégia com parâmetros {'length_rsi': 6.0, 'rsi_low': 40.0, 'rsi_high': 77.0, 'position_type': 'long'}\n",
      "Trial 35 para hora 14: Usando backtester com TP=9.10000, SL=32.00000\n",
      "Executando backtest para trial 35, hora 14...\n"
     ]
    },
    {
     "name": "stderr",
     "output_type": "stream",
     "text": [
      "\u001b[32m[I 2025-06-10 15:00:32,026]\u001b[0m Trial 35 finished with value: -0.33498055366192353 and parameters: {'tp': 9.100000000000001, 'sl': 32.0, 'length_rsi': 6.0, 'rsi_low': 40.0, 'rsi_high': 77.0, 'position_type': 'long'}. Best is trial 28 with value: 12.36712054097857.\u001b[0m\n"
     ]
    },
    {
     "name": "stdout",
     "output_type": "stream",
     "text": [
      "Trial 35 concluído: calmar_ratio = -0.3350\n",
      "Trial 36 para hora 14: Testando estratégia com parâmetros {'length_rsi': 7.0, 'rsi_low': 44.0, 'rsi_high': 82.0, 'position_type': 'both'}\n",
      "Trial 36 para hora 14: Usando backtester com TP=13.00000, SL=29.80000\n",
      "Executando backtest para trial 36, hora 14...\n"
     ]
    },
    {
     "name": "stderr",
     "output_type": "stream",
     "text": [
      "\u001b[32m[I 2025-06-10 15:00:32,818]\u001b[0m Trial 36 finished with value: -0.10664347516943229 and parameters: {'tp': 13.0, 'sl': 29.8, 'length_rsi': 7.0, 'rsi_low': 44.0, 'rsi_high': 82.0, 'position_type': 'both'}. Best is trial 28 with value: 12.36712054097857.\u001b[0m\n"
     ]
    },
    {
     "name": "stdout",
     "output_type": "stream",
     "text": [
      "Trial 36 concluído: calmar_ratio = -0.1066\n",
      "Trial 37 para hora 14: Testando estratégia com parâmetros {'length_rsi': 7.0, 'rsi_low': 42.0, 'rsi_high': 83.0, 'position_type': 'short'}\n",
      "Trial 37 para hora 14: Usando backtester com TP=5.90000, SL=29.00000\n",
      "Executando backtest para trial 37, hora 14...\n"
     ]
    },
    {
     "name": "stderr",
     "output_type": "stream",
     "text": [
      "\u001b[32m[I 2025-06-10 15:00:33,610]\u001b[0m Trial 37 finished with value: -0.0834260316053842 and parameters: {'tp': 5.9, 'sl': 29.0, 'length_rsi': 7.0, 'rsi_low': 42.0, 'rsi_high': 83.0, 'position_type': 'short'}. Best is trial 28 with value: 12.36712054097857.\u001b[0m\n"
     ]
    },
    {
     "name": "stdout",
     "output_type": "stream",
     "text": [
      "Trial 37 concluído: calmar_ratio = -0.0834\n",
      "Trial 38 para hora 14: Testando estratégia com parâmetros {'length_rsi': 6.0, 'rsi_low': 32.0, 'rsi_high': 60.0, 'position_type': 'long'}\n",
      "Trial 38 para hora 14: Usando backtester com TP=10.50000, SL=22.40000\n",
      "Executando backtest para trial 38, hora 14...\n"
     ]
    },
    {
     "name": "stderr",
     "output_type": "stream",
     "text": [
      "\u001b[32m[I 2025-06-10 15:00:34,432]\u001b[0m Trial 38 finished with value: 0.3019688186926359 and parameters: {'tp': 10.5, 'sl': 22.400000000000002, 'length_rsi': 6.0, 'rsi_low': 32.0, 'rsi_high': 60.0, 'position_type': 'long'}. Best is trial 28 with value: 12.36712054097857.\u001b[0m\n"
     ]
    },
    {
     "name": "stdout",
     "output_type": "stream",
     "text": [
      "Trial 38 concluído: calmar_ratio = 0.3020\n",
      "Trial 39 para hora 14: Testando estratégia com parâmetros {'length_rsi': 7.0, 'rsi_low': 39.0, 'rsi_high': 80.0, 'position_type': 'long'}\n",
      "Trial 39 para hora 14: Usando backtester com TP=14.60000, SL=11.70000\n",
      "Executando backtest para trial 39, hora 14...\n"
     ]
    },
    {
     "name": "stderr",
     "output_type": "stream",
     "text": [
      "\u001b[32m[I 2025-06-10 15:00:35,238]\u001b[0m Trial 39 finished with value: 1.2951434656879186 and parameters: {'tp': 14.600000000000001, 'sl': 11.700000000000001, 'length_rsi': 7.0, 'rsi_low': 39.0, 'rsi_high': 80.0, 'position_type': 'long'}. Best is trial 28 with value: 12.36712054097857.\u001b[0m\n"
     ]
    },
    {
     "name": "stdout",
     "output_type": "stream",
     "text": [
      "Trial 39 concluído: calmar_ratio = 1.2951\n",
      "Trial 40 para hora 14: Testando estratégia com parâmetros {'length_rsi': 10.0, 'rsi_low': 28.0, 'rsi_high': 84.0, 'position_type': 'short'}\n",
      "Trial 40 para hora 14: Usando backtester com TP=4.60000, SL=27.00000\n",
      "Executando backtest para trial 40, hora 14...\n"
     ]
    },
    {
     "name": "stderr",
     "output_type": "stream",
     "text": [
      "\u001b[32m[I 2025-06-10 15:00:36,045]\u001b[0m Trial 40 finished with value: 1.7350082351451765 and parameters: {'tp': 4.6, 'sl': 27.0, 'length_rsi': 10.0, 'rsi_low': 28.0, 'rsi_high': 84.0, 'position_type': 'short'}. Best is trial 28 with value: 12.36712054097857.\u001b[0m\n"
     ]
    },
    {
     "name": "stdout",
     "output_type": "stream",
     "text": [
      "Trial 40 concluído: calmar_ratio = 1.7350\n",
      "Trial 41 para hora 14: Testando estratégia com parâmetros {'length_rsi': 8.0, 'rsi_low': 44.0, 'rsi_high': 85.0, 'position_type': 'long'}\n",
      "Trial 41 para hora 14: Usando backtester com TP=17.20000, SL=26.00000\n",
      "Executando backtest para trial 41, hora 14...\n"
     ]
    },
    {
     "name": "stderr",
     "output_type": "stream",
     "text": [
      "\u001b[32m[I 2025-06-10 15:00:36,828]\u001b[0m Trial 41 finished with value: 12.068718983004196 and parameters: {'tp': 17.200000000000003, 'sl': 26.0, 'length_rsi': 8.0, 'rsi_low': 44.0, 'rsi_high': 85.0, 'position_type': 'long'}. Best is trial 28 with value: 12.36712054097857.\u001b[0m\n"
     ]
    },
    {
     "name": "stdout",
     "output_type": "stream",
     "text": [
      "Trial 41 concluído: calmar_ratio = 12.0687\n",
      "Trial 42 para hora 14: Testando estratégia com parâmetros {'length_rsi': 8.0, 'rsi_low': 44.0, 'rsi_high': 83.0, 'position_type': 'long'}\n",
      "Trial 42 para hora 14: Usando backtester com TP=16.70000, SL=30.90000\n",
      "Executando backtest para trial 42, hora 14...\n"
     ]
    },
    {
     "name": "stderr",
     "output_type": "stream",
     "text": [
      "\u001b[32m[I 2025-06-10 15:00:37,611]\u001b[0m Trial 42 finished with value: 10.561642940795037 and parameters: {'tp': 16.700000000000003, 'sl': 30.900000000000002, 'length_rsi': 8.0, 'rsi_low': 44.0, 'rsi_high': 83.0, 'position_type': 'long'}. Best is trial 28 with value: 12.36712054097857.\u001b[0m\n"
     ]
    },
    {
     "name": "stdout",
     "output_type": "stream",
     "text": [
      "Trial 42 concluído: calmar_ratio = 10.5616\n",
      "Trial 43 para hora 14: Testando estratégia com parâmetros {'length_rsi': 8.0, 'rsi_low': 43.0, 'rsi_high': 81.0, 'position_type': 'long'}\n",
      "Trial 43 para hora 14: Usando backtester com TP=17.10000, SL=30.50000\n",
      "Executando backtest para trial 43, hora 14...\n"
     ]
    },
    {
     "name": "stderr",
     "output_type": "stream",
     "text": [
      "\u001b[32m[I 2025-06-10 15:00:38,384]\u001b[0m Trial 43 finished with value: 9.687644572061346 and parameters: {'tp': 17.1, 'sl': 30.5, 'length_rsi': 8.0, 'rsi_low': 43.0, 'rsi_high': 81.0, 'position_type': 'long'}. Best is trial 28 with value: 12.36712054097857.\u001b[0m\n"
     ]
    },
    {
     "name": "stdout",
     "output_type": "stream",
     "text": [
      "Trial 43 concluído: calmar_ratio = 9.6876\n",
      "Trial 44 para hora 14: Testando estratégia com parâmetros {'length_rsi': 9.0, 'rsi_low': 42.0, 'rsi_high': 83.0, 'position_type': 'long'}\n",
      "Trial 44 para hora 14: Usando backtester com TP=20.50000, SL=31.50000\n",
      "Executando backtest para trial 44, hora 14...\n"
     ]
    },
    {
     "name": "stderr",
     "output_type": "stream",
     "text": [
      "\u001b[32m[I 2025-06-10 15:00:39,160]\u001b[0m Trial 44 finished with value: 10.425006235392019 and parameters: {'tp': 20.5, 'sl': 31.5, 'length_rsi': 9.0, 'rsi_low': 42.0, 'rsi_high': 83.0, 'position_type': 'long'}. Best is trial 28 with value: 12.36712054097857.\u001b[0m\n"
     ]
    },
    {
     "name": "stdout",
     "output_type": "stream",
     "text": [
      "Trial 44 concluído: calmar_ratio = 10.4250\n",
      "Trial 45 para hora 14: Testando estratégia com parâmetros {'length_rsi': 8.0, 'rsi_low': 40.0, 'rsi_high': 77.0, 'position_type': 'long'}\n",
      "Trial 45 para hora 14: Usando backtester com TP=19.10000, SL=29.60000\n",
      "Executando backtest para trial 45, hora 14...\n"
     ]
    },
    {
     "name": "stderr",
     "output_type": "stream",
     "text": [
      "\u001b[32m[I 2025-06-10 15:00:39,938]\u001b[0m Trial 45 finished with value: 1.7798633270704256 and parameters: {'tp': 19.1, 'sl': 29.6, 'length_rsi': 8.0, 'rsi_low': 40.0, 'rsi_high': 77.0, 'position_type': 'long'}. Best is trial 28 with value: 12.36712054097857.\u001b[0m\n"
     ]
    },
    {
     "name": "stdout",
     "output_type": "stream",
     "text": [
      "Trial 45 concluído: calmar_ratio = 1.7799\n",
      "Trial 46 para hora 14: Testando estratégia com parâmetros {'length_rsi': 8.0, 'rsi_low': 44.0, 'rsi_high': 63.0, 'position_type': 'long'}\n",
      "Trial 46 para hora 14: Usando backtester com TP=16.10000, SL=21.10000\n",
      "Executando backtest para trial 46, hora 14...\n"
     ]
    },
    {
     "name": "stderr",
     "output_type": "stream",
     "text": [
      "\u001b[32m[I 2025-06-10 15:00:40,721]\u001b[0m Trial 46 finished with value: 0.7110800507563391 and parameters: {'tp': 16.1, 'sl': 21.1, 'length_rsi': 8.0, 'rsi_low': 44.0, 'rsi_high': 63.0, 'position_type': 'long'}. Best is trial 28 with value: 12.36712054097857.\u001b[0m\n"
     ]
    },
    {
     "name": "stdout",
     "output_type": "stream",
     "text": [
      "Trial 46 concluído: calmar_ratio = 0.7111\n",
      "Trial 47 para hora 14: Testando estratégia com parâmetros {'length_rsi': 9.0, 'rsi_low': 45.0, 'rsi_high': 71.0, 'position_type': 'long'}\n",
      "Trial 47 para hora 14: Usando backtester com TP=20.20000, SL=27.80000\n",
      "Executando backtest para trial 47, hora 14...\n"
     ]
    },
    {
     "name": "stderr",
     "output_type": "stream",
     "text": [
      "\u001b[32m[I 2025-06-10 15:00:41,503]\u001b[0m Trial 47 finished with value: 2.0495584960922653 and parameters: {'tp': 20.2, 'sl': 27.8, 'length_rsi': 9.0, 'rsi_low': 45.0, 'rsi_high': 71.0, 'position_type': 'long'}. Best is trial 28 with value: 12.36712054097857.\u001b[0m\n"
     ]
    },
    {
     "name": "stdout",
     "output_type": "stream",
     "text": [
      "Trial 47 concluído: calmar_ratio = 2.0496\n",
      "Trial 48 para hora 14: Testando estratégia com parâmetros {'length_rsi': 8.0, 'rsi_low': 43.0, 'rsi_high': 84.0, 'position_type': 'short'}\n",
      "Trial 48 para hora 14: Usando backtester com TP=17.80000, SL=30.90000\n",
      "Executando backtest para trial 48, hora 14...\n"
     ]
    },
    {
     "name": "stderr",
     "output_type": "stream",
     "text": [
      "\u001b[32m[I 2025-06-10 15:00:42,296]\u001b[0m Trial 48 finished with value: -0.006777389039096228 and parameters: {'tp': 17.8, 'sl': 30.900000000000002, 'length_rsi': 8.0, 'rsi_low': 43.0, 'rsi_high': 84.0, 'position_type': 'short'}. Best is trial 28 with value: 12.36712054097857.\u001b[0m\n"
     ]
    },
    {
     "name": "stdout",
     "output_type": "stream",
     "text": [
      "Trial 48 concluído: calmar_ratio = -0.0068\n",
      "Trial 49 para hora 14: Testando estratégia com parâmetros {'length_rsi': 8.0, 'rsi_low': 26.0, 'rsi_high': 80.0, 'position_type': 'both'}\n",
      "Trial 49 para hora 14: Usando backtester com TP=13.70000, SL=8.70000\n",
      "Executando backtest para trial 49, hora 14...\n"
     ]
    },
    {
     "name": "stderr",
     "output_type": "stream",
     "text": [
      "\u001b[32m[I 2025-06-10 15:00:43,078]\u001b[0m Trial 49 finished with value: 1.2364850562640792 and parameters: {'tp': 13.700000000000001, 'sl': 8.7, 'length_rsi': 8.0, 'rsi_low': 26.0, 'rsi_high': 80.0, 'position_type': 'both'}. Best is trial 28 with value: 12.36712054097857.\u001b[0m\n"
     ]
    },
    {
     "name": "stdout",
     "output_type": "stream",
     "text": [
      "Trial 49 concluído: calmar_ratio = 1.2365\n",
      "Trial 50 para hora 14: Testando estratégia com parâmetros {'length_rsi': 8.0, 'rsi_low': 38.0, 'rsi_high': 82.0, 'position_type': 'long'}\n",
      "Trial 50 para hora 14: Usando backtester com TP=11.70000, SL=29.30000\n",
      "Executando backtest para trial 50, hora 14...\n"
     ]
    },
    {
     "name": "stderr",
     "output_type": "stream",
     "text": [
      "\u001b[32m[I 2025-06-10 15:00:43,853]\u001b[0m Trial 50 finished with value: 4.093133935149749 and parameters: {'tp': 11.700000000000001, 'sl': 29.3, 'length_rsi': 8.0, 'rsi_low': 38.0, 'rsi_high': 82.0, 'position_type': 'long'}. Best is trial 28 with value: 12.36712054097857.\u001b[0m\n"
     ]
    },
    {
     "name": "stdout",
     "output_type": "stream",
     "text": [
      "Trial 50 concluído: calmar_ratio = 4.0931\n",
      "Trial 51 para hora 14: Testando estratégia com parâmetros {'length_rsi': 9.0, 'rsi_low': 42.0, 'rsi_high': 83.0, 'position_type': 'long'}\n",
      "Trial 51 para hora 14: Usando backtester com TP=20.20000, SL=31.80000\n",
      "Executando backtest para trial 51, hora 14...\n"
     ]
    },
    {
     "name": "stderr",
     "output_type": "stream",
     "text": [
      "\u001b[32m[I 2025-06-10 15:00:44,628]\u001b[0m Trial 51 finished with value: 9.731400645521312 and parameters: {'tp': 20.2, 'sl': 31.8, 'length_rsi': 9.0, 'rsi_low': 42.0, 'rsi_high': 83.0, 'position_type': 'long'}. Best is trial 28 with value: 12.36712054097857.\u001b[0m\n"
     ]
    },
    {
     "name": "stdout",
     "output_type": "stream",
     "text": [
      "Trial 51 concluído: calmar_ratio = 9.7314\n",
      "Trial 52 para hora 14: Testando estratégia com parâmetros {'length_rsi': 9.0, 'rsi_low': 44.0, 'rsi_high': 84.0, 'position_type': 'long'}\n",
      "Trial 52 para hora 14: Usando backtester com TP=2.10000, SL=26.20000\n",
      "Executando backtest para trial 52, hora 14...\n"
     ]
    },
    {
     "name": "stderr",
     "output_type": "stream",
     "text": [
      "\u001b[32m[I 2025-06-10 15:00:45,402]\u001b[0m Trial 52 finished with value: 5.57294146600327 and parameters: {'tp': 2.1, 'sl': 26.200000000000003, 'length_rsi': 9.0, 'rsi_low': 44.0, 'rsi_high': 84.0, 'position_type': 'long'}. Best is trial 28 with value: 12.36712054097857.\u001b[0m\n"
     ]
    },
    {
     "name": "stdout",
     "output_type": "stream",
     "text": [
      "Trial 52 concluído: calmar_ratio = 5.5729\n",
      "Trial 53 para hora 14: Testando estratégia com parâmetros {'length_rsi': 8.0, 'rsi_low': 42.0, 'rsi_high': 55.0, 'position_type': 'long'}\n",
      "Trial 53 para hora 14: Usando backtester com TP=16.00000, SL=29.90000\n",
      "Executando backtest para trial 53, hora 14...\n"
     ]
    },
    {
     "name": "stderr",
     "output_type": "stream",
     "text": [
      "\u001b[32m[I 2025-06-10 15:00:46,209]\u001b[0m Trial 53 finished with value: 0.780748524272174 and parameters: {'tp': 16.0, 'sl': 29.900000000000002, 'length_rsi': 8.0, 'rsi_low': 42.0, 'rsi_high': 55.0, 'position_type': 'long'}. Best is trial 28 with value: 12.36712054097857.\u001b[0m\n"
     ]
    },
    {
     "name": "stdout",
     "output_type": "stream",
     "text": [
      "Trial 53 concluído: calmar_ratio = 0.7807\n",
      "Trial 54 para hora 14: Testando estratégia com parâmetros {'length_rsi': 8.0, 'rsi_low': 45.0, 'rsi_high': 81.0, 'position_type': 'long'}\n",
      "Trial 54 para hora 14: Usando backtester com TP=20.20000, SL=31.80000\n",
      "Executando backtest para trial 54, hora 14...\n"
     ]
    },
    {
     "name": "stderr",
     "output_type": "stream",
     "text": [
      "\u001b[32m[I 2025-06-10 15:00:46,991]\u001b[0m Trial 54 finished with value: 9.757410875169482 and parameters: {'tp': 20.2, 'sl': 31.8, 'length_rsi': 8.0, 'rsi_low': 45.0, 'rsi_high': 81.0, 'position_type': 'long'}. Best is trial 28 with value: 12.36712054097857.\u001b[0m\n",
      "\u001b[32m[I 2025-06-10 15:00:46,995]\u001b[0m A new study created in memory with name: hora_15\u001b[0m\n"
     ]
    },
    {
     "name": "stdout",
     "output_type": "stream",
     "text": [
      "Trial 54 concluído: calmar_ratio = 9.7574\n",
      "Otimização concluída para hora 14.\n",
      "\n",
      "Melhores parâmetros para hora 14:\n",
      "calmar_ratio: 12.3671\n",
      "Parâmetros: {'length_rsi': 8.0, 'rsi_low': 44.0, 'rsi_high': 85.0, 'position_type': 'long', 'allowed_hours': [14], 'tp': 7.0, 'sl': 29.1}\n",
      "Profit Factor: 1.5381\n",
      "Win Rate: 86.67%\n",
      "Max Drawdown: 2.56%\n",
      "Total Return: $2100.60\n",
      "Total Trades: 75\n",
      "\n",
      "==================================================\n",
      "Otimizando estratégia para hora: 15:00\n",
      "Métrica: calmar_ratio - Direção: maximize\n",
      "==================================================\n",
      "Iniciando otimização com 55 trials para hora 15...\n",
      "Trial 0 para hora 15: Testando estratégia com parâmetros {'length_rsi': 10.0, 'rsi_low': 36.0, 'rsi_high': 71.0, 'position_type': 'long'}\n",
      "Trial 0 para hora 15: Usando backtester com TP=14.70000, SL=16.50000\n",
      "Executando backtest para trial 0, hora 15...\n"
     ]
    },
    {
     "name": "stderr",
     "output_type": "stream",
     "text": [
      "\u001b[32m[I 2025-06-10 15:00:47,781]\u001b[0m Trial 0 finished with value: 1.863903172217158 and parameters: {'tp': 14.700000000000001, 'sl': 16.5, 'length_rsi': 10.0, 'rsi_low': 36.0, 'rsi_high': 71.0, 'position_type': 'long'}. Best is trial 0 with value: 1.863903172217158.\u001b[0m\n"
     ]
    },
    {
     "name": "stdout",
     "output_type": "stream",
     "text": [
      "Trial 0 concluído: calmar_ratio = 1.8639\n",
      "Trial 1 para hora 15: Testando estratégia com parâmetros {'length_rsi': 9.0, 'rsi_low': 39.0, 'rsi_high': 84.0, 'position_type': 'both'}\n",
      "Trial 1 para hora 15: Usando backtester com TP=19.50000, SL=3.60000\n",
      "Executando backtest para trial 1, hora 15...\n"
     ]
    },
    {
     "name": "stderr",
     "output_type": "stream",
     "text": [
      "\u001b[32m[I 2025-06-10 15:00:48,556]\u001b[0m Trial 1 finished with value: -0.19504022279621028 and parameters: {'tp': 19.5, 'sl': 3.6, 'length_rsi': 9.0, 'rsi_low': 39.0, 'rsi_high': 84.0, 'position_type': 'both'}. Best is trial 0 with value: 1.863903172217158.\u001b[0m\n"
     ]
    },
    {
     "name": "stdout",
     "output_type": "stream",
     "text": [
      "Trial 1 concluído: calmar_ratio = -0.1950\n",
      "Trial 2 para hora 15: Testando estratégia com parâmetros {'length_rsi': 6.0, 'rsi_low': 37.0, 'rsi_high': 65.0, 'position_type': 'both'}\n",
      "Trial 2 para hora 15: Usando backtester com TP=11.10000, SL=18.20000\n",
      "Executando backtest para trial 2, hora 15...\n"
     ]
    },
    {
     "name": "stderr",
     "output_type": "stream",
     "text": [
      "\u001b[32m[I 2025-06-10 15:00:49,339]\u001b[0m Trial 2 finished with value: 0.16225819861875923 and parameters: {'tp': 11.1, 'sl': 18.2, 'length_rsi': 6.0, 'rsi_low': 37.0, 'rsi_high': 65.0, 'position_type': 'both'}. Best is trial 0 with value: 1.863903172217158.\u001b[0m\n"
     ]
    },
    {
     "name": "stdout",
     "output_type": "stream",
     "text": [
      "Trial 2 concluído: calmar_ratio = 0.1623\n",
      "Trial 3 para hora 15: Testando estratégia com parâmetros {'length_rsi': 7.0, 'rsi_low': 35.0, 'rsi_high': 61.0, 'position_type': 'both'}\n",
      "Trial 3 para hora 15: Usando backtester com TP=20.30000, SL=24.80000\n",
      "Executando backtest para trial 3, hora 15...\n"
     ]
    },
    {
     "name": "stderr",
     "output_type": "stream",
     "text": [
      "\u001b[32m[I 2025-06-10 15:00:50,116]\u001b[0m Trial 3 finished with value: 1.6626342553289977 and parameters: {'tp': 20.3, 'sl': 24.8, 'length_rsi': 7.0, 'rsi_low': 35.0, 'rsi_high': 61.0, 'position_type': 'both'}. Best is trial 0 with value: 1.863903172217158.\u001b[0m\n"
     ]
    },
    {
     "name": "stdout",
     "output_type": "stream",
     "text": [
      "Trial 3 concluído: calmar_ratio = 1.6626\n",
      "Trial 4 para hora 15: Testando estratégia com parâmetros {'length_rsi': 9.0, 'rsi_low': 40.0, 'rsi_high': 56.0, 'position_type': 'long'}\n",
      "Trial 4 para hora 15: Usando backtester com TP=2.90000, SL=7.30000\n",
      "Executando backtest para trial 4, hora 15...\n"
     ]
    },
    {
     "name": "stderr",
     "output_type": "stream",
     "text": [
      "\u001b[32m[I 2025-06-10 15:00:50,891]\u001b[0m Trial 4 finished with value: -0.08243756855989552 and parameters: {'tp': 2.9, 'sl': 7.300000000000001, 'length_rsi': 9.0, 'rsi_low': 40.0, 'rsi_high': 56.0, 'position_type': 'long'}. Best is trial 0 with value: 1.863903172217158.\u001b[0m\n"
     ]
    },
    {
     "name": "stdout",
     "output_type": "stream",
     "text": [
      "Trial 4 concluído: calmar_ratio = -0.0824\n",
      "Trial 5 para hora 15: Testando estratégia com parâmetros {'length_rsi': 9.0, 'rsi_low': 42.0, 'rsi_high': 71.0, 'position_type': 'long'}\n",
      "Trial 5 para hora 15: Usando backtester com TP=9.20000, SL=16.10000\n",
      "Executando backtest para trial 5, hora 15...\n"
     ]
    },
    {
     "name": "stderr",
     "output_type": "stream",
     "text": [
      "\u001b[32m[I 2025-06-10 15:00:51,664]\u001b[0m Trial 5 finished with value: 1.7537931777495859 and parameters: {'tp': 9.2, 'sl': 16.1, 'length_rsi': 9.0, 'rsi_low': 42.0, 'rsi_high': 71.0, 'position_type': 'long'}. Best is trial 0 with value: 1.863903172217158.\u001b[0m\n"
     ]
    },
    {
     "name": "stdout",
     "output_type": "stream",
     "text": [
      "Trial 5 concluído: calmar_ratio = 1.7538\n",
      "Trial 6 para hora 15: Testando estratégia com parâmetros {'length_rsi': 6.0, 'rsi_low': 37.0, 'rsi_high': 78.0, 'position_type': 'long'}\n",
      "Trial 6 para hora 15: Usando backtester com TP=17.00000, SL=30.90000\n",
      "Executando backtest para trial 6, hora 15...\n"
     ]
    },
    {
     "name": "stderr",
     "output_type": "stream",
     "text": [
      "\u001b[32m[I 2025-06-10 15:00:52,434]\u001b[0m Trial 6 finished with value: 4.549191314300681 and parameters: {'tp': 17.0, 'sl': 30.900000000000002, 'length_rsi': 6.0, 'rsi_low': 37.0, 'rsi_high': 78.0, 'position_type': 'long'}. Best is trial 6 with value: 4.549191314300681.\u001b[0m\n"
     ]
    },
    {
     "name": "stdout",
     "output_type": "stream",
     "text": [
      "Trial 6 concluído: calmar_ratio = 4.5492\n",
      "Trial 7 para hora 15: Testando estratégia com parâmetros {'length_rsi': 8.0, 'rsi_low': 35.0, 'rsi_high': 71.0, 'position_type': 'both'}\n",
      "Trial 7 para hora 15: Usando backtester com TP=6.90000, SL=23.40000\n",
      "Executando backtest para trial 7, hora 15...\n"
     ]
    },
    {
     "name": "stderr",
     "output_type": "stream",
     "text": [
      "\u001b[32m[I 2025-06-10 15:00:53,218]\u001b[0m Trial 7 finished with value: 0.11974477233131789 and parameters: {'tp': 6.9, 'sl': 23.400000000000002, 'length_rsi': 8.0, 'rsi_low': 35.0, 'rsi_high': 71.0, 'position_type': 'both'}. Best is trial 6 with value: 4.549191314300681.\u001b[0m\n"
     ]
    },
    {
     "name": "stdout",
     "output_type": "stream",
     "text": [
      "Trial 7 concluído: calmar_ratio = 0.1197\n",
      "Trial 8 para hora 15: Testando estratégia com parâmetros {'length_rsi': 9.0, 'rsi_low': 30.0, 'rsi_high': 77.0, 'position_type': 'both'}\n",
      "Trial 8 para hora 15: Usando backtester com TP=3.00000, SL=7.70000\n",
      "Executando backtest para trial 8, hora 15...\n"
     ]
    },
    {
     "name": "stderr",
     "output_type": "stream",
     "text": [
      "\u001b[32m[I 2025-06-10 15:00:54,007]\u001b[0m Trial 8 finished with value: -0.3785031492029004 and parameters: {'tp': 3.0, 'sl': 7.7, 'length_rsi': 9.0, 'rsi_low': 30.0, 'rsi_high': 77.0, 'position_type': 'both'}. Best is trial 6 with value: 4.549191314300681.\u001b[0m\n"
     ]
    },
    {
     "name": "stdout",
     "output_type": "stream",
     "text": [
      "Trial 8 concluído: calmar_ratio = -0.3785\n",
      "Trial 9 para hora 15: Testando estratégia com parâmetros {'length_rsi': 6.0, 'rsi_low': 26.0, 'rsi_high': 79.0, 'position_type': 'short'}\n",
      "Trial 9 para hora 15: Usando backtester com TP=12.30000, SL=25.60000\n",
      "Executando backtest para trial 9, hora 15...\n"
     ]
    },
    {
     "name": "stderr",
     "output_type": "stream",
     "text": [
      "\u001b[32m[I 2025-06-10 15:00:54,814]\u001b[0m Trial 9 finished with value: 0.0012234555628080628 and parameters: {'tp': 12.3, 'sl': 25.6, 'length_rsi': 6.0, 'rsi_low': 26.0, 'rsi_high': 79.0, 'position_type': 'short'}. Best is trial 6 with value: 4.549191314300681.\u001b[0m\n"
     ]
    },
    {
     "name": "stdout",
     "output_type": "stream",
     "text": [
      "Trial 9 concluído: calmar_ratio = 0.0012\n",
      "Trial 10 para hora 15: Testando estratégia com parâmetros {'length_rsi': 7.0, 'rsi_low': 31.0, 'rsi_high': 85.0, 'position_type': 'short'}\n",
      "Trial 10 para hora 15: Usando backtester com TP=29.80000, SL=31.20000\n",
      "Executando backtest para trial 10, hora 15...\n"
     ]
    },
    {
     "name": "stderr",
     "output_type": "stream",
     "text": [
      "\u001b[32m[I 2025-06-10 15:00:55,616]\u001b[0m Trial 10 finished with value: 0.0031073766492625003 and parameters: {'tp': 29.8, 'sl': 31.200000000000003, 'length_rsi': 7.0, 'rsi_low': 31.0, 'rsi_high': 85.0, 'position_type': 'short'}. Best is trial 6 with value: 4.549191314300681.\u001b[0m\n"
     ]
    },
    {
     "name": "stdout",
     "output_type": "stream",
     "text": [
      "Trial 10 concluído: calmar_ratio = 0.0031\n",
      "Trial 11 para hora 15: Testando estratégia com parâmetros {'length_rsi': 10.0, 'rsi_low': 45.0, 'rsi_high': 76.0, 'position_type': 'long'}\n",
      "Trial 11 para hora 15: Usando backtester com TP=24.30000, SL=15.30000\n",
      "Executando backtest para trial 11, hora 15...\n"
     ]
    },
    {
     "name": "stderr",
     "output_type": "stream",
     "text": [
      "\u001b[32m[I 2025-06-10 15:00:56,393]\u001b[0m Trial 11 finished with value: 2.7845109486801847 and parameters: {'tp': 24.3, 'sl': 15.3, 'length_rsi': 10.0, 'rsi_low': 45.0, 'rsi_high': 76.0, 'position_type': 'long'}. Best is trial 6 with value: 4.549191314300681.\u001b[0m\n"
     ]
    },
    {
     "name": "stdout",
     "output_type": "stream",
     "text": [
      "Trial 11 concluído: calmar_ratio = 2.7845\n",
      "Trial 12 para hora 15: Testando estratégia com parâmetros {'length_rsi': 10.0, 'rsi_low': 45.0, 'rsi_high': 78.0, 'position_type': 'long'}\n",
      "Trial 12 para hora 15: Usando backtester com TP=25.70000, SL=11.70000\n",
      "Executando backtest para trial 12, hora 15...\n"
     ]
    },
    {
     "name": "stderr",
     "output_type": "stream",
     "text": [
      "\u001b[32m[I 2025-06-10 15:00:57,205]\u001b[0m Trial 12 finished with value: 2.440071516357128 and parameters: {'tp': 25.700000000000003, 'sl': 11.700000000000001, 'length_rsi': 10.0, 'rsi_low': 45.0, 'rsi_high': 78.0, 'position_type': 'long'}. Best is trial 6 with value: 4.549191314300681.\u001b[0m\n"
     ]
    },
    {
     "name": "stdout",
     "output_type": "stream",
     "text": [
      "Trial 12 concluído: calmar_ratio = 2.4401\n",
      "Trial 13 para hora 15: Testando estratégia com parâmetros {'length_rsi': 7.0, 'rsi_low': 45.0, 'rsi_high': 75.0, 'position_type': 'long'}\n",
      "Trial 13 para hora 15: Usando backtester com TP=23.60000, SL=30.30000\n",
      "Executando backtest para trial 13, hora 15...\n"
     ]
    },
    {
     "name": "stderr",
     "output_type": "stream",
     "text": [
      "\u001b[32m[I 2025-06-10 15:00:58,065]\u001b[0m Trial 13 finished with value: 4.600533847422295 and parameters: {'tp': 23.6, 'sl': 30.3, 'length_rsi': 7.0, 'rsi_low': 45.0, 'rsi_high': 75.0, 'position_type': 'long'}. Best is trial 13 with value: 4.600533847422295.\u001b[0m\n"
     ]
    },
    {
     "name": "stdout",
     "output_type": "stream",
     "text": [
      "Trial 13 concluído: calmar_ratio = 4.6005\n",
      "Trial 14 para hora 15: Testando estratégia com parâmetros {'length_rsi': 7.0, 'rsi_low': 42.0, 'rsi_high': 67.0, 'position_type': 'long'}\n",
      "Trial 14 para hora 15: Usando backtester com TP=18.40000, SL=31.60000\n",
      "Executando backtest para trial 14, hora 15...\n"
     ]
    },
    {
     "name": "stderr",
     "output_type": "stream",
     "text": [
      "\u001b[32m[I 2025-06-10 15:00:58,845]\u001b[0m Trial 14 finished with value: 2.959856780226451 and parameters: {'tp': 18.400000000000002, 'sl': 31.6, 'length_rsi': 7.0, 'rsi_low': 42.0, 'rsi_high': 67.0, 'position_type': 'long'}. Best is trial 13 with value: 4.600533847422295.\u001b[0m\n"
     ]
    },
    {
     "name": "stdout",
     "output_type": "stream",
     "text": [
      "Trial 14 concluído: calmar_ratio = 2.9599\n",
      "Trial 15 para hora 15: Testando estratégia com parâmetros {'length_rsi': 6.0, 'rsi_low': 32.0, 'rsi_high': 81.0, 'position_type': 'long'}\n",
      "Trial 15 para hora 15: Usando backtester com TP=23.50000, SL=28.70000\n",
      "Executando backtest para trial 15, hora 15...\n"
     ]
    },
    {
     "name": "stderr",
     "output_type": "stream",
     "text": [
      "\u001b[32m[I 2025-06-10 15:00:59,627]\u001b[0m Trial 15 finished with value: 6.307568891080553 and parameters: {'tp': 23.5, 'sl': 28.700000000000003, 'length_rsi': 6.0, 'rsi_low': 32.0, 'rsi_high': 81.0, 'position_type': 'long'}. Best is trial 15 with value: 6.307568891080553.\u001b[0m\n"
     ]
    },
    {
     "name": "stdout",
     "output_type": "stream",
     "text": [
      "Trial 15 concluído: calmar_ratio = 6.3076\n",
      "Trial 16 para hora 15: Testando estratégia com parâmetros {'length_rsi': 7.0, 'rsi_low': 32.0, 'rsi_high': 81.0, 'position_type': 'long'}\n",
      "Trial 16 para hora 15: Usando backtester com TP=32.00000, SL=27.50000\n",
      "Executando backtest para trial 16, hora 15...\n"
     ]
    },
    {
     "name": "stderr",
     "output_type": "stream",
     "text": [
      "\u001b[32m[I 2025-06-10 15:01:00,397]\u001b[0m Trial 16 finished with value: 8.5406527760195 and parameters: {'tp': 32.0, 'sl': 27.5, 'length_rsi': 7.0, 'rsi_low': 32.0, 'rsi_high': 81.0, 'position_type': 'long'}. Best is trial 16 with value: 8.5406527760195.\u001b[0m\n"
     ]
    },
    {
     "name": "stdout",
     "output_type": "stream",
     "text": [
      "Trial 16 concluído: calmar_ratio = 8.5407\n",
      "Trial 17 para hora 15: Testando estratégia com parâmetros {'length_rsi': 8.0, 'rsi_low': 32.0, 'rsi_high': 81.0, 'position_type': 'short'}\n",
      "Trial 17 para hora 15: Usando backtester com TP=31.10000, SL=20.20000\n",
      "Executando backtest para trial 17, hora 15...\n"
     ]
    },
    {
     "name": "stderr",
     "output_type": "stream",
     "text": [
      "\u001b[32m[I 2025-06-10 15:01:01,170]\u001b[0m Trial 17 finished with value: -0.07108413598396947 and parameters: {'tp': 31.1, 'sl': 20.2, 'length_rsi': 8.0, 'rsi_low': 32.0, 'rsi_high': 81.0, 'position_type': 'short'}. Best is trial 16 with value: 8.5406527760195.\u001b[0m\n"
     ]
    },
    {
     "name": "stdout",
     "output_type": "stream",
     "text": [
      "Trial 17 concluído: calmar_ratio = -0.0711\n",
      "Trial 18 para hora 15: Testando estratégia com parâmetros {'length_rsi': 6.0, 'rsi_low': 27.0, 'rsi_high': 82.0, 'position_type': 'long'}\n",
      "Trial 18 para hora 15: Usando backtester com TP=27.80000, SL=27.80000\n",
      "Executando backtest para trial 18, hora 15...\n"
     ]
    },
    {
     "name": "stderr",
     "output_type": "stream",
     "text": [
      "\u001b[32m[I 2025-06-10 15:01:01,936]\u001b[0m Trial 18 finished with value: 10.784600731818651 and parameters: {'tp': 27.8, 'sl': 27.8, 'length_rsi': 6.0, 'rsi_low': 27.0, 'rsi_high': 82.0, 'position_type': 'long'}. Best is trial 18 with value: 10.784600731818651.\u001b[0m\n"
     ]
    },
    {
     "name": "stdout",
     "output_type": "stream",
     "text": [
      "Trial 18 concluído: calmar_ratio = 10.7846\n",
      "Trial 19 para hora 15: Testando estratégia com parâmetros {'length_rsi': 7.0, 'rsi_low': 25.0, 'rsi_high': 82.0, 'position_type': 'long'}\n",
      "Trial 19 para hora 15: Usando backtester com TP=27.90000, SL=26.70000\n",
      "Executando backtest para trial 19, hora 15...\n"
     ]
    },
    {
     "name": "stderr",
     "output_type": "stream",
     "text": [
      "\u001b[32m[I 2025-06-10 15:01:02,723]\u001b[0m Trial 19 finished with value: 10.088956949065498 and parameters: {'tp': 27.900000000000002, 'sl': 26.700000000000003, 'length_rsi': 7.0, 'rsi_low': 25.0, 'rsi_high': 82.0, 'position_type': 'long'}. Best is trial 18 with value: 10.784600731818651.\u001b[0m\n"
     ]
    },
    {
     "name": "stdout",
     "output_type": "stream",
     "text": [
      "Trial 19 concluído: calmar_ratio = 10.0890\n",
      "Trial 20 para hora 15: Testando estratégia com parâmetros {'length_rsi': 6.0, 'rsi_low': 25.0, 'rsi_high': 85.0, 'position_type': 'short'}\n",
      "Trial 20 para hora 15: Usando backtester com TP=28.40000, SL=22.00000\n",
      "Executando backtest para trial 20, hora 15...\n"
     ]
    },
    {
     "name": "stderr",
     "output_type": "stream",
     "text": [
      "\u001b[32m[I 2025-06-10 15:01:03,488]\u001b[0m Trial 20 finished with value: 0.11918388814517265 and parameters: {'tp': 28.400000000000002, 'sl': 22.0, 'length_rsi': 6.0, 'rsi_low': 25.0, 'rsi_high': 85.0, 'position_type': 'short'}. Best is trial 18 with value: 10.784600731818651.\u001b[0m\n"
     ]
    },
    {
     "name": "stdout",
     "output_type": "stream",
     "text": [
      "Trial 20 concluído: calmar_ratio = 0.1192\n",
      "Trial 21 para hora 15: Testando estratégia com parâmetros {'length_rsi': 8.0, 'rsi_low': 28.0, 'rsi_high': 82.0, 'position_type': 'long'}\n",
      "Trial 21 para hora 15: Usando backtester com TP=27.50000, SL=27.20000\n",
      "Executando backtest para trial 21, hora 15...\n"
     ]
    },
    {
     "name": "stderr",
     "output_type": "stream",
     "text": [
      "\u001b[32m[I 2025-06-10 15:01:04,257]\u001b[0m Trial 21 finished with value: 8.962264683312855 and parameters: {'tp': 27.5, 'sl': 27.200000000000003, 'length_rsi': 8.0, 'rsi_low': 28.0, 'rsi_high': 82.0, 'position_type': 'long'}. Best is trial 18 with value: 10.784600731818651.\u001b[0m\n"
     ]
    },
    {
     "name": "stdout",
     "output_type": "stream",
     "text": [
      "Trial 21 concluído: calmar_ratio = 8.9623\n",
      "Trial 22 para hora 15: Testando estratégia com parâmetros {'length_rsi': 8.0, 'rsi_low': 28.0, 'rsi_high': 82.0, 'position_type': 'long'}\n",
      "Trial 22 para hora 15: Usando backtester com TP=27.40000, SL=27.10000\n",
      "Executando backtest para trial 22, hora 15...\n"
     ]
    },
    {
     "name": "stderr",
     "output_type": "stream",
     "text": [
      "\u001b[32m[I 2025-06-10 15:01:05,022]\u001b[0m Trial 22 finished with value: 8.94031941705407 and parameters: {'tp': 27.400000000000002, 'sl': 27.1, 'length_rsi': 8.0, 'rsi_low': 28.0, 'rsi_high': 82.0, 'position_type': 'long'}. Best is trial 18 with value: 10.784600731818651.\u001b[0m\n"
     ]
    },
    {
     "name": "stdout",
     "output_type": "stream",
     "text": [
      "Trial 22 concluído: calmar_ratio = 8.9403\n",
      "Trial 23 para hora 15: Testando estratégia com parâmetros {'length_rsi': 8.0, 'rsi_low': 27.0, 'rsi_high': 74.0, 'position_type': 'long'}\n",
      "Trial 23 para hora 15: Usando backtester com TP=22.10000, SL=21.20000\n",
      "Executando backtest para trial 23, hora 15...\n"
     ]
    },
    {
     "name": "stderr",
     "output_type": "stream",
     "text": [
      "\u001b[32m[I 2025-06-10 15:01:05,798]\u001b[0m Trial 23 finished with value: 4.374866054049433 and parameters: {'tp': 22.1, 'sl': 21.200000000000003, 'length_rsi': 8.0, 'rsi_low': 27.0, 'rsi_high': 74.0, 'position_type': 'long'}. Best is trial 18 with value: 10.784600731818651.\u001b[0m\n"
     ]
    },
    {
     "name": "stdout",
     "output_type": "stream",
     "text": [
      "Trial 23 concluído: calmar_ratio = 4.3749\n",
      "Trial 24 para hora 15: Testando estratégia com parâmetros {'length_rsi': 7.0, 'rsi_low': 29.0, 'rsi_high': 83.0, 'position_type': 'long'}\n",
      "Trial 24 para hora 15: Usando backtester com TP=26.40000, SL=24.80000\n",
      "Executando backtest para trial 24, hora 15...\n"
     ]
    },
    {
     "name": "stderr",
     "output_type": "stream",
     "text": [
      "\u001b[32m[I 2025-06-10 15:01:06,576]\u001b[0m Trial 24 finished with value: 6.400970027187105 and parameters: {'tp': 26.400000000000002, 'sl': 24.8, 'length_rsi': 7.0, 'rsi_low': 29.0, 'rsi_high': 83.0, 'position_type': 'long'}. Best is trial 18 with value: 10.784600731818651.\u001b[0m\n"
     ]
    },
    {
     "name": "stdout",
     "output_type": "stream",
     "text": [
      "Trial 24 concluído: calmar_ratio = 6.4010\n",
      "Trial 25 para hora 15: Testando estratégia com parâmetros {'length_rsi': 8.0, 'rsi_low': 25.0, 'rsi_high': 80.0, 'position_type': 'long'}\n",
      "Trial 25 para hora 15: Usando backtester com TP=28.80000, SL=28.30000\n",
      "Executando backtest para trial 25, hora 15...\n"
     ]
    },
    {
     "name": "stderr",
     "output_type": "stream",
     "text": [
      "\u001b[32m[I 2025-06-10 15:01:07,376]\u001b[0m Trial 25 finished with value: 10.140869069387655 and parameters: {'tp': 28.8, 'sl': 28.3, 'length_rsi': 8.0, 'rsi_low': 25.0, 'rsi_high': 80.0, 'position_type': 'long'}. Best is trial 18 with value: 10.784600731818651.\u001b[0m\n"
     ]
    },
    {
     "name": "stdout",
     "output_type": "stream",
     "text": [
      "Trial 25 concluído: calmar_ratio = 10.1409\n",
      "Trial 26 para hora 15: Testando estratégia com parâmetros {'length_rsi': 7.0, 'rsi_low': 25.0, 'rsi_high': 73.0, 'position_type': 'long'}\n",
      "Trial 26 para hora 15: Usando backtester com TP=29.50000, SL=29.00000\n",
      "Executando backtest para trial 26, hora 15...\n"
     ]
    },
    {
     "name": "stderr",
     "output_type": "stream",
     "text": [
      "\u001b[32m[I 2025-06-10 15:01:08,154]\u001b[0m Trial 26 finished with value: 3.507940323507153 and parameters: {'tp': 29.5, 'sl': 29.0, 'length_rsi': 7.0, 'rsi_low': 25.0, 'rsi_high': 73.0, 'position_type': 'long'}. Best is trial 18 with value: 10.784600731818651.\u001b[0m\n"
     ]
    },
    {
     "name": "stdout",
     "output_type": "stream",
     "text": [
      "Trial 26 concluído: calmar_ratio = 3.5079\n",
      "Trial 27 para hora 15: Testando estratégia com parâmetros {'length_rsi': 6.0, 'rsi_low': 27.0, 'rsi_high': 79.0, 'position_type': 'long'}\n",
      "Trial 27 para hora 15: Usando backtester com TP=21.40000, SL=19.20000\n",
      "Executando backtest para trial 27, hora 15...\n"
     ]
    },
    {
     "name": "stderr",
     "output_type": "stream",
     "text": [
      "\u001b[32m[I 2025-06-10 15:01:08,950]\u001b[0m Trial 27 finished with value: 3.966530676123672 and parameters: {'tp': 21.400000000000002, 'sl': 19.2, 'length_rsi': 6.0, 'rsi_low': 27.0, 'rsi_high': 79.0, 'position_type': 'long'}. Best is trial 18 with value: 10.784600731818651.\u001b[0m\n"
     ]
    },
    {
     "name": "stdout",
     "output_type": "stream",
     "text": [
      "Trial 27 concluído: calmar_ratio = 3.9665\n",
      "Trial 28 para hora 15: Testando estratégia com parâmetros {'length_rsi': 7.0, 'rsi_low': 25.0, 'rsi_high': 68.0, 'position_type': 'long'}\n",
      "Trial 28 para hora 15: Usando backtester com TP=25.60000, SL=22.50000\n",
      "Executando backtest para trial 28, hora 15...\n"
     ]
    },
    {
     "name": "stderr",
     "output_type": "stream",
     "text": [
      "\u001b[32m[I 2025-06-10 15:01:09,746]\u001b[0m Trial 28 finished with value: 3.234070775802921 and parameters: {'tp': 25.6, 'sl': 22.5, 'length_rsi': 7.0, 'rsi_low': 25.0, 'rsi_high': 68.0, 'position_type': 'long'}. Best is trial 18 with value: 10.784600731818651.\u001b[0m\n"
     ]
    },
    {
     "name": "stdout",
     "output_type": "stream",
     "text": [
      "Trial 28 concluído: calmar_ratio = 3.2341\n",
      "Trial 29 para hora 15: Testando estratégia com parâmetros {'length_rsi': 8.0, 'rsi_low': 27.0, 'rsi_high': 80.0, 'position_type': 'short'}\n",
      "Trial 29 para hora 15: Usando backtester com TP=30.00000, SL=14.10000\n",
      "Executando backtest para trial 29, hora 15...\n"
     ]
    },
    {
     "name": "stderr",
     "output_type": "stream",
     "text": [
      "\u001b[32m[I 2025-06-10 15:01:10,554]\u001b[0m Trial 29 finished with value: 0.6943590411316852 and parameters: {'tp': 30.0, 'sl': 14.100000000000001, 'length_rsi': 8.0, 'rsi_low': 27.0, 'rsi_high': 80.0, 'position_type': 'short'}. Best is trial 18 with value: 10.784600731818651.\u001b[0m\n"
     ]
    },
    {
     "name": "stdout",
     "output_type": "stream",
     "text": [
      "Trial 29 concluído: calmar_ratio = 0.6944\n",
      "Trial 30 para hora 15: Testando estratégia com parâmetros {'length_rsi': 6.0, 'rsi_low': 29.0, 'rsi_high': 83.0, 'position_type': 'long'}\n",
      "Trial 30 para hora 15: Usando backtester com TP=14.00000, SL=24.60000\n",
      "Executando backtest para trial 30, hora 15...\n"
     ]
    },
    {
     "name": "stderr",
     "output_type": "stream",
     "text": [
      "\u001b[32m[I 2025-06-10 15:01:11,334]\u001b[0m Trial 30 finished with value: 8.385477771424487 and parameters: {'tp': 14.0, 'sl': 24.6, 'length_rsi': 6.0, 'rsi_low': 29.0, 'rsi_high': 83.0, 'position_type': 'long'}. Best is trial 18 with value: 10.784600731818651.\u001b[0m\n"
     ]
    },
    {
     "name": "stdout",
     "output_type": "stream",
     "text": [
      "Trial 30 concluído: calmar_ratio = 8.3855\n",
      "Trial 31 para hora 15: Testando estratégia com parâmetros {'length_rsi': 8.0, 'rsi_low': 28.0, 'rsi_high': 83.0, 'position_type': 'long'}\n",
      "Trial 31 para hora 15: Usando backtester com TP=28.40000, SL=26.70000\n",
      "Executando backtest para trial 31, hora 15...\n"
     ]
    },
    {
     "name": "stderr",
     "output_type": "stream",
     "text": [
      "\u001b[32m[I 2025-06-10 15:01:12,121]\u001b[0m Trial 31 finished with value: 10.12435015949879 and parameters: {'tp': 28.400000000000002, 'sl': 26.700000000000003, 'length_rsi': 8.0, 'rsi_low': 28.0, 'rsi_high': 83.0, 'position_type': 'long'}. Best is trial 18 with value: 10.784600731818651.\u001b[0m\n"
     ]
    },
    {
     "name": "stdout",
     "output_type": "stream",
     "text": [
      "Trial 31 concluído: calmar_ratio = 10.1244\n",
      "Trial 32 para hora 15: Testando estratégia com parâmetros {'length_rsi': 8.0, 'rsi_low': 26.0, 'rsi_high': 85.0, 'position_type': 'long'}\n",
      "Trial 32 para hora 15: Usando backtester com TP=28.70000, SL=29.00000\n",
      "Executando backtest para trial 32, hora 15...\n"
     ]
    },
    {
     "name": "stderr",
     "output_type": "stream",
     "text": [
      "\u001b[32m[I 2025-06-10 15:01:12,916]\u001b[0m Trial 32 finished with value: 9.466242331351499 and parameters: {'tp': 28.700000000000003, 'sl': 29.0, 'length_rsi': 8.0, 'rsi_low': 26.0, 'rsi_high': 85.0, 'position_type': 'long'}. Best is trial 18 with value: 10.784600731818651.\u001b[0m\n"
     ]
    },
    {
     "name": "stdout",
     "output_type": "stream",
     "text": [
      "Trial 32 concluído: calmar_ratio = 9.4662\n",
      "Trial 33 para hora 15: Testando estratégia com parâmetros {'length_rsi': 9.0, 'rsi_low': 29.0, 'rsi_high': 84.0, 'position_type': 'long'}\n",
      "Trial 33 para hora 15: Usando backtester com TP=32.00000, SL=26.50000\n",
      "Executando backtest para trial 33, hora 15...\n"
     ]
    },
    {
     "name": "stderr",
     "output_type": "stream",
     "text": [
      "\u001b[32m[I 2025-06-10 15:01:13,695]\u001b[0m Trial 33 finished with value: 16.83296866799612 and parameters: {'tp': 32.0, 'sl': 26.5, 'length_rsi': 9.0, 'rsi_low': 29.0, 'rsi_high': 84.0, 'position_type': 'long'}. Best is trial 33 with value: 16.83296866799612.\u001b[0m\n"
     ]
    },
    {
     "name": "stdout",
     "output_type": "stream",
     "text": [
      "Trial 33 concluído: calmar_ratio = 16.8330\n",
      "Trial 34 para hora 15: Testando estratégia com parâmetros {'length_rsi': 9.0, 'rsi_low': 30.0, 'rsi_high': 84.0, 'position_type': 'both'}\n",
      "Trial 34 para hora 15: Usando backtester com TP=31.70000, SL=29.10000\n",
      "Executando backtest para trial 34, hora 15...\n"
     ]
    },
    {
     "name": "stderr",
     "output_type": "stream",
     "text": [
      "\u001b[32m[I 2025-06-10 15:01:14,464]\u001b[0m Trial 34 finished with value: 0.31863416906552605 and parameters: {'tp': 31.700000000000003, 'sl': 29.1, 'length_rsi': 9.0, 'rsi_low': 30.0, 'rsi_high': 84.0, 'position_type': 'both'}. Best is trial 33 with value: 16.83296866799612.\u001b[0m\n"
     ]
    },
    {
     "name": "stdout",
     "output_type": "stream",
     "text": [
      "Trial 34 concluído: calmar_ratio = 0.3186\n",
      "Trial 35 para hora 15: Testando estratégia com parâmetros {'length_rsi': 10.0, 'rsi_low': 33.0, 'rsi_high': 59.0, 'position_type': 'long'}\n",
      "Trial 35 para hora 15: Usando backtester com TP=25.20000, SL=24.00000\n",
      "Executando backtest para trial 35, hora 15...\n"
     ]
    },
    {
     "name": "stderr",
     "output_type": "stream",
     "text": [
      "\u001b[32m[I 2025-06-10 15:01:15,239]\u001b[0m Trial 35 finished with value: 3.2947930710817657 and parameters: {'tp': 25.200000000000003, 'sl': 24.0, 'length_rsi': 10.0, 'rsi_low': 33.0, 'rsi_high': 59.0, 'position_type': 'long'}. Best is trial 33 with value: 16.83296866799612.\u001b[0m\n"
     ]
    },
    {
     "name": "stdout",
     "output_type": "stream",
     "text": [
      "Trial 35 concluído: calmar_ratio = 3.2948\n",
      "Trial 36 para hora 15: Testando estratégia com parâmetros {'length_rsi': 9.0, 'rsi_low': 29.0, 'rsi_high': 79.0, 'position_type': 'long'}\n",
      "Trial 36 para hora 15: Usando backtester com TP=30.50000, SL=18.10000\n",
      "Executando backtest para trial 36, hora 15...\n"
     ]
    },
    {
     "name": "stderr",
     "output_type": "stream",
     "text": [
      "\u001b[32m[I 2025-06-10 15:01:16,007]\u001b[0m Trial 36 finished with value: 7.819373722624061 and parameters: {'tp': 30.5, 'sl': 18.1, 'length_rsi': 9.0, 'rsi_low': 29.0, 'rsi_high': 79.0, 'position_type': 'long'}. Best is trial 33 with value: 16.83296866799612.\u001b[0m\n"
     ]
    },
    {
     "name": "stdout",
     "output_type": "stream",
     "text": [
      "Trial 36 concluído: calmar_ratio = 7.8194\n",
      "Trial 37 para hora 15: Testando estratégia com parâmetros {'length_rsi': 9.0, 'rsi_low': 28.0, 'rsi_high': 83.0, 'position_type': 'both'}\n",
      "Trial 37 para hora 15: Usando backtester com TP=22.10000, SL=25.80000\n",
      "Executando backtest para trial 37, hora 15...\n"
     ]
    },
    {
     "name": "stderr",
     "output_type": "stream",
     "text": [
      "\u001b[32m[I 2025-06-10 15:01:16,782]\u001b[0m Trial 37 finished with value: 1.0386118273966956 and parameters: {'tp': 22.1, 'sl': 25.8, 'length_rsi': 9.0, 'rsi_low': 28.0, 'rsi_high': 83.0, 'position_type': 'both'}. Best is trial 33 with value: 16.83296866799612.\u001b[0m\n"
     ]
    },
    {
     "name": "stdout",
     "output_type": "stream",
     "text": [
      "Trial 37 concluído: calmar_ratio = 1.0386\n",
      "Trial 38 para hora 15: Testando estratégia com parâmetros {'length_rsi': 9.0, 'rsi_low': 34.0, 'rsi_high': 63.0, 'position_type': 'long'}\n",
      "Trial 38 para hora 15: Usando backtester com TP=19.20000, SL=3.40000\n",
      "Executando backtest para trial 38, hora 15...\n"
     ]
    },
    {
     "name": "stderr",
     "output_type": "stream",
     "text": [
      "\u001b[32m[I 2025-06-10 15:01:17,557]\u001b[0m Trial 38 finished with value: 0.669067276138402 and parameters: {'tp': 19.2, 'sl': 3.4000000000000004, 'length_rsi': 9.0, 'rsi_low': 34.0, 'rsi_high': 63.0, 'position_type': 'long'}. Best is trial 33 with value: 16.83296866799612.\u001b[0m\n"
     ]
    },
    {
     "name": "stdout",
     "output_type": "stream",
     "text": [
      "Trial 38 concluído: calmar_ratio = 0.6691\n",
      "Trial 39 para hora 15: Testando estratégia com parâmetros {'length_rsi': 10.0, 'rsi_low': 30.0, 'rsi_high': 77.0, 'position_type': 'long'}\n",
      "Trial 39 para hora 15: Usando backtester com TP=26.90000, SL=22.50000\n",
      "Executando backtest para trial 39, hora 15...\n"
     ]
    },
    {
     "name": "stderr",
     "output_type": "stream",
     "text": [
      "\u001b[32m[I 2025-06-10 15:01:18,324]\u001b[0m Trial 39 finished with value: 12.40787862147481 and parameters: {'tp': 26.900000000000002, 'sl': 22.5, 'length_rsi': 10.0, 'rsi_low': 30.0, 'rsi_high': 77.0, 'position_type': 'long'}. Best is trial 33 with value: 16.83296866799612.\u001b[0m\n"
     ]
    },
    {
     "name": "stdout",
     "output_type": "stream",
     "text": [
      "Trial 39 concluído: calmar_ratio = 12.4079\n",
      "Trial 40 para hora 15: Testando estratégia com parâmetros {'length_rsi': 9.0, 'rsi_low': 30.0, 'rsi_high': 73.0, 'position_type': 'both'}\n",
      "Trial 40 para hora 15: Usando backtester com TP=26.50000, SL=23.30000\n",
      "Executando backtest para trial 40, hora 15...\n"
     ]
    },
    {
     "name": "stderr",
     "output_type": "stream",
     "text": [
      "\u001b[32m[I 2025-06-10 15:01:19,098]\u001b[0m Trial 40 finished with value: 1.2327939564353967 and parameters: {'tp': 26.5, 'sl': 23.3, 'length_rsi': 9.0, 'rsi_low': 30.0, 'rsi_high': 73.0, 'position_type': 'both'}. Best is trial 33 with value: 16.83296866799612.\u001b[0m\n"
     ]
    },
    {
     "name": "stdout",
     "output_type": "stream",
     "text": [
      "Trial 40 concluído: calmar_ratio = 1.2328\n",
      "Trial 41 para hora 15: Testando estratégia com parâmetros {'length_rsi': 10.0, 'rsi_low': 26.0, 'rsi_high': 77.0, 'position_type': 'long'}\n",
      "Trial 41 para hora 15: Usando backtester com TP=29.60000, SL=26.20000\n",
      "Executando backtest para trial 41, hora 15...\n"
     ]
    },
    {
     "name": "stderr",
     "output_type": "stream",
     "text": [
      "\u001b[32m[I 2025-06-10 15:01:19,859]\u001b[0m Trial 41 finished with value: 13.331389340254153 and parameters: {'tp': 29.6, 'sl': 26.200000000000003, 'length_rsi': 10.0, 'rsi_low': 26.0, 'rsi_high': 77.0, 'position_type': 'long'}. Best is trial 33 with value: 16.83296866799612.\u001b[0m\n"
     ]
    },
    {
     "name": "stdout",
     "output_type": "stream",
     "text": [
      "Trial 41 concluído: calmar_ratio = 13.3314\n",
      "Trial 42 para hora 15: Testando estratégia com parâmetros {'length_rsi': 10.0, 'rsi_low': 26.0, 'rsi_high': 76.0, 'position_type': 'long'}\n",
      "Trial 42 para hora 15: Usando backtester com TP=30.60000, SL=20.80000\n",
      "Executando backtest para trial 42, hora 15...\n"
     ]
    },
    {
     "name": "stderr",
     "output_type": "stream",
     "text": [
      "\u001b[32m[I 2025-06-10 15:01:20,635]\u001b[0m Trial 42 finished with value: 6.200570247018931 and parameters: {'tp': 30.6, 'sl': 20.8, 'length_rsi': 10.0, 'rsi_low': 26.0, 'rsi_high': 76.0, 'position_type': 'long'}. Best is trial 33 with value: 16.83296866799612.\u001b[0m\n"
     ]
    },
    {
     "name": "stdout",
     "output_type": "stream",
     "text": [
      "Trial 42 concluído: calmar_ratio = 6.2006\n",
      "Trial 43 para hora 15: Testando estratégia com parâmetros {'length_rsi': 10.0, 'rsi_low': 27.0, 'rsi_high': 78.0, 'position_type': 'long'}\n",
      "Trial 43 para hora 15: Usando backtester com TP=31.80000, SL=30.20000\n",
      "Executando backtest para trial 43, hora 15...\n"
     ]
    },
    {
     "name": "stderr",
     "output_type": "stream",
     "text": [
      "\u001b[32m[I 2025-06-10 15:01:21,396]\u001b[0m Trial 43 finished with value: 18.453167446317767 and parameters: {'tp': 31.8, 'sl': 30.200000000000003, 'length_rsi': 10.0, 'rsi_low': 27.0, 'rsi_high': 78.0, 'position_type': 'long'}. Best is trial 43 with value: 18.453167446317767.\u001b[0m\n"
     ]
    },
    {
     "name": "stdout",
     "output_type": "stream",
     "text": [
      "Trial 43 concluído: calmar_ratio = 18.4532\n",
      "Trial 44 para hora 15: Testando estratégia com parâmetros {'length_rsi': 10.0, 'rsi_low': 31.0, 'rsi_high': 77.0, 'position_type': 'long'}\n",
      "Trial 44 para hora 15: Usando backtester com TP=31.30000, SL=29.80000\n",
      "Executando backtest para trial 44, hora 15...\n"
     ]
    },
    {
     "name": "stderr",
     "output_type": "stream",
     "text": [
      "\u001b[32m[I 2025-06-10 15:01:22,161]\u001b[0m Trial 44 finished with value: 15.995929179755487 and parameters: {'tp': 31.3, 'sl': 29.8, 'length_rsi': 10.0, 'rsi_low': 31.0, 'rsi_high': 77.0, 'position_type': 'long'}. Best is trial 43 with value: 18.453167446317767.\u001b[0m\n"
     ]
    },
    {
     "name": "stdout",
     "output_type": "stream",
     "text": [
      "Trial 44 concluído: calmar_ratio = 15.9959\n",
      "Trial 45 para hora 15: Testando estratégia com parâmetros {'length_rsi': 10.0, 'rsi_low': 31.0, 'rsi_high': 71.0, 'position_type': 'long'}\n",
      "Trial 45 para hora 15: Usando backtester com TP=32.00000, SL=30.10000\n",
      "Executando backtest para trial 45, hora 15...\n"
     ]
    },
    {
     "name": "stderr",
     "output_type": "stream",
     "text": [
      "\u001b[32m[I 2025-06-10 15:01:22,925]\u001b[0m Trial 45 finished with value: 5.807936029371637 and parameters: {'tp': 32.0, 'sl': 30.1, 'length_rsi': 10.0, 'rsi_low': 31.0, 'rsi_high': 71.0, 'position_type': 'long'}. Best is trial 43 with value: 18.453167446317767.\u001b[0m\n"
     ]
    },
    {
     "name": "stdout",
     "output_type": "stream",
     "text": [
      "Trial 45 concluído: calmar_ratio = 5.8079\n",
      "Trial 46 para hora 15: Testando estratégia com parâmetros {'length_rsi': 10.0, 'rsi_low': 34.0, 'rsi_high': 77.0, 'position_type': 'long'}\n",
      "Trial 46 para hora 15: Usando backtester com TP=29.90000, SL=31.60000\n",
      "Executando backtest para trial 46, hora 15...\n"
     ]
    },
    {
     "name": "stderr",
     "output_type": "stream",
     "text": [
      "\u001b[32m[I 2025-06-10 15:01:23,709]\u001b[0m Trial 46 finished with value: 15.103948524250297 and parameters: {'tp': 29.900000000000002, 'sl': 31.6, 'length_rsi': 10.0, 'rsi_low': 34.0, 'rsi_high': 77.0, 'position_type': 'long'}. Best is trial 43 with value: 18.453167446317767.\u001b[0m\n"
     ]
    },
    {
     "name": "stdout",
     "output_type": "stream",
     "text": [
      "Trial 46 concluído: calmar_ratio = 15.1039\n",
      "Trial 47 para hora 15: Testando estratégia com parâmetros {'length_rsi': 10.0, 'rsi_low': 36.0, 'rsi_high': 75.0, 'position_type': 'short'}\n",
      "Trial 47 para hora 15: Usando backtester com TP=30.10000, SL=31.40000\n",
      "Executando backtest para trial 47, hora 15...\n"
     ]
    },
    {
     "name": "stderr",
     "output_type": "stream",
     "text": [
      "\u001b[32m[I 2025-06-10 15:01:24,519]\u001b[0m Trial 47 finished with value: -0.1883551200078098 and parameters: {'tp': 30.1, 'sl': 31.400000000000002, 'length_rsi': 10.0, 'rsi_low': 36.0, 'rsi_high': 75.0, 'position_type': 'short'}. Best is trial 43 with value: 18.453167446317767.\u001b[0m\n"
     ]
    },
    {
     "name": "stdout",
     "output_type": "stream",
     "text": [
      "Trial 47 concluído: calmar_ratio = -0.1884\n",
      "Trial 48 para hora 15: Testando estratégia com parâmetros {'length_rsi': 10.0, 'rsi_low': 34.0, 'rsi_high': 69.0, 'position_type': 'long'}\n",
      "Trial 48 para hora 15: Usando backtester com TP=30.70000, SL=31.80000\n",
      "Executando backtest para trial 48, hora 15...\n"
     ]
    },
    {
     "name": "stderr",
     "output_type": "stream",
     "text": [
      "\u001b[32m[I 2025-06-10 15:01:25,304]\u001b[0m Trial 48 finished with value: 4.811573527400569 and parameters: {'tp': 30.700000000000003, 'sl': 31.8, 'length_rsi': 10.0, 'rsi_low': 34.0, 'rsi_high': 69.0, 'position_type': 'long'}. Best is trial 43 with value: 18.453167446317767.\u001b[0m\n"
     ]
    },
    {
     "name": "stdout",
     "output_type": "stream",
     "text": [
      "Trial 48 concluído: calmar_ratio = 4.8116\n",
      "Trial 49 para hora 15: Testando estratégia com parâmetros {'length_rsi': 10.0, 'rsi_low': 38.0, 'rsi_high': 72.0, 'position_type': 'both'}\n",
      "Trial 49 para hora 15: Usando backtester com TP=5.00000, SL=29.70000\n",
      "Executando backtest para trial 49, hora 15...\n"
     ]
    },
    {
     "name": "stderr",
     "output_type": "stream",
     "text": [
      "\u001b[32m[I 2025-06-10 15:01:26,091]\u001b[0m Trial 49 finished with value: 0.3493409293488922 and parameters: {'tp': 5.0, 'sl': 29.700000000000003, 'length_rsi': 10.0, 'rsi_low': 38.0, 'rsi_high': 72.0, 'position_type': 'both'}. Best is trial 43 with value: 18.453167446317767.\u001b[0m\n"
     ]
    },
    {
     "name": "stdout",
     "output_type": "stream",
     "text": [
      "Trial 49 concluído: calmar_ratio = 0.3493\n",
      "Trial 50 para hora 15: Testando estratégia com parâmetros {'length_rsi': 10.0, 'rsi_low': 31.0, 'rsi_high': 77.0, 'position_type': 'long'}\n",
      "Trial 50 para hora 15: Usando backtester com TP=10.00000, SL=7.70000\n",
      "Executando backtest para trial 50, hora 15...\n"
     ]
    },
    {
     "name": "stderr",
     "output_type": "stream",
     "text": [
      "\u001b[32m[I 2025-06-10 15:01:26,871]\u001b[0m Trial 50 finished with value: -0.04712555092193817 and parameters: {'tp': 10.0, 'sl': 7.7, 'length_rsi': 10.0, 'rsi_low': 31.0, 'rsi_high': 77.0, 'position_type': 'long'}. Best is trial 43 with value: 18.453167446317767.\u001b[0m\n"
     ]
    },
    {
     "name": "stdout",
     "output_type": "stream",
     "text": [
      "Trial 50 concluído: calmar_ratio = -0.0471\n",
      "Trial 51 para hora 15: Testando estratégia com parâmetros {'length_rsi': 10.0, 'rsi_low': 33.0, 'rsi_high': 77.0, 'position_type': 'long'}\n",
      "Trial 51 para hora 15: Usando backtester com TP=29.20000, SL=25.50000\n",
      "Executando backtest para trial 51, hora 15...\n"
     ]
    },
    {
     "name": "stderr",
     "output_type": "stream",
     "text": [
      "\u001b[32m[I 2025-06-10 15:01:27,643]\u001b[0m Trial 51 finished with value: 13.232851750705033 and parameters: {'tp': 29.200000000000003, 'sl': 25.5, 'length_rsi': 10.0, 'rsi_low': 33.0, 'rsi_high': 77.0, 'position_type': 'long'}. Best is trial 43 with value: 18.453167446317767.\u001b[0m\n"
     ]
    },
    {
     "name": "stdout",
     "output_type": "stream",
     "text": [
      "Trial 51 concluído: calmar_ratio = 13.2329\n",
      "Trial 52 para hora 15: Testando estratégia com parâmetros {'length_rsi': 10.0, 'rsi_low': 34.0, 'rsi_high': 78.0, 'position_type': 'long'}\n",
      "Trial 52 para hora 15: Usando backtester com TP=29.40000, SL=26.00000\n",
      "Executando backtest para trial 52, hora 15...\n"
     ]
    },
    {
     "name": "stderr",
     "output_type": "stream",
     "text": [
      "\u001b[32m[I 2025-06-10 15:01:28,405]\u001b[0m Trial 52 finished with value: 15.411338564285106 and parameters: {'tp': 29.400000000000002, 'sl': 26.0, 'length_rsi': 10.0, 'rsi_low': 34.0, 'rsi_high': 78.0, 'position_type': 'long'}. Best is trial 43 with value: 18.453167446317767.\u001b[0m\n"
     ]
    },
    {
     "name": "stdout",
     "output_type": "stream",
     "text": [
      "Trial 52 concluído: calmar_ratio = 15.4113\n",
      "Trial 53 para hora 15: Testando estratégia com parâmetros {'length_rsi': 10.0, 'rsi_low': 35.0, 'rsi_high': 75.0, 'position_type': 'long'}\n",
      "Trial 53 para hora 15: Usando backtester com TP=31.90000, SL=30.30000\n",
      "Executando backtest para trial 53, hora 15...\n"
     ]
    },
    {
     "name": "stderr",
     "output_type": "stream",
     "text": [
      "\u001b[32m[I 2025-06-10 15:01:29,172]\u001b[0m Trial 53 finished with value: 12.979806875626936 and parameters: {'tp': 31.900000000000002, 'sl': 30.3, 'length_rsi': 10.0, 'rsi_low': 35.0, 'rsi_high': 75.0, 'position_type': 'long'}. Best is trial 43 with value: 18.453167446317767.\u001b[0m\n"
     ]
    },
    {
     "name": "stdout",
     "output_type": "stream",
     "text": [
      "Trial 53 concluído: calmar_ratio = 12.9798\n",
      "Trial 54 para hora 15: Testando estratégia com parâmetros {'length_rsi': 10.0, 'rsi_low': 36.0, 'rsi_high': 79.0, 'position_type': 'long'}\n",
      "Trial 54 para hora 15: Usando backtester com TP=24.40000, SL=31.90000\n",
      "Executando backtest para trial 54, hora 15...\n"
     ]
    },
    {
     "name": "stderr",
     "output_type": "stream",
     "text": [
      "\u001b[32m[I 2025-06-10 15:01:29,924]\u001b[0m Trial 54 finished with value: 14.073464856218132 and parameters: {'tp': 24.400000000000002, 'sl': 31.900000000000002, 'length_rsi': 10.0, 'rsi_low': 36.0, 'rsi_high': 79.0, 'position_type': 'long'}. Best is trial 43 with value: 18.453167446317767.\u001b[0m\n",
      "\u001b[32m[I 2025-06-10 15:01:29,924]\u001b[0m A new study created in memory with name: hora_16\u001b[0m\n"
     ]
    },
    {
     "name": "stdout",
     "output_type": "stream",
     "text": [
      "Trial 54 concluído: calmar_ratio = 14.0735\n",
      "Otimização concluída para hora 15.\n",
      "\n",
      "Melhores parâmetros para hora 15:\n",
      "calmar_ratio: 18.4532\n",
      "Parâmetros: {'length_rsi': 10.0, 'rsi_low': 27.0, 'rsi_high': 78.0, 'position_type': 'long', 'allowed_hours': [15], 'tp': 31.8, 'sl': 30.200000000000003}\n",
      "Profit Factor: 1.8457\n",
      "Win Rate: 60.43%\n",
      "Max Drawdown: 4.42%\n",
      "Total Return: $11593.80\n",
      "Total Trades: 187\n",
      "\n",
      "==================================================\n",
      "Otimizando estratégia para hora: 16:00\n",
      "Métrica: calmar_ratio - Direção: maximize\n",
      "==================================================\n",
      "Iniciando otimização com 55 trials para hora 16...\n",
      "Trial 0 para hora 16: Testando estratégia com parâmetros {'length_rsi': 10.0, 'rsi_low': 42.0, 'rsi_high': 58.0, 'position_type': 'long'}\n",
      "Trial 0 para hora 16: Usando backtester com TP=9.60000, SL=30.50000\n",
      "Executando backtest para trial 0, hora 16...\n"
     ]
    },
    {
     "name": "stderr",
     "output_type": "stream",
     "text": [
      "\u001b[32m[I 2025-06-10 15:01:30,699]\u001b[0m Trial 0 finished with value: 0.4519331885055866 and parameters: {'tp': 9.600000000000001, 'sl': 30.5, 'length_rsi': 10.0, 'rsi_low': 42.0, 'rsi_high': 58.0, 'position_type': 'long'}. Best is trial 0 with value: 0.4519331885055866.\u001b[0m\n"
     ]
    },
    {
     "name": "stdout",
     "output_type": "stream",
     "text": [
      "Trial 0 concluído: calmar_ratio = 0.4519\n",
      "Trial 1 para hora 16: Testando estratégia com parâmetros {'length_rsi': 8.0, 'rsi_low': 35.0, 'rsi_high': 78.0, 'position_type': 'short'}\n",
      "Trial 1 para hora 16: Usando backtester com TP=23.90000, SL=27.40000\n",
      "Executando backtest para trial 1, hora 16...\n"
     ]
    },
    {
     "name": "stderr",
     "output_type": "stream",
     "text": [
      "\u001b[32m[I 2025-06-10 15:01:31,462]\u001b[0m Trial 1 finished with value: -0.26541404025096826 and parameters: {'tp': 23.900000000000002, 'sl': 27.400000000000002, 'length_rsi': 8.0, 'rsi_low': 35.0, 'rsi_high': 78.0, 'position_type': 'short'}. Best is trial 0 with value: 0.4519331885055866.\u001b[0m\n"
     ]
    },
    {
     "name": "stdout",
     "output_type": "stream",
     "text": [
      "Trial 1 concluído: calmar_ratio = -0.2654\n",
      "Trial 2 para hora 16: Testando estratégia com parâmetros {'length_rsi': 10.0, 'rsi_low': 26.0, 'rsi_high': 73.0, 'position_type': 'short'}\n",
      "Trial 2 para hora 16: Usando backtester com TP=22.90000, SL=14.30000\n",
      "Executando backtest para trial 2, hora 16...\n"
     ]
    },
    {
     "name": "stderr",
     "output_type": "stream",
     "text": [
      "\u001b[32m[I 2025-06-10 15:01:32,224]\u001b[0m Trial 2 finished with value: -0.36894445005611637 and parameters: {'tp': 22.900000000000002, 'sl': 14.3, 'length_rsi': 10.0, 'rsi_low': 26.0, 'rsi_high': 73.0, 'position_type': 'short'}. Best is trial 0 with value: 0.4519331885055866.\u001b[0m\n"
     ]
    },
    {
     "name": "stdout",
     "output_type": "stream",
     "text": [
      "Trial 2 concluído: calmar_ratio = -0.3689\n",
      "Trial 3 para hora 16: Testando estratégia com parâmetros {'length_rsi': 10.0, 'rsi_low': 44.0, 'rsi_high': 61.0, 'position_type': 'long'}\n",
      "Trial 3 para hora 16: Usando backtester com TP=2.60000, SL=11.00000\n",
      "Executando backtest para trial 3, hora 16...\n"
     ]
    },
    {
     "name": "stderr",
     "output_type": "stream",
     "text": [
      "\u001b[32m[I 2025-06-10 15:01:32,993]\u001b[0m Trial 3 finished with value: -0.05535771573478529 and parameters: {'tp': 2.6, 'sl': 11.0, 'length_rsi': 10.0, 'rsi_low': 44.0, 'rsi_high': 61.0, 'position_type': 'long'}. Best is trial 0 with value: 0.4519331885055866.\u001b[0m\n"
     ]
    },
    {
     "name": "stdout",
     "output_type": "stream",
     "text": [
      "Trial 3 concluído: calmar_ratio = -0.0554\n",
      "Trial 4 para hora 16: Testando estratégia com parâmetros {'length_rsi': 8.0, 'rsi_low': 32.0, 'rsi_high': 58.0, 'position_type': 'long'}\n",
      "Trial 4 para hora 16: Usando backtester com TP=4.10000, SL=3.80000\n",
      "Executando backtest para trial 4, hora 16...\n"
     ]
    },
    {
     "name": "stderr",
     "output_type": "stream",
     "text": [
      "\u001b[32m[I 2025-06-10 15:01:33,762]\u001b[0m Trial 4 finished with value: -0.2826294315228229 and parameters: {'tp': 4.1, 'sl': 3.8, 'length_rsi': 8.0, 'rsi_low': 32.0, 'rsi_high': 58.0, 'position_type': 'long'}. Best is trial 0 with value: 0.4519331885055866.\u001b[0m\n"
     ]
    },
    {
     "name": "stdout",
     "output_type": "stream",
     "text": [
      "Trial 4 concluído: calmar_ratio = -0.2826\n",
      "Trial 5 para hora 16: Testando estratégia com parâmetros {'length_rsi': 6.0, 'rsi_low': 40.0, 'rsi_high': 59.0, 'position_type': 'long'}\n",
      "Trial 5 para hora 16: Usando backtester com TP=14.70000, SL=21.50000\n",
      "Executando backtest para trial 5, hora 16...\n"
     ]
    },
    {
     "name": "stderr",
     "output_type": "stream",
     "text": [
      "\u001b[32m[I 2025-06-10 15:01:34,518]\u001b[0m Trial 5 finished with value: 0.22578499865777135 and parameters: {'tp': 14.700000000000001, 'sl': 21.5, 'length_rsi': 6.0, 'rsi_low': 40.0, 'rsi_high': 59.0, 'position_type': 'long'}. Best is trial 0 with value: 0.4519331885055866.\u001b[0m\n"
     ]
    },
    {
     "name": "stdout",
     "output_type": "stream",
     "text": [
      "Trial 5 concluído: calmar_ratio = 0.2258\n",
      "Trial 6 para hora 16: Testando estratégia com parâmetros {'length_rsi': 8.0, 'rsi_low': 37.0, 'rsi_high': 72.0, 'position_type': 'short'}\n",
      "Trial 6 para hora 16: Usando backtester com TP=13.80000, SL=3.70000\n",
      "Executando backtest para trial 6, hora 16...\n"
     ]
    },
    {
     "name": "stderr",
     "output_type": "stream",
     "text": [
      "\u001b[32m[I 2025-06-10 15:01:35,273]\u001b[0m Trial 6 finished with value: -0.32352477283915804 and parameters: {'tp': 13.8, 'sl': 3.7, 'length_rsi': 8.0, 'rsi_low': 37.0, 'rsi_high': 72.0, 'position_type': 'short'}. Best is trial 0 with value: 0.4519331885055866.\u001b[0m\n"
     ]
    },
    {
     "name": "stdout",
     "output_type": "stream",
     "text": [
      "Trial 6 concluído: calmar_ratio = -0.3235\n",
      "Trial 7 para hora 16: Testando estratégia com parâmetros {'length_rsi': 9.0, 'rsi_low': 35.0, 'rsi_high': 85.0, 'position_type': 'short'}\n",
      "Trial 7 para hora 16: Usando backtester com TP=9.40000, SL=12.50000\n",
      "Executando backtest para trial 7, hora 16...\n"
     ]
    },
    {
     "name": "stderr",
     "output_type": "stream",
     "text": [
      "\u001b[32m[I 2025-06-10 15:01:36,024]\u001b[0m Trial 7 finished with value: -0.24178816336569892 and parameters: {'tp': 9.4, 'sl': 12.5, 'length_rsi': 9.0, 'rsi_low': 35.0, 'rsi_high': 85.0, 'position_type': 'short'}. Best is trial 0 with value: 0.4519331885055866.\u001b[0m\n"
     ]
    },
    {
     "name": "stdout",
     "output_type": "stream",
     "text": [
      "Trial 7 concluído: calmar_ratio = -0.2418\n",
      "Trial 8 para hora 16: Testando estratégia com parâmetros {'length_rsi': 9.0, 'rsi_low': 35.0, 'rsi_high': 77.0, 'position_type': 'short'}\n",
      "Trial 8 para hora 16: Usando backtester com TP=18.20000, SL=11.50000\n",
      "Executando backtest para trial 8, hora 16...\n"
     ]
    },
    {
     "name": "stderr",
     "output_type": "stream",
     "text": [
      "\u001b[32m[I 2025-06-10 15:01:36,800]\u001b[0m Trial 8 finished with value: -0.1440274137056714 and parameters: {'tp': 18.2, 'sl': 11.5, 'length_rsi': 9.0, 'rsi_low': 35.0, 'rsi_high': 77.0, 'position_type': 'short'}. Best is trial 0 with value: 0.4519331885055866.\u001b[0m\n"
     ]
    },
    {
     "name": "stdout",
     "output_type": "stream",
     "text": [
      "Trial 8 concluído: calmar_ratio = -0.1440\n",
      "Trial 9 para hora 16: Testando estratégia com parâmetros {'length_rsi': 7.0, 'rsi_low': 39.0, 'rsi_high': 81.0, 'position_type': 'short'}\n",
      "Trial 9 para hora 16: Usando backtester com TP=28.30000, SL=12.90000\n",
      "Executando backtest para trial 9, hora 16...\n"
     ]
    },
    {
     "name": "stderr",
     "output_type": "stream",
     "text": [
      "\u001b[32m[I 2025-06-10 15:01:37,557]\u001b[0m Trial 9 finished with value: -0.1801398017684304 and parameters: {'tp': 28.3, 'sl': 12.9, 'length_rsi': 7.0, 'rsi_low': 39.0, 'rsi_high': 81.0, 'position_type': 'short'}. Best is trial 0 with value: 0.4519331885055866.\u001b[0m\n"
     ]
    },
    {
     "name": "stdout",
     "output_type": "stream",
     "text": [
      "Trial 9 concluído: calmar_ratio = -0.1801\n",
      "Trial 10 para hora 16: Testando estratégia com parâmetros {'length_rsi': 10.0, 'rsi_low': 44.0, 'rsi_high': 65.0, 'position_type': 'both'}\n",
      "Trial 10 para hora 16: Usando backtester com TP=9.30000, SL=31.70000\n",
      "Executando backtest para trial 10, hora 16...\n"
     ]
    },
    {
     "name": "stderr",
     "output_type": "stream",
     "text": [
      "\u001b[32m[I 2025-06-10 15:01:38,323]\u001b[0m Trial 10 finished with value: 0.07251144209055395 and parameters: {'tp': 9.3, 'sl': 31.700000000000003, 'length_rsi': 10.0, 'rsi_low': 44.0, 'rsi_high': 65.0, 'position_type': 'both'}. Best is trial 0 with value: 0.4519331885055866.\u001b[0m\n"
     ]
    },
    {
     "name": "stdout",
     "output_type": "stream",
     "text": [
      "Trial 10 concluído: calmar_ratio = 0.0725\n",
      "Trial 11 para hora 16: Testando estratégia com parâmetros {'length_rsi': 6.0, 'rsi_low': 41.0, 'rsi_high': 55.0, 'position_type': 'long'}\n",
      "Trial 11 para hora 16: Usando backtester com TP=14.50000, SL=22.60000\n",
      "Executando backtest para trial 11, hora 16...\n"
     ]
    },
    {
     "name": "stderr",
     "output_type": "stream",
     "text": [
      "\u001b[32m[I 2025-06-10 15:01:39,097]\u001b[0m Trial 11 finished with value: 0.09093942056765661 and parameters: {'tp': 14.5, 'sl': 22.6, 'length_rsi': 6.0, 'rsi_low': 41.0, 'rsi_high': 55.0, 'position_type': 'long'}. Best is trial 0 with value: 0.4519331885055866.\u001b[0m\n"
     ]
    },
    {
     "name": "stdout",
     "output_type": "stream",
     "text": [
      "Trial 11 concluído: calmar_ratio = 0.0909\n",
      "Trial 12 para hora 16: Testando estratégia com parâmetros {'length_rsi': 6.0, 'rsi_low': 42.0, 'rsi_high': 64.0, 'position_type': 'long'}\n",
      "Trial 12 para hora 16: Usando backtester com TP=9.50000, SL=22.60000\n",
      "Executando backtest para trial 12, hora 16...\n"
     ]
    },
    {
     "name": "stderr",
     "output_type": "stream",
     "text": [
      "\u001b[32m[I 2025-06-10 15:01:39,870]\u001b[0m Trial 12 finished with value: 0.4524952859561606 and parameters: {'tp': 9.5, 'sl': 22.6, 'length_rsi': 6.0, 'rsi_low': 42.0, 'rsi_high': 64.0, 'position_type': 'long'}. Best is trial 12 with value: 0.4524952859561606.\u001b[0m\n"
     ]
    },
    {
     "name": "stdout",
     "output_type": "stream",
     "text": [
      "Trial 12 concluído: calmar_ratio = 0.4525\n",
      "Trial 13 para hora 16: Testando estratégia com parâmetros {'length_rsi': 7.0, 'rsi_low': 45.0, 'rsi_high': 66.0, 'position_type': 'long'}\n",
      "Trial 13 para hora 16: Usando backtester com TP=8.50000, SL=30.70000\n",
      "Executando backtest para trial 13, hora 16...\n"
     ]
    },
    {
     "name": "stderr",
     "output_type": "stream",
     "text": [
      "\u001b[32m[I 2025-06-10 15:01:40,624]\u001b[0m Trial 13 finished with value: 0.88151944439372 and parameters: {'tp': 8.5, 'sl': 30.700000000000003, 'length_rsi': 7.0, 'rsi_low': 45.0, 'rsi_high': 66.0, 'position_type': 'long'}. Best is trial 13 with value: 0.88151944439372.\u001b[0m\n"
     ]
    },
    {
     "name": "stdout",
     "output_type": "stream",
     "text": [
      "Trial 13 concluído: calmar_ratio = 0.8815\n",
      "Trial 14 para hora 16: Testando estratégia com parâmetros {'length_rsi': 7.0, 'rsi_low': 45.0, 'rsi_high': 66.0, 'position_type': 'both'}\n",
      "Trial 14 para hora 16: Usando backtester com TP=6.40000, SL=24.90000\n",
      "Executando backtest para trial 14, hora 16...\n"
     ]
    },
    {
     "name": "stderr",
     "output_type": "stream",
     "text": [
      "\u001b[32m[I 2025-06-10 15:01:41,413]\u001b[0m Trial 14 finished with value: 0.023633643900234633 and parameters: {'tp': 6.4, 'sl': 24.900000000000002, 'length_rsi': 7.0, 'rsi_low': 45.0, 'rsi_high': 66.0, 'position_type': 'both'}. Best is trial 13 with value: 0.88151944439372.\u001b[0m\n"
     ]
    },
    {
     "name": "stdout",
     "output_type": "stream",
     "text": [
      "Trial 14 concluído: calmar_ratio = 0.0236\n",
      "Trial 15 para hora 16: Testando estratégia com parâmetros {'length_rsi': 7.0, 'rsi_low': 29.0, 'rsi_high': 67.0, 'position_type': 'long'}\n",
      "Trial 15 para hora 16: Usando backtester com TP=6.80000, SL=19.10000\n",
      "Executando backtest para trial 15, hora 16...\n"
     ]
    },
    {
     "name": "stderr",
     "output_type": "stream",
     "text": [
      "\u001b[32m[I 2025-06-10 15:01:42,184]\u001b[0m Trial 15 finished with value: 0.5546359435942056 and parameters: {'tp': 6.800000000000001, 'sl': 19.1, 'length_rsi': 7.0, 'rsi_low': 29.0, 'rsi_high': 67.0, 'position_type': 'long'}. Best is trial 13 with value: 0.88151944439372.\u001b[0m\n"
     ]
    },
    {
     "name": "stdout",
     "output_type": "stream",
     "text": [
      "Trial 15 concluído: calmar_ratio = 0.5546\n",
      "Trial 16 para hora 16: Testando estratégia com parâmetros {'length_rsi': 7.0, 'rsi_low': 28.0, 'rsi_high': 69.0, 'position_type': 'long'}\n",
      "Trial 16 para hora 16: Usando backtester com TP=6.10000, SL=17.60000\n",
      "Executando backtest para trial 16, hora 16...\n"
     ]
    },
    {
     "name": "stderr",
     "output_type": "stream",
     "text": [
      "\u001b[32m[I 2025-06-10 15:01:42,947]\u001b[0m Trial 16 finished with value: 0.21634467771652885 and parameters: {'tp': 6.1000000000000005, 'sl': 17.6, 'length_rsi': 7.0, 'rsi_low': 28.0, 'rsi_high': 69.0, 'position_type': 'long'}. Best is trial 13 with value: 0.88151944439372.\u001b[0m\n"
     ]
    },
    {
     "name": "stdout",
     "output_type": "stream",
     "text": [
      "Trial 16 concluído: calmar_ratio = 0.2163\n",
      "Trial 17 para hora 16: Testando estratégia com parâmetros {'length_rsi': 7.0, 'rsi_low': 31.0, 'rsi_high': 69.0, 'position_type': 'long'}\n",
      "Trial 17 para hora 16: Usando backtester com TP=18.80000, SL=18.70000\n",
      "Executando backtest para trial 17, hora 16...\n"
     ]
    },
    {
     "name": "stderr",
     "output_type": "stream",
     "text": [
      "\u001b[32m[I 2025-06-10 15:01:43,717]\u001b[0m Trial 17 finished with value: 0.3895791358143105 and parameters: {'tp': 18.8, 'sl': 18.7, 'length_rsi': 7.0, 'rsi_low': 31.0, 'rsi_high': 69.0, 'position_type': 'long'}. Best is trial 13 with value: 0.88151944439372.\u001b[0m\n"
     ]
    },
    {
     "name": "stdout",
     "output_type": "stream",
     "text": [
      "Trial 17 concluído: calmar_ratio = 0.3896\n",
      "Trial 18 para hora 16: Testando estratégia com parâmetros {'length_rsi': 7.0, 'rsi_low': 30.0, 'rsi_high': 63.0, 'position_type': 'both'}\n",
      "Trial 18 para hora 16: Usando backtester com TP=12.40000, SL=8.40000\n",
      "Executando backtest para trial 18, hora 16...\n"
     ]
    },
    {
     "name": "stderr",
     "output_type": "stream",
     "text": [
      "\u001b[32m[I 2025-06-10 15:01:44,489]\u001b[0m Trial 18 finished with value: -0.03851750413718684 and parameters: {'tp': 12.4, 'sl': 8.4, 'length_rsi': 7.0, 'rsi_low': 30.0, 'rsi_high': 63.0, 'position_type': 'both'}. Best is trial 13 with value: 0.88151944439372.\u001b[0m\n"
     ]
    },
    {
     "name": "stdout",
     "output_type": "stream",
     "text": [
      "Trial 18 concluído: calmar_ratio = -0.0385\n",
      "Trial 19 para hora 16: Testando estratégia com parâmetros {'length_rsi': 9.0, 'rsi_low': 26.0, 'rsi_high': 67.0, 'position_type': 'long'}\n",
      "Trial 19 para hora 16: Usando backtester com TP=6.40000, SL=27.70000\n",
      "Executando backtest para trial 19, hora 16...\n"
     ]
    },
    {
     "name": "stderr",
     "output_type": "stream",
     "text": [
      "\u001b[32m[I 2025-06-10 15:01:45,263]\u001b[0m Trial 19 finished with value: 1.6121805744024165 and parameters: {'tp': 6.4, 'sl': 27.700000000000003, 'length_rsi': 9.0, 'rsi_low': 26.0, 'rsi_high': 67.0, 'position_type': 'long'}. Best is trial 19 with value: 1.6121805744024165.\u001b[0m\n"
     ]
    },
    {
     "name": "stdout",
     "output_type": "stream",
     "text": [
      "Trial 19 concluído: calmar_ratio = 1.6122\n",
      "Trial 20 para hora 16: Testando estratégia com parâmetros {'length_rsi': 9.0, 'rsi_low': 25.0, 'rsi_high': 75.0, 'position_type': 'long'}\n",
      "Trial 20 para hora 16: Usando backtester com TP=2.70000, SL=28.10000\n",
      "Executando backtest para trial 20, hora 16...\n"
     ]
    },
    {
     "name": "stderr",
     "output_type": "stream",
     "text": [
      "\u001b[32m[I 2025-06-10 15:01:46,024]\u001b[0m Trial 20 finished with value: -0.3960955634461609 and parameters: {'tp': 2.7, 'sl': 28.1, 'length_rsi': 9.0, 'rsi_low': 25.0, 'rsi_high': 75.0, 'position_type': 'long'}. Best is trial 19 with value: 1.6121805744024165.\u001b[0m\n"
     ]
    },
    {
     "name": "stdout",
     "output_type": "stream",
     "text": [
      "Trial 20 concluído: calmar_ratio = -0.3961\n",
      "Trial 21 para hora 16: Testando estratégia com parâmetros {'length_rsi': 9.0, 'rsi_low': 28.0, 'rsi_high': 67.0, 'position_type': 'long'}\n",
      "Trial 21 para hora 16: Usando backtester com TP=6.30000, SL=27.40000\n",
      "Executando backtest para trial 21, hora 16...\n"
     ]
    },
    {
     "name": "stderr",
     "output_type": "stream",
     "text": [
      "\u001b[32m[I 2025-06-10 15:01:46,799]\u001b[0m Trial 21 finished with value: 1.303701688149344 and parameters: {'tp': 6.3, 'sl': 27.400000000000002, 'length_rsi': 9.0, 'rsi_low': 28.0, 'rsi_high': 67.0, 'position_type': 'long'}. Best is trial 19 with value: 1.6121805744024165.\u001b[0m\n"
     ]
    },
    {
     "name": "stdout",
     "output_type": "stream",
     "text": [
      "Trial 21 concluído: calmar_ratio = 1.3037\n",
      "Trial 22 para hora 16: Testando estratégia com parâmetros {'length_rsi': 9.0, 'rsi_low': 33.0, 'rsi_high': 71.0, 'position_type': 'long'}\n",
      "Trial 22 para hora 16: Usando backtester com TP=5.60000, SL=28.50000\n",
      "Executando backtest para trial 22, hora 16...\n"
     ]
    },
    {
     "name": "stderr",
     "output_type": "stream",
     "text": [
      "\u001b[32m[I 2025-06-10 15:01:47,562]\u001b[0m Trial 22 finished with value: 0.8870979708759094 and parameters: {'tp': 5.6, 'sl': 28.5, 'length_rsi': 9.0, 'rsi_low': 33.0, 'rsi_high': 71.0, 'position_type': 'long'}. Best is trial 19 with value: 1.6121805744024165.\u001b[0m\n"
     ]
    },
    {
     "name": "stdout",
     "output_type": "stream",
     "text": [
      "Trial 22 concluído: calmar_ratio = 0.8871\n",
      "Trial 23 para hora 16: Testando estratégia com parâmetros {'length_rsi': 9.0, 'rsi_low': 27.0, 'rsi_high': 72.0, 'position_type': 'long'}\n",
      "Trial 23 para hora 16: Usando backtester com TP=4.80000, SL=26.60000\n",
      "Executando backtest para trial 23, hora 16...\n"
     ]
    },
    {
     "name": "stderr",
     "output_type": "stream",
     "text": [
      "\u001b[32m[I 2025-06-10 15:01:48,323]\u001b[0m Trial 23 finished with value: 1.0265121404731192 and parameters: {'tp': 4.800000000000001, 'sl': 26.6, 'length_rsi': 9.0, 'rsi_low': 27.0, 'rsi_high': 72.0, 'position_type': 'long'}. Best is trial 19 with value: 1.6121805744024165.\u001b[0m\n"
     ]
    },
    {
     "name": "stdout",
     "output_type": "stream",
     "text": [
      "Trial 23 concluído: calmar_ratio = 1.0265\n",
      "Trial 24 para hora 16: Testando estratégia com parâmetros {'length_rsi': 9.0, 'rsi_low': 27.0, 'rsi_high': 69.0, 'position_type': 'long'}\n",
      "Trial 24 para hora 16: Usando backtester com TP=11.30000, SL=25.50000\n",
      "Executando backtest para trial 24, hora 16...\n"
     ]
    },
    {
     "name": "stderr",
     "output_type": "stream",
     "text": [
      "\u001b[32m[I 2025-06-10 15:01:49,093]\u001b[0m Trial 24 finished with value: 1.4554974735815578 and parameters: {'tp': 11.3, 'sl': 25.5, 'length_rsi': 9.0, 'rsi_low': 27.0, 'rsi_high': 69.0, 'position_type': 'long'}. Best is trial 19 with value: 1.6121805744024165.\u001b[0m\n"
     ]
    },
    {
     "name": "stdout",
     "output_type": "stream",
     "text": [
      "Trial 24 concluído: calmar_ratio = 1.4555\n",
      "Trial 25 para hora 16: Testando estratégia com parâmetros {'length_rsi': 9.0, 'rsi_low': 27.0, 'rsi_high': 68.0, 'position_type': 'both'}\n",
      "Trial 25 para hora 16: Usando backtester com TP=11.70000, SL=24.30000\n",
      "Executando backtest para trial 25, hora 16...\n"
     ]
    },
    {
     "name": "stderr",
     "output_type": "stream",
     "text": [
      "\u001b[32m[I 2025-06-10 15:01:49,875]\u001b[0m Trial 25 finished with value: 0.3206946793619682 and parameters: {'tp': 11.700000000000001, 'sl': 24.3, 'length_rsi': 9.0, 'rsi_low': 27.0, 'rsi_high': 68.0, 'position_type': 'both'}. Best is trial 19 with value: 1.6121805744024165.\u001b[0m\n"
     ]
    },
    {
     "name": "stdout",
     "output_type": "stream",
     "text": [
      "Trial 25 concluído: calmar_ratio = 0.3207\n",
      "Trial 26 para hora 16: Testando estratégia com parâmetros {'length_rsi': 8.0, 'rsi_low': 25.0, 'rsi_high': 63.0, 'position_type': 'long'}\n",
      "Trial 26 para hora 16: Usando backtester com TP=16.70000, SL=25.80000\n",
      "Executando backtest para trial 26, hora 16...\n"
     ]
    },
    {
     "name": "stderr",
     "output_type": "stream",
     "text": [
      "\u001b[32m[I 2025-06-10 15:01:50,643]\u001b[0m Trial 26 finished with value: 0.6323369863573138 and parameters: {'tp': 16.700000000000003, 'sl': 25.8, 'length_rsi': 8.0, 'rsi_low': 25.0, 'rsi_high': 63.0, 'position_type': 'long'}. Best is trial 19 with value: 1.6121805744024165.\u001b[0m\n"
     ]
    },
    {
     "name": "stdout",
     "output_type": "stream",
     "text": [
      "Trial 26 concluído: calmar_ratio = 0.6323\n",
      "Trial 27 para hora 16: Testando estratégia com parâmetros {'length_rsi': 9.0, 'rsi_low': 29.0, 'rsi_high': 74.0, 'position_type': 'long'}\n",
      "Trial 27 para hora 16: Usando backtester com TP=11.60000, SL=20.40000\n",
      "Executando backtest para trial 27, hora 16...\n"
     ]
    },
    {
     "name": "stderr",
     "output_type": "stream",
     "text": [
      "\u001b[32m[I 2025-06-10 15:01:51,410]\u001b[0m Trial 27 finished with value: 1.341587793733327 and parameters: {'tp': 11.600000000000001, 'sl': 20.400000000000002, 'length_rsi': 9.0, 'rsi_low': 29.0, 'rsi_high': 74.0, 'position_type': 'long'}. Best is trial 19 with value: 1.6121805744024165.\u001b[0m\n"
     ]
    },
    {
     "name": "stdout",
     "output_type": "stream",
     "text": [
      "Trial 27 concluído: calmar_ratio = 1.3416\n",
      "Trial 28 para hora 16: Testando estratégia com parâmetros {'length_rsi': 8.0, 'rsi_low': 30.0, 'rsi_high': 75.0, 'position_type': 'long'}\n",
      "Trial 28 para hora 16: Usando backtester com TP=12.10000, SL=16.20000\n",
      "Executando backtest para trial 28, hora 16...\n"
     ]
    },
    {
     "name": "stderr",
     "output_type": "stream",
     "text": [
      "\u001b[32m[I 2025-06-10 15:01:52,176]\u001b[0m Trial 28 finished with value: 0.964142434483394 and parameters: {'tp': 12.100000000000001, 'sl': 16.200000000000003, 'length_rsi': 8.0, 'rsi_low': 30.0, 'rsi_high': 75.0, 'position_type': 'long'}. Best is trial 19 with value: 1.6121805744024165.\u001b[0m\n"
     ]
    },
    {
     "name": "stdout",
     "output_type": "stream",
     "text": [
      "Trial 28 concluído: calmar_ratio = 0.9641\n",
      "Trial 29 para hora 16: Testando estratégia com parâmetros {'length_rsi': 10.0, 'rsi_low': 33.0, 'rsi_high': 79.0, 'position_type': 'long'}\n",
      "Trial 29 para hora 16: Usando backtester com TP=20.90000, SL=20.80000\n",
      "Executando backtest para trial 29, hora 16...\n"
     ]
    },
    {
     "name": "stderr",
     "output_type": "stream",
     "text": [
      "\u001b[32m[I 2025-06-10 15:01:52,941]\u001b[0m Trial 29 finished with value: 2.75073919556116 and parameters: {'tp': 20.900000000000002, 'sl': 20.8, 'length_rsi': 10.0, 'rsi_low': 33.0, 'rsi_high': 79.0, 'position_type': 'long'}. Best is trial 29 with value: 2.75073919556116.\u001b[0m\n"
     ]
    },
    {
     "name": "stdout",
     "output_type": "stream",
     "text": [
      "Trial 29 concluído: calmar_ratio = 2.7507\n",
      "Trial 30 para hora 16: Testando estratégia com parâmetros {'length_rsi': 10.0, 'rsi_low': 33.0, 'rsi_high': 83.0, 'position_type': 'both'}\n",
      "Trial 30 para hora 16: Usando backtester com TP=20.90000, SL=29.60000\n",
      "Executando backtest para trial 30, hora 16...\n"
     ]
    },
    {
     "name": "stderr",
     "output_type": "stream",
     "text": [
      "\u001b[32m[I 2025-06-10 15:01:53,711]\u001b[0m Trial 30 finished with value: -0.0064981468647956776 and parameters: {'tp': 20.900000000000002, 'sl': 29.6, 'length_rsi': 10.0, 'rsi_low': 33.0, 'rsi_high': 83.0, 'position_type': 'both'}. Best is trial 29 with value: 2.75073919556116.\u001b[0m\n"
     ]
    },
    {
     "name": "stdout",
     "output_type": "stream",
     "text": [
      "Trial 30 concluído: calmar_ratio = -0.0065\n",
      "Trial 31 para hora 16: Testando estratégia com parâmetros {'length_rsi': 10.0, 'rsi_low': 29.0, 'rsi_high': 79.0, 'position_type': 'long'}\n",
      "Trial 31 para hora 16: Usando backtester com TP=16.20000, SL=20.30000\n",
      "Executando backtest para trial 31, hora 16...\n"
     ]
    },
    {
     "name": "stderr",
     "output_type": "stream",
     "text": [
      "\u001b[32m[I 2025-06-10 15:01:54,513]\u001b[0m Trial 31 finished with value: 2.625112080704794 and parameters: {'tp': 16.200000000000003, 'sl': 20.3, 'length_rsi': 10.0, 'rsi_low': 29.0, 'rsi_high': 79.0, 'position_type': 'long'}. Best is trial 29 with value: 2.75073919556116.\u001b[0m\n"
     ]
    },
    {
     "name": "stdout",
     "output_type": "stream",
     "text": [
      "Trial 31 concluído: calmar_ratio = 2.6251\n",
      "Trial 32 para hora 16: Testando estratégia com parâmetros {'length_rsi': 10.0, 'rsi_low': 27.0, 'rsi_high': 79.0, 'position_type': 'long'}\n",
      "Trial 32 para hora 16: Usando backtester com TP=25.40000, SL=23.70000\n",
      "Executando backtest para trial 32, hora 16...\n"
     ]
    },
    {
     "name": "stderr",
     "output_type": "stream",
     "text": [
      "\u001b[32m[I 2025-06-10 15:01:55,316]\u001b[0m Trial 32 finished with value: 3.0671651149451593 and parameters: {'tp': 25.400000000000002, 'sl': 23.700000000000003, 'length_rsi': 10.0, 'rsi_low': 27.0, 'rsi_high': 79.0, 'position_type': 'long'}. Best is trial 32 with value: 3.0671651149451593.\u001b[0m\n"
     ]
    },
    {
     "name": "stdout",
     "output_type": "stream",
     "text": [
      "Trial 32 concluído: calmar_ratio = 3.0672\n",
      "Trial 33 para hora 16: Testando estratégia com parâmetros {'length_rsi': 10.0, 'rsi_low': 37.0, 'rsi_high': 80.0, 'position_type': 'long'}\n",
      "Trial 33 para hora 16: Usando backtester com TP=26.80000, SL=23.00000\n",
      "Executando backtest para trial 33, hora 16...\n"
     ]
    },
    {
     "name": "stderr",
     "output_type": "stream",
     "text": [
      "\u001b[32m[I 2025-06-10 15:01:56,103]\u001b[0m Trial 33 finished with value: 3.867585686519595 and parameters: {'tp': 26.8, 'sl': 23.0, 'length_rsi': 10.0, 'rsi_low': 37.0, 'rsi_high': 80.0, 'position_type': 'long'}. Best is trial 33 with value: 3.867585686519595.\u001b[0m\n"
     ]
    },
    {
     "name": "stdout",
     "output_type": "stream",
     "text": [
      "Trial 33 concluído: calmar_ratio = 3.8676\n",
      "Trial 34 para hora 16: Testando estratégia com parâmetros {'length_rsi': 10.0, 'rsi_low': 37.0, 'rsi_high': 80.0, 'position_type': 'long'}\n",
      "Trial 34 para hora 16: Usando backtester com TP=27.20000, SL=15.50000\n",
      "Executando backtest para trial 34, hora 16...\n"
     ]
    },
    {
     "name": "stderr",
     "output_type": "stream",
     "text": [
      "\u001b[32m[I 2025-06-10 15:01:56,898]\u001b[0m Trial 34 finished with value: 5.995413837010197 and parameters: {'tp': 27.200000000000003, 'sl': 15.5, 'length_rsi': 10.0, 'rsi_low': 37.0, 'rsi_high': 80.0, 'position_type': 'long'}. Best is trial 34 with value: 5.995413837010197.\u001b[0m\n"
     ]
    },
    {
     "name": "stdout",
     "output_type": "stream",
     "text": [
      "Trial 34 concluído: calmar_ratio = 5.9954\n",
      "Trial 35 para hora 16: Testando estratégia com parâmetros {'length_rsi': 10.0, 'rsi_low': 37.0, 'rsi_high': 80.0, 'position_type': 'long'}\n",
      "Trial 35 para hora 16: Usando backtester com TP=27.10000, SL=15.50000\n",
      "Executando backtest para trial 35, hora 16...\n"
     ]
    },
    {
     "name": "stderr",
     "output_type": "stream",
     "text": [
      "\u001b[32m[I 2025-06-10 15:01:57,668]\u001b[0m Trial 35 finished with value: 5.930421483525064 and parameters: {'tp': 27.1, 'sl': 15.5, 'length_rsi': 10.0, 'rsi_low': 37.0, 'rsi_high': 80.0, 'position_type': 'long'}. Best is trial 34 with value: 5.995413837010197.\u001b[0m\n"
     ]
    },
    {
     "name": "stdout",
     "output_type": "stream",
     "text": [
      "Trial 35 concluído: calmar_ratio = 5.9304\n",
      "Trial 36 para hora 16: Testando estratégia com parâmetros {'length_rsi': 10.0, 'rsi_low': 37.0, 'rsi_high': 82.0, 'position_type': 'long'}\n",
      "Trial 36 para hora 16: Usando backtester com TP=27.70000, SL=16.20000\n",
      "Executando backtest para trial 36, hora 16...\n"
     ]
    },
    {
     "name": "stderr",
     "output_type": "stream",
     "text": [
      "\u001b[32m[I 2025-06-10 15:01:58,423]\u001b[0m Trial 36 finished with value: 6.84742756649954 and parameters: {'tp': 27.700000000000003, 'sl': 16.200000000000003, 'length_rsi': 10.0, 'rsi_low': 37.0, 'rsi_high': 82.0, 'position_type': 'long'}. Best is trial 36 with value: 6.84742756649954.\u001b[0m\n"
     ]
    },
    {
     "name": "stdout",
     "output_type": "stream",
     "text": [
      "Trial 36 concluído: calmar_ratio = 6.8474\n",
      "Trial 37 para hora 16: Testando estratégia com parâmetros {'length_rsi': 10.0, 'rsi_low': 37.0, 'rsi_high': 82.0, 'position_type': 'long'}\n",
      "Trial 37 para hora 16: Usando backtester com TP=30.00000, SL=15.30000\n",
      "Executando backtest para trial 37, hora 16...\n"
     ]
    },
    {
     "name": "stderr",
     "output_type": "stream",
     "text": [
      "\u001b[32m[I 2025-06-10 15:01:59,223]\u001b[0m Trial 37 finished with value: 4.328507778294094 and parameters: {'tp': 30.0, 'sl': 15.3, 'length_rsi': 10.0, 'rsi_low': 37.0, 'rsi_high': 82.0, 'position_type': 'long'}. Best is trial 36 with value: 6.84742756649954.\u001b[0m\n"
     ]
    },
    {
     "name": "stdout",
     "output_type": "stream",
     "text": [
      "Trial 37 concluído: calmar_ratio = 4.3285\n",
      "Trial 38 para hora 16: Testando estratégia com parâmetros {'length_rsi': 10.0, 'rsi_low': 37.0, 'rsi_high': 83.0, 'position_type': 'short'}\n",
      "Trial 38 para hora 16: Usando backtester com TP=31.80000, SL=15.70000\n",
      "Executando backtest para trial 38, hora 16...\n"
     ]
    },
    {
     "name": "stderr",
     "output_type": "stream",
     "text": [
      "\u001b[32m[I 2025-06-10 15:02:00,001]\u001b[0m Trial 38 finished with value: -0.30200763993409363 and parameters: {'tp': 31.8, 'sl': 15.700000000000001, 'length_rsi': 10.0, 'rsi_low': 37.0, 'rsi_high': 83.0, 'position_type': 'short'}. Best is trial 36 with value: 6.84742756649954.\u001b[0m\n"
     ]
    },
    {
     "name": "stdout",
     "output_type": "stream",
     "text": [
      "Trial 38 concluído: calmar_ratio = -0.3020\n",
      "Trial 39 para hora 16: Testando estratégia com parâmetros {'length_rsi': 10.0, 'rsi_low': 39.0, 'rsi_high': 85.0, 'position_type': 'long'}\n",
      "Trial 39 para hora 16: Usando backtester com TP=30.40000, SL=8.70000\n",
      "Executando backtest para trial 39, hora 16...\n"
     ]
    },
    {
     "name": "stderr",
     "output_type": "stream",
     "text": [
      "\u001b[32m[I 2025-06-10 15:02:00,770]\u001b[0m Trial 39 finished with value: -4.34989849518523 and parameters: {'tp': 30.400000000000002, 'sl': 8.7, 'length_rsi': 10.0, 'rsi_low': 39.0, 'rsi_high': 85.0, 'position_type': 'long'}. Best is trial 36 with value: 6.84742756649954.\u001b[0m\n"
     ]
    },
    {
     "name": "stdout",
     "output_type": "stream",
     "text": [
      "Trial 39 concluído: calmar_ratio = -4.3499\n",
      "Trial 40 para hora 16: Testando estratégia com parâmetros {'length_rsi': 10.0, 'rsi_low': 36.0, 'rsi_high': 77.0, 'position_type': 'short'}\n",
      "Trial 40 para hora 16: Usando backtester com TP=29.00000, SL=14.30000\n",
      "Executando backtest para trial 40, hora 16...\n"
     ]
    },
    {
     "name": "stderr",
     "output_type": "stream",
     "text": [
      "\u001b[32m[I 2025-06-10 15:02:01,541]\u001b[0m Trial 40 finished with value: -0.3094788790385327 and parameters: {'tp': 29.0, 'sl': 14.3, 'length_rsi': 10.0, 'rsi_low': 36.0, 'rsi_high': 77.0, 'position_type': 'short'}. Best is trial 36 with value: 6.84742756649954.\u001b[0m\n"
     ]
    },
    {
     "name": "stdout",
     "output_type": "stream",
     "text": [
      "Trial 40 concluído: calmar_ratio = -0.3095\n",
      "Trial 41 para hora 16: Testando estratégia com parâmetros {'length_rsi': 10.0, 'rsi_low': 38.0, 'rsi_high': 81.0, 'position_type': 'long'}\n",
      "Trial 41 para hora 16: Usando backtester com TP=26.20000, SL=14.30000\n",
      "Executando backtest para trial 41, hora 16...\n"
     ]
    },
    {
     "name": "stderr",
     "output_type": "stream",
     "text": [
      "\u001b[32m[I 2025-06-10 15:02:02,308]\u001b[0m Trial 41 finished with value: 4.240451251457384 and parameters: {'tp': 26.200000000000003, 'sl': 14.3, 'length_rsi': 10.0, 'rsi_low': 38.0, 'rsi_high': 81.0, 'position_type': 'long'}. Best is trial 36 with value: 6.84742756649954.\u001b[0m\n"
     ]
    },
    {
     "name": "stdout",
     "output_type": "stream",
     "text": [
      "Trial 41 concluído: calmar_ratio = 4.2405\n",
      "Trial 42 para hora 16: Testando estratégia com parâmetros {'length_rsi': 10.0, 'rsi_low': 38.0, 'rsi_high': 82.0, 'position_type': 'long'}\n",
      "Trial 42 para hora 16: Usando backtester com TP=24.20000, SL=14.30000\n",
      "Executando backtest para trial 42, hora 16...\n"
     ]
    },
    {
     "name": "stderr",
     "output_type": "stream",
     "text": [
      "\u001b[32m[I 2025-06-10 15:02:03,073]\u001b[0m Trial 42 finished with value: 10.067069770688546 and parameters: {'tp': 24.200000000000003, 'sl': 14.3, 'length_rsi': 10.0, 'rsi_low': 38.0, 'rsi_high': 82.0, 'position_type': 'long'}. Best is trial 42 with value: 10.067069770688546.\u001b[0m\n"
     ]
    },
    {
     "name": "stdout",
     "output_type": "stream",
     "text": [
      "Trial 42 concluído: calmar_ratio = 10.0671\n",
      "Trial 43 para hora 16: Testando estratégia com parâmetros {'length_rsi': 10.0, 'rsi_low': 36.0, 'rsi_high': 83.0, 'position_type': 'long'}\n",
      "Trial 43 para hora 16: Usando backtester com TP=23.90000, SL=10.40000\n",
      "Executando backtest para trial 43, hora 16...\n"
     ]
    },
    {
     "name": "stderr",
     "output_type": "stream",
     "text": [
      "\u001b[32m[I 2025-06-10 15:02:03,847]\u001b[0m Trial 43 finished with value: 8.341603843709034 and parameters: {'tp': 23.900000000000002, 'sl': 10.4, 'length_rsi': 10.0, 'rsi_low': 36.0, 'rsi_high': 83.0, 'position_type': 'long'}. Best is trial 42 with value: 10.067069770688546.\u001b[0m\n"
     ]
    },
    {
     "name": "stdout",
     "output_type": "stream",
     "text": [
      "Trial 43 concluído: calmar_ratio = 8.3416\n",
      "Trial 44 para hora 16: Testando estratégia com parâmetros {'length_rsi': 10.0, 'rsi_low': 34.0, 'rsi_high': 84.0, 'position_type': 'long'}\n",
      "Trial 44 para hora 16: Usando backtester com TP=24.20000, SL=9.40000\n",
      "Executando backtest para trial 44, hora 16...\n"
     ]
    },
    {
     "name": "stderr",
     "output_type": "stream",
     "text": [
      "\u001b[32m[I 2025-06-10 15:02:04,614]\u001b[0m Trial 44 finished with value: 6.487776231083056 and parameters: {'tp': 24.200000000000003, 'sl': 9.4, 'length_rsi': 10.0, 'rsi_low': 34.0, 'rsi_high': 84.0, 'position_type': 'long'}. Best is trial 42 with value: 10.067069770688546.\u001b[0m\n"
     ]
    },
    {
     "name": "stdout",
     "output_type": "stream",
     "text": [
      "Trial 44 concluído: calmar_ratio = 6.4878\n",
      "Trial 45 para hora 16: Testando estratégia com parâmetros {'length_rsi': 10.0, 'rsi_low': 34.0, 'rsi_high': 84.0, 'position_type': 'long'}\n",
      "Trial 45 para hora 16: Usando backtester com TP=24.10000, SL=8.50000\n",
      "Executando backtest para trial 45, hora 16...\n"
     ]
    },
    {
     "name": "stderr",
     "output_type": "stream",
     "text": [
      "\u001b[32m[I 2025-06-10 15:02:05,385]\u001b[0m Trial 45 finished with value: 5.270125733834104 and parameters: {'tp': 24.1, 'sl': 8.5, 'length_rsi': 10.0, 'rsi_low': 34.0, 'rsi_high': 84.0, 'position_type': 'long'}. Best is trial 42 with value: 10.067069770688546.\u001b[0m\n"
     ]
    },
    {
     "name": "stdout",
     "output_type": "stream",
     "text": [
      "Trial 45 concluído: calmar_ratio = 5.2701\n",
      "Trial 46 para hora 16: Testando estratégia com parâmetros {'length_rsi': 10.0, 'rsi_low': 39.0, 'rsi_high': 83.0, 'position_type': 'long'}\n",
      "Trial 46 para hora 16: Usando backtester com TP=23.00000, SL=10.70000\n",
      "Executando backtest para trial 46, hora 16...\n"
     ]
    },
    {
     "name": "stderr",
     "output_type": "stream",
     "text": [
      "\u001b[32m[I 2025-06-10 15:02:06,153]\u001b[0m Trial 46 finished with value: 6.905129558869838 and parameters: {'tp': 23.0, 'sl': 10.700000000000001, 'length_rsi': 10.0, 'rsi_low': 39.0, 'rsi_high': 83.0, 'position_type': 'long'}. Best is trial 42 with value: 10.067069770688546.\u001b[0m\n"
     ]
    },
    {
     "name": "stdout",
     "output_type": "stream",
     "text": [
      "Trial 46 concluído: calmar_ratio = 6.9051\n",
      "Trial 47 para hora 16: Testando estratégia com parâmetros {'length_rsi': 10.0, 'rsi_low': 41.0, 'rsi_high': 85.0, 'position_type': 'short'}\n",
      "Trial 47 para hora 16: Usando backtester com TP=22.30000, SL=10.80000\n",
      "Executando backtest para trial 47, hora 16...\n"
     ]
    },
    {
     "name": "stderr",
     "output_type": "stream",
     "text": [
      "\u001b[32m[I 2025-06-10 15:02:06,923]\u001b[0m Trial 47 finished with value: -0.17525501771503427 and parameters: {'tp': 22.3, 'sl': 10.8, 'length_rsi': 10.0, 'rsi_low': 41.0, 'rsi_high': 85.0, 'position_type': 'short'}. Best is trial 42 with value: 10.067069770688546.\u001b[0m\n"
     ]
    },
    {
     "name": "stdout",
     "output_type": "stream",
     "text": [
      "Trial 47 concluído: calmar_ratio = -0.1753\n",
      "Trial 48 para hora 16: Testando estratégia com parâmetros {'length_rsi': 10.0, 'rsi_low': 39.0, 'rsi_high': 83.0, 'position_type': 'long'}\n",
      "Trial 48 para hora 16: Usando backtester com TP=24.30000, SL=9.40000\n",
      "Executando backtest para trial 48, hora 16...\n"
     ]
    },
    {
     "name": "stderr",
     "output_type": "stream",
     "text": [
      "\u001b[32m[I 2025-06-10 15:02:07,687]\u001b[0m Trial 48 finished with value: 11.708449428152967 and parameters: {'tp': 24.3, 'sl': 9.4, 'length_rsi': 10.0, 'rsi_low': 39.0, 'rsi_high': 83.0, 'position_type': 'long'}. Best is trial 48 with value: 11.708449428152967.\u001b[0m\n"
     ]
    },
    {
     "name": "stdout",
     "output_type": "stream",
     "text": [
      "Trial 48 concluído: calmar_ratio = 11.7084\n",
      "Trial 49 para hora 16: Testando estratégia com parâmetros {'length_rsi': 10.0, 'rsi_low': 40.0, 'rsi_high': 82.0, 'position_type': 'both'}\n",
      "Trial 49 para hora 16: Usando backtester com TP=22.90000, SL=6.00000\n",
      "Executando backtest para trial 49, hora 16...\n"
     ]
    },
    {
     "name": "stderr",
     "output_type": "stream",
     "text": [
      "\u001b[32m[I 2025-06-10 15:02:08,460]\u001b[0m Trial 49 finished with value: -0.09387679632110386 and parameters: {'tp': 22.900000000000002, 'sl': 6.0, 'length_rsi': 10.0, 'rsi_low': 40.0, 'rsi_high': 82.0, 'position_type': 'both'}. Best is trial 48 with value: 11.708449428152967.\u001b[0m\n"
     ]
    },
    {
     "name": "stdout",
     "output_type": "stream",
     "text": [
      "Trial 49 concluído: calmar_ratio = -0.0939\n",
      "Trial 50 para hora 16: Testando estratégia com parâmetros {'length_rsi': 9.0, 'rsi_low': 39.0, 'rsi_high': 77.0, 'position_type': 'long'}\n",
      "Trial 50 para hora 16: Usando backtester com TP=19.40000, SL=6.20000\n",
      "Executando backtest para trial 50, hora 16...\n"
     ]
    },
    {
     "name": "stderr",
     "output_type": "stream",
     "text": [
      "\u001b[32m[I 2025-06-10 15:02:09,223]\u001b[0m Trial 50 finished with value: -0.36158220921695466 and parameters: {'tp': 19.400000000000002, 'sl': 6.2, 'length_rsi': 9.0, 'rsi_low': 39.0, 'rsi_high': 77.0, 'position_type': 'long'}. Best is trial 48 with value: 11.708449428152967.\u001b[0m\n"
     ]
    },
    {
     "name": "stdout",
     "output_type": "stream",
     "text": [
      "Trial 50 concluído: calmar_ratio = -0.3616\n",
      "Trial 51 para hora 16: Testando estratégia com parâmetros {'length_rsi': 10.0, 'rsi_low': 35.0, 'rsi_high': 83.0, 'position_type': 'long'}\n",
      "Trial 51 para hora 16: Usando backtester com TP=25.10000, SL=10.90000\n",
      "Executando backtest para trial 51, hora 16...\n"
     ]
    },
    {
     "name": "stderr",
     "output_type": "stream",
     "text": [
      "\u001b[32m[I 2025-06-10 15:02:10,000]\u001b[0m Trial 51 finished with value: 7.225015790137922 and parameters: {'tp': 25.1, 'sl': 10.9, 'length_rsi': 10.0, 'rsi_low': 35.0, 'rsi_high': 83.0, 'position_type': 'long'}. Best is trial 48 with value: 11.708449428152967.\u001b[0m\n"
     ]
    },
    {
     "name": "stdout",
     "output_type": "stream",
     "text": [
      "Trial 51 concluído: calmar_ratio = 7.2250\n",
      "Trial 52 para hora 16: Testando estratégia com parâmetros {'length_rsi': 10.0, 'rsi_low': 36.0, 'rsi_high': 82.0, 'position_type': 'long'}\n",
      "Trial 52 para hora 16: Usando backtester com TP=24.80000, SL=12.80000\n",
      "Executando backtest para trial 52, hora 16...\n"
     ]
    },
    {
     "name": "stderr",
     "output_type": "stream",
     "text": [
      "\u001b[32m[I 2025-06-10 15:02:10,769]\u001b[0m Trial 52 finished with value: 6.873722322664164 and parameters: {'tp': 24.8, 'sl': 12.8, 'length_rsi': 10.0, 'rsi_low': 36.0, 'rsi_high': 82.0, 'position_type': 'long'}. Best is trial 48 with value: 11.708449428152967.\u001b[0m\n"
     ]
    },
    {
     "name": "stdout",
     "output_type": "stream",
     "text": [
      "Trial 52 concluído: calmar_ratio = 6.8737\n",
      "Trial 53 para hora 16: Testando estratégia com parâmetros {'length_rsi': 10.0, 'rsi_low': 35.0, 'rsi_high': 83.0, 'position_type': 'long'}\n",
      "Trial 53 para hora 16: Usando backtester com TP=25.30000, SL=12.70000\n",
      "Executando backtest para trial 53, hora 16...\n"
     ]
    },
    {
     "name": "stderr",
     "output_type": "stream",
     "text": [
      "\u001b[32m[I 2025-06-10 15:02:11,523]\u001b[0m Trial 53 finished with value: 18.127355387466455 and parameters: {'tp': 25.3, 'sl': 12.700000000000001, 'length_rsi': 10.0, 'rsi_low': 35.0, 'rsi_high': 83.0, 'position_type': 'long'}. Best is trial 53 with value: 18.127355387466455.\u001b[0m\n"
     ]
    },
    {
     "name": "stdout",
     "output_type": "stream",
     "text": [
      "Trial 53 concluído: calmar_ratio = 18.1274\n",
      "Trial 54 para hora 16: Testando estratégia com parâmetros {'length_rsi': 10.0, 'rsi_low': 35.0, 'rsi_high': 84.0, 'position_type': 'long'}\n",
      "Trial 54 para hora 16: Usando backtester com TP=22.70000, SL=10.40000\n",
      "Executando backtest para trial 54, hora 16...\n"
     ]
    },
    {
     "name": "stderr",
     "output_type": "stream",
     "text": [
      "\u001b[32m[I 2025-06-10 15:02:12,308]\u001b[0m Trial 54 finished with value: 1.355723292037146 and parameters: {'tp': 22.700000000000003, 'sl': 10.4, 'length_rsi': 10.0, 'rsi_low': 35.0, 'rsi_high': 84.0, 'position_type': 'long'}. Best is trial 53 with value: 18.127355387466455.\u001b[0m\n",
      "\u001b[32m[I 2025-06-10 15:02:12,311]\u001b[0m A new study created in memory with name: hora_17\u001b[0m\n"
     ]
    },
    {
     "name": "stdout",
     "output_type": "stream",
     "text": [
      "Trial 54 concluído: calmar_ratio = 1.3557\n",
      "Otimização concluída para hora 16.\n",
      "\n",
      "Melhores parâmetros para hora 16:\n",
      "calmar_ratio: 18.1274\n",
      "Parâmetros: {'length_rsi': 10.0, 'rsi_low': 35.0, 'rsi_high': 83.0, 'position_type': 'long', 'allowed_hours': [16], 'tp': 25.3, 'sl': 12.700000000000001}\n",
      "Profit Factor: 1.4863\n",
      "Win Rate: 52.38%\n",
      "Max Drawdown: 2.84%\n",
      "Total Return: $1570.60\n",
      "Total Trades: 42\n",
      "\n",
      "==================================================\n",
      "Otimizando estratégia para hora: 17:00\n",
      "Métrica: calmar_ratio - Direção: maximize\n",
      "==================================================\n",
      "Iniciando otimização com 55 trials para hora 17...\n",
      "Trial 0 para hora 17: Testando estratégia com parâmetros {'length_rsi': 6.0, 'rsi_low': 41.0, 'rsi_high': 62.0, 'position_type': 'long'}\n",
      "Trial 0 para hora 17: Usando backtester com TP=5.40000, SL=22.80000\n",
      "Executando backtest para trial 0, hora 17...\n"
     ]
    },
    {
     "name": "stderr",
     "output_type": "stream",
     "text": [
      "\u001b[32m[I 2025-06-10 15:02:13,078]\u001b[0m Trial 0 finished with value: -0.25173425394939813 and parameters: {'tp': 5.4, 'sl': 22.8, 'length_rsi': 6.0, 'rsi_low': 41.0, 'rsi_high': 62.0, 'position_type': 'long'}. Best is trial 0 with value: -0.25173425394939813.\u001b[0m\n"
     ]
    },
    {
     "name": "stdout",
     "output_type": "stream",
     "text": [
      "Trial 0 concluído: calmar_ratio = -0.2517\n",
      "Trial 1 para hora 17: Testando estratégia com parâmetros {'length_rsi': 8.0, 'rsi_low': 44.0, 'rsi_high': 64.0, 'position_type': 'long'}\n",
      "Trial 1 para hora 17: Usando backtester com TP=27.80000, SL=8.60000\n",
      "Executando backtest para trial 1, hora 17...\n"
     ]
    },
    {
     "name": "stderr",
     "output_type": "stream",
     "text": [
      "\u001b[32m[I 2025-06-10 15:02:13,843]\u001b[0m Trial 1 finished with value: 0.5634846268622489 and parameters: {'tp': 27.8, 'sl': 8.600000000000001, 'length_rsi': 8.0, 'rsi_low': 44.0, 'rsi_high': 64.0, 'position_type': 'long'}. Best is trial 1 with value: 0.5634846268622489.\u001b[0m\n"
     ]
    },
    {
     "name": "stdout",
     "output_type": "stream",
     "text": [
      "Trial 1 concluído: calmar_ratio = 0.5635\n",
      "Trial 2 para hora 17: Testando estratégia com parâmetros {'length_rsi': 9.0, 'rsi_low': 42.0, 'rsi_high': 57.0, 'position_type': 'long'}\n",
      "Trial 2 para hora 17: Usando backtester com TP=23.10000, SL=22.90000\n",
      "Executando backtest para trial 2, hora 17...\n"
     ]
    },
    {
     "name": "stderr",
     "output_type": "stream",
     "text": [
      "\u001b[32m[I 2025-06-10 15:02:14,600]\u001b[0m Trial 2 finished with value: 0.08730324173223201 and parameters: {'tp': 23.1, 'sl': 22.900000000000002, 'length_rsi': 9.0, 'rsi_low': 42.0, 'rsi_high': 57.0, 'position_type': 'long'}. Best is trial 1 with value: 0.5634846268622489.\u001b[0m\n"
     ]
    },
    {
     "name": "stdout",
     "output_type": "stream",
     "text": [
      "Trial 2 concluído: calmar_ratio = 0.0873\n",
      "Trial 3 para hora 17: Testando estratégia com parâmetros {'length_rsi': 7.0, 'rsi_low': 41.0, 'rsi_high': 83.0, 'position_type': 'short'}\n",
      "Trial 3 para hora 17: Usando backtester com TP=15.70000, SL=28.90000\n",
      "Executando backtest para trial 3, hora 17...\n"
     ]
    },
    {
     "name": "stderr",
     "output_type": "stream",
     "text": [
      "\u001b[32m[I 2025-06-10 15:02:15,362]\u001b[0m Trial 3 finished with value: -0.2997571472090593 and parameters: {'tp': 15.700000000000001, 'sl': 28.900000000000002, 'length_rsi': 7.0, 'rsi_low': 41.0, 'rsi_high': 83.0, 'position_type': 'short'}. Best is trial 1 with value: 0.5634846268622489.\u001b[0m\n"
     ]
    },
    {
     "name": "stdout",
     "output_type": "stream",
     "text": [
      "Trial 3 concluído: calmar_ratio = -0.2998\n",
      "Trial 4 para hora 17: Testando estratégia com parâmetros {'length_rsi': 8.0, 'rsi_low': 33.0, 'rsi_high': 84.0, 'position_type': 'short'}\n",
      "Trial 4 para hora 17: Usando backtester com TP=25.90000, SL=14.80000\n",
      "Executando backtest para trial 4, hora 17...\n"
     ]
    },
    {
     "name": "stderr",
     "output_type": "stream",
     "text": [
      "\u001b[32m[I 2025-06-10 15:02:16,123]\u001b[0m Trial 4 finished with value: -0.3539605904462103 and parameters: {'tp': 25.900000000000002, 'sl': 14.8, 'length_rsi': 8.0, 'rsi_low': 33.0, 'rsi_high': 84.0, 'position_type': 'short'}. Best is trial 1 with value: 0.5634846268622489.\u001b[0m\n"
     ]
    },
    {
     "name": "stdout",
     "output_type": "stream",
     "text": [
      "Trial 4 concluído: calmar_ratio = -0.3540\n",
      "Trial 5 para hora 17: Testando estratégia com parâmetros {'length_rsi': 10.0, 'rsi_low': 45.0, 'rsi_high': 67.0, 'position_type': 'short'}\n",
      "Trial 5 para hora 17: Usando backtester com TP=25.70000, SL=8.50000\n",
      "Executando backtest para trial 5, hora 17...\n"
     ]
    },
    {
     "name": "stderr",
     "output_type": "stream",
     "text": [
      "\u001b[32m[I 2025-06-10 15:02:16,899]\u001b[0m Trial 5 finished with value: -0.09950345523894955 and parameters: {'tp': 25.700000000000003, 'sl': 8.5, 'length_rsi': 10.0, 'rsi_low': 45.0, 'rsi_high': 67.0, 'position_type': 'short'}. Best is trial 1 with value: 0.5634846268622489.\u001b[0m\n"
     ]
    },
    {
     "name": "stdout",
     "output_type": "stream",
     "text": [
      "Trial 5 concluído: calmar_ratio = -0.0995\n",
      "Trial 6 para hora 17: Testando estratégia com parâmetros {'length_rsi': 8.0, 'rsi_low': 27.0, 'rsi_high': 80.0, 'position_type': 'short'}\n",
      "Trial 6 para hora 17: Usando backtester com TP=30.30000, SL=9.80000\n",
      "Executando backtest para trial 6, hora 17...\n"
     ]
    },
    {
     "name": "stderr",
     "output_type": "stream",
     "text": [
      "\u001b[32m[I 2025-06-10 15:02:17,655]\u001b[0m Trial 6 finished with value: -0.254052226263967 and parameters: {'tp': 30.3, 'sl': 9.8, 'length_rsi': 8.0, 'rsi_low': 27.0, 'rsi_high': 80.0, 'position_type': 'short'}. Best is trial 1 with value: 0.5634846268622489.\u001b[0m\n"
     ]
    },
    {
     "name": "stdout",
     "output_type": "stream",
     "text": [
      "Trial 6 concluído: calmar_ratio = -0.2541\n",
      "Trial 7 para hora 17: Testando estratégia com parâmetros {'length_rsi': 6.0, 'rsi_low': 26.0, 'rsi_high': 59.0, 'position_type': 'long'}\n",
      "Trial 7 para hora 17: Usando backtester com TP=26.90000, SL=12.20000\n",
      "Executando backtest para trial 7, hora 17...\n"
     ]
    },
    {
     "name": "stderr",
     "output_type": "stream",
     "text": [
      "\u001b[32m[I 2025-06-10 15:02:18,423]\u001b[0m Trial 7 finished with value: 0.23106541248863666 and parameters: {'tp': 26.900000000000002, 'sl': 12.200000000000001, 'length_rsi': 6.0, 'rsi_low': 26.0, 'rsi_high': 59.0, 'position_type': 'long'}. Best is trial 1 with value: 0.5634846268622489.\u001b[0m\n"
     ]
    },
    {
     "name": "stdout",
     "output_type": "stream",
     "text": [
      "Trial 7 concluído: calmar_ratio = 0.2311\n",
      "Trial 8 para hora 17: Testando estratégia com parâmetros {'length_rsi': 8.0, 'rsi_low': 26.0, 'rsi_high': 71.0, 'position_type': 'both'}\n",
      "Trial 8 para hora 17: Usando backtester com TP=19.70000, SL=19.00000\n",
      "Executando backtest para trial 8, hora 17...\n"
     ]
    },
    {
     "name": "stderr",
     "output_type": "stream",
     "text": [
      "\u001b[32m[I 2025-06-10 15:02:19,187]\u001b[0m Trial 8 finished with value: 0.20517392061927497 and parameters: {'tp': 19.7, 'sl': 19.0, 'length_rsi': 8.0, 'rsi_low': 26.0, 'rsi_high': 71.0, 'position_type': 'both'}. Best is trial 1 with value: 0.5634846268622489.\u001b[0m\n"
     ]
    },
    {
     "name": "stdout",
     "output_type": "stream",
     "text": [
      "Trial 8 concluído: calmar_ratio = 0.2052\n",
      "Trial 9 para hora 17: Testando estratégia com parâmetros {'length_rsi': 6.0, 'rsi_low': 41.0, 'rsi_high': 74.0, 'position_type': 'both'}\n",
      "Trial 9 para hora 17: Usando backtester com TP=4.60000, SL=23.50000\n",
      "Executando backtest para trial 9, hora 17...\n"
     ]
    },
    {
     "name": "stderr",
     "output_type": "stream",
     "text": [
      "C:\\Users\\User\\OneDrive\\Documentos\\rnt\\Finance\\Trading Projects\\backtester\\forex_backtester\\backtester.py:223: RuntimeWarning: invalid value encountered in double_scalars\n",
      "  annual_return = (1 + total_return_decimal) ** (1/years) - 1  # Em decimal\n",
      "\u001b[33m[W 2025-06-10 15:02:19,952]\u001b[0m Trial 9 failed because of the following error: The value nan is not acceptable.\u001b[0m\n"
     ]
    },
    {
     "name": "stdout",
     "output_type": "stream",
     "text": [
      "Trial 9 concluído: calmar_ratio = nan\n",
      "Trial 10 para hora 17: Testando estratégia com parâmetros {'length_rsi': 8.0, 'rsi_low': 37.0, 'rsi_high': 66.0, 'position_type': 'short'}\n",
      "Trial 10 para hora 17: Usando backtester com TP=14.20000, SL=25.80000\n",
      "Executando backtest para trial 10, hora 17...\n"
     ]
    },
    {
     "name": "stderr",
     "output_type": "stream",
     "text": [
      "\u001b[32m[I 2025-06-10 15:02:20,718]\u001b[0m Trial 10 finished with value: -0.33069503778871207 and parameters: {'tp': 14.200000000000001, 'sl': 25.8, 'length_rsi': 8.0, 'rsi_low': 37.0, 'rsi_high': 66.0, 'position_type': 'short'}. Best is trial 1 with value: 0.5634846268622489.\u001b[0m\n"
     ]
    },
    {
     "name": "stdout",
     "output_type": "stream",
     "text": [
      "Trial 10 concluído: calmar_ratio = -0.3307\n",
      "Trial 11 para hora 17: Testando estratégia com parâmetros {'length_rsi': 10.0, 'rsi_low': 35.0, 'rsi_high': 74.0, 'position_type': 'both'}\n",
      "Trial 11 para hora 17: Usando backtester com TP=8.00000, SL=2.20000\n",
      "Executando backtest para trial 11, hora 17...\n"
     ]
    },
    {
     "name": "stderr",
     "output_type": "stream",
     "text": [
      "\u001b[32m[I 2025-06-10 15:02:21,483]\u001b[0m Trial 11 finished with value: -0.16450186940758216 and parameters: {'tp': 8.0, 'sl': 2.2, 'length_rsi': 10.0, 'rsi_low': 35.0, 'rsi_high': 74.0, 'position_type': 'both'}. Best is trial 1 with value: 0.5634846268622489.\u001b[0m\n"
     ]
    },
    {
     "name": "stdout",
     "output_type": "stream",
     "text": [
      "Trial 11 concluído: calmar_ratio = -0.1645\n",
      "Trial 12 para hora 17: Testando estratégia com parâmetros {'length_rsi': 6.0, 'rsi_low': 30.0, 'rsi_high': 55.0, 'position_type': 'long'}\n",
      "Trial 12 para hora 17: Usando backtester com TP=31.60000, SL=11.00000\n",
      "Executando backtest para trial 12, hora 17...\n"
     ]
    },
    {
     "name": "stderr",
     "output_type": "stream",
     "text": [
      "\u001b[32m[I 2025-06-10 15:02:22,258]\u001b[0m Trial 12 finished with value: 0.2986178261762809 and parameters: {'tp': 31.6, 'sl': 11.0, 'length_rsi': 6.0, 'rsi_low': 30.0, 'rsi_high': 55.0, 'position_type': 'long'}. Best is trial 1 with value: 0.5634846268622489.\u001b[0m\n"
     ]
    },
    {
     "name": "stdout",
     "output_type": "stream",
     "text": [
      "Trial 12 concluído: calmar_ratio = 0.2986\n",
      "Trial 13 para hora 17: Testando estratégia com parâmetros {'length_rsi': 7.0, 'rsi_low': 30.0, 'rsi_high': 55.0, 'position_type': 'long'}\n",
      "Trial 13 para hora 17: Usando backtester com TP=31.70000, SL=5.00000\n",
      "Executando backtest para trial 13, hora 17...\n"
     ]
    },
    {
     "name": "stderr",
     "output_type": "stream",
     "text": [
      "\u001b[32m[I 2025-06-10 15:02:23,023]\u001b[0m Trial 13 finished with value: 0.9401503392211711 and parameters: {'tp': 31.700000000000003, 'sl': 5.0, 'length_rsi': 7.0, 'rsi_low': 30.0, 'rsi_high': 55.0, 'position_type': 'long'}. Best is trial 13 with value: 0.9401503392211711.\u001b[0m\n"
     ]
    },
    {
     "name": "stdout",
     "output_type": "stream",
     "text": [
      "Trial 13 concluído: calmar_ratio = 0.9402\n",
      "Trial 14 para hora 17: Testando estratégia com parâmetros {'length_rsi': 7.0, 'rsi_low': 32.0, 'rsi_high': 63.0, 'position_type': 'long'}\n",
      "Trial 14 para hora 17: Usando backtester com TP=31.60000, SL=2.90000\n",
      "Executando backtest para trial 14, hora 17...\n"
     ]
    },
    {
     "name": "stderr",
     "output_type": "stream",
     "text": [
      "\u001b[32m[I 2025-06-10 15:02:23,805]\u001b[0m Trial 14 finished with value: 0.20411831227220822 and parameters: {'tp': 31.6, 'sl': 2.9, 'length_rsi': 7.0, 'rsi_low': 32.0, 'rsi_high': 63.0, 'position_type': 'long'}. Best is trial 13 with value: 0.9401503392211711.\u001b[0m\n"
     ]
    },
    {
     "name": "stdout",
     "output_type": "stream",
     "text": [
      "Trial 14 concluído: calmar_ratio = 0.2041\n",
      "Trial 15 para hora 17: Testando estratégia com parâmetros {'length_rsi': 7.0, 'rsi_low': 37.0, 'rsi_high': 60.0, 'position_type': 'long'}\n",
      "Trial 15 para hora 17: Usando backtester com TP=20.60000, SL=6.90000\n",
      "Executando backtest para trial 15, hora 17...\n"
     ]
    },
    {
     "name": "stderr",
     "output_type": "stream",
     "text": [
      "\u001b[32m[I 2025-06-10 15:02:24,612]\u001b[0m Trial 15 finished with value: 0.005798977867578084 and parameters: {'tp': 20.6, 'sl': 6.9, 'length_rsi': 7.0, 'rsi_low': 37.0, 'rsi_high': 60.0, 'position_type': 'long'}. Best is trial 13 with value: 0.9401503392211711.\u001b[0m\n"
     ]
    },
    {
     "name": "stdout",
     "output_type": "stream",
     "text": [
      "Trial 15 concluído: calmar_ratio = 0.0058\n",
      "Trial 16 para hora 17: Testando estratégia com parâmetros {'length_rsi': 9.0, 'rsi_low': 29.0, 'rsi_high': 75.0, 'position_type': 'long'}\n",
      "Trial 16 para hora 17: Usando backtester com TP=11.10000, SL=6.00000\n",
      "Executando backtest para trial 16, hora 17...\n"
     ]
    },
    {
     "name": "stderr",
     "output_type": "stream",
     "text": [
      "\u001b[32m[I 2025-06-10 15:02:25,423]\u001b[0m Trial 16 finished with value: 2.119835475179126 and parameters: {'tp': 11.1, 'sl': 6.0, 'length_rsi': 9.0, 'rsi_low': 29.0, 'rsi_high': 75.0, 'position_type': 'long'}. Best is trial 16 with value: 2.119835475179126.\u001b[0m\n"
     ]
    },
    {
     "name": "stdout",
     "output_type": "stream",
     "text": [
      "Trial 16 concluído: calmar_ratio = 2.1198\n",
      "Trial 17 para hora 17: Testando estratégia com parâmetros {'length_rsi': 9.0, 'rsi_low': 29.0, 'rsi_high': 76.0, 'position_type': 'long'}\n",
      "Trial 17 para hora 17: Usando backtester com TP=11.70000, SL=5.20000\n",
      "Executando backtest para trial 17, hora 17...\n"
     ]
    },
    {
     "name": "stderr",
     "output_type": "stream",
     "text": [
      "\u001b[32m[I 2025-06-10 15:02:26,223]\u001b[0m Trial 17 finished with value: 2.8690900851740313 and parameters: {'tp': 11.700000000000001, 'sl': 5.2, 'length_rsi': 9.0, 'rsi_low': 29.0, 'rsi_high': 76.0, 'position_type': 'long'}. Best is trial 17 with value: 2.8690900851740313.\u001b[0m\n"
     ]
    },
    {
     "name": "stdout",
     "output_type": "stream",
     "text": [
      "Trial 17 concluído: calmar_ratio = 2.8691\n",
      "Trial 18 para hora 17: Testando estratégia com parâmetros {'length_rsi': 9.0, 'rsi_low': 28.0, 'rsi_high': 76.0, 'position_type': 'both'}\n",
      "Trial 18 para hora 17: Usando backtester com TP=10.80000, SL=16.30000\n",
      "Executando backtest para trial 18, hora 17...\n"
     ]
    },
    {
     "name": "stderr",
     "output_type": "stream",
     "text": [
      "\u001b[32m[I 2025-06-10 15:02:27,001]\u001b[0m Trial 18 finished with value: 0.591058594676154 and parameters: {'tp': 10.8, 'sl': 16.3, 'length_rsi': 9.0, 'rsi_low': 28.0, 'rsi_high': 76.0, 'position_type': 'both'}. Best is trial 17 with value: 2.8690900851740313.\u001b[0m\n"
     ]
    },
    {
     "name": "stdout",
     "output_type": "stream",
     "text": [
      "Trial 18 concluído: calmar_ratio = 0.5911\n",
      "Trial 19 para hora 17: Testando estratégia com parâmetros {'length_rsi': 9.0, 'rsi_low': 29.0, 'rsi_high': 78.0, 'position_type': 'long'}\n",
      "Trial 19 para hora 17: Usando backtester com TP=2.50000, SL=5.40000\n",
      "Executando backtest para trial 19, hora 17...\n"
     ]
    },
    {
     "name": "stderr",
     "output_type": "stream",
     "text": [
      "\u001b[32m[I 2025-06-10 15:02:27,769]\u001b[0m Trial 19 finished with value: -1.5583658035904118 and parameters: {'tp': 2.5, 'sl': 5.4, 'length_rsi': 9.0, 'rsi_low': 29.0, 'rsi_high': 78.0, 'position_type': 'long'}. Best is trial 17 with value: 2.8690900851740313.\u001b[0m\n"
     ]
    },
    {
     "name": "stdout",
     "output_type": "stream",
     "text": [
      "Trial 19 concluído: calmar_ratio = -1.5584\n",
      "Trial 20 para hora 17: Testando estratégia com parâmetros {'length_rsi': 9.0, 'rsi_low': 32.0, 'rsi_high': 73.0, 'position_type': 'long'}\n",
      "Trial 20 para hora 17: Usando backtester com TP=11.10000, SL=13.80000\n",
      "Executando backtest para trial 20, hora 17...\n"
     ]
    },
    {
     "name": "stderr",
     "output_type": "stream",
     "text": [
      "\u001b[32m[I 2025-06-10 15:02:28,539]\u001b[0m Trial 20 finished with value: 0.767856414150772 and parameters: {'tp': 11.1, 'sl': 13.8, 'length_rsi': 9.0, 'rsi_low': 32.0, 'rsi_high': 73.0, 'position_type': 'long'}. Best is trial 17 with value: 2.8690900851740313.\u001b[0m\n"
     ]
    },
    {
     "name": "stdout",
     "output_type": "stream",
     "text": [
      "Trial 20 concluído: calmar_ratio = 0.7679\n",
      "Trial 21 para hora 17: Testando estratégia com parâmetros {'length_rsi': 10.0, 'rsi_low': 25.0, 'rsi_high': 80.0, 'position_type': 'both'}\n",
      "Trial 21 para hora 17: Usando backtester com TP=12.60000, SL=19.50000\n",
      "Executando backtest para trial 21, hora 17...\n"
     ]
    },
    {
     "name": "stderr",
     "output_type": "stream",
     "text": [
      "\u001b[32m[I 2025-06-10 15:02:29,304]\u001b[0m Trial 21 finished with value: 0.12904045802657527 and parameters: {'tp': 12.600000000000001, 'sl': 19.5, 'length_rsi': 10.0, 'rsi_low': 25.0, 'rsi_high': 80.0, 'position_type': 'both'}. Best is trial 17 with value: 2.8690900851740313.\u001b[0m\n"
     ]
    },
    {
     "name": "stdout",
     "output_type": "stream",
     "text": [
      "Trial 21 concluído: calmar_ratio = 0.1290\n",
      "Trial 22 para hora 17: Testando estratégia com parâmetros {'length_rsi': 9.0, 'rsi_low': 30.0, 'rsi_high': 70.0, 'position_type': 'long'}\n",
      "Trial 22 para hora 17: Usando backtester com TP=18.10000, SL=4.50000\n",
      "Executando backtest para trial 22, hora 17...\n"
     ]
    },
    {
     "name": "stderr",
     "output_type": "stream",
     "text": [
      "\u001b[32m[I 2025-06-10 15:02:30,085]\u001b[0m Trial 22 finished with value: 2.2029029839962404 and parameters: {'tp': 18.1, 'sl': 4.5, 'length_rsi': 9.0, 'rsi_low': 30.0, 'rsi_high': 70.0, 'position_type': 'long'}. Best is trial 17 with value: 2.8690900851740313.\u001b[0m\n"
     ]
    },
    {
     "name": "stdout",
     "output_type": "stream",
     "text": [
      "Trial 22 concluído: calmar_ratio = 2.2029\n",
      "Trial 23 para hora 17: Testando estratégia com parâmetros {'length_rsi': 9.0, 'rsi_low': 31.0, 'rsi_high': 68.0, 'position_type': 'long'}\n",
      "Trial 23 para hora 17: Usando backtester com TP=17.60000, SL=4.80000\n",
      "Executando backtest para trial 23, hora 17...\n"
     ]
    },
    {
     "name": "stderr",
     "output_type": "stream",
     "text": [
      "\u001b[32m[I 2025-06-10 15:02:30,851]\u001b[0m Trial 23 finished with value: 1.0058909926270816 and parameters: {'tp': 17.6, 'sl': 4.800000000000001, 'length_rsi': 9.0, 'rsi_low': 31.0, 'rsi_high': 68.0, 'position_type': 'long'}. Best is trial 17 with value: 2.8690900851740313.\u001b[0m\n"
     ]
    },
    {
     "name": "stdout",
     "output_type": "stream",
     "text": [
      "Trial 23 concluído: calmar_ratio = 1.0059\n",
      "Trial 24 para hora 17: Testando estratégia com parâmetros {'length_rsi': 9.0, 'rsi_low': 34.0, 'rsi_high': 71.0, 'position_type': 'long'}\n",
      "Trial 24 para hora 17: Usando backtester com TP=9.00000, SL=2.30000\n",
      "Executando backtest para trial 24, hora 17...\n"
     ]
    },
    {
     "name": "stderr",
     "output_type": "stream",
     "text": [
      "\u001b[32m[I 2025-06-10 15:02:31,620]\u001b[0m Trial 24 finished with value: 0.07066152693777698 and parameters: {'tp': 9.0, 'sl': 2.3, 'length_rsi': 9.0, 'rsi_low': 34.0, 'rsi_high': 71.0, 'position_type': 'long'}. Best is trial 17 with value: 2.8690900851740313.\u001b[0m\n"
     ]
    },
    {
     "name": "stdout",
     "output_type": "stream",
     "text": [
      "Trial 24 concluído: calmar_ratio = 0.0707\n",
      "Trial 25 para hora 17: Testando estratégia com parâmetros {'length_rsi': 10.0, 'rsi_low': 28.0, 'rsi_high': 75.0, 'position_type': 'long'}\n",
      "Trial 25 para hora 17: Usando backtester com TP=17.90000, SL=7.00000\n",
      "Executando backtest para trial 25, hora 17...\n"
     ]
    },
    {
     "name": "stderr",
     "output_type": "stream",
     "text": [
      "\u001b[32m[I 2025-06-10 15:02:32,386]\u001b[0m Trial 25 finished with value: 3.5283810980496626 and parameters: {'tp': 17.9, 'sl': 7.0, 'length_rsi': 10.0, 'rsi_low': 28.0, 'rsi_high': 75.0, 'position_type': 'long'}. Best is trial 25 with value: 3.5283810980496626.\u001b[0m\n"
     ]
    },
    {
     "name": "stdout",
     "output_type": "stream",
     "text": [
      "Trial 25 concluído: calmar_ratio = 3.5284\n",
      "Trial 26 para hora 17: Testando estratégia com parâmetros {'length_rsi': 10.0, 'rsi_low': 28.0, 'rsi_high': 77.0, 'position_type': 'long'}\n",
      "Trial 26 para hora 17: Usando backtester com TP=17.20000, SL=7.80000\n",
      "Executando backtest para trial 26, hora 17...\n"
     ]
    },
    {
     "name": "stderr",
     "output_type": "stream",
     "text": [
      "\u001b[32m[I 2025-06-10 15:02:33,156]\u001b[0m Trial 26 finished with value: 2.3056133762384436 and parameters: {'tp': 17.200000000000003, 'sl': 7.800000000000001, 'length_rsi': 10.0, 'rsi_low': 28.0, 'rsi_high': 77.0, 'position_type': 'long'}. Best is trial 25 with value: 3.5283810980496626.\u001b[0m\n"
     ]
    },
    {
     "name": "stdout",
     "output_type": "stream",
     "text": [
      "Trial 26 concluído: calmar_ratio = 2.3056\n",
      "Trial 27 para hora 17: Testando estratégia com parâmetros {'length_rsi': 10.0, 'rsi_low': 27.0, 'rsi_high': 77.0, 'position_type': 'long'}\n",
      "Trial 27 para hora 17: Usando backtester com TP=22.30000, SL=12.30000\n",
      "Executando backtest para trial 27, hora 17...\n"
     ]
    },
    {
     "name": "stderr",
     "output_type": "stream",
     "text": [
      "\u001b[32m[I 2025-06-10 15:02:33,923]\u001b[0m Trial 27 finished with value: 4.371373173337698 and parameters: {'tp': 22.3, 'sl': 12.3, 'length_rsi': 10.0, 'rsi_low': 27.0, 'rsi_high': 77.0, 'position_type': 'long'}. Best is trial 27 with value: 4.371373173337698.\u001b[0m\n"
     ]
    },
    {
     "name": "stdout",
     "output_type": "stream",
     "text": [
      "Trial 27 concluído: calmar_ratio = 4.3714\n",
      "Trial 28 para hora 17: Testando estratégia com parâmetros {'length_rsi': 10.0, 'rsi_low': 25.0, 'rsi_high': 80.0, 'position_type': 'long'}\n",
      "Trial 28 para hora 17: Usando backtester com TP=21.90000, SL=12.10000\n",
      "Executando backtest para trial 28, hora 17...\n"
     ]
    },
    {
     "name": "stderr",
     "output_type": "stream",
     "text": [
      "\u001b[32m[I 2025-06-10 15:02:34,694]\u001b[0m Trial 28 finished with value: 11.484894776907632 and parameters: {'tp': 21.900000000000002, 'sl': 12.100000000000001, 'length_rsi': 10.0, 'rsi_low': 25.0, 'rsi_high': 80.0, 'position_type': 'long'}. Best is trial 28 with value: 11.484894776907632.\u001b[0m\n"
     ]
    },
    {
     "name": "stdout",
     "output_type": "stream",
     "text": [
      "Trial 28 concluído: calmar_ratio = 11.4849\n",
      "Trial 29 para hora 17: Testando estratégia com parâmetros {'length_rsi': 10.0, 'rsi_low': 26.0, 'rsi_high': 80.0, 'position_type': 'long'}\n",
      "Trial 29 para hora 17: Usando backtester com TP=22.40000, SL=13.70000\n",
      "Executando backtest para trial 29, hora 17...\n"
     ]
    },
    {
     "name": "stderr",
     "output_type": "stream",
     "text": [
      "\u001b[32m[I 2025-06-10 15:02:35,470]\u001b[0m Trial 29 finished with value: 12.495209397180217 and parameters: {'tp': 22.400000000000002, 'sl': 13.700000000000001, 'length_rsi': 10.0, 'rsi_low': 26.0, 'rsi_high': 80.0, 'position_type': 'long'}. Best is trial 29 with value: 12.495209397180217.\u001b[0m\n"
     ]
    },
    {
     "name": "stdout",
     "output_type": "stream",
     "text": [
      "Trial 29 concluído: calmar_ratio = 12.4952\n",
      "Trial 30 para hora 17: Testando estratégia com parâmetros {'length_rsi': 10.0, 'rsi_low': 25.0, 'rsi_high': 81.0, 'position_type': 'both'}\n",
      "Trial 30 para hora 17: Usando backtester com TP=22.10000, SL=17.70000\n",
      "Executando backtest para trial 30, hora 17...\n"
     ]
    },
    {
     "name": "stderr",
     "output_type": "stream",
     "text": [
      "\u001b[32m[I 2025-06-10 15:02:36,223]\u001b[0m Trial 30 finished with value: 0.37806503550918535 and parameters: {'tp': 22.1, 'sl': 17.700000000000003, 'length_rsi': 10.0, 'rsi_low': 25.0, 'rsi_high': 81.0, 'position_type': 'both'}. Best is trial 29 with value: 12.495209397180217.\u001b[0m\n"
     ]
    },
    {
     "name": "stdout",
     "output_type": "stream",
     "text": [
      "Trial 30 concluído: calmar_ratio = 0.3781\n",
      "Trial 31 para hora 17: Testando estratégia com parâmetros {'length_rsi': 10.0, 'rsi_low': 25.0, 'rsi_high': 82.0, 'position_type': 'long'}\n",
      "Trial 31 para hora 17: Usando backtester com TP=23.30000, SL=13.10000\n",
      "Executando backtest para trial 31, hora 17...\n"
     ]
    },
    {
     "name": "stderr",
     "output_type": "stream",
     "text": [
      "\u001b[32m[I 2025-06-10 15:02:37,004]\u001b[0m Trial 31 finished with value: 12.76635472541189 and parameters: {'tp': 23.3, 'sl': 13.100000000000001, 'length_rsi': 10.0, 'rsi_low': 25.0, 'rsi_high': 82.0, 'position_type': 'long'}. Best is trial 31 with value: 12.76635472541189.\u001b[0m\n"
     ]
    },
    {
     "name": "stdout",
     "output_type": "stream",
     "text": [
      "Trial 31 concluído: calmar_ratio = 12.7664\n",
      "Trial 32 para hora 17: Testando estratégia com parâmetros {'length_rsi': 10.0, 'rsi_low': 25.0, 'rsi_high': 85.0, 'position_type': 'long'}\n",
      "Trial 32 para hora 17: Usando backtester com TP=23.50000, SL=13.10000\n",
      "Executando backtest para trial 32, hora 17...\n"
     ]
    },
    {
     "name": "stderr",
     "output_type": "stream",
     "text": [
      "\u001b[32m[I 2025-06-10 15:02:37,771]\u001b[0m Trial 32 finished with value: 66.14769849890945 and parameters: {'tp': 23.5, 'sl': 13.100000000000001, 'length_rsi': 10.0, 'rsi_low': 25.0, 'rsi_high': 85.0, 'position_type': 'long'}. Best is trial 32 with value: 66.14769849890945.\u001b[0m\n"
     ]
    },
    {
     "name": "stdout",
     "output_type": "stream",
     "text": [
      "Trial 32 concluído: calmar_ratio = 66.1477\n",
      "Trial 33 para hora 17: Testando estratégia com parâmetros {'length_rsi': 10.0, 'rsi_low': 25.0, 'rsi_high': 85.0, 'position_type': 'long'}\n",
      "Trial 33 para hora 17: Usando backtester com TP=24.10000, SL=15.30000\n",
      "Executando backtest para trial 33, hora 17...\n"
     ]
    },
    {
     "name": "stderr",
     "output_type": "stream",
     "text": [
      "\u001b[32m[I 2025-06-10 15:02:38,543]\u001b[0m Trial 33 finished with value: 54.013444855010874 and parameters: {'tp': 24.1, 'sl': 15.3, 'length_rsi': 10.0, 'rsi_low': 25.0, 'rsi_high': 85.0, 'position_type': 'long'}. Best is trial 32 with value: 66.14769849890945.\u001b[0m\n"
     ]
    },
    {
     "name": "stdout",
     "output_type": "stream",
     "text": [
      "Trial 33 concluído: calmar_ratio = 54.0134\n",
      "Trial 34 para hora 17: Testando estratégia com parâmetros {'length_rsi': 10.0, 'rsi_low': 26.0, 'rsi_high': 85.0, 'position_type': 'long'}\n",
      "Trial 34 para hora 17: Usando backtester com TP=24.70000, SL=15.00000\n",
      "Executando backtest para trial 34, hora 17...\n"
     ]
    },
    {
     "name": "stderr",
     "output_type": "stream",
     "text": [
      "\u001b[32m[I 2025-06-10 15:02:39,297]\u001b[0m Trial 34 finished with value: 58.277699734471135 and parameters: {'tp': 24.700000000000003, 'sl': 15.0, 'length_rsi': 10.0, 'rsi_low': 26.0, 'rsi_high': 85.0, 'position_type': 'long'}. Best is trial 32 with value: 66.14769849890945.\u001b[0m\n"
     ]
    },
    {
     "name": "stdout",
     "output_type": "stream",
     "text": [
      "Trial 34 concluído: calmar_ratio = 58.2777\n",
      "Trial 35 para hora 17: Testando estratégia com parâmetros {'length_rsi': 10.0, 'rsi_low': 27.0, 'rsi_high': 85.0, 'position_type': 'long'}\n",
      "Trial 35 para hora 17: Usando backtester com TP=24.50000, SL=21.30000\n",
      "Executando backtest para trial 35, hora 17...\n"
     ]
    },
    {
     "name": "stderr",
     "output_type": "stream",
     "text": [
      "\u001b[32m[I 2025-06-10 15:02:40,163]\u001b[0m Trial 35 finished with value: 31.446983579337207 and parameters: {'tp': 24.5, 'sl': 21.3, 'length_rsi': 10.0, 'rsi_low': 27.0, 'rsi_high': 85.0, 'position_type': 'long'}. Best is trial 32 with value: 66.14769849890945.\u001b[0m\n"
     ]
    },
    {
     "name": "stdout",
     "output_type": "stream",
     "text": [
      "Trial 35 concluído: calmar_ratio = 31.4470\n",
      "Trial 36 para hora 17: Testando estratégia com parâmetros {'length_rsi': 10.0, 'rsi_low': 27.0, 'rsi_high': 85.0, 'position_type': 'long'}\n",
      "Trial 36 para hora 17: Usando backtester com TP=24.80000, SL=21.90000\n",
      "Executando backtest para trial 36, hora 17...\n"
     ]
    },
    {
     "name": "stderr",
     "output_type": "stream",
     "text": [
      "\u001b[32m[I 2025-06-10 15:02:40,923]\u001b[0m Trial 36 finished with value: 30.56238012308031 and parameters: {'tp': 24.8, 'sl': 21.900000000000002, 'length_rsi': 10.0, 'rsi_low': 27.0, 'rsi_high': 85.0, 'position_type': 'long'}. Best is trial 32 with value: 66.14769849890945.\u001b[0m\n"
     ]
    },
    {
     "name": "stdout",
     "output_type": "stream",
     "text": [
      "Trial 36 concluído: calmar_ratio = 30.5624\n",
      "Trial 37 para hora 17: Testando estratégia com parâmetros {'length_rsi': 10.0, 'rsi_low': 27.0, 'rsi_high': 85.0, 'position_type': 'long'}\n",
      "Trial 37 para hora 17: Usando backtester com TP=28.80000, SL=22.60000\n",
      "Executando backtest para trial 37, hora 17...\n"
     ]
    },
    {
     "name": "stderr",
     "output_type": "stream",
     "text": [
      "\u001b[32m[I 2025-06-10 15:02:41,691]\u001b[0m Trial 37 finished with value: 48.289226880305456 and parameters: {'tp': 28.8, 'sl': 22.6, 'length_rsi': 10.0, 'rsi_low': 27.0, 'rsi_high': 85.0, 'position_type': 'long'}. Best is trial 32 with value: 66.14769849890945.\u001b[0m\n"
     ]
    },
    {
     "name": "stdout",
     "output_type": "stream",
     "text": [
      "Trial 37 concluído: calmar_ratio = 48.2892\n",
      "Trial 38 para hora 17: Testando estratégia com parâmetros {'length_rsi': 10.0, 'rsi_low': 26.0, 'rsi_high': 83.0, 'position_type': 'short'}\n",
      "Trial 38 para hora 17: Usando backtester com TP=28.70000, SL=25.80000\n",
      "Executando backtest para trial 38, hora 17...\n"
     ]
    },
    {
     "name": "stderr",
     "output_type": "stream",
     "text": [
      "\u001b[32m[I 2025-06-10 15:02:42,462]\u001b[0m Trial 38 finished with value: -0.8238236043203326 and parameters: {'tp': 28.700000000000003, 'sl': 25.8, 'length_rsi': 10.0, 'rsi_low': 26.0, 'rsi_high': 83.0, 'position_type': 'short'}. Best is trial 32 with value: 66.14769849890945.\u001b[0m\n"
     ]
    },
    {
     "name": "stdout",
     "output_type": "stream",
     "text": [
      "Trial 38 concluído: calmar_ratio = -0.8238\n",
      "Trial 39 para hora 17: Testando estratégia com parâmetros {'length_rsi': 9.0, 'rsi_low': 39.0, 'rsi_high': 83.0, 'position_type': 'long'}\n",
      "Trial 39 para hora 17: Usando backtester com TP=28.40000, SL=16.10000\n",
      "Executando backtest para trial 39, hora 17...\n"
     ]
    },
    {
     "name": "stderr",
     "output_type": "stream",
     "text": [
      "\u001b[32m[I 2025-06-10 15:02:43,223]\u001b[0m Trial 39 finished with value: 19.770997619893876 and parameters: {'tp': 28.400000000000002, 'sl': 16.1, 'length_rsi': 9.0, 'rsi_low': 39.0, 'rsi_high': 83.0, 'position_type': 'long'}. Best is trial 32 with value: 66.14769849890945.\u001b[0m\n"
     ]
    },
    {
     "name": "stdout",
     "output_type": "stream",
     "text": [
      "Trial 39 concluído: calmar_ratio = 19.7710\n",
      "Trial 40 para hora 17: Testando estratégia com parâmetros {'length_rsi': 10.0, 'rsi_low': 25.0, 'rsi_high': 85.0, 'position_type': 'short'}\n",
      "Trial 40 para hora 17: Usando backtester com TP=26.80000, SL=29.20000\n",
      "Executando backtest para trial 40, hora 17...\n"
     ]
    },
    {
     "name": "stderr",
     "output_type": "stream",
     "text": [
      "\u001b[32m[I 2025-06-10 15:02:43,989]\u001b[0m Trial 40 finished with value: -0.9893171921569973 and parameters: {'tp': 26.8, 'sl': 29.200000000000003, 'length_rsi': 10.0, 'rsi_low': 25.0, 'rsi_high': 85.0, 'position_type': 'short'}. Best is trial 32 with value: 66.14769849890945.\u001b[0m\n"
     ]
    },
    {
     "name": "stdout",
     "output_type": "stream",
     "text": [
      "Trial 40 concluído: calmar_ratio = -0.9893\n",
      "Trial 41 para hora 17: Testando estratégia com parâmetros {'length_rsi': 10.0, 'rsi_low': 28.0, 'rsi_high': 82.0, 'position_type': 'long'}\n",
      "Trial 41 para hora 17: Usando backtester com TP=29.90000, SL=24.60000\n",
      "Executando backtest para trial 41, hora 17...\n"
     ]
    },
    {
     "name": "stderr",
     "output_type": "stream",
     "text": [
      "\u001b[32m[I 2025-06-10 15:02:44,748]\u001b[0m Trial 41 finished with value: 15.332603750745678 and parameters: {'tp': 29.900000000000002, 'sl': 24.6, 'length_rsi': 10.0, 'rsi_low': 28.0, 'rsi_high': 82.0, 'position_type': 'long'}. Best is trial 32 with value: 66.14769849890945.\u001b[0m\n"
     ]
    },
    {
     "name": "stdout",
     "output_type": "stream",
     "text": [
      "Trial 41 concluído: calmar_ratio = 15.3326\n",
      "Trial 42 para hora 17: Testando estratégia com parâmetros {'length_rsi': 10.0, 'rsi_low': 27.0, 'rsi_high': 85.0, 'position_type': 'long'}\n",
      "Trial 42 para hora 17: Usando backtester com TP=24.30000, SL=21.80000\n",
      "Executando backtest para trial 42, hora 17...\n"
     ]
    },
    {
     "name": "stderr",
     "output_type": "stream",
     "text": [
      "\u001b[32m[I 2025-06-10 15:02:45,523]\u001b[0m Trial 42 finished with value: 29.56296286106188 and parameters: {'tp': 24.3, 'sl': 21.8, 'length_rsi': 10.0, 'rsi_low': 27.0, 'rsi_high': 85.0, 'position_type': 'long'}. Best is trial 32 with value: 66.14769849890945.\u001b[0m\n"
     ]
    },
    {
     "name": "stdout",
     "output_type": "stream",
     "text": [
      "Trial 42 concluído: calmar_ratio = 29.5630\n",
      "Trial 43 para hora 17: Testando estratégia com parâmetros {'length_rsi': 10.0, 'rsi_low': 26.0, 'rsi_high': 84.0, 'position_type': 'long'}\n",
      "Trial 43 para hora 17: Usando backtester com TP=25.80000, SL=19.60000\n",
      "Executando backtest para trial 43, hora 17...\n"
     ]
    },
    {
     "name": "stderr",
     "output_type": "stream",
     "text": [
      "\u001b[32m[I 2025-06-10 15:02:46,292]\u001b[0m Trial 43 finished with value: 44.17360727394519 and parameters: {'tp': 25.8, 'sl': 19.6, 'length_rsi': 10.0, 'rsi_low': 26.0, 'rsi_high': 84.0, 'position_type': 'long'}. Best is trial 32 with value: 66.14769849890945.\u001b[0m\n"
     ]
    },
    {
     "name": "stdout",
     "output_type": "stream",
     "text": [
      "Trial 43 concluído: calmar_ratio = 44.1736\n",
      "Trial 44 para hora 17: Testando estratégia com parâmetros {'length_rsi': 10.0, 'rsi_low': 26.0, 'rsi_high': 83.0, 'position_type': 'long'}\n",
      "Trial 44 para hora 17: Usando backtester com TP=26.90000, SL=19.20000\n",
      "Executando backtest para trial 44, hora 17...\n"
     ]
    },
    {
     "name": "stderr",
     "output_type": "stream",
     "text": [
      "\u001b[32m[I 2025-06-10 15:02:47,054]\u001b[0m Trial 44 finished with value: 17.54284679143005 and parameters: {'tp': 26.900000000000002, 'sl': 19.2, 'length_rsi': 10.0, 'rsi_low': 26.0, 'rsi_high': 83.0, 'position_type': 'long'}. Best is trial 32 with value: 66.14769849890945.\u001b[0m\n"
     ]
    },
    {
     "name": "stdout",
     "output_type": "stream",
     "text": [
      "Trial 44 concluído: calmar_ratio = 17.5428\n",
      "Trial 45 para hora 17: Testando estratégia com parâmetros {'length_rsi': 10.0, 'rsi_low': 26.0, 'rsi_high': 84.0, 'position_type': 'long'}\n",
      "Trial 45 para hora 17: Usando backtester com TP=19.50000, SL=15.30000\n",
      "Executando backtest para trial 45, hora 17...\n"
     ]
    },
    {
     "name": "stderr",
     "output_type": "stream",
     "text": [
      "\u001b[32m[I 2025-06-10 15:02:47,823]\u001b[0m Trial 45 finished with value: 35.064279824723414 and parameters: {'tp': 19.5, 'sl': 15.3, 'length_rsi': 10.0, 'rsi_low': 26.0, 'rsi_high': 84.0, 'position_type': 'long'}. Best is trial 32 with value: 66.14769849890945.\u001b[0m\n"
     ]
    },
    {
     "name": "stdout",
     "output_type": "stream",
     "text": [
      "Trial 45 concluído: calmar_ratio = 35.0643\n",
      "Trial 46 para hora 17: Testando estratégia com parâmetros {'length_rsi': 9.0, 'rsi_low': 42.0, 'rsi_high': 79.0, 'position_type': 'short'}\n",
      "Trial 46 para hora 17: Usando backtester com TP=25.90000, SL=18.10000\n",
      "Executando backtest para trial 46, hora 17...\n"
     ]
    },
    {
     "name": "stderr",
     "output_type": "stream",
     "text": [
      "\u001b[32m[I 2025-06-10 15:02:48,590]\u001b[0m Trial 46 finished with value: -0.22716077633815643 and parameters: {'tp': 25.900000000000002, 'sl': 18.1, 'length_rsi': 9.0, 'rsi_low': 42.0, 'rsi_high': 79.0, 'position_type': 'short'}. Best is trial 32 with value: 66.14769849890945.\u001b[0m\n"
     ]
    },
    {
     "name": "stdout",
     "output_type": "stream",
     "text": [
      "Trial 46 concluído: calmar_ratio = -0.2272\n",
      "Trial 47 para hora 17: Testando estratégia com parâmetros {'length_rsi': 10.0, 'rsi_low': 25.0, 'rsi_high': 82.0, 'position_type': 'long'}\n",
      "Trial 47 para hora 17: Usando backtester com TP=30.00000, SL=9.40000\n",
      "Executando backtest para trial 47, hora 17...\n"
     ]
    },
    {
     "name": "stderr",
     "output_type": "stream",
     "text": [
      "\u001b[32m[I 2025-06-10 15:02:49,376]\u001b[0m Trial 47 finished with value: 26.81696086538563 and parameters: {'tp': 30.0, 'sl': 9.4, 'length_rsi': 10.0, 'rsi_low': 25.0, 'rsi_high': 82.0, 'position_type': 'long'}. Best is trial 32 with value: 66.14769849890945.\u001b[0m\n"
     ]
    },
    {
     "name": "stdout",
     "output_type": "stream",
     "text": [
      "Trial 47 concluído: calmar_ratio = 26.8170\n",
      "Trial 48 para hora 17: Testando estratégia com parâmetros {'length_rsi': 8.0, 'rsi_low': 27.0, 'rsi_high': 84.0, 'position_type': 'both'}\n",
      "Trial 48 para hora 17: Usando backtester com TP=28.50000, SL=20.50000\n",
      "Executando backtest para trial 48, hora 17...\n"
     ]
    },
    {
     "name": "stderr",
     "output_type": "stream",
     "text": [
      "\u001b[32m[I 2025-06-10 15:02:50,157]\u001b[0m Trial 48 finished with value: -0.048920896119963926 and parameters: {'tp': 28.5, 'sl': 20.5, 'length_rsi': 8.0, 'rsi_low': 27.0, 'rsi_high': 84.0, 'position_type': 'both'}. Best is trial 32 with value: 66.14769849890945.\u001b[0m\n"
     ]
    },
    {
     "name": "stdout",
     "output_type": "stream",
     "text": [
      "Trial 48 concluído: calmar_ratio = -0.0489\n",
      "Trial 49 para hora 17: Testando estratégia com parâmetros {'length_rsi': 10.0, 'rsi_low': 29.0, 'rsi_high': 81.0, 'position_type': 'long'}\n",
      "Trial 49 para hora 17: Usando backtester com TP=15.80000, SL=27.50000\n",
      "Executando backtest para trial 49, hora 17...\n"
     ]
    },
    {
     "name": "stderr",
     "output_type": "stream",
     "text": [
      "\u001b[32m[I 2025-06-10 15:02:50,937]\u001b[0m Trial 49 finished with value: 6.5173312650241835 and parameters: {'tp': 15.8, 'sl': 27.5, 'length_rsi': 10.0, 'rsi_low': 29.0, 'rsi_high': 81.0, 'position_type': 'long'}. Best is trial 32 with value: 66.14769849890945.\u001b[0m\n"
     ]
    },
    {
     "name": "stdout",
     "output_type": "stream",
     "text": [
      "Trial 49 concluído: calmar_ratio = 6.5173\n",
      "Trial 50 para hora 17: Testando estratégia com parâmetros {'length_rsi': 9.0, 'rsi_low': 36.0, 'rsi_high': 84.0, 'position_type': 'long'}\n",
      "Trial 50 para hora 17: Usando backtester com TP=25.60000, SL=24.00000\n",
      "Executando backtest para trial 50, hora 17...\n"
     ]
    },
    {
     "name": "stderr",
     "output_type": "stream",
     "text": [
      "\u001b[32m[I 2025-06-10 15:02:51,710]\u001b[0m Trial 50 finished with value: 15.521520894758332 and parameters: {'tp': 25.6, 'sl': 24.0, 'length_rsi': 9.0, 'rsi_low': 36.0, 'rsi_high': 84.0, 'position_type': 'long'}. Best is trial 32 with value: 66.14769849890945.\u001b[0m\n"
     ]
    },
    {
     "name": "stdout",
     "output_type": "stream",
     "text": [
      "Trial 50 concluído: calmar_ratio = 15.5215\n",
      "Trial 51 para hora 17: Testando estratégia com parâmetros {'length_rsi': 10.0, 'rsi_low': 45.0, 'rsi_high': 82.0, 'position_type': 'short'}\n",
      "Trial 51 para hora 17: Usando backtester com TP=20.90000, SL=10.50000\n",
      "Executando backtest para trial 51, hora 17...\n"
     ]
    },
    {
     "name": "stderr",
     "output_type": "stream",
     "text": [
      "\u001b[32m[I 2025-06-10 15:02:52,492]\u001b[0m Trial 51 finished with value: -0.1180011463020067 and parameters: {'tp': 20.900000000000002, 'sl': 10.5, 'length_rsi': 10.0, 'rsi_low': 45.0, 'rsi_high': 82.0, 'position_type': 'short'}. Best is trial 32 with value: 66.14769849890945.\u001b[0m\n"
     ]
    },
    {
     "name": "stdout",
     "output_type": "stream",
     "text": [
      "Trial 51 concluído: calmar_ratio = -0.1180\n",
      "Trial 52 para hora 17: Testando estratégia com parâmetros {'length_rsi': 10.0, 'rsi_low': 26.0, 'rsi_high': 85.0, 'position_type': 'long'}\n",
      "Trial 52 para hora 17: Usando backtester com TP=19.40000, SL=15.20000\n",
      "Executando backtest para trial 52, hora 17...\n"
     ]
    },
    {
     "name": "stderr",
     "output_type": "stream",
     "text": [
      "\u001b[32m[I 2025-06-10 15:02:53,269]\u001b[0m Trial 52 finished with value: 36.79529803112478 and parameters: {'tp': 19.400000000000002, 'sl': 15.200000000000001, 'length_rsi': 10.0, 'rsi_low': 26.0, 'rsi_high': 85.0, 'position_type': 'long'}. Best is trial 32 with value: 66.14769849890945.\u001b[0m\n"
     ]
    },
    {
     "name": "stdout",
     "output_type": "stream",
     "text": [
      "Trial 52 concluído: calmar_ratio = 36.7953\n",
      "Trial 53 para hora 17: Testando estratégia com parâmetros {'length_rsi': 10.0, 'rsi_low': 26.0, 'rsi_high': 85.0, 'position_type': 'long'}\n",
      "Trial 53 para hora 17: Usando backtester com TP=23.50000, SL=15.50000\n",
      "Executando backtest para trial 53, hora 17...\n"
     ]
    },
    {
     "name": "stderr",
     "output_type": "stream",
     "text": [
      "\u001b[32m[I 2025-06-10 15:02:54,047]\u001b[0m Trial 53 finished with value: 50.53552731448434 and parameters: {'tp': 23.5, 'sl': 15.5, 'length_rsi': 10.0, 'rsi_low': 26.0, 'rsi_high': 85.0, 'position_type': 'long'}. Best is trial 32 with value: 66.14769849890945.\u001b[0m\n"
     ]
    },
    {
     "name": "stdout",
     "output_type": "stream",
     "text": [
      "Trial 53 concluído: calmar_ratio = 50.5355\n",
      "Trial 54 para hora 17: Testando estratégia com parâmetros {'length_rsi': 10.0, 'rsi_low': 28.0, 'rsi_high': 83.0, 'position_type': 'long'}\n",
      "Trial 54 para hora 17: Usando backtester com TP=23.90000, SL=17.10000\n",
      "Executando backtest para trial 54, hora 17...\n"
     ]
    },
    {
     "name": "stderr",
     "output_type": "stream",
     "text": [
      "\u001b[32m[I 2025-06-10 15:02:54,922]\u001b[0m Trial 54 finished with value: 17.425180260364705 and parameters: {'tp': 23.900000000000002, 'sl': 17.1, 'length_rsi': 10.0, 'rsi_low': 28.0, 'rsi_high': 83.0, 'position_type': 'long'}. Best is trial 32 with value: 66.14769849890945.\u001b[0m\n"
     ]
    },
    {
     "name": "stdout",
     "output_type": "stream",
     "text": [
      "Trial 54 concluído: calmar_ratio = 17.4252\n",
      "Otimização concluída para hora 17.\n",
      "\n",
      "Melhores parâmetros para hora 17:\n",
      "calmar_ratio: 66.1477\n",
      "Parâmetros: {'length_rsi': 10.0, 'rsi_low': 25.0, 'rsi_high': 85.0, 'position_type': 'long', 'allowed_hours': [17], 'tp': 23.5, 'sl': 13.100000000000001}\n",
      "Profit Factor: 2.6285\n",
      "Win Rate: 52.78%\n",
      "Max Drawdown: 1.70%\n",
      "Total Return: $2909.40\n",
      "Total Trades: 36\n",
      "Otimização concluída para 8 de 8 horas.\n"
     ]
    },
    {
     "data": {
      "text/plain": [
       "[{'hour': 10,\n",
       "  'best_params': {'length_rsi': 7.0,\n",
       "   'rsi_low': 30.0,\n",
       "   'rsi_high': 84.0,\n",
       "   'position_type': 'long',\n",
       "   'allowed_hours': [10],\n",
       "   'tp': 15.5,\n",
       "   'sl': 10.4},\n",
       "  'best_value': 12.62499304278024,\n",
       "  'raw_best_value': 12.62499304278024,\n",
       "  'optimize_metric': 'calmar_ratio',\n",
       "  'direction': 'maximize',\n",
       "  'metrics': {'sortino_ratio': 16.589219896744215,\n",
       "   'sharpe_ratio': 3.9955922486336486,\n",
       "   'calmar_ratio': 12.62499304278024,\n",
       "   'profit_factor': 1.5303725748297372,\n",
       "   'win_rate': 0.5347593582887701,\n",
       "   'max_drawdown': 0.04850664922607327,\n",
       "   'total_return': 9267.200000000084,\n",
       "   'trades': 187}},\n",
       " {'hour': 11,\n",
       "  'best_params': {'length_rsi': 10.0,\n",
       "   'rsi_low': 44.0,\n",
       "   'rsi_high': 85.0,\n",
       "   'position_type': 'long',\n",
       "   'allowed_hours': [11],\n",
       "   'tp': 25.5,\n",
       "   'sl': 10.200000000000001},\n",
       "  'best_value': 25.497183681707277,\n",
       "  'raw_best_value': 25.497183681707277,\n",
       "  'optimize_metric': 'calmar_ratio',\n",
       "  'direction': 'maximize',\n",
       "  'metrics': {'sortino_ratio': 61.265710482186876,\n",
       "   'sharpe_ratio': 7.045408754558899,\n",
       "   'calmar_ratio': 25.497183681707277,\n",
       "   'profit_factor': 1.9060105363984672,\n",
       "   'win_rate': 0.4,\n",
       "   'max_drawdown': 0.04871620719481263,\n",
       "   'total_return': 3026.7999999999956,\n",
       "   'trades': 35}},\n",
       " {'hour': 12,\n",
       "  'best_params': {'length_rsi': 9.0,\n",
       "   'rsi_low': 40.0,\n",
       "   'rsi_high': 85.0,\n",
       "   'position_type': 'long',\n",
       "   'allowed_hours': [12],\n",
       "   'tp': 31.3,\n",
       "   'sl': 23.900000000000002},\n",
       "  'best_value': 83.71596194690807,\n",
       "  'raw_best_value': 83.71596194690807,\n",
       "  'optimize_metric': 'calmar_ratio',\n",
       "  'direction': 'maximize',\n",
       "  'metrics': {'sortino_ratio': 40.1121394262859,\n",
       "   'sharpe_ratio': 12.4545390331558,\n",
       "   'calmar_ratio': 83.71596194690807,\n",
       "   'profit_factor': 2.177926929652378,\n",
       "   'win_rate': 0.5957446808510638,\n",
       "   'max_drawdown': 0.042078738752801104,\n",
       "   'total_return': 7441.200000000019,\n",
       "   'trades': 47}},\n",
       " {'hour': 13,\n",
       "  'best_params': {'length_rsi': 10.0,\n",
       "   'rsi_low': 37.0,\n",
       "   'rsi_high': 85.0,\n",
       "   'position_type': 'long',\n",
       "   'allowed_hours': [13],\n",
       "   'tp': 20.1,\n",
       "   'sl': 17.4},\n",
       "  'best_value': 47.69864949657334,\n",
       "  'raw_best_value': 47.69864949657334,\n",
       "  'optimize_metric': 'calmar_ratio',\n",
       "  'direction': 'maximize',\n",
       "  'metrics': {'sortino_ratio': 17.517291062258195,\n",
       "   'sharpe_ratio': 4.658986886222213,\n",
       "   'calmar_ratio': 47.69864949657334,\n",
       "   'profit_factor': 1.697331103192495,\n",
       "   'win_rate': 0.5384615384615384,\n",
       "   'max_drawdown': 0.020373333333333358,\n",
       "   'total_return': 1917.7999999999993,\n",
       "   'trades': 26}},\n",
       " {'hour': 14,\n",
       "  'best_params': {'length_rsi': 8.0,\n",
       "   'rsi_low': 44.0,\n",
       "   'rsi_high': 85.0,\n",
       "   'position_type': 'long',\n",
       "   'allowed_hours': [14],\n",
       "   'tp': 7.0,\n",
       "   'sl': 29.1},\n",
       "  'best_value': 12.36712054097857,\n",
       "  'raw_best_value': 12.36712054097857,\n",
       "  'optimize_metric': 'calmar_ratio',\n",
       "  'direction': 'maximize',\n",
       "  'metrics': {'sortino_ratio': 5.304356494943565,\n",
       "   'sharpe_ratio': 3.890548464894723,\n",
       "   'calmar_ratio': 12.36712054097857,\n",
       "   'profit_factor': 1.538146231490496,\n",
       "   'win_rate': 0.8666666666666667,\n",
       "   'max_drawdown': 0.02560258544947369,\n",
       "   'total_return': 2100.599999999995,\n",
       "   'trades': 75}},\n",
       " {'hour': 15,\n",
       "  'best_params': {'length_rsi': 10.0,\n",
       "   'rsi_low': 27.0,\n",
       "   'rsi_high': 78.0,\n",
       "   'position_type': 'long',\n",
       "   'allowed_hours': [15],\n",
       "   'tp': 31.8,\n",
       "   'sl': 30.200000000000003},\n",
       "  'best_value': 18.453167446317767,\n",
       "  'raw_best_value': 18.453167446317767,\n",
       "  'optimize_metric': 'calmar_ratio',\n",
       "  'direction': 'maximize',\n",
       "  'metrics': {'sortino_ratio': 8.810398432125803,\n",
       "   'sharpe_ratio': 4.610646997401123,\n",
       "   'calmar_ratio': 18.453167446317767,\n",
       "   'profit_factor': 1.8457195378151257,\n",
       "   'win_rate': 0.6042780748663101,\n",
       "   'max_drawdown': 0.044224425687134826,\n",
       "   'total_return': 11593.800000000083,\n",
       "   'trades': 187}},\n",
       " {'hour': 16,\n",
       "  'best_params': {'length_rsi': 10.0,\n",
       "   'rsi_low': 35.0,\n",
       "   'rsi_high': 83.0,\n",
       "   'position_type': 'long',\n",
       "   'allowed_hours': [16],\n",
       "   'tp': 25.3,\n",
       "   'sl': 12.700000000000001},\n",
       "  'best_value': 18.127355387466455,\n",
       "  'raw_best_value': 18.127355387466455,\n",
       "  'optimize_metric': 'calmar_ratio',\n",
       "  'direction': 'maximize',\n",
       "  'metrics': {'sortino_ratio': 8.438279562317598,\n",
       "   'sharpe_ratio': 3.217396147928195,\n",
       "   'calmar_ratio': 18.127355387466455,\n",
       "   'profit_factor': 1.4863140946247217,\n",
       "   'win_rate': 0.5238095238095238,\n",
       "   'max_drawdown': 0.028359999999999976,\n",
       "   'total_return': 1570.5999999999985,\n",
       "   'trades': 42}},\n",
       " {'hour': 17,\n",
       "  'best_params': {'length_rsi': 10.0,\n",
       "   'rsi_low': 25.0,\n",
       "   'rsi_high': 85.0,\n",
       "   'position_type': 'long',\n",
       "   'allowed_hours': [17],\n",
       "   'tp': 23.5,\n",
       "   'sl': 13.100000000000001},\n",
       "  'best_value': 66.14769849890945,\n",
       "  'raw_best_value': 66.14769849890945,\n",
       "  'optimize_metric': 'calmar_ratio',\n",
       "  'direction': 'maximize',\n",
       "  'metrics': {'sortino_ratio': 26.404496996789675,\n",
       "   'sharpe_ratio': 7.356211705994716,\n",
       "   'calmar_ratio': 66.14769849890945,\n",
       "   'profit_factor': 2.6284562856823017,\n",
       "   'win_rate': 0.5277777777777778,\n",
       "   'max_drawdown': 0.0169643481633614,\n",
       "   'total_return': 2909.399999999994,\n",
       "   'trades': 36}}]"
      ]
     },
     "execution_count": 26,
     "metadata": {},
     "output_type": "execute_result"
    }
   ],
   "source": [
    "# 3. Otimizar horas específicas\n",
    "optimizer.optimize_all_hours(hours_to_optimize=[10, 11,12,13,14,15,16,17])"
   ]
  },
  {
   "cell_type": "code",
   "execution_count": 27,
   "id": "1cdb46de",
   "metadata": {
    "ExecuteTime": {
     "end_time": "2025-06-10T18:02:55.542376Z",
     "start_time": "2025-06-10T18:02:54.943943Z"
    }
   },
   "outputs": [
    {
     "name": "stdout",
     "output_type": "stream",
     "text": [
      "Atenção: Apenas os primeiros 6 parâmetros serão visualizados de um total de 7.\n"
     ]
    },
    {
     "name": "stderr",
     "output_type": "stream",
     "text": [
      "C:\\Users\\User\\AppData\\Roaming\\Python\\Python39\\site-packages\\numpy\\core\\fromnumeric.py:43: VisibleDeprecationWarning: Creating an ndarray from ragged nested sequences (which is a list-or-tuple of lists-or-tuples-or ndarrays with different lengths or shapes) is deprecated. If you meant to do this, you must specify 'dtype=object' when creating the ndarray.\n",
      "  result = getattr(asarray(obj), method)(*args, **kwds)\n"
     ]
    },
    {
     "data": {
      "text/html": [
       "<div>\n",
       "<style scoped>\n",
       "    .dataframe tbody tr th:only-of-type {\n",
       "        vertical-align: middle;\n",
       "    }\n",
       "\n",
       "    .dataframe tbody tr th {\n",
       "        vertical-align: top;\n",
       "    }\n",
       "\n",
       "    .dataframe thead th {\n",
       "        text-align: right;\n",
       "    }\n",
       "</style>\n",
       "<table border=\"1\" class=\"dataframe\">\n",
       "  <thead>\n",
       "    <tr style=\"text-align: right;\">\n",
       "      <th></th>\n",
       "      <th>hour</th>\n",
       "      <th>calmar_ratio</th>\n",
       "      <th>profit_factor</th>\n",
       "      <th>win_rate</th>\n",
       "      <th>max_drawdown</th>\n",
       "      <th>total_return</th>\n",
       "      <th>trades</th>\n",
       "      <th>rsi_high</th>\n",
       "      <th>tp</th>\n",
       "      <th>rsi_low</th>\n",
       "      <th>sl</th>\n",
       "      <th>position_type</th>\n",
       "      <th>allowed_hours</th>\n",
       "      <th>length_rsi</th>\n",
       "    </tr>\n",
       "  </thead>\n",
       "  <tbody>\n",
       "    <tr>\n",
       "      <th>0</th>\n",
       "      <td>10</td>\n",
       "      <td>12.624993</td>\n",
       "      <td>1.530373</td>\n",
       "      <td>0.534759</td>\n",
       "      <td>0.048507</td>\n",
       "      <td>9267.2</td>\n",
       "      <td>187</td>\n",
       "      <td>84.0</td>\n",
       "      <td>15.5</td>\n",
       "      <td>30.0</td>\n",
       "      <td>10.4</td>\n",
       "      <td>long</td>\n",
       "      <td>[10]</td>\n",
       "      <td>7.0</td>\n",
       "    </tr>\n",
       "    <tr>\n",
       "      <th>1</th>\n",
       "      <td>11</td>\n",
       "      <td>25.497184</td>\n",
       "      <td>1.906011</td>\n",
       "      <td>0.400000</td>\n",
       "      <td>0.048716</td>\n",
       "      <td>3026.8</td>\n",
       "      <td>35</td>\n",
       "      <td>85.0</td>\n",
       "      <td>25.5</td>\n",
       "      <td>44.0</td>\n",
       "      <td>10.2</td>\n",
       "      <td>long</td>\n",
       "      <td>[11]</td>\n",
       "      <td>10.0</td>\n",
       "    </tr>\n",
       "    <tr>\n",
       "      <th>2</th>\n",
       "      <td>12</td>\n",
       "      <td>83.715962</td>\n",
       "      <td>2.177927</td>\n",
       "      <td>0.595745</td>\n",
       "      <td>0.042079</td>\n",
       "      <td>7441.2</td>\n",
       "      <td>47</td>\n",
       "      <td>85.0</td>\n",
       "      <td>31.3</td>\n",
       "      <td>40.0</td>\n",
       "      <td>23.9</td>\n",
       "      <td>long</td>\n",
       "      <td>[12]</td>\n",
       "      <td>9.0</td>\n",
       "    </tr>\n",
       "    <tr>\n",
       "      <th>3</th>\n",
       "      <td>13</td>\n",
       "      <td>47.698649</td>\n",
       "      <td>1.697331</td>\n",
       "      <td>0.538462</td>\n",
       "      <td>0.020373</td>\n",
       "      <td>1917.8</td>\n",
       "      <td>26</td>\n",
       "      <td>85.0</td>\n",
       "      <td>20.1</td>\n",
       "      <td>37.0</td>\n",
       "      <td>17.4</td>\n",
       "      <td>long</td>\n",
       "      <td>[13]</td>\n",
       "      <td>10.0</td>\n",
       "    </tr>\n",
       "    <tr>\n",
       "      <th>4</th>\n",
       "      <td>14</td>\n",
       "      <td>12.367121</td>\n",
       "      <td>1.538146</td>\n",
       "      <td>0.866667</td>\n",
       "      <td>0.025603</td>\n",
       "      <td>2100.6</td>\n",
       "      <td>75</td>\n",
       "      <td>85.0</td>\n",
       "      <td>7.0</td>\n",
       "      <td>44.0</td>\n",
       "      <td>29.1</td>\n",
       "      <td>long</td>\n",
       "      <td>[14]</td>\n",
       "      <td>8.0</td>\n",
       "    </tr>\n",
       "    <tr>\n",
       "      <th>5</th>\n",
       "      <td>15</td>\n",
       "      <td>18.453167</td>\n",
       "      <td>1.845720</td>\n",
       "      <td>0.604278</td>\n",
       "      <td>0.044224</td>\n",
       "      <td>11593.8</td>\n",
       "      <td>187</td>\n",
       "      <td>78.0</td>\n",
       "      <td>31.8</td>\n",
       "      <td>27.0</td>\n",
       "      <td>30.2</td>\n",
       "      <td>long</td>\n",
       "      <td>[15]</td>\n",
       "      <td>10.0</td>\n",
       "    </tr>\n",
       "    <tr>\n",
       "      <th>6</th>\n",
       "      <td>16</td>\n",
       "      <td>18.127355</td>\n",
       "      <td>1.486314</td>\n",
       "      <td>0.523810</td>\n",
       "      <td>0.028360</td>\n",
       "      <td>1570.6</td>\n",
       "      <td>42</td>\n",
       "      <td>83.0</td>\n",
       "      <td>25.3</td>\n",
       "      <td>35.0</td>\n",
       "      <td>12.7</td>\n",
       "      <td>long</td>\n",
       "      <td>[16]</td>\n",
       "      <td>10.0</td>\n",
       "    </tr>\n",
       "    <tr>\n",
       "      <th>7</th>\n",
       "      <td>17</td>\n",
       "      <td>66.147698</td>\n",
       "      <td>2.628456</td>\n",
       "      <td>0.527778</td>\n",
       "      <td>0.016964</td>\n",
       "      <td>2909.4</td>\n",
       "      <td>36</td>\n",
       "      <td>85.0</td>\n",
       "      <td>23.5</td>\n",
       "      <td>25.0</td>\n",
       "      <td>13.1</td>\n",
       "      <td>long</td>\n",
       "      <td>[17]</td>\n",
       "      <td>10.0</td>\n",
       "    </tr>\n",
       "  </tbody>\n",
       "</table>\n",
       "</div>"
      ],
      "text/plain": [
       "   hour  calmar_ratio  profit_factor  win_rate  max_drawdown  total_return  \\\n",
       "0    10     12.624993       1.530373  0.534759      0.048507        9267.2   \n",
       "1    11     25.497184       1.906011  0.400000      0.048716        3026.8   \n",
       "2    12     83.715962       2.177927  0.595745      0.042079        7441.2   \n",
       "3    13     47.698649       1.697331  0.538462      0.020373        1917.8   \n",
       "4    14     12.367121       1.538146  0.866667      0.025603        2100.6   \n",
       "5    15     18.453167       1.845720  0.604278      0.044224       11593.8   \n",
       "6    16     18.127355       1.486314  0.523810      0.028360        1570.6   \n",
       "7    17     66.147698       2.628456  0.527778      0.016964        2909.4   \n",
       "\n",
       "   trades  rsi_high    tp  rsi_low    sl position_type allowed_hours  \\\n",
       "0     187      84.0  15.5     30.0  10.4          long          [10]   \n",
       "1      35      85.0  25.5     44.0  10.2          long          [11]   \n",
       "2      47      85.0  31.3     40.0  23.9          long          [12]   \n",
       "3      26      85.0  20.1     37.0  17.4          long          [13]   \n",
       "4      75      85.0   7.0     44.0  29.1          long          [14]   \n",
       "5     187      78.0  31.8     27.0  30.2          long          [15]   \n",
       "6      42      83.0  25.3     35.0  12.7          long          [16]   \n",
       "7      36      85.0  23.5     25.0  13.1          long          [17]   \n",
       "\n",
       "   length_rsi  \n",
       "0         7.0  \n",
       "1        10.0  \n",
       "2         9.0  \n",
       "3        10.0  \n",
       "4         8.0  \n",
       "5        10.0  \n",
       "6        10.0  \n",
       "7        10.0  "
      ]
     },
     "execution_count": 27,
     "metadata": {},
     "output_type": "execute_result"
    }
   ],
   "source": [
    "# 4. Criar resumo de desempenho\n",
    "optimizer.create_performance_summary()"
   ]
  },
  {
   "cell_type": "code",
   "execution_count": 28,
   "id": "a0245921",
   "metadata": {
    "ExecuteTime": {
     "end_time": "2025-06-10T18:03:02.500759Z",
     "start_time": "2025-06-10T18:02:55.543401Z"
    }
   },
   "outputs": [
    {
     "data": {
      "text/plain": [
       "[{'hour': 10,\n",
       "  'params': {'length_rsi': 7.0,\n",
       "   'rsi_low': 30.0,\n",
       "   'rsi_high': 84.0,\n",
       "   'position_type': 'long',\n",
       "   'allowed_hours': [10],\n",
       "   'tp': 15.5,\n",
       "   'sl': 10.4},\n",
       "  'metrics': {'sortino_ratio': 16.589219896744215,\n",
       "   'sharpe_ratio': 3.9955922486336486,\n",
       "   'calmar_ratio': 12.62499304278024,\n",
       "   'profit_factor': 1.5303725748297372,\n",
       "   'win_rate': 0.5347593582887701,\n",
       "   'max_drawdown': 0.04850664922607327,\n",
       "   'total_return': 9267.200000000084,\n",
       "   'total_trades': 187,\n",
       "   'annual_return': 61.23961090077565}},\n",
       " {'hour': 11,\n",
       "  'params': {'length_rsi': 10.0,\n",
       "   'rsi_low': 44.0,\n",
       "   'rsi_high': 85.0,\n",
       "   'position_type': 'long',\n",
       "   'allowed_hours': [11],\n",
       "   'tp': 25.5,\n",
       "   'sl': 10.200000000000001},\n",
       "  'metrics': {'sortino_ratio': 61.265710482186876,\n",
       "   'sharpe_ratio': 7.045408754558899,\n",
       "   'calmar_ratio': 25.497183681707277,\n",
       "   'profit_factor': 1.9060105363984672,\n",
       "   'win_rate': 0.4,\n",
       "   'max_drawdown': 0.04871620719481263,\n",
       "   'total_return': 3026.7999999999956,\n",
       "   'total_trades': 35,\n",
       "   'annual_return': 124.21260831222472}},\n",
       " {'hour': 12,\n",
       "  'params': {'length_rsi': 9.0,\n",
       "   'rsi_low': 40.0,\n",
       "   'rsi_high': 85.0,\n",
       "   'position_type': 'long',\n",
       "   'allowed_hours': [12],\n",
       "   'tp': 31.3,\n",
       "   'sl': 23.900000000000002},\n",
       "  'metrics': {'sortino_ratio': 40.1121394262859,\n",
       "   'sharpe_ratio': 12.4545390331558,\n",
       "   'calmar_ratio': 83.71596194690807,\n",
       "   'profit_factor': 2.177926929652378,\n",
       "   'win_rate': 0.5957446808510638,\n",
       "   'max_drawdown': 0.042078738752801104,\n",
       "   'total_return': 7441.200000000019,\n",
       "   'total_trades': 47,\n",
       "   'annual_return': 352.2662092203383}},\n",
       " {'hour': 13,\n",
       "  'params': {'length_rsi': 10.0,\n",
       "   'rsi_low': 37.0,\n",
       "   'rsi_high': 85.0,\n",
       "   'position_type': 'long',\n",
       "   'allowed_hours': [13],\n",
       "   'tp': 20.1,\n",
       "   'sl': 17.4},\n",
       "  'metrics': {'sortino_ratio': 17.517291062258195,\n",
       "   'sharpe_ratio': 4.658986886222213,\n",
       "   'calmar_ratio': 47.69864949657334,\n",
       "   'profit_factor': 1.697331103192495,\n",
       "   'win_rate': 0.5384615384615384,\n",
       "   'max_drawdown': 0.020373333333333358,\n",
       "   'total_return': 1917.7999999999993,\n",
       "   'total_trades': 26,\n",
       "   'annual_return': 97.17804857435219}},\n",
       " {'hour': 14,\n",
       "  'params': {'length_rsi': 8.0,\n",
       "   'rsi_low': 44.0,\n",
       "   'rsi_high': 85.0,\n",
       "   'position_type': 'long',\n",
       "   'allowed_hours': [14],\n",
       "   'tp': 7.0,\n",
       "   'sl': 29.1},\n",
       "  'metrics': {'sortino_ratio': 5.304356494943565,\n",
       "   'sharpe_ratio': 3.890548464894723,\n",
       "   'calmar_ratio': 12.36712054097857,\n",
       "   'profit_factor': 1.538146231490496,\n",
       "   'win_rate': 0.8666666666666667,\n",
       "   'max_drawdown': 0.02560258544947369,\n",
       "   'total_return': 2100.599999999995,\n",
       "   'total_trades': 75,\n",
       "   'annual_return': 31.663026041434517}},\n",
       " {'hour': 15,\n",
       "  'params': {'length_rsi': 10.0,\n",
       "   'rsi_low': 27.0,\n",
       "   'rsi_high': 78.0,\n",
       "   'position_type': 'long',\n",
       "   'allowed_hours': [15],\n",
       "   'tp': 31.8,\n",
       "   'sl': 30.200000000000003},\n",
       "  'metrics': {'sortino_ratio': 8.810398432125803,\n",
       "   'sharpe_ratio': 4.610646997401123,\n",
       "   'calmar_ratio': 18.453167446317767,\n",
       "   'profit_factor': 1.8457195378151257,\n",
       "   'win_rate': 0.6042780748663101,\n",
       "   'max_drawdown': 0.044224425687134826,\n",
       "   'total_return': 11593.800000000083,\n",
       "   'total_trades': 187,\n",
       "   'annual_return': 81.60807324219357}},\n",
       " {'hour': 16,\n",
       "  'params': {'length_rsi': 10.0,\n",
       "   'rsi_low': 35.0,\n",
       "   'rsi_high': 83.0,\n",
       "   'position_type': 'long',\n",
       "   'allowed_hours': [16],\n",
       "   'tp': 25.3,\n",
       "   'sl': 12.700000000000001},\n",
       "  'metrics': {'sortino_ratio': 8.438279562317598,\n",
       "   'sharpe_ratio': 3.217396147928195,\n",
       "   'calmar_ratio': 18.127355387466455,\n",
       "   'profit_factor': 1.4863140946247217,\n",
       "   'win_rate': 0.5238095238095238,\n",
       "   'max_drawdown': 0.028359999999999976,\n",
       "   'total_return': 1570.5999999999985,\n",
       "   'total_trades': 42,\n",
       "   'annual_return': 51.40917987885483}},\n",
       " {'hour': 17,\n",
       "  'params': {'length_rsi': 10.0,\n",
       "   'rsi_low': 25.0,\n",
       "   'rsi_high': 85.0,\n",
       "   'position_type': 'long',\n",
       "   'allowed_hours': [17],\n",
       "   'tp': 23.5,\n",
       "   'sl': 13.100000000000001},\n",
       "  'metrics': {'sortino_ratio': 26.404496996789675,\n",
       "   'sharpe_ratio': 7.356211705994716,\n",
       "   'calmar_ratio': 66.14769849890945,\n",
       "   'profit_factor': 2.6284562856823017,\n",
       "   'win_rate': 0.5277777777777778,\n",
       "   'max_drawdown': 0.0169643481633614,\n",
       "   'total_return': 2909.399999999994,\n",
       "   'total_trades': 36,\n",
       "   'annual_return': 112.21525875405582}}]"
      ]
     },
     "execution_count": 28,
     "metadata": {},
     "output_type": "execute_result"
    }
   ],
   "source": [
    "# 5. Validar os melhores parâmetros\n",
    "optimizer.validate_best_params()"
   ]
  },
  {
   "cell_type": "code",
   "execution_count": 29,
   "id": "359fbeac",
   "metadata": {
    "ExecuteTime": {
     "end_time": "2025-06-10T18:03:12.656949Z",
     "start_time": "2025-06-10T18:03:02.501800Z"
    },
    "scrolled": true
   },
   "outputs": [
    {
     "name": "stdout",
     "output_type": "stream",
     "text": [
      "\n",
      "Estratégia combinada criada com 8 horas:\n",
      "Horas selecionadas: [10, 11, 12, 13, 14, 15, 16, 17]\n",
      "Testando estratégia combinada...\n",
      "Processando hora 10 com TP=15.50000, SL=10.40000\n",
      "Processando hora 11 com TP=25.50000, SL=10.20000\n",
      "Processando hora 12 com TP=31.30000, SL=23.90000\n",
      "Processando hora 13 com TP=20.10000, SL=17.40000\n",
      "Processando hora 14 com TP=7.00000, SL=29.10000\n",
      "Processando hora 15 com TP=31.80000, SL=30.20000\n",
      "Processando hora 16 com TP=25.30000, SL=12.70000\n",
      "Processando hora 17 com TP=23.50000, SL=13.10000\n",
      "Combinando resultados de todas as horas...\n",
      "Calculando métricas finais da estratégia combinada...\n",
      "\n",
      "===== RESULTADOS DA ESTRATÉGIA COMBINADA =====\n",
      "Retorno Total: $39827.40 (132.76%)\n",
      "Retorno Anualizado: 75.37%\n",
      "Drawdown Máximo: 6.33%\n",
      "Trades Totais: 618\n",
      "Win Rate: 58.74%\n",
      "Profit Factor: 1.7585\n",
      "Sharpe Ratio: 4.6724\n",
      "Sortino Ratio: 14.9084\n",
      "Calmar Ratio: 11.9094\n",
      "Métrica otimizada (calmar_ratio): 11.9094\n",
      "\n",
      "Análise por hora salva em: combined_hourly_analysis.png\n",
      "Horas ativas na estratégia: [10, 11, 12, 13, 14, 15, 16, 17]\n",
      "Lucro total das horas ativas: $39827.40\n"
     ]
    }
   ],
   "source": [
    "# 6. Criar e testar a estratégia combinada\n",
    "optimizer.create_combined_strategy(min_threshold=0.01)\n",
    "if optimizer.combined_strategy:\n",
    "    df, metrics = optimizer.test_combined_strategy()"
   ]
  },
  {
   "cell_type": "code",
   "execution_count": 30,
   "id": "dd29ce60",
   "metadata": {
    "ExecuteTime": {
     "end_time": "2025-06-10T18:03:12.672920Z",
     "start_time": "2025-06-10T18:03:12.657980Z"
    }
   },
   "outputs": [
    {
     "data": {
      "text/plain": [
       "{'symbol': 'WDO@N',\n",
       " 'timeframe': 't5',\n",
       " 'strategy': 'entrada',\n",
       " 'hours': [10, 11, 12, 13, 14, 15, 16, 17],\n",
       " 'hour_params': {'10': {'length_rsi': 7.0,\n",
       "   'rsi_low': 30.0,\n",
       "   'rsi_high': 84.0,\n",
       "   'position_type': 'long',\n",
       "   'allowed_hours': [10],\n",
       "   'tp': 15.5,\n",
       "   'sl': 10.4},\n",
       "  '11': {'length_rsi': 10.0,\n",
       "   'rsi_low': 44.0,\n",
       "   'rsi_high': 85.0,\n",
       "   'position_type': 'long',\n",
       "   'allowed_hours': [11],\n",
       "   'tp': 25.5,\n",
       "   'sl': 10.200000000000001},\n",
       "  '12': {'length_rsi': 9.0,\n",
       "   'rsi_low': 40.0,\n",
       "   'rsi_high': 85.0,\n",
       "   'position_type': 'long',\n",
       "   'allowed_hours': [12],\n",
       "   'tp': 31.3,\n",
       "   'sl': 23.900000000000002},\n",
       "  '13': {'length_rsi': 10.0,\n",
       "   'rsi_low': 37.0,\n",
       "   'rsi_high': 85.0,\n",
       "   'position_type': 'long',\n",
       "   'allowed_hours': [13],\n",
       "   'tp': 20.1,\n",
       "   'sl': 17.4},\n",
       "  '14': {'length_rsi': 8.0,\n",
       "   'rsi_low': 44.0,\n",
       "   'rsi_high': 85.0,\n",
       "   'position_type': 'long',\n",
       "   'allowed_hours': [14],\n",
       "   'tp': 7.0,\n",
       "   'sl': 29.1},\n",
       "  '15': {'length_rsi': 10.0,\n",
       "   'rsi_low': 27.0,\n",
       "   'rsi_high': 78.0,\n",
       "   'position_type': 'long',\n",
       "   'allowed_hours': [15],\n",
       "   'tp': 31.8,\n",
       "   'sl': 30.200000000000003},\n",
       "  '16': {'length_rsi': 10.0,\n",
       "   'rsi_low': 35.0,\n",
       "   'rsi_high': 83.0,\n",
       "   'position_type': 'long',\n",
       "   'allowed_hours': [16],\n",
       "   'tp': 25.3,\n",
       "   'sl': 12.700000000000001},\n",
       "  '17': {'length_rsi': 10.0,\n",
       "   'rsi_low': 25.0,\n",
       "   'rsi_high': 85.0,\n",
       "   'position_type': 'long',\n",
       "   'allowed_hours': [17],\n",
       "   'tp': 23.5,\n",
       "   'sl': 13.100000000000001}},\n",
       " 'tc': 1.2,\n",
       " 'valor_lote': 10.0,\n",
       " 'optimize_metric': 'calmar_ratio',\n",
       " 'direction': 'maximize'}"
      ]
     },
     "execution_count": 30,
     "metadata": {},
     "output_type": "execute_result"
    }
   ],
   "source": [
    "optimizer.combined_strategy"
   ]
  },
  {
   "cell_type": "code",
   "execution_count": 31,
   "id": "1df61a4d",
   "metadata": {
    "ExecuteTime": {
     "end_time": "2025-06-10T18:03:12.688205Z",
     "start_time": "2025-06-10T18:03:12.674285Z"
    },
    "scrolled": false
   },
   "outputs": [
    {
     "data": {
      "text/plain": [
       "{'initial_cash': 30000,\n",
       " 'final_equity': 69827.39999999895,\n",
       " 'total_return': 39827.39999999895,\n",
       " 'total_return_pct': 132.75799999999646,\n",
       " 'annual_return': 75.3709631523598,\n",
       " 'annual_volatility': 16.131113227998114,\n",
       " 'total_trades': 618,\n",
       " 'win_trades': 363,\n",
       " 'loss_trades': 255,\n",
       " 'win_rate': 0.587378640776699,\n",
       " 'tp_rate': 0.3802588996763754,\n",
       " 'sl_rate': 0.2605177993527508,\n",
       " 'time_exit_rate': 0.3592233009708738,\n",
       " 'profit_factor': 1.75847844965492,\n",
       " 'max_drawdown': 0.06328706471256751,\n",
       " 'max_drawdown_value': 3193.200000000121,\n",
       " 'max_time_underwater': 43366.0,\n",
       " 'underwater_rate': 0.8763158343227536,\n",
       " 'sharpe_ratio': 4.672396882165671,\n",
       " 'sortino_ratio': 14.908354491394594,\n",
       " 'calmar_ratio': 11.909378874604794,\n",
       " 'avg_win': 254.37190082644628,\n",
       " 'avg_loss': 205.92000000000002,\n",
       " 'win_loss_ratio': 1.2352947786832082,\n",
       " 'expectancy': 64.44563106796114,\n",
       " 'risk_free_rate': 0.0}"
      ]
     },
     "execution_count": 31,
     "metadata": {},
     "output_type": "execute_result"
    }
   ],
   "source": [
    "metrics"
   ]
  },
  {
   "cell_type": "code",
   "execution_count": null,
   "id": "e9eaeaca",
   "metadata": {},
   "outputs": [],
   "source": []
  }
 ],
 "metadata": {
  "kernelspec": {
   "display_name": "Python 3 (ipykernel)",
   "language": "python",
   "name": "python3"
  },
  "language_info": {
   "codemirror_mode": {
    "name": "ipython",
    "version": 3
   },
   "file_extension": ".py",
   "mimetype": "text/x-python",
   "name": "python",
   "nbconvert_exporter": "python",
   "pygments_lexer": "ipython3",
   "version": "3.9.13"
  },
  "toc": {
   "base_numbering": 1,
   "nav_menu": {},
   "number_sections": true,
   "sideBar": true,
   "skip_h1_title": false,
   "title_cell": "Table of Contents",
   "title_sidebar": "Contents",
   "toc_cell": true,
   "toc_position": {},
   "toc_section_display": true,
   "toc_window_display": false
  }
 },
 "nbformat": 4,
 "nbformat_minor": 5
}
